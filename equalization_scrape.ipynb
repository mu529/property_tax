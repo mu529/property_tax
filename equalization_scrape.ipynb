{
 "cells": [
  {
   "cell_type": "code",
   "execution_count": 1,
   "metadata": {
    "collapsed": false
   },
   "outputs": [],
   "source": [
    "import urllib2\n",
    "import cookielib\n",
    "from bs4 import BeautifulSoup\n",
    "import html5lib\n",
    "import pandas as pd"
   ]
  },
  {
   "cell_type": "markdown",
   "metadata": {},
   "source": [
    "url = 'http://orpts.tax.ny.gov/cfapps/MuniPro/muni_theme/muni/ratehistory.cfm?swis=012200'"
   ]
  },
  {
   "cell_type": "code",
   "execution_count": 2,
   "metadata": {
    "collapsed": false
   },
   "outputs": [],
   "source": [
    "cj = cookielib.CookieJar()\n",
    "opener = urllib2.build_opener(urllib2.HTTPCookieProcessor(cj))\n",
    "baseurl = \"http://orpts.tax.ny.gov/cfapps/MuniPro/muni_theme/county/equasearch.cfm?swis=01\"\n",
    "regex = '<ul class=\"w462\">(.*?)</ul>'\n",
    "\n",
    "opener.open(baseurl)\n",
    "urllib2.install_opener(opener)\n",
    "\n",
    "request = urllib2.Request('http://orpts.tax.ny.gov/cfapps/MuniPro/muni_theme/muni/ratehistory.cfm?swis=010300')\n",
    "request.add_header('Referer', baseurl)\n",
    "\n",
    "requestData = urllib2.urlopen(request)\n",
    "page = requestData.read()"
   ]
  },
  {
   "cell_type": "code",
   "execution_count": 3,
   "metadata": {
    "collapsed": false
   },
   "outputs": [],
   "source": [
    "starting_pos = page.find('<table summary=\"Equalization Rate History\"')"
   ]
  },
  {
   "cell_type": "markdown",
   "metadata": {
    "collapsed": false
   },
   "source": [
    "soup = BeautifulSoup(page[starting_pos:])"
   ]
  },
  {
   "cell_type": "code",
   "execution_count": 14,
   "metadata": {
    "collapsed": false
   },
   "outputs": [],
   "source": [
    "eq_table = pd.read_html(page[starting_pos:], flavor='bs4', header=0)"
   ]
  },
  {
   "cell_type": "markdown",
   "metadata": {
    "collapsed": false
   },
   "source": [
    "for tr in soup.find_all('tr'):\n",
    "    tds = tr.find_all('td')\n",
    "    print \"Nome: %s, Cognome: %s, Email: %s\" % \\\n",
    "          (tds[0].text, tds[0].text, tds[0].text)"
   ]
  },
  {
   "cell_type": "code",
   "execution_count": 29,
   "metadata": {
    "collapsed": false
   },
   "outputs": [],
   "source": [
    "eq_table[0].iloc[:,:4].to_csv('010300.csv', index=False)"
   ]
  },
  {
   "cell_type": "code",
   "execution_count": null,
   "metadata": {
    "collapsed": true
   },
   "outputs": [],
   "source": []
  }
 ],
 "metadata": {
  "kernelspec": {
   "display_name": "Python 2",
   "language": "python",
   "name": "python2"
  },
  "language_info": {
   "codemirror_mode": {
    "name": "ipython",
    "version": 2
   },
   "file_extension": ".py",
   "mimetype": "text/x-python",
   "name": "python",
   "nbconvert_exporter": "python",
   "pygments_lexer": "ipython2",
   "version": "2.7.11"
  }
 },
 "nbformat": 4,
 "nbformat_minor": 0
}
