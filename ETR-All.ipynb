{
 "cells": [
  {
   "cell_type": "code",
   "execution_count": 1,
   "metadata": {
    "collapsed": false
   },
   "outputs": [
    {
     "name": "stdout",
     "output_type": "stream",
     "text": [
      "Populating the interactive namespace from numpy and matplotlib\n"
     ]
    },
    {
     "name": "stderr",
     "output_type": "stream",
     "text": [
      "WARNING: pylab import has clobbered these variables: ['plt']\n",
      "`%matplotlib` prevents importing * from pylab and numpy\n"
     ]
    }
   ],
   "source": [
    "import pandas as pd\n",
    "import warnings\n",
    "warnings.filterwarnings('ignore')\n",
    "import seaborn as sns\n",
    "import pylab as plt\n",
    "%pylab inline\n",
    "import numpy as np\n",
    "import geopandas as gpd\n",
    "import requests, zipfile, StringIO\n",
    "import re\n",
    "import multiprocessing as mp\n",
    "plt.style.use('ggplot')"
   ]
  },
  {
   "cell_type": "code",
   "execution_count": 2,
   "metadata": {
    "collapsed": false
   },
   "outputs": [],
   "source": [
    "# Read in additional files\n",
    "url_zip = 'https://www.dropbox.com/sh/nlbj8whi5izbihr/AAD8CvKIYMnVpKUcBDazRe22a?dl=1'\n",
    "r = requests.get(url_zip)\n",
    "zip_ = zipfile.ZipFile(StringIO.StringIO(r.content))\n",
    "filename_zip = 'ZIP_spatial/ZIP_CODE_040114.shp'\n",
    "filename_tax = 'Tax_rates.csv'\n",
    "filename_files = 'Files.csv'\n",
    "filename_income = 'ACS_14_5YR_S1903_with_ann.csv'"
   ]
  },
  {
   "cell_type": "code",
   "execution_count": 3,
   "metadata": {
    "collapsed": false
   },
   "outputs": [
    {
     "data": {
      "text/html": [
       "<div>\n",
       "<table border=\"1\" class=\"dataframe\">\n",
       "  <thead>\n",
       "    <tr style=\"text-align: right;\">\n",
       "      <th></th>\n",
       "      <th>Filenames_Links</th>\n",
       "    </tr>\n",
       "  </thead>\n",
       "  <tbody>\n",
       "    <tr>\n",
       "      <th>0</th>\n",
       "      <td>http://www1.nyc.gov/assets/finance/downloads/p...</td>\n",
       "    </tr>\n",
       "    <tr>\n",
       "      <th>1</th>\n",
       "      <td>http://www1.nyc.gov/assets/finance/downloads/p...</td>\n",
       "    </tr>\n",
       "  </tbody>\n",
       "</table>\n",
       "</div>"
      ],
      "text/plain": [
       "                                     Filenames_Links\n",
       "0  http://www1.nyc.gov/assets/finance/downloads/p...\n",
       "1  http://www1.nyc.gov/assets/finance/downloads/p..."
      ]
     },
     "execution_count": 3,
     "metadata": {},
     "output_type": "execute_result"
    }
   ],
   "source": [
    "# urls to the data\n",
    "files = pd.read_csv(zip_.open(filename_files))\n",
    "files.head(2)"
   ]
  },
  {
   "cell_type": "code",
   "execution_count": 4,
   "metadata": {
    "collapsed": false
   },
   "outputs": [],
   "source": [
    "# Create three lists\n",
    "list_sales_detail = list(files['Filenames_Links'][:5])\n",
    "older_list = list(files['Filenames_Links'][5:20])\n",
    "even_older_list = list(files['Filenames_Links'][20:])"
   ]
  },
  {
   "cell_type": "code",
   "execution_count": 5,
   "metadata": {
    "collapsed": false
   },
   "outputs": [],
   "source": [
    "# Read in zip code shapes for plotting\n",
    "zipcodes = gpd.GeoDataFrame.from_file(filename_zip)#zip_.open(filename)) # Does not work...\n",
    "zipcodes = zipcodes[['ZIPCODE','geometry']]\n",
    "zipcodes.ZIPCODE = zipcodes.ZIPCODE.astype(int)\n",
    "zipcodes.rename(columns={'ZIPCODE':'ZIP_CODE'},inplace=True)"
   ]
  },
  {
   "cell_type": "code",
   "execution_count": 6,
   "metadata": {
    "collapsed": true
   },
   "outputs": [],
   "source": [
    "# Add tax rate information\n",
    "tax = pd.read_csv(zip_.open(filename_tax))\n",
    "tax = tax.convert_objects(convert_numeric=True)\n",
    "filename_assessment = 'dof_assessments_merged.csv'"
   ]
  },
  {
   "cell_type": "code",
   "execution_count": 7,
   "metadata": {
    "collapsed": false
   },
   "outputs": [],
   "source": [
    "# Reading newer data\n",
    "# Create empty dataframe to store values\n",
    "sales_detail_recent = pd.DataFrame()\n",
    "for url in list_sales_detail:\n",
    "    xl_data = pd.read_excel(url, header=4)\n",
    "    xl_data.columns = xl_data.columns.map(lambda x: x.rstrip('\\n').replace(' ','_'))\n",
    "    sales_detail_recent = sales_detail_recent.append(xl_data)"
   ]
  },
  {
   "cell_type": "code",
   "execution_count": 8,
   "metadata": {
    "collapsed": true
   },
   "outputs": [],
   "source": [
    "# Reading older data\n",
    "sales_detail_old = pd.DataFrame()\n",
    "for url in older_list:\n",
    "    xl_data = pd.read_excel(url, header=4)\n",
    "    xl_data.columns = xl_data.columns.map(lambda x: x.rstrip('\\n').replace(' ','_'))\n",
    "    sales_detail_old = sales_detail_old.append(xl_data)"
   ]
  },
  {
   "cell_type": "code",
   "execution_count": 9,
   "metadata": {
    "collapsed": true
   },
   "outputs": [],
   "source": [
    "# Reading even older data\n",
    "sales_detail_older = pd.DataFrame()\n",
    "for url in even_older_list:\n",
    "    xl_data = pd.read_excel(url, header=3)\n",
    "    xl_data.columns = xl_data.columns.map(lambda x: x.rstrip('\\n').replace(' ','_'))\n",
    "    sales_detail_older = sales_detail_older.append(xl_data)"
   ]
  },
  {
   "cell_type": "code",
   "execution_count": 10,
   "metadata": {
    "collapsed": false
   },
   "outputs": [],
   "source": [
    "# Create a subset\n",
    "def subset(df):\n",
    "    df = df[(df.TAX_CLASS_AT_TIME_OF_SALE<3)&(df.SALE_PRICE>100000)&\n",
    "        (df.BUILDING_CLASS_CATEGORY != '05  TAX CLASS 1 VACANT LAND')]\n",
    "    return df"
   ]
  },
  {
   "cell_type": "code",
   "execution_count": 11,
   "metadata": {
    "collapsed": false
   },
   "outputs": [],
   "source": [
    "# Prepare datasets before joining\n",
    "recent_data = subset(sales_detail_recent)\n",
    "old_data = subset(sales_detail_old)\n",
    "older_data = subset(sales_detail_older)"
   ]
  },
  {
   "cell_type": "code",
   "execution_count": 12,
   "metadata": {
    "collapsed": false
   },
   "outputs": [],
   "source": [
    "data = recent_data.append([old_data,older_data],ignore_index=True)"
   ]
  },
  {
   "cell_type": "code",
   "execution_count": 13,
   "metadata": {
    "collapsed": true
   },
   "outputs": [],
   "source": [
    "data.APARTMENT_NUMBER = data.APARTMENT_NUMBER.apply(lambda x: str(x).encode('ascii','ignore'))\n",
    "data.APARTMENT_NUMBER = data.APARTMENT_NUMBER.apply(lambda x: x.strip().replace(' ','-'))"
   ]
  },
  {
   "cell_type": "code",
   "execution_count": 14,
   "metadata": {
    "collapsed": true
   },
   "outputs": [],
   "source": [
    "def nestCode(b, block, lot):\n",
    "    return ''.join((b,  '0'*(5-len(block)),  block,  '0'*(4 - len(lot)),  lot))"
   ]
  },
  {
   "cell_type": "markdown",
   "metadata": {},
   "source": [
    "#### Bins should be based on a per unit basis to account for apartment and building sales"
   ]
  },
  {
   "cell_type": "code",
   "execution_count": 15,
   "metadata": {
    "collapsed": false
   },
   "outputs": [],
   "source": [
    "# Approximate the value of each unit within the building sold\n",
    "# If there are no residential units in the building, the sale_price_unit is just the sale_price\n",
    "data['SALE_PRICE_UNIT'] = np.where(data['RESIDENTIAL_UNITS']==0,data.SALE_PRICE, \n",
    "                                   (data.SALE_PRICE/data.RESIDENTIAL_UNITS))"
   ]
  },
  {
   "cell_type": "code",
   "execution_count": 16,
   "metadata": {
    "collapsed": true
   },
   "outputs": [],
   "source": [
    "data['SALE_YEAR'] = data.SALE_DATE.map(lambda x: x.year)\n",
    "\n",
    "# Round and convert to integer\n",
    "data['SALE_PRICE_UNIT'] = np.around(data['SALE_PRICE_UNIT'],decimals=0)\n",
    "data['SALE_PRICE_UNIT'] = data['SALE_PRICE_UNIT'].astype(int)\n",
    "\n",
    "# Create BBL\n",
    "data[['BOROUGH','BLOCK','LOT']] = data[['BOROUGH','BLOCK','LOT']].astype(str)\n",
    "data['BBL'] = data.apply(lambda x: nestCode(x.BOROUGH, x.BLOCK, x.LOT), 1)\n",
    "\n",
    "# Create bins\n",
    "bins = [0,200000,400000,600000,800000,1000000,1500000,3000000,6000000,\n",
    "        10000000,max(data.SALE_PRICE_UNIT)]\n",
    "labels = np.arange(1,11,1)\n",
    "data['PRICE_BINS'] = pd.cut(data.SALE_PRICE,bins,labels=labels)\n",
    "data['PRICE_UNIT_BINS'] = pd.cut(data.SALE_PRICE_UNIT,bins,labels=labels)\n",
    "\n",
    "# Ticks corresponding to bins\n",
    "x_ticks = ['$(0-200k]','$(200k-400k]','$(400k-600k]','$(600k-800k]','$(800k-1m]',\n",
    "           '$(1m-1.5m]','$(1.5m-3m]','$(3m-6m]','$(6m-10m]','$(10m-~170.5m]']"
   ]
  },
  {
   "cell_type": "code",
   "execution_count": 17,
   "metadata": {
    "collapsed": false
   },
   "outputs": [
    {
     "data": {
      "text/plain": [
       "Index([                       u'BOROUGH',                   u'NEIGHBORHOOD',\n",
       "              u'BUILDING_CLASS_CATEGORY',           u'TAX_CLASS_AT_PRESENT',\n",
       "                                u'BLOCK',                            u'LOT',\n",
       "                            u'EASE-MENT',      u'BUILDING_CLASS_AT_PRESENT',\n",
       "                              u'ADDRESS',               u'APARTMENT_NUMBER',\n",
       "                             u'ZIP_CODE',              u'RESIDENTIAL_UNITS',\n",
       "                     u'COMMERCIAL_UNITS',                    u'TOTAL_UNITS',\n",
       "                     u'LAND_SQUARE_FEET',              u'GROSS_SQUARE_FEET',\n",
       "                           u'YEAR_BUILT',      u'TAX_CLASS_AT_TIME_OF_SALE',\n",
       "       u'BUILDING_CLASS_AT_TIME_OF_SALE',                     u'SALE_PRICE',\n",
       "                            u'SALE_DATE',                u'SALE_PRICE_UNIT',\n",
       "                            u'SALE_YEAR',                            u'BBL',\n",
       "                           u'PRICE_BINS',                u'PRICE_UNIT_BINS'],\n",
       "      dtype='object')"
      ]
     },
     "execution_count": 17,
     "metadata": {},
     "output_type": "execute_result"
    }
   ],
   "source": [
    "data.columns"
   ]
  },
  {
   "cell_type": "code",
   "execution_count": 18,
   "metadata": {
    "collapsed": false
   },
   "outputs": [],
   "source": [
    "# Select only relevant columns\n",
    "data = data[['ZIP_CODE','SALE_DATE','SALE_YEAR','PRICE_BINS',\n",
    "             'TAX_CLASS_AT_PRESENT','APARTMENT_NUMBER',\n",
    "             'RESIDENTIAL_UNITS','TAX_CLASS_AT_TIME_OF_SALE',\n",
    "             'SALE_PRICE','SALE_PRICE_UNIT','BBL','RESIDENTIAL_UNITS',\n",
    "             'TOTAL_UNITS','LAND_SQUARE_FEET','PRICE_UNIT_BINS',\n",
    "             'BUILDING_CLASS_AT_TIME_OF_SALE','YEAR_BUILT','BUILDING_CLASS_CATEGORY']]"
   ]
  },
  {
   "cell_type": "code",
   "execution_count": 19,
   "metadata": {
    "collapsed": false
   },
   "outputs": [
    {
     "data": {
      "text/html": [
       "<div>\n",
       "<table border=\"1\" class=\"dataframe\">\n",
       "  <thead>\n",
       "    <tr style=\"text-align: right;\">\n",
       "      <th></th>\n",
       "      <th>YEAR</th>\n",
       "      <th>CLASS 1</th>\n",
       "      <th>CLASS 2</th>\n",
       "      <th>CLASS 3</th>\n",
       "      <th>CLASS 4</th>\n",
       "    </tr>\n",
       "  </thead>\n",
       "  <tbody>\n",
       "    <tr>\n",
       "      <th>0</th>\n",
       "      <td>2015</td>\n",
       "      <td>0.20</td>\n",
       "      <td>0.13</td>\n",
       "      <td>0.11</td>\n",
       "      <td>0.11</td>\n",
       "    </tr>\n",
       "    <tr>\n",
       "      <th>1</th>\n",
       "      <td>2014</td>\n",
       "      <td>0.19</td>\n",
       "      <td>0.13</td>\n",
       "      <td>0.11</td>\n",
       "      <td>0.11</td>\n",
       "    </tr>\n",
       "    <tr>\n",
       "      <th>2</th>\n",
       "      <td>2013</td>\n",
       "      <td>0.19</td>\n",
       "      <td>0.13</td>\n",
       "      <td>0.12</td>\n",
       "      <td>0.10</td>\n",
       "    </tr>\n",
       "    <tr>\n",
       "      <th>3</th>\n",
       "      <td>2012</td>\n",
       "      <td>0.19</td>\n",
       "      <td>0.13</td>\n",
       "      <td>0.12</td>\n",
       "      <td>0.10</td>\n",
       "    </tr>\n",
       "    <tr>\n",
       "      <th>4</th>\n",
       "      <td>2011</td>\n",
       "      <td>0.18</td>\n",
       "      <td>0.13</td>\n",
       "      <td>0.12</td>\n",
       "      <td>0.10</td>\n",
       "    </tr>\n",
       "    <tr>\n",
       "      <th>5</th>\n",
       "      <td>2010</td>\n",
       "      <td>0.17</td>\n",
       "      <td>0.13</td>\n",
       "      <td>0.13</td>\n",
       "      <td>0.10</td>\n",
       "    </tr>\n",
       "    <tr>\n",
       "      <th>6</th>\n",
       "      <td>2009</td>\n",
       "      <td>0.17</td>\n",
       "      <td>0.13</td>\n",
       "      <td>0.13</td>\n",
       "      <td>0.10</td>\n",
       "    </tr>\n",
       "    <tr>\n",
       "      <th>7</th>\n",
       "      <td>2008</td>\n",
       "      <td>0.16</td>\n",
       "      <td>0.13</td>\n",
       "      <td>0.12</td>\n",
       "      <td>0.10</td>\n",
       "    </tr>\n",
       "    <tr>\n",
       "      <th>8</th>\n",
       "      <td>2007</td>\n",
       "      <td>0.15</td>\n",
       "      <td>0.12</td>\n",
       "      <td>0.12</td>\n",
       "      <td>0.10</td>\n",
       "    </tr>\n",
       "  </tbody>\n",
       "</table>\n",
       "</div>"
      ],
      "text/plain": [
       "   YEAR  CLASS 1  CLASS 2  CLASS 3  CLASS 4\n",
       "0  2015     0.20     0.13     0.11     0.11\n",
       "1  2014     0.19     0.13     0.11     0.11\n",
       "2  2013     0.19     0.13     0.12     0.10\n",
       "3  2012     0.19     0.13     0.12     0.10\n",
       "4  2011     0.18     0.13     0.12     0.10\n",
       "5  2010     0.17     0.13     0.13     0.10\n",
       "6  2009     0.17     0.13     0.13     0.10\n",
       "7  2008     0.16     0.13     0.12     0.10\n",
       "8  2007     0.15     0.12     0.12     0.10"
      ]
     },
     "execution_count": 19,
     "metadata": {},
     "output_type": "execute_result"
    }
   ],
   "source": [
    "tax # Output tax rates for visualization"
   ]
  },
  {
   "cell_type": "code",
   "execution_count": 20,
   "metadata": {
    "collapsed": true
   },
   "outputs": [],
   "source": [
    "# Adding tax rates to datasets\n",
    "def tax_rate(df,year):\n",
    "    pos = tax[tax['YEAR'] == year].index.tolist()[0]\n",
    "    df['TAX_RATE'] = np.where(df['TAX_CLASS_AT_TIME_OF_SALE']==1,\n",
    "                              tax.iloc[pos,1],tax.iloc[pos,2])\n",
    "    return df"
   ]
  },
  {
   "cell_type": "code",
   "execution_count": 21,
   "metadata": {
    "collapsed": true
   },
   "outputs": [],
   "source": [
    "headers = data.columns # Store headers"
   ]
  },
  {
   "cell_type": "code",
   "execution_count": 22,
   "metadata": {
    "collapsed": false
   },
   "outputs": [],
   "source": [
    "# Apply function to get tax rates\n",
    "# Faster than an if statement within a loop\n",
    "y2014 = data[data['SALE_YEAR']==2014]\n",
    "y2013 = data[data['SALE_YEAR']==2013]\n",
    "y2012 = data[data['SALE_YEAR']==2012]\n",
    "y2011 = data[data['SALE_YEAR']==2011]\n",
    "y2010 = data[data['SALE_YEAR']==2010]\n",
    "y2009 = data[data['SALE_YEAR']==2009]\n",
    "y2008 = data[data['SALE_YEAR']==2008]\n",
    "\n",
    "y2008 = tax_rate(y2008,2008)\n",
    "y2009 = tax_rate(y2009,2009)\n",
    "y2010 = tax_rate(y2010,2010)\n",
    "y2011 = tax_rate(y2011,2011)\n",
    "y2012 = tax_rate(y2012,2012)\n",
    "y2013 = tax_rate(y2013,2013)\n",
    "y2014 = tax_rate(y2014,2014)"
   ]
  },
  {
   "cell_type": "code",
   "execution_count": 23,
   "metadata": {
    "collapsed": true
   },
   "outputs": [],
   "source": [
    "# Reunite data, use numpy because pandas is raising axis error\n",
    "final = pd.DataFrame(np.concatenate([y2008,y2009,y2010,y2011,y2012,y2013,y2014]))\n",
    "final.columns = headers.insert(len(headers), 'TAX_RATE')\n",
    "final = final.convert_objects(convert_dates=True,convert_numeric=True)"
   ]
  },
  {
   "cell_type": "code",
   "execution_count": 24,
   "metadata": {
    "collapsed": true
   },
   "outputs": [],
   "source": [
    "# Get counts of the different bins, faster than conventional histogram\n",
    "count = {}\n",
    "for i in final['PRICE_BINS']:\n",
    "    count[i] = count.get(i, 0) + 1   "
   ]
  },
  {
   "cell_type": "code",
   "execution_count": 25,
   "metadata": {
    "collapsed": false
   },
   "outputs": [
    {
     "data": {
      "image/png": "[encoded data removed]",
      "text/plain": [
       "<matplotlib.figure.Figure at 0x11291fed0>"
      ]
     },
     "metadata": {},
     "output_type": "display_data"
    }
   ],
   "source": [
    "fig, ax = plt.subplots(figsize=(12,8))\n",
    "df = pd.DataFrame.from_dict(count, 'index')\n",
    "sns.barplot(x=df.index,y=df[0],color='c',alpha=0.6)\n",
    "plt.title('Histogram of Sales in all of New York City in 2014')\n",
    "plt.ylabel('Frequency')\n",
    "plt.xlabel('Price Bucket')\n",
    "ax.xaxis.get_majorticklocs()\n",
    "#ax.xaxis.set_ticks(x_ticks)\n",
    "#plt.xticks([i for i in labels],[str(w) for w in x_ticks]) \n",
    "del df"
   ]
  },
  {
   "cell_type": "code",
   "execution_count": 26,
   "metadata": {
    "collapsed": false
   },
   "outputs": [
    {
     "data": {
      "image/png": "[encoded data removed]",
      "text/plain": [
       "<matplotlib.figure.Figure at 0x1061c2450>"
      ]
     },
     "metadata": {},
     "output_type": "display_data"
    }
   ],
   "source": [
    "# Get counts of the different bins, faster than conventional histogram\n",
    "count = {}\n",
    "for i in final['PRICE_UNIT_BINS']:\n",
    "    count[i] = count.get(i, 0) + 1  \n",
    "    \n",
    "fig, ax = plt.subplots(figsize=(12,8))\n",
    "df = pd.DataFrame.from_dict(count, 'index')\n",
    "sns.barplot(x=df.index,y=df[0],color='c',alpha=0.6)\n",
    "plt.title('Histogram of estimated sale price per unit in all of New York City in 2014')\n",
    "plt.ylabel('Frequency')\n",
    "plt.xlabel('Price Bucket')\n",
    "ax.xaxis.get_majorticklocs()\n",
    "del df"
   ]
  },
  {
   "cell_type": "code",
   "execution_count": 27,
   "metadata": {
    "collapsed": false
   },
   "outputs": [],
   "source": [
    "final = final.merge(zipcodes,on='ZIP_CODE',how='inner')\n",
    "final = gpd.GeoDataFrame(final) # For plotting"
   ]
  },
  {
   "cell_type": "markdown",
   "metadata": {},
   "source": [
    "### Estimate price increase from 2009 to 2014 in percentage terms"
   ]
  },
  {
   "cell_type": "code",
   "execution_count": 28,
   "metadata": {
    "collapsed": false
   },
   "outputs": [
    {
     "data": {
      "text/plain": [
       "0.22975929978118162"
      ]
     },
     "execution_count": 28,
     "metadata": {},
     "output_type": "execute_result"
    }
   ],
   "source": [
    "# From Zillow\n",
    "# http://www.zillow.com/new-york-ny/home-values/\n",
    "(562-457)/457.0"
   ]
  },
  {
   "cell_type": "code",
   "execution_count": 29,
   "metadata": {
    "collapsed": false
   },
   "outputs": [
    {
     "data": {
      "text/plain": [
       "0.3088979300819252"
      ]
     },
     "execution_count": 29,
     "metadata": {},
     "output_type": "execute_result"
    }
   ],
   "source": [
    "# From the data\n",
    "((np.mean(final[final['SALE_YEAR']==2014]['SALE_PRICE_UNIT'])-\n",
    " np.mean(final[final['SALE_YEAR']==2009]['SALE_PRICE_UNIT']))/\n",
    " np.mean(final[final['SALE_YEAR']==2009]['SALE_PRICE_UNIT']))"
   ]
  },
  {
   "cell_type": "markdown",
   "metadata": {},
   "source": [
    "### Get Assessment data from DOF in order to compute effective tax rate (ETR)"
   ]
  },
  {
   "cell_type": "code",
   "execution_count": 30,
   "metadata": {
    "collapsed": false
   },
   "outputs": [],
   "source": [
    "assessment09 = pd.read_csv('ZIP_spatial/dof_assessment/dof_assessments_merged_09.csv')\n",
    "assessment10 = pd.read_csv('ZIP_spatial/dof_assessment/dof_assessments_merged_10.csv')\n",
    "assessment11 = pd.read_csv('ZIP_spatial/dof_assessment/dof_assessments_merged_11.csv')\n",
    "assessment12 = pd.read_csv('ZIP_spatial/dof_assessment/dof_assessments_merged_12.csv')\n",
    "assessment13 = pd.read_csv('ZIP_spatial/dof_assessment/dof_assessments_merged_13.csv')\n",
    "assessment14 = pd.read_csv('ZIP_spatial/dof_assessment/dof_assessments_merged_14.csv')\n",
    "assessment15 = pd.read_csv('ZIP_spatial/dof_assessment/dof_assessments_merged_15.csv')"
   ]
  },
  {
   "cell_type": "code",
   "execution_count": 31,
   "metadata": {
    "collapsed": true
   },
   "outputs": [],
   "source": [
    "final.BBL = final.BBL.astype(str)"
   ]
  },
  {
   "cell_type": "code",
   "execution_count": 32,
   "metadata": {
    "collapsed": true
   },
   "outputs": [],
   "source": [
    "def prepare(x,y):\n",
    "    del x['Unnamed: 0'] # Delete unnecessary columns\n",
    "    x.rename(columns={'BBLE':'BBL'},inplace=True)\n",
    "    # Make sure BBL is same type for merging\n",
    "    x.BBL = x.BBL.astype(str)\n",
    "    y = y.merge(x,on='BBL',how='inner')\n",
    "    return y"
   ]
  },
  {
   "cell_type": "code",
   "execution_count": 33,
   "metadata": {
    "collapsed": false
   },
   "outputs": [],
   "source": [
    "# Break final back into the different sales years to merge with correct tax final\n",
    "y2014 = final[final['SALE_YEAR']==2014]\n",
    "y2013 = final[final['SALE_YEAR']==2013]\n",
    "y2012 = final[final['SALE_YEAR']==2012]\n",
    "y2011 = final[final['SALE_YEAR']==2011]\n",
    "y2010 = final[final['SALE_YEAR']==2010]\n",
    "y2009 = final[final['SALE_YEAR']==2009]\n",
    "y2008 = final[final['SALE_YEAR']==2008]"
   ]
  },
  {
   "cell_type": "code",
   "execution_count": 34,
   "metadata": {
    "collapsed": false
   },
   "outputs": [],
   "source": [
    "# DOF data of a given year is for previous year\n",
    "df2014 = prepare(assessment15,y2014)\n",
    "df2013 = prepare(assessment14,y2013)\n",
    "df2012 = prepare(assessment13,y2012)\n",
    "df2011 = prepare(assessment12,y2011)\n",
    "df2010 = prepare(assessment11,y2010)\n",
    "df2009 = prepare(assessment10,y2009)\n",
    "df2008 = prepare(assessment09,y2008)"
   ]
  },
  {
   "cell_type": "code",
   "execution_count": 35,
   "metadata": {
    "collapsed": true
   },
   "outputs": [],
   "source": [
    "headers = df2014.columns \n",
    "# Reunite data, use numpy because pandas is raising axis error\n",
    "finale = pd.DataFrame(np.concatenate([df2008,df2009,df2010,df2011,df2012,df2013,df2014]))\n",
    "finale.columns = headers\n",
    "finale = finale.convert_objects(convert_dates=True,convert_numeric=True)"
   ]
  },
  {
   "cell_type": "markdown",
   "metadata": {},
   "source": [
    "***MARKET VALUES***\n",
    "- CUR_FV_T = AV-CUR-FULLVAL-TOTAL : If not zero, Current year’s total market value\n",
    "\n",
    "***ASSESSED VALUES ( ACTUAL & TRANSITIONAL )*** : Contains the Assessed Values for the current fiscal year\n",
    "- CUREXT = AV-CUREXT : Current Transitional Exempt Total Value\n",
    "- CUREXT_A = AV-CUREXT-ACT : Current Actual Exempt Total Value\n",
    "- CURAVT = AV-CURAVT : Current Transitional Assessed Total Value\n",
    "- CURAVT_A = AV-CURAVT-ACT : Current Actual Assessed Total Value\n",
    "\n",
    "***FINAL ASSESSED VALUES***\n",
    "- FN_EXT = AV-FINAL-EXT : Final Transitional Exempt Total Value\n"
   ]
  },
  {
   "cell_type": "markdown",
   "metadata": {},
   "source": [
    "### NOTES:\n",
    "The law requires that the DOF uses whichever number is lower – the actual assessed value or transitional assessed value – to get to your property tax bill.\n",
    "Your Assessed Value is based on a percentage of your Market Value. This percentage is known as the Level of Assessment or Assessment Ratio. Your Assessment Ratio depends on your tax class.\n",
    "\n",
    "|Assessment Ratios|Percentage|\n",
    "|:---------------:|:--------:|\n",
    "|Tax class 1|\t                6%|\n",
    "|Tax class 2, 3 and 4 |   \t45%|\n",
    "\n",
    "***Transitional***\n",
    "\n",
    "The DOF phases in changes to the assessed value of Class 2 properties with more than 10 units and Class 4 properties over a five-year period. This means that it applies 20% of the change each year for five years. "
   ]
  },
  {
   "cell_type": "markdown",
   "metadata": {},
   "source": [
    "#### Using DOF's Current Year Market Value as an approximation for market value. Using current actual exempt value.\n",
    "One can do this using final values as well."
   ]
  },
  {
   "cell_type": "code",
   "execution_count": 36,
   "metadata": {
    "collapsed": false
   },
   "outputs": [],
   "source": [
    "# Whole building\n",
    "finale['TAXABLE_ACTUAL'] = finale['CURAVT_A'] - finale['CUREXT_A']\n",
    "finale['TAX_PAID'] = finale.TAXABLE_ACTUAL * finale.TAX_RATE\n",
    "finale['ETR_DOF'] = np.round((finale['TAX_PAID']/finale['CUR_FV_T'])*100,2) # Market value from DOF"
   ]
  },
  {
   "cell_type": "markdown",
   "metadata": {},
   "source": [
    "#### Computing the ETR on an apartment level"
   ]
  },
  {
   "cell_type": "code",
   "execution_count": 37,
   "metadata": {
    "collapsed": false
   },
   "outputs": [],
   "source": [
    "# RESIDENTIAL UNITS is for some reason a multi-index column\n",
    "l = np.array(finale['RESIDENTIAL_UNITS'].apply(lambda x: x))\n",
    "l = l[:,0]\n",
    "del finale['RESIDENTIAL_UNITS']\n",
    "finale['RESIDENTIAL_UNITS'] = l"
   ]
  },
  {
   "cell_type": "code",
   "execution_count": 38,
   "metadata": {
    "collapsed": false
   },
   "outputs": [
    {
     "name": "stdout",
     "output_type": "stream",
     "text": [
      "37.1236869388\n"
     ]
    }
   ],
   "source": [
    "print ((len(finale['TOTAL_UNITS'])-list(finale['TOTAL_UNITS']==finale['TOT_UNIT']).count(True))/\n",
    "        np.float(len(finale))*100)"
   ]
  },
  {
   "cell_type": "markdown",
   "metadata": {},
   "source": [
    "***38% of the total units info from the sales data does not match with the units info from assessment data.\n",
    "Hence we pick assessment data from now on, since this is the information that is considered when paying taxes and thus assumed to be more likely to represent reality.***"
   ]
  },
  {
   "cell_type": "code",
   "execution_count": 39,
   "metadata": {
    "collapsed": false
   },
   "outputs": [],
   "source": [
    "# Calculating the number of units\n",
    "# Total units in building\n",
    "finale['TAX_UNIT'] = np.where(finale['TOT_UNIT']==0,1,finale['TOT_UNIT'])\n",
    "# Number of units sold out of total, use sales data because it tells one how many apartments are included in the price\n",
    "finale['SALE_UNIT'] = np.where(finale['RESIDENTIAL_UNITS']==0,1,finale['RESIDENTIAL_UNITS'])"
   ]
  },
  {
   "cell_type": "code",
   "execution_count": 40,
   "metadata": {
    "collapsed": true
   },
   "outputs": [],
   "source": [
    "# Estimate tax rate per unit\n",
    "# Use AV-TOTAL-UNITS instead of TAX_UNITS, which is f(TOTAL_UNITS)\n",
    "# because sales data is unreliable with regard to total units\n",
    "# TAX_PAID is for the whole building, thus dividing by TAX_UNIT gives us a proxy for the taxes paid by each residential\n",
    "# unit. To get the final effective tax rate, one divides by the sale price adjusted for whether an apartment was sold\n",
    "# or the whole building.\n",
    "finale['ETR_ACTUAL_UNIT'] = np.round((finale.TAX_PAID/finale['TAX_UNIT'])/\n",
    "                                       (finale.SALE_PRICE/finale['SALE_UNIT']),4)*100\n",
    "\n",
    "# Alternative to ETR_ACTUAL_UNIT\n",
    "#finale['ETR_ACTUAL'] = np.where(((finale.SALE_PRICE/finale['SALE_UNIT'])*finale['TOT_UNIT'])==0,np.nan,\n",
    "#                        np.round((finale.TAX_PAID/\n",
    "#                    ((finale.SALE_PRICE/finale['SALE_UNIT'])*finale['TOT_UNIT'])),4)*100)"
   ]
  },
  {
   "cell_type": "markdown",
   "metadata": {},
   "source": [
    "#### Looking at outliers"
   ]
  },
  {
   "cell_type": "code",
   "execution_count": 41,
   "metadata": {
    "collapsed": false
   },
   "outputs": [
    {
     "data": {
      "text/html": [
       "<div>\n",
       "<table border=\"1\" class=\"dataframe\">\n",
       "  <thead>\n",
       "    <tr style=\"text-align: right;\">\n",
       "      <th></th>\n",
       "      <th>SALE_PRICE</th>\n",
       "      <th>TAX_UNIT</th>\n",
       "      <th>TOT_UNIT</th>\n",
       "      <th>RES_UNIT</th>\n",
       "      <th>SALE_UNIT</th>\n",
       "      <th>TAX_PAID</th>\n",
       "      <th>ETR_ACTUAL_UNIT</th>\n",
       "      <th>BBL</th>\n",
       "      <th>RESIDENTIAL_UNITS</th>\n",
       "      <th>CURAVT_A</th>\n",
       "      <th>CUREXT_A</th>\n",
       "      <th>TOTAL_UNITS</th>\n",
       "      <th>APARTMENT_NUMBER</th>\n",
       "    </tr>\n",
       "  </thead>\n",
       "  <tbody>\n",
       "    <tr>\n",
       "      <th>842</th>\n",
       "      <td>385000</td>\n",
       "      <td>196</td>\n",
       "      <td>196</td>\n",
       "      <td>196</td>\n",
       "      <td>196</td>\n",
       "      <td>1130098.06</td>\n",
       "      <td>293.53</td>\n",
       "      <td>1007691104</td>\n",
       "      <td>196</td>\n",
       "      <td>8820000</td>\n",
       "      <td>126938</td>\n",
       "      <td>196</td>\n",
       "      <td>NaN</td>\n",
       "    </tr>\n",
       "    <tr>\n",
       "      <th>4502</th>\n",
       "      <td>850000</td>\n",
       "      <td>144</td>\n",
       "      <td>144</td>\n",
       "      <td>144</td>\n",
       "      <td>144</td>\n",
       "      <td>922371.19</td>\n",
       "      <td>108.51</td>\n",
       "      <td>1005601003</td>\n",
       "      <td>144</td>\n",
       "      <td>7245000</td>\n",
       "      <td>149837</td>\n",
       "      <td>144</td>\n",
       "      <td>3</td>\n",
       "    </tr>\n",
       "    <tr>\n",
       "      <th>4527</th>\n",
       "      <td>453000</td>\n",
       "      <td>229</td>\n",
       "      <td>229</td>\n",
       "      <td>229</td>\n",
       "      <td>229</td>\n",
       "      <td>1432268.50</td>\n",
       "      <td>316.17</td>\n",
       "      <td>1005611003</td>\n",
       "      <td>229</td>\n",
       "      <td>11205000</td>\n",
       "      <td>187550</td>\n",
       "      <td>229</td>\n",
       "      <td>NaN</td>\n",
       "    </tr>\n",
       "    <tr>\n",
       "      <th>4960</th>\n",
       "      <td>460000</td>\n",
       "      <td>62</td>\n",
       "      <td>62</td>\n",
       "      <td>62</td>\n",
       "      <td>62</td>\n",
       "      <td>527959.64</td>\n",
       "      <td>114.77</td>\n",
       "      <td>1008820052</td>\n",
       "      <td>62</td>\n",
       "      <td>4158000</td>\n",
       "      <td>96772</td>\n",
       "      <td>62</td>\n",
       "      <td>NaN</td>\n",
       "    </tr>\n",
       "    <tr>\n",
       "      <th>5236</th>\n",
       "      <td>395000</td>\n",
       "      <td>243</td>\n",
       "      <td>243</td>\n",
       "      <td>236</td>\n",
       "      <td>236</td>\n",
       "      <td>1927252.08</td>\n",
       "      <td>473.86</td>\n",
       "      <td>1008900001</td>\n",
       "      <td>236</td>\n",
       "      <td>14985000</td>\n",
       "      <td>159984</td>\n",
       "      <td>243</td>\n",
       "      <td>NaN</td>\n",
       "    </tr>\n",
       "  </tbody>\n",
       "</table>\n",
       "</div>"
      ],
      "text/plain": [
       "      SALE_PRICE  TAX_UNIT  TOT_UNIT  RES_UNIT  SALE_UNIT    TAX_PAID  \\\n",
       "842       385000       196       196       196        196  1130098.06   \n",
       "4502      850000       144       144       144        144   922371.19   \n",
       "4527      453000       229       229       229        229  1432268.50   \n",
       "4960      460000        62        62        62         62   527959.64   \n",
       "5236      395000       243       243       236        236  1927252.08   \n",
       "\n",
       "      ETR_ACTUAL_UNIT         BBL  RESIDENTIAL_UNITS  CURAVT_A  CUREXT_A  \\\n",
       "842            293.53  1007691104                196   8820000    126938   \n",
       "4502           108.51  1005601003                144   7245000    149837   \n",
       "4527           316.17  1005611003                229  11205000    187550   \n",
       "4960           114.77  1008820052                 62   4158000     96772   \n",
       "5236           473.86  1008900001                236  14985000    159984   \n",
       "\n",
       "      TOTAL_UNITS  APARTMENT_NUMBER  \n",
       "842           196               NaN  \n",
       "4502          144                 3  \n",
       "4527          229               NaN  \n",
       "4960           62               NaN  \n",
       "5236          243               NaN  "
      ]
     },
     "execution_count": 41,
     "metadata": {},
     "output_type": "execute_result"
    }
   ],
   "source": [
    "# Some data is inconsitent.\n",
    "# For example here, 102 units are sold for $2,600,000 while the whole building has 105 units\n",
    "# and paid $2,969,769 in taxes. Thus, the tax rate is higher than 100 Percent...\n",
    "finale[finale['ETR_ACTUAL_UNIT']>100][['SALE_PRICE','TAX_UNIT','TOT_UNIT',\n",
    "                                           'RES_UNIT','SALE_UNIT','TAX_PAID','ETR_ACTUAL_UNIT','BBL',\n",
    "                                         'RESIDENTIAL_UNITS','CURAVT_A','CUREXT_A',\n",
    "                                         'TOTAL_UNITS','APARTMENT_NUMBER']][:5]"
   ]
  },
  {
   "cell_type": "code",
   "execution_count": 42,
   "metadata": {
    "collapsed": false
   },
   "outputs": [
    {
     "data": {
      "text/html": [
       "<div>\n",
       "<table border=\"1\" class=\"dataframe\">\n",
       "  <thead>\n",
       "    <tr style=\"text-align: right;\">\n",
       "      <th></th>\n",
       "      <th>ZIP_CODE</th>\n",
       "      <th>SALE_DATE</th>\n",
       "      <th>SALE_YEAR</th>\n",
       "      <th>PRICE_BINS</th>\n",
       "      <th>TAX_CLASS_AT_PRESENT</th>\n",
       "      <th>APARTMENT_NUMBER</th>\n",
       "      <th>TAX_CLASS_AT_TIME_OF_SALE</th>\n",
       "      <th>SALE_PRICE</th>\n",
       "      <th>SALE_PRICE_UNIT</th>\n",
       "      <th>BBL</th>\n",
       "      <th>...</th>\n",
       "      <th>FN_AVT</th>\n",
       "      <th>FN_EXT</th>\n",
       "      <th>TXCL</th>\n",
       "      <th>TAXABLE_ACTUAL</th>\n",
       "      <th>TAX_PAID</th>\n",
       "      <th>ETR_DOF</th>\n",
       "      <th>RESIDENTIAL_UNITS</th>\n",
       "      <th>TAX_UNIT</th>\n",
       "      <th>SALE_UNIT</th>\n",
       "      <th>ETR_ACTUAL_UNIT</th>\n",
       "    </tr>\n",
       "  </thead>\n",
       "  <tbody>\n",
       "    <tr>\n",
       "      <th>35238</th>\n",
       "      <td>11005</td>\n",
       "      <td>2008-01-14</td>\n",
       "      <td>2008</td>\n",
       "      <td>3</td>\n",
       "      <td>2</td>\n",
       "      <td>NaN</td>\n",
       "      <td>2</td>\n",
       "      <td>500000</td>\n",
       "      <td>500000</td>\n",
       "      <td>4084890001</td>\n",
       "      <td>...</td>\n",
       "      <td>127004398</td>\n",
       "      <td>12171538</td>\n",
       "      <td>2</td>\n",
       "      <td>119697025</td>\n",
       "      <td>15560613.25</td>\n",
       "      <td>5.31</td>\n",
       "      <td>0</td>\n",
       "      <td>1866</td>\n",
       "      <td>1</td>\n",
       "      <td>1.67</td>\n",
       "    </tr>\n",
       "    <tr>\n",
       "      <th>35239</th>\n",
       "      <td>11005</td>\n",
       "      <td>2008-01-09</td>\n",
       "      <td>2008</td>\n",
       "      <td>2</td>\n",
       "      <td>2</td>\n",
       "      <td>NaN</td>\n",
       "      <td>2</td>\n",
       "      <td>275000</td>\n",
       "      <td>275000</td>\n",
       "      <td>4084890001</td>\n",
       "      <td>...</td>\n",
       "      <td>127004398</td>\n",
       "      <td>12171538</td>\n",
       "      <td>2</td>\n",
       "      <td>119697025</td>\n",
       "      <td>15560613.25</td>\n",
       "      <td>5.31</td>\n",
       "      <td>0</td>\n",
       "      <td>1866</td>\n",
       "      <td>1</td>\n",
       "      <td>3.03</td>\n",
       "    </tr>\n",
       "    <tr>\n",
       "      <th>35240</th>\n",
       "      <td>11005</td>\n",
       "      <td>2008-01-10</td>\n",
       "      <td>2008</td>\n",
       "      <td>3</td>\n",
       "      <td>2</td>\n",
       "      <td>NaN</td>\n",
       "      <td>2</td>\n",
       "      <td>445000</td>\n",
       "      <td>445000</td>\n",
       "      <td>4084890001</td>\n",
       "      <td>...</td>\n",
       "      <td>127004398</td>\n",
       "      <td>12171538</td>\n",
       "      <td>2</td>\n",
       "      <td>119697025</td>\n",
       "      <td>15560613.25</td>\n",
       "      <td>5.31</td>\n",
       "      <td>0</td>\n",
       "      <td>1866</td>\n",
       "      <td>1</td>\n",
       "      <td>1.87</td>\n",
       "    </tr>\n",
       "    <tr>\n",
       "      <th>35241</th>\n",
       "      <td>11005</td>\n",
       "      <td>2008-02-14</td>\n",
       "      <td>2008</td>\n",
       "      <td>2</td>\n",
       "      <td>2</td>\n",
       "      <td>NaN</td>\n",
       "      <td>2</td>\n",
       "      <td>290000</td>\n",
       "      <td>290000</td>\n",
       "      <td>4084890001</td>\n",
       "      <td>...</td>\n",
       "      <td>127004398</td>\n",
       "      <td>12171538</td>\n",
       "      <td>2</td>\n",
       "      <td>119697025</td>\n",
       "      <td>15560613.25</td>\n",
       "      <td>5.31</td>\n",
       "      <td>0</td>\n",
       "      <td>1866</td>\n",
       "      <td>1</td>\n",
       "      <td>2.88</td>\n",
       "    </tr>\n",
       "    <tr>\n",
       "      <th>35242</th>\n",
       "      <td>11005</td>\n",
       "      <td>2008-02-29</td>\n",
       "      <td>2008</td>\n",
       "      <td>3</td>\n",
       "      <td>2</td>\n",
       "      <td>NaN</td>\n",
       "      <td>2</td>\n",
       "      <td>536496</td>\n",
       "      <td>536496</td>\n",
       "      <td>4084890001</td>\n",
       "      <td>...</td>\n",
       "      <td>127004398</td>\n",
       "      <td>12171538</td>\n",
       "      <td>2</td>\n",
       "      <td>119697025</td>\n",
       "      <td>15560613.25</td>\n",
       "      <td>5.31</td>\n",
       "      <td>0</td>\n",
       "      <td>1866</td>\n",
       "      <td>1</td>\n",
       "      <td>1.55</td>\n",
       "    </tr>\n",
       "  </tbody>\n",
       "</table>\n",
       "<p>5 rows × 41 columns</p>\n",
       "</div>"
      ],
      "text/plain": [
       "       ZIP_CODE  SALE_DATE  SALE_YEAR  PRICE_BINS  TAX_CLASS_AT_PRESENT  \\\n",
       "35238     11005 2008-01-14       2008           3                     2   \n",
       "35239     11005 2008-01-09       2008           2                     2   \n",
       "35240     11005 2008-01-10       2008           3                     2   \n",
       "35241     11005 2008-02-14       2008           2                     2   \n",
       "35242     11005 2008-02-29       2008           3                     2   \n",
       "\n",
       "       APARTMENT_NUMBER  TAX_CLASS_AT_TIME_OF_SALE  SALE_PRICE  \\\n",
       "35238               NaN                          2      500000   \n",
       "35239               NaN                          2      275000   \n",
       "35240               NaN                          2      445000   \n",
       "35241               NaN                          2      290000   \n",
       "35242               NaN                          2      536496   \n",
       "\n",
       "       SALE_PRICE_UNIT         BBL       ...            FN_AVT    FN_EXT  \\\n",
       "35238           500000  4084890001       ...         127004398  12171538   \n",
       "35239           275000  4084890001       ...         127004398  12171538   \n",
       "35240           445000  4084890001       ...         127004398  12171538   \n",
       "35241           290000  4084890001       ...         127004398  12171538   \n",
       "35242           536496  4084890001       ...         127004398  12171538   \n",
       "\n",
       "       TXCL TAXABLE_ACTUAL     TAX_PAID ETR_DOF  RESIDENTIAL_UNITS TAX_UNIT  \\\n",
       "35238     2      119697025  15560613.25    5.31                  0     1866   \n",
       "35239     2      119697025  15560613.25    5.31                  0     1866   \n",
       "35240     2      119697025  15560613.25    5.31                  0     1866   \n",
       "35241     2      119697025  15560613.25    5.31                  0     1866   \n",
       "35242     2      119697025  15560613.25    5.31                  0     1866   \n",
       "\n",
       "       SALE_UNIT  ETR_ACTUAL_UNIT  \n",
       "35238          1             1.67  \n",
       "35239          1             3.03  \n",
       "35240          1             1.87  \n",
       "35241          1             2.88  \n",
       "35242          1             1.55  \n",
       "\n",
       "[5 rows x 41 columns]"
      ]
     },
     "execution_count": 42,
     "metadata": {},
     "output_type": "execute_result"
    }
   ],
   "source": [
    "finale[finale['BBL']==4084890001][:5]"
   ]
  },
  {
   "cell_type": "code",
   "execution_count": 43,
   "metadata": {
    "collapsed": false
   },
   "outputs": [
    {
     "data": {
      "text/html": [
       "<div>\n",
       "<table border=\"1\" class=\"dataframe\">\n",
       "  <thead>\n",
       "    <tr style=\"text-align: right;\">\n",
       "      <th></th>\n",
       "      <th>TAX_PAID</th>\n",
       "      <th>CURAVT_A</th>\n",
       "      <th>TAX_RATE</th>\n",
       "      <th>CUREXT_A</th>\n",
       "    </tr>\n",
       "  </thead>\n",
       "  <tbody>\n",
       "    <tr>\n",
       "      <th>1330</th>\n",
       "      <td>0</td>\n",
       "      <td>7875000</td>\n",
       "      <td>0.13</td>\n",
       "      <td>7875000</td>\n",
       "    </tr>\n",
       "    <tr>\n",
       "      <th>1331</th>\n",
       "      <td>0</td>\n",
       "      <td>7875000</td>\n",
       "      <td>0.13</td>\n",
       "      <td>7875000</td>\n",
       "    </tr>\n",
       "    <tr>\n",
       "      <th>1332</th>\n",
       "      <td>0</td>\n",
       "      <td>7875000</td>\n",
       "      <td>0.13</td>\n",
       "      <td>7875000</td>\n",
       "    </tr>\n",
       "    <tr>\n",
       "      <th>1333</th>\n",
       "      <td>0</td>\n",
       "      <td>7875000</td>\n",
       "      <td>0.13</td>\n",
       "      <td>7875000</td>\n",
       "    </tr>\n",
       "    <tr>\n",
       "      <th>1381</th>\n",
       "      <td>0</td>\n",
       "      <td>1467000</td>\n",
       "      <td>0.13</td>\n",
       "      <td>1467000</td>\n",
       "    </tr>\n",
       "  </tbody>\n",
       "</table>\n",
       "</div>"
      ],
      "text/plain": [
       "      TAX_PAID  CURAVT_A  TAX_RATE  CUREXT_A\n",
       "1330         0   7875000      0.13   7875000\n",
       "1331         0   7875000      0.13   7875000\n",
       "1332         0   7875000      0.13   7875000\n",
       "1333         0   7875000      0.13   7875000\n",
       "1381         0   1467000      0.13   1467000"
      ]
     },
     "execution_count": 43,
     "metadata": {},
     "output_type": "execute_result"
    }
   ],
   "source": [
    "# Some buildings are not paying taxes at all\n",
    "finale[finale['ETR_DOF']==0][['TAX_PAID','CURAVT_A','TAX_RATE','CUREXT_A']].head()"
   ]
  },
  {
   "cell_type": "markdown",
   "metadata": {},
   "source": [
    "#### Clean the data"
   ]
  },
  {
   "cell_type": "code",
   "execution_count": 44,
   "metadata": {
    "collapsed": false
   },
   "outputs": [
    {
     "name": "stdout",
     "output_type": "stream",
     "text": [
      "2876\n"
     ]
    }
   ],
   "source": [
    "print len(finale[(finale['ETR_ACTUAL_UNIT']>20)|(finale['ETR_DOF']==0)|(finale['ETR_ACTUAL_UNIT']>20)]) # observations are outliers..."
   ]
  },
  {
   "cell_type": "code",
   "execution_count": 45,
   "metadata": {
    "collapsed": true
   },
   "outputs": [],
   "source": [
    "finale = finale[(finale['ETR_ACTUAL_UNIT']<20)&(finale['ETR_DOF']!=0)&(finale['ETR_ACTUAL_UNIT']<20)]"
   ]
  },
  {
   "cell_type": "markdown",
   "metadata": {},
   "source": [
    "#### Compare Tax Rates"
   ]
  },
  {
   "cell_type": "code",
   "execution_count": 46,
   "metadata": {
    "collapsed": false
   },
   "outputs": [],
   "source": [
    "taxrates = pd.DataFrame({'ETR_ACTUAL_MEAN':finale.groupby('PRICE_UNIT_BINS',axis=0)['ETR_ACTUAL_UNIT'].mean(),\n",
    "                            'ETR_ACTUAL_MEDIAN':finale.groupby('PRICE_UNIT_BINS',axis=0)['ETR_ACTUAL_UNIT'].median(),\n",
    "                            'ETR_DOF_MEAN':finale.groupby('PRICE_UNIT_BINS',axis=0)['ETR_DOF'].mean(),\n",
    "                        'ETR_DOF_MEDIAN':finale.groupby('PRICE_UNIT_BINS',axis=0)['ETR_DOF'].median()}).reset_index()"
   ]
  },
  {
   "cell_type": "code",
   "execution_count": 47,
   "metadata": {
    "collapsed": false
   },
   "outputs": [
    {
     "data": {
      "text/html": [
       "<div>\n",
       "<table border=\"1\" class=\"dataframe\">\n",
       "  <thead>\n",
       "    <tr style=\"text-align: right;\">\n",
       "      <th></th>\n",
       "      <th>PRICE_UNIT_BINS</th>\n",
       "      <th>ETR_ACTUAL_MEAN</th>\n",
       "      <th>ETR_ACTUAL_MEDIAN</th>\n",
       "      <th>ETR_DOF_MEAN</th>\n",
       "      <th>ETR_DOF_MEDIAN</th>\n",
       "    </tr>\n",
       "  </thead>\n",
       "  <tbody>\n",
       "    <tr>\n",
       "      <th>0</th>\n",
       "      <td>1</td>\n",
       "      <td>1.433736</td>\n",
       "      <td>1.22</td>\n",
       "      <td>3.151049</td>\n",
       "      <td>3.90</td>\n",
       "    </tr>\n",
       "    <tr>\n",
       "      <th>1</th>\n",
       "      <td>2</td>\n",
       "      <td>0.914272</td>\n",
       "      <td>0.80</td>\n",
       "      <td>3.019811</td>\n",
       "      <td>1.93</td>\n",
       "    </tr>\n",
       "    <tr>\n",
       "      <th>2</th>\n",
       "      <td>3</td>\n",
       "      <td>0.813064</td>\n",
       "      <td>0.70</td>\n",
       "      <td>3.048099</td>\n",
       "      <td>1.64</td>\n",
       "    </tr>\n",
       "    <tr>\n",
       "      <th>3</th>\n",
       "      <td>4</td>\n",
       "      <td>0.786329</td>\n",
       "      <td>0.73</td>\n",
       "      <td>3.468048</td>\n",
       "      <td>5.40</td>\n",
       "    </tr>\n",
       "    <tr>\n",
       "      <th>4</th>\n",
       "      <td>5</td>\n",
       "      <td>0.765016</td>\n",
       "      <td>0.74</td>\n",
       "      <td>3.862423</td>\n",
       "      <td>5.66</td>\n",
       "    </tr>\n",
       "    <tr>\n",
       "      <th>5</th>\n",
       "      <td>6</td>\n",
       "      <td>0.698273</td>\n",
       "      <td>0.69</td>\n",
       "      <td>4.190849</td>\n",
       "      <td>5.70</td>\n",
       "    </tr>\n",
       "    <tr>\n",
       "      <th>6</th>\n",
       "      <td>7</td>\n",
       "      <td>0.594354</td>\n",
       "      <td>0.57</td>\n",
       "      <td>4.347431</td>\n",
       "      <td>5.74</td>\n",
       "    </tr>\n",
       "    <tr>\n",
       "      <th>7</th>\n",
       "      <td>8</td>\n",
       "      <td>0.459789</td>\n",
       "      <td>0.44</td>\n",
       "      <td>4.459669</td>\n",
       "      <td>5.78</td>\n",
       "    </tr>\n",
       "    <tr>\n",
       "      <th>8</th>\n",
       "      <td>9</td>\n",
       "      <td>0.337159</td>\n",
       "      <td>0.33</td>\n",
       "      <td>4.271320</td>\n",
       "      <td>5.78</td>\n",
       "    </tr>\n",
       "    <tr>\n",
       "      <th>9</th>\n",
       "      <td>10</td>\n",
       "      <td>0.238179</td>\n",
       "      <td>0.21</td>\n",
       "      <td>4.059275</td>\n",
       "      <td>5.78</td>\n",
       "    </tr>\n",
       "  </tbody>\n",
       "</table>\n",
       "</div>"
      ],
      "text/plain": [
       "   PRICE_UNIT_BINS  ETR_ACTUAL_MEAN  ETR_ACTUAL_MEDIAN  ETR_DOF_MEAN  \\\n",
       "0                1         1.433736               1.22      3.151049   \n",
       "1                2         0.914272               0.80      3.019811   \n",
       "2                3         0.813064               0.70      3.048099   \n",
       "3                4         0.786329               0.73      3.468048   \n",
       "4                5         0.765016               0.74      3.862423   \n",
       "5                6         0.698273               0.69      4.190849   \n",
       "6                7         0.594354               0.57      4.347431   \n",
       "7                8         0.459789               0.44      4.459669   \n",
       "8                9         0.337159               0.33      4.271320   \n",
       "9               10         0.238179               0.21      4.059275   \n",
       "\n",
       "   ETR_DOF_MEDIAN  \n",
       "0            3.90  \n",
       "1            1.93  \n",
       "2            1.64  \n",
       "3            5.40  \n",
       "4            5.66  \n",
       "5            5.70  \n",
       "6            5.74  \n",
       "7            5.78  \n",
       "8            5.78  \n",
       "9            5.78  "
      ]
     },
     "execution_count": 47,
     "metadata": {},
     "output_type": "execute_result"
    }
   ],
   "source": [
    "taxrates"
   ]
  },
  {
   "cell_type": "code",
   "execution_count": 48,
   "metadata": {
    "collapsed": false
   },
   "outputs": [
    {
     "name": "stdout",
     "output_type": "stream",
     "text": [
      "CPU times: user 23.4 s, sys: 263 ms, total: 23.6 s\n",
      "Wall time: 23.6 s\n"
     ]
    },
    {
     "data": {
      "image/png": "[encoded data removed]",
      "text/plain": [
       "<matplotlib.figure.Figure at 0x151f44e50>"
      ]
     },
     "metadata": {},
     "output_type": "display_data"
    }
   ],
   "source": [
    "%%time\n",
    "# Use all processors\n",
    "pool = mp.Pool()\n",
    "# Visualize it\n",
    "from numpy import median, mean\n",
    "f, (ax1, ax2, ax3) = plt.subplots(3, 1, figsize=(12, 12), sharex=False)\n",
    "sns.barplot(x='PRICE_UNIT_BINS', y='ETR_ACTUAL_UNIT', data=finale, estimator=median, ax=ax1, color='#AA385E', saturation=0.7, \n",
    "            order=[1,2,3,4,5,6,7,8,9,10])\n",
    "sns.barplot(x='PRICE_UNIT_BINS', y='ETR_DOF', data=finale, estimator=median, ax=ax2, color='#12C7FD', saturation=0.7,\n",
    "           order=[1,2,3,4,5,6,7,8,9,10])\n",
    "sns.barplot(x='TAX_CLASS_AT_TIME_OF_SALE', y='ETR_ACTUAL_UNIT', data=finale, estimator=median, ax=ax3, color='#45842B', \n",
    "            saturation=0.7)"
   ]
  },
  {
   "cell_type": "markdown",
   "metadata": {},
   "source": [
    "*** The way DOF assesses market values is counter the actual market evaluation of property, especially for estate in price bins above 5. This essentially creates inequality as more expensive estates pay less tax.***"
   ]
  },
  {
   "cell_type": "code",
   "execution_count": 49,
   "metadata": {
    "collapsed": false
   },
   "outputs": [
    {
     "name": "stdout",
     "output_type": "stream",
     "text": [
      "CPU times: user 358 ms, sys: 179 ms, total: 537 ms\n",
      "Wall time: 538 ms\n"
     ]
    },
    {
     "data": {
      "image/png": "[encoded data removed]",
      "text/plain": [
       "<matplotlib.figure.Figure at 0x151e57f90>"
      ]
     },
     "metadata": {},
     "output_type": "display_data"
    }
   ],
   "source": [
    "%%time\n",
    "# Use all processors\n",
    "pool = mp.Pool()\n",
    "plt.figure(figsize=(10,5))\n",
    "sns.distplot(finale.ETR_ACTUAL_UNIT.dropna(),color='c',label='Actual')\n",
    "sns.distplot(finale.ETR_DOF.dropna(),color='m',label='DOF')\n",
    "plt.legend()"
   ]
  },
  {
   "cell_type": "code",
   "execution_count": 50,
   "metadata": {
    "collapsed": true
   },
   "outputs": [],
   "source": [
    "# Create new index, since old is not coherent anymore after cleaning data\n",
    "finale = finale.reset_index()\n",
    "del finale['index']"
   ]
  },
  {
   "cell_type": "code",
   "execution_count": 51,
   "metadata": {
    "collapsed": false
   },
   "outputs": [
    {
     "name": "stdout",
     "output_type": "stream",
     "text": [
      "CPU times: user 4.32 s, sys: 780 ms, total: 5.1 s\n",
      "Wall time: 4.68 s\n"
     ]
    },
    {
     "data": {
      "image/png": "[encoded data removed]",
      "text/plain": [
       "<matplotlib.figure.Figure at 0x14ce19e50>"
      ]
     },
     "metadata": {},
     "output_type": "display_data"
    }
   ],
   "source": [
    "%%time\n",
    "# Use all processors\n",
    "pool = mp.Pool()\n",
    "# Get counts of the different bins, faster than conventional histogram\n",
    "ETR_1 = []\n",
    "ETR_2 = []\n",
    "for i,l in enumerate(finale['TAX_CLASS_AT_PRESENT']):\n",
    "    if str(l).find('1')!=-1:\n",
    "        ETR_1.append(finale['ETR_ACTUAL_UNIT'][i])\n",
    "    elif str(l).find('2')!=1:    \n",
    "        ETR_2.append(finale['ETR_ACTUAL_UNIT'][i])\n",
    "ETR_1 = pd.Series(ETR_1)\n",
    "ETR_2 = pd.Series(ETR_2)\n",
    "fig, ax = plt.subplots(figsize=(12,8))\n",
    "sns.distplot(ETR_1.dropna(),color='c', label='Tax Class 1')\n",
    "sns.distplot(ETR_2.dropna(),color='m',label='Tax Class 2')\n",
    "plt.title('Histogram of Tax-Class')\n",
    "plt.ylabel('Frequency')\n",
    "plt.legend()\n",
    "ax.xaxis.get_majorticklocs();"
   ]
  },
  {
   "cell_type": "markdown",
   "metadata": {},
   "source": [
    "#### Data appears to be normally distributed, although heavily skewed."
   ]
  },
  {
   "cell_type": "markdown",
   "metadata": {},
   "source": [
    "##### Hypothesis\n",
    "The research question's aim is to see whether residents of tax class 2 property pay more in ETR than residents of tax class 1 property.\n",
    "\n",
    "$H_0: \\mu_1=\\mu_2$\n",
    "\n",
    "$H_1: \\mu_1\\neq\\mu_2 $\n",
    "\n",
    "At $\\alpha=0.05$\n",
    "\n",
    "Now we analyze the dataset in terms of standard deviation and other important moments in order to compute the t-statistic. We consider the 2014 sample to be a sample for all estates in New York City. We compare two means, thus we apply the formula for the Welch's t-test:\n",
    "<br>\n",
    "<br>\n",
    "<br>\n",
    "$t=\\frac{\\mu_1-\\mu_2}{\\sqrt{\\frac{s_{1}^2}{n_1}+\\frac{s_{2}^2}{n_2}}}$\n",
    "<br>\n",
    "<br>\n",
    "<br>\n",
    "We make use of the Central Limit Theorem and assume that due to the large sample size, the data can be approximated by a normal distribution, eventhough the normal test shows that the sample does not behave normally distributed even after cleaning and adjusting for the skewness."
   ]
  },
  {
   "cell_type": "code",
   "execution_count": 52,
   "metadata": {
    "collapsed": false
   },
   "outputs": [
    {
     "name": "stdout",
     "output_type": "stream",
     "text": [
      "(16084.737997419503, 0.0)\n",
      "(51202.383659987187, 0.0)\n",
      "-119.027921409\n",
      "70227 163206\n"
     ]
    }
   ],
   "source": [
    "# Clean data\n",
    "def clean(x):\n",
    "    x = pd.Series(x)\n",
    "    x = x[x>0].dropna()\n",
    "    return x\n",
    "\n",
    "ETR_1 = clean(ETR_1)\n",
    "ETR_2 = clean(ETR_2)\n",
    "\n",
    "\n",
    "import scipy\n",
    "print scipy.stats.mstats.normaltest(ETR_1.apply(lambda x: np.log(x)))\n",
    "print scipy.stats.mstats.normaltest(ETR_2.apply(lambda x: np.log(x)))\n",
    "\n",
    "# Getting standard deviation for each usertype and other moments:\n",
    "def parameters(x):\n",
    "    mean = x.mean()\n",
    "    std = x.std()\n",
    "    count = x.count()\n",
    "    return mean,std,count\n",
    "\n",
    "m1,s1,n1 = parameters(ETR_1)\n",
    "m2,s2,n2 = parameters(ETR_2)\n",
    "\n",
    "# Compute the t-stat:\n",
    "t = (m1 - m2)/math.sqrt((s1**2/n1)+(s2**2/n2))\n",
    "print t\n",
    "\n",
    "print n1,n2"
   ]
  },
  {
   "cell_type": "markdown",
   "metadata": {},
   "source": [
    "The degrees of freedom (df) is bigger is defined as n-1. For both samples, df is > 120. For an $\\alpha$ of 5%, the critical t-value for df$\\approx\\inf$ is 1.960. Thus, our t-value exceeds the critical value. \n",
    "\n",
    "***Conclusion***\n",
    "\n",
    "Based on the critical value and p-value we reject $H_0$ and can say that Tax class 1 residents pay on average a different amount than tax class 2 residents."
   ]
  },
  {
   "cell_type": "markdown",
   "metadata": {},
   "source": [
    "#### Relationship between Market Value and Sales Price"
   ]
  },
  {
   "cell_type": "code",
   "execution_count": 53,
   "metadata": {
    "collapsed": false
   },
   "outputs": [
    {
     "data": {
      "text/html": [
       "<div>\n",
       "<table border=\"1\" class=\"dataframe\">\n",
       "  <thead>\n",
       "    <tr style=\"text-align: right;\">\n",
       "      <th></th>\n",
       "      <th>ETR_ACTUAL_UNIT</th>\n",
       "      <th>MKT_SALE</th>\n",
       "      <th>MKT_SALE_PERC</th>\n",
       "      <th>EXT_PERC</th>\n",
       "      <th>ETR_DOF</th>\n",
       "    </tr>\n",
       "  </thead>\n",
       "  <tbody>\n",
       "    <tr>\n",
       "      <th>count</th>\n",
       "      <td>252729.000000</td>\n",
       "      <td>252729.000000</td>\n",
       "      <td>160984.000000</td>\n",
       "      <td>233996.000000</td>\n",
       "      <td>233996.000000</td>\n",
       "    </tr>\n",
       "    <tr>\n",
       "      <th>mean</th>\n",
       "      <td>0.924517</td>\n",
       "      <td>52.611372</td>\n",
       "      <td>66.709572</td>\n",
       "      <td>13.885724</td>\n",
       "      <td>3.344367</td>\n",
       "    </tr>\n",
       "    <tr>\n",
       "      <th>std</th>\n",
       "      <td>0.886100</td>\n",
       "      <td>84.318098</td>\n",
       "      <td>73.958332</td>\n",
       "      <td>25.796150</td>\n",
       "      <td>2.415667</td>\n",
       "    </tr>\n",
       "    <tr>\n",
       "      <th>min</th>\n",
       "      <td>0.000000</td>\n",
       "      <td>0.000000</td>\n",
       "      <td>0.000000</td>\n",
       "      <td>0.000000</td>\n",
       "      <td>0.010000</td>\n",
       "    </tr>\n",
       "    <tr>\n",
       "      <th>25%</th>\n",
       "      <td>0.420000</td>\n",
       "      <td>15.500000</td>\n",
       "      <td>16.040000</td>\n",
       "      <td>0.000000</td>\n",
       "      <td>0.740000</td>\n",
       "    </tr>\n",
       "    <tr>\n",
       "      <th>50%</th>\n",
       "      <td>0.790000</td>\n",
       "      <td>26.500000</td>\n",
       "      <td>45.230000</td>\n",
       "      <td>2.930000</td>\n",
       "      <td>4.710000</td>\n",
       "    </tr>\n",
       "    <tr>\n",
       "      <th>75%</th>\n",
       "      <td>1.230000</td>\n",
       "      <td>83.230000</td>\n",
       "      <td>100.970000</td>\n",
       "      <td>9.660000</td>\n",
       "      <td>5.720000</td>\n",
       "    </tr>\n",
       "    <tr>\n",
       "      <th>max</th>\n",
       "      <td>19.790000</td>\n",
       "      <td>13848.630000</td>\n",
       "      <td>5500.550000</td>\n",
       "      <td>99.900000</td>\n",
       "      <td>8.550000</td>\n",
       "    </tr>\n",
       "  </tbody>\n",
       "</table>\n",
       "</div>"
      ],
      "text/plain": [
       "       ETR_ACTUAL_UNIT       MKT_SALE  MKT_SALE_PERC       EXT_PERC  \\\n",
       "count    252729.000000  252729.000000  160984.000000  233996.000000   \n",
       "mean          0.924517      52.611372      66.709572      13.885724   \n",
       "std           0.886100      84.318098      73.958332      25.796150   \n",
       "min           0.000000       0.000000       0.000000       0.000000   \n",
       "25%           0.420000      15.500000      16.040000       0.000000   \n",
       "50%           0.790000      26.500000      45.230000       2.930000   \n",
       "75%           1.230000      83.230000     100.970000       9.660000   \n",
       "max          19.790000   13848.630000    5500.550000      99.900000   \n",
       "\n",
       "             ETR_DOF  \n",
       "count  233996.000000  \n",
       "mean        3.344367  \n",
       "std         2.415667  \n",
       "min         0.010000  \n",
       "25%         0.740000  \n",
       "50%         4.710000  \n",
       "75%         5.720000  \n",
       "max         8.550000  "
      ]
     },
     "execution_count": 53,
     "metadata": {},
     "output_type": "execute_result"
    }
   ],
   "source": [
    "# Market is taken from DOF calculations and sale price from actual sales adjusted for the units\n",
    "finale['MKT_SALE'] = np.round((finale.CUR_FV_T/finale.TAX_UNIT/finale.SALE_PRICE_UNIT)*100,2)\n",
    "\n",
    "# Difference between market value and sales price in percentage terms\n",
    "finale['MKT_SALE_PERC'] = np.where((finale.SALE_PRICE_UNIT*finale.TOTAL_UNITS)==0,np.nan,\n",
    "    np.round(finale.CUR_FV_T/(finale.SALE_PRICE_UNIT*finale.TOTAL_UNITS)*100,2))\n",
    "\n",
    "# Percentage of exemptions\n",
    "finale['EXT_PERC'] = np.round(finale.CUREXT_A/finale.CURAVT_A*100,2)\n",
    "\n",
    "finale[['ETR_ACTUAL_UNIT','MKT_SALE','MKT_SALE_PERC','EXT_PERC','ETR_DOF']].describe()"
   ]
  },
  {
   "cell_type": "markdown",
   "metadata": {},
   "source": [
    "#### Using sales price as an approximation for market value. Using current actual exempt value.\n",
    "Need to check whether sales price includes the whole building or just the apartment, since assessment data is on the whole building."
   ]
  },
  {
   "cell_type": "markdown",
   "metadata": {},
   "source": [
    "## Timeanalysis"
   ]
  },
  {
   "cell_type": "code",
   "execution_count": 54,
   "metadata": {
    "collapsed": false
   },
   "outputs": [],
   "source": [
    "time = pd.DataFrame({'ETR_ACTUAL_UNIT_MEAN':finale.groupby('SALE_YEAR',axis=0)['ETR_ACTUAL_UNIT'].mean(),\n",
    "                            'ETR_ACTUAL_UNIT_MEDIAN':finale.groupby('SALE_YEAR',axis=0)['ETR_ACTUAL_UNIT'].median(),\n",
    "                            'ETR_ACTUAL_UNIT_STD':finale.groupby('SALE_YEAR',axis=0)['ETR_ACTUAL_UNIT'].std()}).reset_index()"
   ]
  },
  {
   "cell_type": "code",
   "execution_count": 55,
   "metadata": {
    "collapsed": false
   },
   "outputs": [
    {
     "data": {
      "text/html": [
       "<div>\n",
       "<table border=\"1\" class=\"dataframe\">\n",
       "  <thead>\n",
       "    <tr style=\"text-align: right;\">\n",
       "      <th></th>\n",
       "      <th>SALE_YEAR</th>\n",
       "      <th>ETR_ACTUAL_UNIT_MEAN</th>\n",
       "      <th>ETR_ACTUAL_UNIT_MEDIAN</th>\n",
       "      <th>ETR_ACTUAL_UNIT_STD</th>\n",
       "    </tr>\n",
       "  </thead>\n",
       "  <tbody>\n",
       "    <tr>\n",
       "      <th>0</th>\n",
       "      <td>2008</td>\n",
       "      <td>0.797765</td>\n",
       "      <td>0.66</td>\n",
       "      <td>0.832195</td>\n",
       "    </tr>\n",
       "    <tr>\n",
       "      <th>1</th>\n",
       "      <td>2009</td>\n",
       "      <td>0.904240</td>\n",
       "      <td>0.78</td>\n",
       "      <td>0.911284</td>\n",
       "    </tr>\n",
       "    <tr>\n",
       "      <th>2</th>\n",
       "      <td>2010</td>\n",
       "      <td>0.860064</td>\n",
       "      <td>0.73</td>\n",
       "      <td>0.870538</td>\n",
       "    </tr>\n",
       "    <tr>\n",
       "      <th>3</th>\n",
       "      <td>2011</td>\n",
       "      <td>0.928674</td>\n",
       "      <td>0.81</td>\n",
       "      <td>0.883748</td>\n",
       "    </tr>\n",
       "    <tr>\n",
       "      <th>4</th>\n",
       "      <td>2012</td>\n",
       "      <td>1.022318</td>\n",
       "      <td>0.87</td>\n",
       "      <td>1.021216</td>\n",
       "    </tr>\n",
       "    <tr>\n",
       "      <th>5</th>\n",
       "      <td>2013</td>\n",
       "      <td>0.994444</td>\n",
       "      <td>0.87</td>\n",
       "      <td>0.863228</td>\n",
       "    </tr>\n",
       "    <tr>\n",
       "      <th>6</th>\n",
       "      <td>2014</td>\n",
       "      <td>0.937435</td>\n",
       "      <td>0.81</td>\n",
       "      <td>0.800778</td>\n",
       "    </tr>\n",
       "  </tbody>\n",
       "</table>\n",
       "</div>"
      ],
      "text/plain": [
       "   SALE_YEAR  ETR_ACTUAL_UNIT_MEAN  ETR_ACTUAL_UNIT_MEDIAN  \\\n",
       "0       2008              0.797765                    0.66   \n",
       "1       2009              0.904240                    0.78   \n",
       "2       2010              0.860064                    0.73   \n",
       "3       2011              0.928674                    0.81   \n",
       "4       2012              1.022318                    0.87   \n",
       "5       2013              0.994444                    0.87   \n",
       "6       2014              0.937435                    0.81   \n",
       "\n",
       "   ETR_ACTUAL_UNIT_STD  \n",
       "0             0.832195  \n",
       "1             0.911284  \n",
       "2             0.870538  \n",
       "3             0.883748  \n",
       "4             1.021216  \n",
       "5             0.863228  \n",
       "6             0.800778  "
      ]
     },
     "execution_count": 55,
     "metadata": {},
     "output_type": "execute_result"
    }
   ],
   "source": [
    "time"
   ]
  },
  {
   "cell_type": "code",
   "execution_count": 56,
   "metadata": {
    "collapsed": false
   },
   "outputs": [
    {
     "data": {
      "text/plain": [
       "<matplotlib.legend.Legend at 0x14e15de50>"
      ]
     },
     "execution_count": 56,
     "metadata": {},
     "output_type": "execute_result"
    },
    {
     "data": {
      "image/png": "[encoded data removed]",
      "text/plain": [
       "<matplotlib.figure.Figure at 0x14468d910>"
      ]
     },
     "metadata": {},
     "output_type": "display_data"
    }
   ],
   "source": [
    "# Plot the response with standard error\n",
    "#sns.tsplot(data=time, time=\"SALE_YEAR\", unit=\"ETR_ACTUAL_UNIT_MEAN\",\n",
    "#          value=\"ETR_ACTUAL_UNIT_STD\")\n",
    "plt.figure(figsize=(15,5))\n",
    "plt.plot(time.SALE_YEAR,time.ETR_ACTUAL_UNIT_MEAN,label='MEAN')\n",
    "plt.plot(time.SALE_YEAR,time.ETR_ACTUAL_UNIT_STD,label='STANDARD DEVIATION')\n",
    "plt.plot(time.SALE_YEAR,time.ETR_ACTUAL_UNIT_MEDIAN,label='MEDIAN')\n",
    "plt.ylabel('ETR')\n",
    "plt.xlabel('YEARS')\n",
    "plt.legend()"
   ]
  },
  {
   "cell_type": "markdown",
   "metadata": {},
   "source": [
    "The average ETR across the city increased over the years, while the standard deviation decreased. The median ETR did not increase as heavily."
   ]
  },
  {
   "cell_type": "code",
   "execution_count": 59,
   "metadata": {
    "collapsed": false
   },
   "outputs": [],
   "source": [
    "buildings = pd.DataFrame(\n",
    "    {'STD_UNIT':finale.groupby('BUILDING_CLASS_AT_TIME_OF_SALE',axis=0)['ETR_ACTUAL_UNIT'].std(),\n",
    "    'MEAN_UNIT':finale.groupby('BUILDING_CLASS_AT_TIME_OF_SALE',axis=0)['ETR_ACTUAL_UNIT'].mean(),\n",
    "    'MEDIAN_UNIT':finale.groupby('BUILDING_CLASS_AT_TIME_OF_SALE',axis=0)['ETR_ACTUAL_UNIT'].median()}).reset_index()"
   ]
  },
  {
   "cell_type": "code",
   "execution_count": 61,
   "metadata": {
    "collapsed": false
   },
   "outputs": [
    {
     "data": {
      "text/html": [
       "<div>\n",
       "<table border=\"1\" class=\"dataframe\">\n",
       "  <thead>\n",
       "    <tr style=\"text-align: right;\">\n",
       "      <th></th>\n",
       "      <th>BUILDING_CLASS_AT_TIME_OF_SALE</th>\n",
       "      <th>MEAN_UNIT</th>\n",
       "      <th>MEDIAN_UNIT</th>\n",
       "      <th>STD_UNIT</th>\n",
       "    </tr>\n",
       "  </thead>\n",
       "  <tbody>\n",
       "    <tr>\n",
       "      <th>0</th>\n",
       "      <td>A0</td>\n",
       "      <td>0.788567</td>\n",
       "      <td>0.75</td>\n",
       "      <td>0.429046</td>\n",
       "    </tr>\n",
       "    <tr>\n",
       "      <th>1</th>\n",
       "      <td>A1</td>\n",
       "      <td>0.771419</td>\n",
       "      <td>0.72</td>\n",
       "      <td>0.455452</td>\n",
       "    </tr>\n",
       "    <tr>\n",
       "      <th>2</th>\n",
       "      <td>A2</td>\n",
       "      <td>0.816765</td>\n",
       "      <td>0.78</td>\n",
       "      <td>0.436383</td>\n",
       "    </tr>\n",
       "    <tr>\n",
       "      <th>3</th>\n",
       "      <td>A3</td>\n",
       "      <td>0.805196</td>\n",
       "      <td>0.76</td>\n",
       "      <td>0.574744</td>\n",
       "    </tr>\n",
       "    <tr>\n",
       "      <th>4</th>\n",
       "      <td>A4</td>\n",
       "      <td>0.565963</td>\n",
       "      <td>0.46</td>\n",
       "      <td>0.520986</td>\n",
       "    </tr>\n",
       "    <tr>\n",
       "      <th>5</th>\n",
       "      <td>A5</td>\n",
       "      <td>0.742152</td>\n",
       "      <td>0.73</td>\n",
       "      <td>0.419364</td>\n",
       "    </tr>\n",
       "    <tr>\n",
       "      <th>6</th>\n",
       "      <td>A6</td>\n",
       "      <td>0.674802</td>\n",
       "      <td>0.61</td>\n",
       "      <td>0.370218</td>\n",
       "    </tr>\n",
       "    <tr>\n",
       "      <th>7</th>\n",
       "      <td>A7</td>\n",
       "      <td>0.722250</td>\n",
       "      <td>0.51</td>\n",
       "      <td>0.723111</td>\n",
       "    </tr>\n",
       "    <tr>\n",
       "      <th>8</th>\n",
       "      <td>A9</td>\n",
       "      <td>0.690243</td>\n",
       "      <td>0.65</td>\n",
       "      <td>0.452695</td>\n",
       "    </tr>\n",
       "    <tr>\n",
       "      <th>9</th>\n",
       "      <td>B1</td>\n",
       "      <td>0.753081</td>\n",
       "      <td>0.67</td>\n",
       "      <td>0.590836</td>\n",
       "    </tr>\n",
       "  </tbody>\n",
       "</table>\n",
       "</div>"
      ],
      "text/plain": [
       "  BUILDING_CLASS_AT_TIME_OF_SALE  MEAN_UNIT  MEDIAN_UNIT  STD_UNIT\n",
       "0                             A0   0.788567         0.75  0.429046\n",
       "1                             A1   0.771419         0.72  0.455452\n",
       "2                             A2   0.816765         0.78  0.436383\n",
       "3                             A3   0.805196         0.76  0.574744\n",
       "4                             A4   0.565963         0.46  0.520986\n",
       "5                             A5   0.742152         0.73  0.419364\n",
       "6                             A6   0.674802         0.61  0.370218\n",
       "7                             A7   0.722250         0.51  0.723111\n",
       "8                             A9   0.690243         0.65  0.452695\n",
       "9                             B1   0.753081         0.67  0.590836"
      ]
     },
     "execution_count": 61,
     "metadata": {},
     "output_type": "execute_result"
    }
   ],
   "source": [
    "buildings[:10]"
   ]
  },
  {
   "cell_type": "markdown",
   "metadata": {},
   "source": [
    "## ETR data per zipcode for visualization"
   ]
  },
  {
   "cell_type": "code",
   "execution_count": 62,
   "metadata": {
    "collapsed": false
   },
   "outputs": [],
   "source": [
    "ETR_UNIT_ZIP = pd.DataFrame({'STD_UNIT':finale.groupby('ZIP_CODE',axis=0)['ETR_ACTUAL_UNIT'].std(),\n",
    "                            'MEAN_UNIT':finale.groupby('ZIP_CODE',axis=0)['ETR_ACTUAL_UNIT'].mean(),\n",
    "                            'MEDIAN_UNIT':finale.groupby('ZIP_CODE',axis=0)['ETR_ACTUAL_UNIT'].median()}).reset_index()"
   ]
  },
  {
   "cell_type": "code",
   "execution_count": 63,
   "metadata": {
    "collapsed": false
   },
   "outputs": [],
   "source": [
    "def plot(df,color,title,column):\n",
    "    df = df.merge(zipcodes, on='ZIP_CODE',how='inner')\n",
    "    df_ = gpd.GeoDataFrame(df)\n",
    "    f, ax = plt.subplots(figsize=(12,8));\n",
    "    ax.set_axis_bgcolor(color);\n",
    "    plt.grid('off');\n",
    "    df_.plot(column=column, scheme='QUANTILES', k=7, alpha=0.6, colormap='YlOrRd', axes=ax, legend=True);\n",
    "    title = title + ' : ' + column.lower()\n",
    "    plt.title(title);"
   ]
  },
  {
   "cell_type": "code",
   "execution_count": null,
   "metadata": {
    "collapsed": false
   },
   "outputs": [],
   "source": [
    "plot(ETR_UNIT_ZIP,'#C9C1C1','ETR per taxable unit','MEDIAN_UNIT')"
   ]
  },
  {
   "cell_type": "code",
   "execution_count": null,
   "metadata": {
    "collapsed": false
   },
   "outputs": [],
   "source": [
    "ETR_BUILDING_ZIP = pd.DataFrame({'STD_BUILDING':finale.groupby('ZIP_CODE',axis=0)['EST_TAX_RATE_ACTUAL'].std(),\n",
    "                            'MEAN_BUILDING':finale.groupby('ZIP_CODE',axis=0)['EST_TAX_RATE_ACTUAL'].mean(),\n",
    "                'MEDIAN_BUILDING':finale.groupby('ZIP_CODE',axis=0)['EST_TAX_RATE_ACTUAL'].median()}).reset_index()"
   ]
  },
  {
   "cell_type": "code",
   "execution_count": null,
   "metadata": {
    "collapsed": false
   },
   "outputs": [],
   "source": [
    "ETR_BUILDING_ZIP[:4]"
   ]
  },
  {
   "cell_type": "code",
   "execution_count": null,
   "metadata": {
    "collapsed": false
   },
   "outputs": [],
   "source": [
    "plot(ETR_BUILDING_ZIP,'#C9C1C1','ETR per building','MEDIAN_BUILDING')"
   ]
  },
  {
   "cell_type": "markdown",
   "metadata": {},
   "source": [
    "### As a share of income"
   ]
  },
  {
   "cell_type": "code",
   "execution_count": null,
   "metadata": {
    "collapsed": false
   },
   "outputs": [],
   "source": [
    "# Read income data and merge data\n",
    "income = pd.read_csv(zip_.open(filename_income))\n",
    "income.drop(0,inplace=True)\n",
    "income.rename(columns={'GEO.id2':'ZIP_CODE','HC02_EST_VC02':'MEDIAN_INCOME'},inplace=True)\n",
    "income = income[['ZIP_CODE','MEDIAN_INCOME']]\n",
    "income['ZIP_CODE'] = income['ZIP_CODE'].astype(int)\n",
    "income['MEDIAN_INCOME'] = income['MEDIAN_INCOME'].apply(lambda x: x.replace(',','').strip('+').strip())\n",
    "income['MEDIAN_INCOME'] = np.where(income['MEDIAN_INCOME']=='-',np.nan,income['MEDIAN_INCOME'])\n",
    "income['MEDIAN_INCOME'] = np.round(income['MEDIAN_INCOME'].astype(float),1)\n",
    "data_with_income = income.merge(finale,how='inner',on='ZIP_CODE')"
   ]
  },
  {
   "cell_type": "code",
   "execution_count": null,
   "metadata": {
    "collapsed": false
   },
   "outputs": [],
   "source": [
    "#data_with_income['ETR_UNIT_SHARE_OF_INCOME'] = (((data_with_income['TAX_RATE_PER_UNIT']/100)*\n",
    "#                    data_with_income['MEDIAN_INCOME'])/data_with_income['MEDIAN_INCOME'])*100"
   ]
  },
  {
   "cell_type": "code",
   "execution_count": null,
   "metadata": {
    "collapsed": true
   },
   "outputs": [],
   "source": [
    "#ETR_SHARE_INCOME_ZIP = pd.DataFrame({'STD_SHARE_INCOME':data_with_income.groupby('ZIP_CODE',\n",
    "#                                                                    axis=0)['ETR_UNIT_SHARE_OF_INCOME'].std(),\n",
    "#'MEAN_SHARE_INCOME':data_with_income.groupby('ZIP_CODE',axis=0)['ETR_UNIT_SHARE_OF_INCOME'].mean(),\n",
    "#'MEDIAN_SHARE_INCOME':data_with_income.groupby('ZIP_CODE',axis=0)['ETR_UNIT_SHARE_OF_INCOME'].median()}).reset_index()\n",
    "#plot(ETR_SHARE_INCOME_ZIP,'#C9C1C1','ETR as Share of Median Income','MEDIAN_SHARE_INCOME')"
   ]
  },
  {
   "cell_type": "markdown",
   "metadata": {},
   "source": [
    "### Summaries by Zip Codes"
   ]
  },
  {
   "cell_type": "code",
   "execution_count": null,
   "metadata": {
    "collapsed": false
   },
   "outputs": [],
   "source": [
    "# Get statistics\n",
    "print final['SALE_PRICE'].groupby(final['TAX_CLASS_AT_TIME_OF_SALE']).mean()\n",
    "print final['SALE_PRICE'].groupby(final['TAX_CLASS_AT_TIME_OF_SALE']).std()\n",
    "\n",
    "# Get summaries\n",
    "tax_breakdown = pd.DataFrame({'COUNT':final.groupby(['TAX_CLASS_AT_TIME_OF_SALE',\n",
    "                                                     'PRICE_BINS'],axis=0).size()}).reset_index()\n",
    "total_breakdown = pd.DataFrame({'COUNT':final.groupby(['TAX_CLASS_AT_TIME_OF_SALE',\n",
    "                                                       'PRICE_BINS','ZIP_CODE'],axis=0).size()}).reset_index()\n",
    "total1 = tax_breakdown[tax_breakdown['TAX_CLASS_AT_TIME_OF_SALE']==1]['COUNT'].sum()\n",
    "total2 = tax_breakdown[tax_breakdown['TAX_CLASS_AT_TIME_OF_SALE']==2]['COUNT'].sum()\n",
    "tax_breakdown['SHARE'] = np.where(tax_breakdown['TAX_CLASS_AT_TIME_OF_SALE']==2,\n",
    "                                  tax_breakdown['COUNT']/total2, tax_breakdown['COUNT']/total1)\n",
    "del total1\n",
    "del total2\n",
    "zip_price_breakdown = pd.DataFrame({'COUNT':final.groupby(['ZIP_CODE',\n",
    "                                                         'PRICE_UNIT_BINS'],axis=0).size()}).reset_index()\n",
    "\n",
    "zip_tax_breakdown = pd.DataFrame({'COUNT':final.groupby(['ZIP_CODE',\n",
    "                                                         'TAX_CLASS_AT_TIME_OF_SALE'],axis=0).size()}).reset_index()\n",
    "total_per_zip = pd.DataFrame({'TOTAL_COUNT':final.groupby(['ZIP_CODE'],axis=0).size()}).reset_index()\n",
    "\n",
    "# Normalize each count by total sales count and maybe by population\n",
    "zip_tax_breakdown = zip_tax_breakdown.merge(total_per_zip,on='ZIP_CODE',how='inner')\n",
    "del total_per_zip"
   ]
  },
  {
   "cell_type": "code",
   "execution_count": null,
   "metadata": {
    "collapsed": true
   },
   "outputs": [],
   "source": [
    "# Add share of tax class two per zip code, merge it with tax data for tableu.\n",
    "zip_tax_breakdown['SHARE_CLASS_2'] = zip_tax_breakdown.COUNT/zip_tax_breakdown.TOTAL_COUNT\n",
    "tax_info = zip_tax_breakdown[zip_tax_breakdown['TAX_CLASS_AT_TIME_OF_SALE']==2]\n",
    "tax_info.drop(['TAX_CLASS_AT_TIME_OF_SALE','COUNT'],axis=1,inplace=True)"
   ]
  },
  {
   "cell_type": "markdown",
   "metadata": {},
   "source": [
    "#### Get price bin info per zip code, without tax class at time of sale"
   ]
  },
  {
   "cell_type": "code",
   "execution_count": null,
   "metadata": {
    "collapsed": false
   },
   "outputs": [],
   "source": [
    "zip_price_breakdown = tax_info.merge(zip_price_breakdown,on='ZIP_CODE',how='inner')\n",
    "zip_price_breakdown['SHARE_PRICE_UNIT_BINS'] = zip_price_breakdown.COUNT/zip_price_breakdown.TOTAL_COUNT\n",
    "zip_price_breakdown.drop('COUNT',axis=1,inplace=True)\n",
    "zip_info = pd.DataFrame(index=np.unique(zip_price_breakdown.ZIP_CODE.values))"
   ]
  },
  {
   "cell_type": "code",
   "execution_count": null,
   "metadata": {
    "collapsed": false
   },
   "outputs": [],
   "source": [
    "# Create new dataframe that stores the most prevalent price bin present in each zip code\n",
    "zip_info['PREVALENT_PRICE_UNIT_BINS_SHARE'] = np.zeros\n",
    "zip_info['PREVALENT_PRICE_UNIT_BINS'] = np.zeros\n",
    "for i in zip_info.index.values:\n",
    "    value = zip_price_breakdown.ix[\n",
    "        zip_price_breakdown[zip_price_breakdown['ZIP_CODE']==i]\n",
    "        ['SHARE_PRICE_UNIT_BINS'].idxmax()]['SHARE_PRICE_UNIT_BINS']\n",
    "    bin_info = zip_price_breakdown.ix[\n",
    "        zip_price_breakdown[zip_price_breakdown['ZIP_CODE']==i]\n",
    "        ['SHARE_PRICE_UNIT_BINS'].idxmax()]['PRICE_UNIT_BINS']\n",
    "    zip_info['PREVALENT_PRICE_UNIT_BINS_SHARE'].iloc[zip_info.index==i] = value\n",
    "    zip_info['PREVALENT_PRICE_UNIT_BINS'].iloc[zip_info.index==i] = bin_info\n",
    "    \n",
    "zip_info = zip_info.reset_index()\n",
    "zip_info.rename(columns={'index':'ZIP_CODE'},inplace=True)\n",
    "# Add info by merging\n",
    "zip_info = zip_info.merge(tax_info,on='ZIP_CODE',how='inner')\n",
    "zip_info = zip_info.merge(ETR_BUILDING_ZIP,on='ZIP_CODE',how='inner')\n",
    "zip_info = zip_info.merge(ETR_SHARE_INCOME_ZIP,on='ZIP_CODE',how='inner')\n",
    "zip_info = zip_info.merge(ETR_UNIT_ZIP,on='ZIP_CODE',how='inner')"
   ]
  },
  {
   "cell_type": "code",
   "execution_count": null,
   "metadata": {
    "collapsed": true
   },
   "outputs": [],
   "source": [
    "# Add geometry for visualization\n",
    "zip_info = zip_info.merge(zipcodes,on='ZIP_CODE',how='inner')"
   ]
  },
  {
   "cell_type": "code",
   "execution_count": null,
   "metadata": {
    "collapsed": false
   },
   "outputs": [],
   "source": [
    "zip_info.columns"
   ]
  },
  {
   "cell_type": "code",
   "execution_count": null,
   "metadata": {
    "collapsed": false
   },
   "outputs": [],
   "source": [
    "# Add quantiles for better visualization\n",
    "zip_info['MEDIAN_SHARE_INCOME_Q'] = pd.qcut(zip_info['MEDIAN_SHARE_INCOME'],5,labels=np.arange(1,6))\n",
    "zip_info['MEDIAN_BUILDING_Q'] = pd.qcut(zip_info['MEDIAN_BUILDING'],5,labels=np.arange(1,6))\n",
    "zip_info['MEDIAN_UNIT_Q'] = pd.qcut(zip_info['MEDIAN_UNIT'],5,labels=np.arange(1,6))"
   ]
  },
  {
   "cell_type": "code",
   "execution_count": null,
   "metadata": {
    "collapsed": false
   },
   "outputs": [],
   "source": [
    "zip_info.to_csv('zip_info.csv') # For visualization in Tableau"
   ]
  },
  {
   "cell_type": "markdown",
   "metadata": {},
   "source": [
    "#### Investigate ETR differences among classes"
   ]
  },
  {
   "cell_type": "code",
   "execution_count": null,
   "metadata": {
    "collapsed": false
   },
   "outputs": [],
   "source": [
    "tax = pd.DataFrame({'MEDIAN':data_with_income['TAX_RATE_PER_UNIT'].groupby(\n",
    "                                                    data_with_income['TAX_CLASS_AT_TIME_OF_SALE'],axis=0).median()}).reset_index()"
   ]
  },
  {
   "cell_type": "code",
   "execution_count": null,
   "metadata": {
    "collapsed": false
   },
   "outputs": [],
   "source": [
    "tax # Do anova to see whether means are significantly different"
   ]
  },
  {
   "cell_type": "markdown",
   "metadata": {},
   "source": [
    "## Tableau\n",
    "https://public.tableau.com/shared/H85S34NQC?:display_count=yes"
   ]
  },
  {
   "cell_type": "markdown",
   "metadata": {},
   "source": [
    "#### TAX 1 and TAX 2"
   ]
  },
  {
   "cell_type": "code",
   "execution_count": null,
   "metadata": {
    "collapsed": false
   },
   "outputs": [],
   "source": [
    "tax1 = finale[finale['TAX_CLASS_AT_TIME_OF_SALE']==1]"
   ]
  },
  {
   "cell_type": "code",
   "execution_count": null,
   "metadata": {
    "collapsed": false
   },
   "outputs": [],
   "source": [
    "# Tax class 1\n",
    "tax_class_1 = pd.DataFrame({'STD_BUILDING':tax1.groupby('ZIP_CODE',axis=0)['EST_TAX_RATE_ACTUAL'].std(),\n",
    "                            'MEAN_BUILDING':tax1.groupby('ZIP_CODE',axis=0)['EST_TAX_RATE_ACTUAL'].mean(),\n",
    "                'MEDIAN_BUILDING':tax1.groupby('ZIP_CODE',axis=0)['EST_TAX_RATE_ACTUAL'].median()}).reset_index()\n",
    "plot(tax_class_1,'#C9C1C1','ETR for tax class 1','MEDIAN_BUILDING')"
   ]
  },
  {
   "cell_type": "code",
   "execution_count": null,
   "metadata": {
    "collapsed": true
   },
   "outputs": [],
   "source": [
    "tax2 = finale[finale['TAX_CLASS_AT_TIME_OF_SALE']==2]"
   ]
  },
  {
   "cell_type": "code",
   "execution_count": null,
   "metadata": {
    "collapsed": false
   },
   "outputs": [],
   "source": [
    "# Tax class 2\n",
    "tax_class_1 = pd.DataFrame({'STD_BUILDING':tax2.groupby('ZIP_CODE',axis=0)['EST_TAX_RATE_ACTUAL'].std(),\n",
    "                            'MEAN_BUILDING':tax2.groupby('ZIP_CODE',axis=0)['EST_TAX_RATE_ACTUAL'].mean(),\n",
    "                'MEDIAN_BUILDING':tax2.groupby('ZIP_CODE',axis=0)['EST_TAX_RATE_ACTUAL'].median()}).reset_index()\n",
    "plot(tax_class_1,'#C9C1C1','ETR for tax class 2','MEDIAN_BUILDING')"
   ]
  },
  {
   "cell_type": "code",
   "execution_count": null,
   "metadata": {
    "collapsed": false
   },
   "outputs": [],
   "source": [
    "# Alternate measure of ETR per Median Income\n",
    "#data_with_income['ETR_UNIT_INCOME'] = ((data_with_income['TAX_RATE_PER_UNIT']*10000000)\n",
    "#                    /data_with_income['MEDIAN_INCOME'])"
   ]
  },
  {
   "cell_type": "code",
   "execution_count": null,
   "metadata": {
    "collapsed": false
   },
   "outputs": [],
   "source": [
    "finale.columns"
   ]
  },
  {
   "cell_type": "code",
   "execution_count": null,
   "metadata": {
    "collapsed": true
   },
   "outputs": [],
   "source": [
    "test = pd.DataFrame({'STD_BUILDING':finale.groupby('PRICE_UNIT_BINS',axis=0)['EST_TAX_RATE_ACTUAL'].std(),\n",
    "                'MEAN_BUILDING':finale.groupby('PRICE_UNIT_BINS',axis=0)['EST_TAX_RATE_ACTUAL'].mean(),\n",
    "        'MEDIAN_BUILDING':finale.groupby('PRICE_UNIT_BINS',axis=0)['EST_TAX_RATE_ACTUAL'].median()}).reset_index()"
   ]
  },
  {
   "cell_type": "code",
   "execution_count": null,
   "metadata": {
    "collapsed": false
   },
   "outputs": [],
   "source": [
    "finale['UNIT_BINS_TEST'] = pd.qcut(finale['SALE_PRICE_UNIT'],10,labels=np.arange(1,11))"
   ]
  },
  {
   "cell_type": "code",
   "execution_count": null,
   "metadata": {
    "collapsed": false
   },
   "outputs": [],
   "source": [
    "test = pd.DataFrame({'STD_BUILDING':finale.groupby('UNIT_BINS_TEST',axis=0)['EST_TAX_RATE_ACTUAL'].std(),\n",
    "                'MEAN_BUILDING':finale.groupby('UNIT_BINS_TEST',axis=0)['EST_TAX_RATE_ACTUAL'].mean(),\n",
    "        'MEDIAN_BUILDING':finale.groupby('UNIT_BINS_TEST',axis=0)['EST_TAX_RATE_ACTUAL'].median()}).reset_index()"
   ]
  }
 ],
 "metadata": {
  "kernelspec": {
   "display_name": "Python 2",
   "language": "python",
   "name": "python2"
  },
  "language_info": {
   "codemirror_mode": {
    "name": "ipython",
    "version": 2
   },
   "file_extension": ".py",
   "mimetype": "text/x-python",
   "name": "python",
   "nbconvert_exporter": "python",
   "pygments_lexer": "ipython2",
   "version": "2.7.11"
  }
 },
 "nbformat": 4,
 "nbformat_minor": 0
}
