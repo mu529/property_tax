{
 "cells": [
  {
   "cell_type": "code",
   "execution_count": 1,
   "metadata": {
    "collapsed": false
   },
   "outputs": [
    {
     "name": "stdout",
     "output_type": "stream",
     "text": [
      "Populating the interactive namespace from numpy and matplotlib\n"
     ]
    },
    {
     "name": "stderr",
     "output_type": "stream",
     "text": [
      "WARNING: pylab import has clobbered these variables: ['plt']\n",
      "`%matplotlib` prevents importing * from pylab and numpy\n"
     ]
    }
   ],
   "source": [
    "import pandas as pd\n",
    "import warnings\n",
    "warnings.filterwarnings('ignore')\n",
    "import seaborn as sns\n",
    "import pylab as plt\n",
    "%pylab inline\n",
    "import numpy as np\n",
    "import geopandas as gpd"
   ]
  },
  {
   "cell_type": "code",
   "execution_count": 2,
   "metadata": {
    "collapsed": true
   },
   "outputs": [],
   "source": [
    "# Create empty dataframe to store values\n",
    "sales_detail = pd.DataFrame()\n",
    "\n",
    "# urls to the data\n",
    "list_sales_detail = ['http://www1.nyc.gov/assets/finance/downloads/pdf/rolling_sales/annualized-sales/2014/2014_manhattan.xls',\n",
    "                    'http://www1.nyc.gov/assets/finance/downloads/pdf/rolling_sales/annualized-sales/2014/2014_bronx.xls',\n",
    "                    'http://www1.nyc.gov/assets/finance/downloads/pdf/rolling_sales/annualized-sales/2014/2014_brooklyn.xls',\n",
    "                    'http://www1.nyc.gov/assets/finance/downloads/pdf/rolling_sales/annualized-sales/2014/2014_queens.xls',\n",
    "                    'http://www1.nyc.gov/assets/finance/downloads/pdf/rolling_sales/annualized-sales/2014/2014_statenisland.xls']\n",
    "older_list =       ['http://www1.nyc.gov/assets/finance/downloads/pdf/rolling_sales/annualized-sales/2013/2013_manhattan.xls',\n",
    "                    'http://www1.nyc.gov/assets/finance/downloads/pdf/rolling_sales/annualized-sales/2013/2013_bronx.xls',\n",
    "                    'http://www1.nyc.gov/assets/finance/downloads/pdf/rolling_sales/annualized-sales/2013/2013_brooklyn.xls',\n",
    "                    'http://www1.nyc.gov/assets/finance/downloads/pdf/rolling_sales/annualized-sales/2013/2013_queens.xls',\n",
    "                    'http://www1.nyc.gov/assets/finance/downloads/pdf/rolling_sales/annualized-sales/2013/2013_statenisland.xls',\n",
    "                    'http://www1.nyc.gov/assets/finance/downloads/pdf/rolling_sales/annualized-sales/2012/2012_manhattan.xls',\n",
    "                    'http://www1.nyc.gov/assets/finance/downloads/pdf/rolling_sales/annualized-sales/2012/2012_bronx.xls',\n",
    "                    'http://www1.nyc.gov/assets/finance/downloads/pdf/rolling_sales/annualized-sales/2012/2012_brooklyn.xls',\n",
    "                    'http://www1.nyc.gov/assets/finance/downloads/pdf/rolling_sales/annualized-sales/2012/2012_queens.xls',\n",
    "                    'http://www1.nyc.gov/assets/finance/downloads/pdf/rolling_sales/annualized-sales/2012/2012_statenisland.xls',\n",
    "                    'http://www1.nyc.gov/assets/finance/downloads/pdf/rolling_sales/annualized-sales/2011/2011_manhattan.xls',\n",
    "                    'http://www1.nyc.gov/assets/finance/downloads/pdf/rolling_sales/annualized-sales/2011/2011_bronx.xls',\n",
    "                    'http://www1.nyc.gov/assets/finance/downloads/pdf/rolling_sales/annualized-sales/2011/2011_brooklyn.xls',\n",
    "                    'http://www1.nyc.gov/assets/finance/downloads/pdf/rolling_sales/annualized-sales/2011/2011_queens.xls',\n",
    "                    'http://www1.nyc.gov/assets/finance/downloads/pdf/rolling_sales/annualized-sales/2011/2011_statenisland.xls']\n",
    "even_older_list = ['http://www1.nyc.gov/assets/finance/downloads/pdf/rolling_sales/annualized-sales/2010/2010_manhattan.xls',\n",
    "             'http://www1.nyc.gov/assets/finance/downloads/pdf/rolling_sales/annualized-sales/2010/2010_bronx.xls',\n",
    "             'http://www1.nyc.gov/assets/finance/downloads/pdf/rolling_sales/annualized-sales/2010/2010_brooklyn.xls',\n",
    "             'http://www1.nyc.gov/assets/finance/downloads/pdf/rolling_sales/annualized-sales/2010/2010_queens.xls',\n",
    "             'http://www1.nyc.gov/assets/finance/downloads/pdf/rolling_sales/annualized-sales/2010/2010_statenisland.xls',\n",
    "             'http://www1.nyc.gov/assets/finance/downloads/pdf/rolling_sales/annualized-sales/2009_manhattan.xls',\n",
    "             'http://www1.nyc.gov/assets/finance/downloads/pdf/rolling_sales/annualized-sales/2009_bronx.xls',\n",
    "             'http://www1.nyc.gov/assets/finance/downloads/pdf/rolling_sales/annualized-sales/2009_brooklyn.xls',\n",
    "             'http://www1.nyc.gov/assets/finance/downloads/pdf/rolling_sales/annualized-sales/2009_queens.xls',\n",
    "             'http://www1.nyc.gov/assets/finance/downloads/pdf/rolling_sales/annualized-sales/2009_statenisland.xls',\n",
    "             'http://www1.nyc.gov/assets/finance/downloads/pdf/09pdf/rolling_sales/sales_2008_manhattan.xls',\n",
    "             'http://www1.nyc.gov/assets/finance/downloads/pdf/09pdf/rolling_sales/sales_2008_bronx.xls',\n",
    "             'http://www1.nyc.gov/assets/finance/downloads/pdf/09pdf/rolling_sales/sales_2008_brooklyn.xls',\n",
    "             'http://www1.nyc.gov/assets/finance/downloads/pdf/09pdf/rolling_sales/sales_2008_queens.xls',\n",
    "             'http://www1.nyc.gov/assets/finance/downloads/pdf/09pdf/rolling_sales/sales_2008_statenisland.xls']"
   ]
  },
  {
   "cell_type": "code",
   "execution_count": 3,
   "metadata": {
    "collapsed": false
   },
   "outputs": [],
   "source": [
    "for url in list_sales_detail:\n",
    "    xl_data = pd.read_excel(url, header=4)\n",
    "    for c in xl_data.columns:\n",
    "        c.rstrip('\\n')\n",
    "        xl_data.rename(columns={c: c.rstrip('\\n')}, inplace=True)\n",
    "    sales_detail = sales_detail.append(xl_data)\n",
    "sales_detail.columns = map(lambda x: x.replace(' ','_'), list(sales_detail.columns))"
   ]
  },
  {
   "cell_type": "code",
   "execution_count": 4,
   "metadata": {
    "collapsed": false
   },
   "outputs": [],
   "source": [
    "# sales_detail.info()"
   ]
  },
  {
   "cell_type": "code",
   "execution_count": 5,
   "metadata": {
    "collapsed": false
   },
   "outputs": [
    {
     "name": "stdout",
     "output_type": "stream",
     "text": [
      "<class 'pandas.core.frame.DataFrame'>\n",
      "Int64Index: 53494 entries, 2 to 7435\n",
      "Data columns (total 21 columns):\n",
      "BOROUGH                           53494 non-null int64\n",
      "NEIGHBORHOOD                      53494 non-null object\n",
      "BUILDING_CLASS_CATEGORY           53494 non-null object\n",
      "TAX_CLASS_AT_PRESENT              53494 non-null object\n",
      "BLOCK                             53494 non-null int64\n",
      "LOT                               53494 non-null int64\n",
      "EASE-MENT                         53494 non-null object\n",
      "BUILDING_CLASS_AT_PRESENT         53494 non-null object\n",
      "ADDRESS                           53494 non-null object\n",
      "APARTMENT_NUMBER                  53494 non-null object\n",
      "ZIP_CODE                          53494 non-null int64\n",
      "RESIDENTIAL_UNITS                 53494 non-null int64\n",
      "COMMERCIAL_UNITS                  53494 non-null int64\n",
      "TOTAL_UNITS                       53494 non-null int64\n",
      "LAND_SQUARE_FEET                  53494 non-null int64\n",
      "GROSS_SQUARE_FEET                 53494 non-null int64\n",
      "YEAR_BUILT                        53494 non-null int64\n",
      "TAX_CLASS_AT_TIME_OF_SALE         53494 non-null int64\n",
      "BUILDING_CLASS_AT_TIME_OF_SALE    53494 non-null object\n",
      "SALE_PRICE                        53494 non-null int64\n",
      "SALE_DATE                         53494 non-null datetime64[ns]\n",
      "dtypes: datetime64[ns](1), int64(12), object(8)\n",
      "memory usage: 9.0+ MB\n"
     ]
    }
   ],
   "source": [
    "sales_data_subset = sales_detail[(sales_detail.TAX_CLASS_AT_TIME_OF_SALE<3)&(sales_detail.SALE_PRICE>100000)&\n",
    "                                 (sales_detail.BUILDING_CLASS_CATEGORY != '05  TAX CLASS 1 VACANT LAND')]\n",
    "sales_data_subset.info()"
   ]
  },
  {
   "cell_type": "code",
   "execution_count": 6,
   "metadata": {
    "collapsed": true
   },
   "outputs": [],
   "source": [
    "# Approximate the value of each unit within the sold building\n",
    "# If there are no residential units in the building, the sale_price_unit is just the sale_price\n",
    "sales_data_subset['SALE_PRICE_UNIT'] = np.where(sales_data_subset['RESIDENTIAL_UNITS']==0,sales_data_subset.SALE_PRICE, (sales_data_subset.SALE_PRICE/sales_data_subset.RESIDENTIAL_UNITS))"
   ]
  },
  {
   "cell_type": "code",
   "execution_count": 7,
   "metadata": {
    "collapsed": true
   },
   "outputs": [],
   "source": [
    "# Round and convert to integer\n",
    "sales_data_subset['SALE_PRICE_UNIT'] = np.around(sales_data_subset['SALE_PRICE_UNIT'],decimals=0)\n",
    "sales_data_subset['SALE_PRICE_UNIT'] = sales_data_subset['SALE_PRICE_UNIT'].astype(int)"
   ]
  },
  {
   "cell_type": "code",
   "execution_count": 8,
   "metadata": {
    "collapsed": false
   },
   "outputs": [],
   "source": [
    "# Create BBL\n",
    "sales_data_subset[['BOROUGH','BLOCK','LOT']] = sales_data_subset[['BOROUGH','BLOCK','LOT']].astype(str)\n",
    "sales_data_subset['BBL'] = sales_data_subset.BOROUGH + sales_data_subset.BLOCK + sales_data_subset.LOT"
   ]
  },
  {
   "cell_type": "code",
   "execution_count": 9,
   "metadata": {
    "collapsed": false
   },
   "outputs": [
    {
     "data": {
      "text/plain": [
       "count    5.349400e+04\n",
       "mean     7.926047e+05\n",
       "std      2.132959e+06\n",
       "min      2.580000e+02\n",
       "25%      2.400000e+05\n",
       "50%      4.058780e+05\n",
       "75%      7.300000e+05\n",
       "max      1.732986e+08\n",
       "Name: SALE_PRICE_UNIT, dtype: float64"
      ]
     },
     "execution_count": 9,
     "metadata": {},
     "output_type": "execute_result"
    }
   ],
   "source": [
    "sales_data_subset.SALE_PRICE_UNIT.describe()"
   ]
  },
  {
   "cell_type": "code",
   "execution_count": 10,
   "metadata": {
    "collapsed": true
   },
   "outputs": [],
   "source": [
    "bins = [0,200000,400000,600000,800000,1000000,1500000,3000000,6000000,10000000,max(sales_data_subset.SALE_PRICE_UNIT)]\n",
    "x_ticks = ['$(0-200k]','$(200k-400k]','$(400k-600k]','$(600k-800k]','$(800k-1m]','$(1m-1.5m]','$(1.5m-3m]',\n",
    "          '$(3m-6m]','$(6m-10m]','$(10m-~170.5m]']\n",
    "labels = np.arange(1,11,1)"
   ]
  },
  {
   "cell_type": "code",
   "execution_count": 11,
   "metadata": {
    "collapsed": false
   },
   "outputs": [],
   "source": [
    "sales_data_subset['PRICE_BINS'] = pd.cut(sales_data_subset.SALE_PRICE,bins,labels=labels)"
   ]
  },
  {
   "cell_type": "code",
   "execution_count": 12,
   "metadata": {
    "collapsed": true
   },
   "outputs": [],
   "source": [
    "count = {}\n",
    "for i in sales_data_subset['PRICE_BINS']:\n",
    "    count[i] = count.get(i, 0) + 1   "
   ]
  },
  {
   "cell_type": "code",
   "execution_count": 13,
   "metadata": {
    "collapsed": false
   },
   "outputs": [
    {
     "data": {
      "text/plain": [
       "array([0, 1, 2, 3, 4, 5, 6, 7, 8, 9])"
      ]
     },
     "execution_count": 13,
     "metadata": {},
     "output_type": "execute_result"
    },
    {
     "data": {
      "image/png": "[encoded data removed]",
      "text/plain": [
       "<matplotlib.figure.Figure at 0x10fa24290>"
      ]
     },
     "metadata": {},
     "output_type": "display_data"
    }
   ],
   "source": [
    "fig, ax = plt.subplots(figsize=(12,8))\n",
    "df = pd.DataFrame.from_dict(count, 'index')\n",
    "sns.barplot(x=df.index,y=df[0],color='c',alpha=0.6)\n",
    "plt.title('Histogram of Sales in all of New York City from 2008 to 2014')\n",
    "plt.ylabel('Frequency')\n",
    "ax.xaxis.get_majorticklocs()\n",
    "#ax.xaxis.set_ticks(x_ticks)\n",
    "#plt.xticks([i for i in labels],[str(w) for w in x_ticks]) "
   ]
  },
  {
   "cell_type": "code",
   "execution_count": 14,
   "metadata": {
    "collapsed": false
   },
   "outputs": [
    {
     "name": "stdout",
     "output_type": "stream",
     "text": [
      "TAX_CLASS_AT_TIME_OF_SALE\n",
      "1     664968\n",
      "2    1703576\n",
      "Name: SALE_PRICE, dtype: int64\n",
      "TAX_CLASS_AT_TIME_OF_SALE\n",
      "1     1058144.814984\n",
      "2    21206854.854726\n",
      "Name: SALE_PRICE, dtype: float64\n"
     ]
    }
   ],
   "source": [
    "print sales_data_subset['SALE_PRICE'].groupby(sales_data_subset['TAX_CLASS_AT_TIME_OF_SALE']).mean()\n",
    "print sales_data_subset['SALE_PRICE'].groupby(sales_data_subset['TAX_CLASS_AT_TIME_OF_SALE']).std()"
   ]
  },
  {
   "cell_type": "code",
   "execution_count": 15,
   "metadata": {
    "collapsed": true
   },
   "outputs": [],
   "source": [
    "import requests, zipfile, StringIO\n",
    "url_zip = 'https://www.dropbox.com/sh/nlbj8whi5izbihr/AAD8CvKIYMnVpKUcBDazRe22a?dl=1'\n",
    "r = requests.get(url_zip)\n",
    "zip_ = zipfile.ZipFile(StringIO.StringIO(r.content))"
   ]
  },
  {
   "cell_type": "code",
   "execution_count": 16,
   "metadata": {
    "collapsed": false
   },
   "outputs": [],
   "source": [
    "filename = 'ZIP_spatial/ZIP_CODE_040114.shp'\n",
    "zipcodes = gpd.GeoDataFrame.from_file(filename)#zip_.open(filename)) # Does not work...\n",
    "zipcodes = zipcodes[['ZIPCODE','geometry']]\n",
    "zipcodes.ZIPCODE = zipcodes.ZIPCODE.astype(int)\n",
    "zipcodes.rename(columns={'ZIPCODE':'ZIP_CODE'},inplace=True)\n",
    "final = sales_data_subset.merge(zipcodes,on='ZIP_CODE',how='inner')\n",
    "final = gpd.GeoDataFrame(final)"
   ]
  },
  {
   "cell_type": "code",
   "execution_count": 65,
   "metadata": {
    "collapsed": false
   },
   "outputs": [],
   "source": [
    "tax_breakdown = pd.DataFrame({'COUNT':final.groupby(['TAX_CLASS_AT_TIME_OF_SALE','PRICE_BINS'],axis=0).size()}).reset_index()\n",
    "total_breakdown = pd.DataFrame({'COUNT':final.groupby(['TAX_CLASS_AT_TIME_OF_SALE','PRICE_BINS','ZIP_CODE'],axis=0).size()}).reset_index()"
   ]
  },
  {
   "cell_type": "code",
   "execution_count": 63,
   "metadata": {
    "collapsed": false
   },
   "outputs": [],
   "source": [
    "total1 = tax_breakdown[tax_breakdown['TAX_CLASS_AT_TIME_OF_SALE']==1]['COUNT'].sum()\n",
    "total2 = tax_breakdown[tax_breakdown['TAX_CLASS_AT_TIME_OF_SALE']==2]['COUNT'].sum()\n",
    "tax_breakdown['SHARE'] = np.where(tax_breakdown['TAX_CLASS_AT_TIME_OF_SALE']==2,tax_breakdown['COUNT']/total2, tax_breakdown['COUNT']/total1)\n",
    "del total1\n",
    "del total2"
   ]
  },
  {
   "cell_type": "code",
   "execution_count": 70,
   "metadata": {
    "collapsed": false
   },
   "outputs": [],
   "source": [
    "zip_tax_breakdown = pd.DataFrame({'COUNT':final.groupby(['ZIP_CODE','TAX_CLASS_AT_TIME_OF_SALE'],axis=0).size()}).reset_index()"
   ]
  },
  {
   "cell_type": "code",
   "execution_count": 72,
   "metadata": {
    "collapsed": false
   },
   "outputs": [
    {
     "data": {
      "text/html": [
       "<div>\n",
       "<table border=\"1\" class=\"dataframe\">\n",
       "  <thead>\n",
       "    <tr style=\"text-align: right;\">\n",
       "      <th></th>\n",
       "      <th>ZIP_CODE</th>\n",
       "      <th>TAX_CLASS_AT_TIME_OF_SALE</th>\n",
       "      <th>COUNT</th>\n",
       "    </tr>\n",
       "  </thead>\n",
       "  <tbody>\n",
       "    <tr>\n",
       "      <th>0</th>\n",
       "      <td>10001</td>\n",
       "      <td>1</td>\n",
       "      <td>2</td>\n",
       "    </tr>\n",
       "    <tr>\n",
       "      <th>1</th>\n",
       "      <td>10001</td>\n",
       "      <td>2</td>\n",
       "      <td>173</td>\n",
       "    </tr>\n",
       "    <tr>\n",
       "      <th>2</th>\n",
       "      <td>10002</td>\n",
       "      <td>1</td>\n",
       "      <td>1</td>\n",
       "    </tr>\n",
       "    <tr>\n",
       "      <th>3</th>\n",
       "      <td>10002</td>\n",
       "      <td>2</td>\n",
       "      <td>295</td>\n",
       "    </tr>\n",
       "    <tr>\n",
       "      <th>4</th>\n",
       "      <td>10003</td>\n",
       "      <td>1</td>\n",
       "      <td>5</td>\n",
       "    </tr>\n",
       "    <tr>\n",
       "      <th>5</th>\n",
       "      <td>10003</td>\n",
       "      <td>2</td>\n",
       "      <td>800</td>\n",
       "    </tr>\n",
       "    <tr>\n",
       "      <th>6</th>\n",
       "      <td>10004</td>\n",
       "      <td>2</td>\n",
       "      <td>428</td>\n",
       "    </tr>\n",
       "    <tr>\n",
       "      <th>7</th>\n",
       "      <td>10005</td>\n",
       "      <td>2</td>\n",
       "      <td>154</td>\n",
       "    </tr>\n",
       "    <tr>\n",
       "      <th>8</th>\n",
       "      <td>10006</td>\n",
       "      <td>2</td>\n",
       "      <td>111</td>\n",
       "    </tr>\n",
       "    <tr>\n",
       "      <th>9</th>\n",
       "      <td>10007</td>\n",
       "      <td>2</td>\n",
       "      <td>104</td>\n",
       "    </tr>\n",
       "  </tbody>\n",
       "</table>\n",
       "</div>"
      ],
      "text/plain": [
       "   ZIP_CODE  TAX_CLASS_AT_TIME_OF_SALE  COUNT\n",
       "0     10001                          1      2\n",
       "1     10001                          2    173\n",
       "2     10002                          1      1\n",
       "3     10002                          2    295\n",
       "4     10003                          1      5\n",
       "5     10003                          2    800\n",
       "6     10004                          2    428\n",
       "7     10005                          2    154\n",
       "8     10006                          2    111\n",
       "9     10007                          2    104"
      ]
     },
     "execution_count": 72,
     "metadata": {},
     "output_type": "execute_result"
    }
   ],
   "source": [
    "# Normalize each count by total sales count and maybe by population\n",
    "zip_tax_breakdown[:10]"
   ]
  },
  {
   "cell_type": "code",
   "execution_count": null,
   "metadata": {
    "collapsed": true
   },
   "outputs": [],
   "source": []
  }
 ],
 "metadata": {
  "kernelspec": {
   "display_name": "Python 2",
   "language": "python",
   "name": "python2"
  },
  "language_info": {
   "codemirror_mode": {
    "name": "ipython",
    "version": 2
   },
   "file_extension": ".py",
   "mimetype": "text/x-python",
   "name": "python",
   "nbconvert_exporter": "python",
   "pygments_lexer": "ipython2",
   "version": "2.7.11"
  }
 },
 "nbformat": 4,
 "nbformat_minor": 0
}
