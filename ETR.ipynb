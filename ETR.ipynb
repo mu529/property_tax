{
 "cells": [
  {
   "cell_type": "code",
   "execution_count": 1,
   "metadata": {
    "collapsed": false
   },
   "outputs": [
    {
     "name": "stdout",
     "output_type": "stream",
     "text": [
      "Populating the interactive namespace from numpy and matplotlib\n"
     ]
    },
    {
     "name": "stderr",
     "output_type": "stream",
     "text": [
      "WARNING: pylab import has clobbered these variables: ['plt']\n",
      "`%matplotlib` prevents importing * from pylab and numpy\n"
     ]
    }
   ],
   "source": [
    "import pandas as pd\n",
    "import warnings\n",
    "warnings.filterwarnings('ignore')\n",
    "import seaborn as sns\n",
    "import pylab as plt\n",
    "%pylab inline\n",
    "import numpy as np\n",
    "import geopandas as gpd\n",
    "import requests, zipfile, StringIO\n",
    "import re"
   ]
  },
  {
   "cell_type": "code",
   "execution_count": 270,
   "metadata": {
    "collapsed": true
   },
   "outputs": [],
   "source": [
    "# Read in additional files\n",
    "url_zip = 'https://www.dropbox.com/sh/nlbj8whi5izbihr/AAD8CvKIYMnVpKUcBDazRe22a?dl=1'\n",
    "r = requests.get(url_zip)\n",
    "zip_ = zipfile.ZipFile(StringIO.StringIO(r.content))\n",
    "filename_zip = 'ZIP_spatial/ZIP_CODE_040114.shp'\n",
    "filename_tax = 'Tax_rates.csv'\n",
    "filename_assessment = 'dof_assessments_merged.csv'\n",
    "filename_files = 'Files.csv'"
   ]
  },
  {
   "cell_type": "code",
   "execution_count": 271,
   "metadata": {
    "collapsed": true
   },
   "outputs": [],
   "source": [
    "# urls to the data\n",
    "files = pd.read_csv(zip_.open(filename_files))\n",
    "files.head(2)"
   ]
  },
  {
   "cell_type": "code",
   "execution_count": 287,
   "metadata": {
    "collapsed": false
   },
   "outputs": [],
   "source": [
    "# Create three lists\n",
    "list_sales_detail = list(files['Filenames_Links'][:5])\n",
    "older_list = list(files['Filenames_Links'][5:20])\n",
    "even_older_list = list(files['Filenames_Links'][20:])"
   ]
  },
  {
   "cell_type": "code",
   "execution_count": 11,
   "metadata": {
    "collapsed": false
   },
   "outputs": [],
   "source": [
    "# Read in zip code shapes for plotting\n",
    "zipcodes = gpd.GeoDataFrame.from_file(filename_zip)#zip_.open(filename)) # Does not work...\n",
    "zipcodes = zipcodes[['ZIPCODE','geometry']]\n",
    "zipcodes.ZIPCODE = zipcodes.ZIPCODE.astype(int)\n",
    "zipcodes.rename(columns={'ZIPCODE':'ZIP_CODE'},inplace=True)"
   ]
  },
  {
   "cell_type": "code",
   "execution_count": 120,
   "metadata": {
    "collapsed": true
   },
   "outputs": [],
   "source": [
    "# Add tax rate information\n",
    "tax = pd.read_csv(zip_.open(filename_tax))\n",
    "tax = tax.convert_objects(convert_numeric=True)\n",
    "filename_assessment = 'dof_assessments_merged.csv'"
   ]
  },
  {
   "cell_type": "code",
   "execution_count": 18,
   "metadata": {
    "collapsed": false
   },
   "outputs": [],
   "source": [
    "# Reading newer data\n",
    "# Create empty dataframe to store values\n",
    "sales_detail_recent = pd.DataFrame()\n",
    "for url in list_sales_detail:\n",
    "    xl_data = pd.read_excel(url, header=4)\n",
    "    xl_data.columns = xl_data.columns.map(lambda x: x.rstrip('\\n').replace(' ','_'))\n",
    "    sales_detail_recent = sales_detail_recent.append(xl_data)"
   ]
  },
  {
   "cell_type": "code",
   "execution_count": 19,
   "metadata": {
    "collapsed": true
   },
   "outputs": [],
   "source": [
    "# Reading older data\n",
    "sales_detail_old = pd.DataFrame()\n",
    "for url in older_list:\n",
    "    xl_data = pd.read_excel(url, header=4)\n",
    "    xl_data.columns = xl_data.columns.map(lambda x: x.rstrip('\\n').replace(' ','_'))\n",
    "    sales_detail_old = sales_detail_old.append(xl_data)"
   ]
  },
  {
   "cell_type": "code",
   "execution_count": 20,
   "metadata": {
    "collapsed": true
   },
   "outputs": [],
   "source": [
    "# Reading even older data\n",
    "sales_detail_older = pd.DataFrame()\n",
    "for url in even_older_list:\n",
    "    xl_data = pd.read_excel(url, header=3)\n",
    "    xl_data.columns = xl_data.columns.map(lambda x: x.rstrip('\\n').replace(' ','_'))\n",
    "    sales_detail_older = sales_detail_older.append(xl_data)"
   ]
  },
  {
   "cell_type": "code",
   "execution_count": 25,
   "metadata": {
    "collapsed": false
   },
   "outputs": [],
   "source": [
    "# Create a subset\n",
    "def subset(df):\n",
    "    df = df[(df.TAX_CLASS_AT_TIME_OF_SALE<3)&(df.SALE_PRICE>100000)&\n",
    "                                     (df.BUILDING_CLASS_CATEGORY != '05  TAX CLASS 1 VACANT LAND')]\n",
    "    return df"
   ]
  },
  {
   "cell_type": "code",
   "execution_count": 26,
   "metadata": {
    "collapsed": false
   },
   "outputs": [],
   "source": [
    "# Prepare datasets before joining\n",
    "recent_data = subset(sales_detail_recent)\n",
    "old_data = subset(sales_detail_old)\n",
    "older_data = subset(sales_detail_older)"
   ]
  },
  {
   "cell_type": "code",
   "execution_count": 253,
   "metadata": {
    "collapsed": false
   },
   "outputs": [],
   "source": [
    "data = recent_data.append([old_data,older_data])"
   ]
  },
  {
   "cell_type": "code",
   "execution_count": 216,
   "metadata": {
    "collapsed": true
   },
   "outputs": [],
   "source": [
    "def nestCode(b, block, lot):\n",
    "    return ''.join((b,  '0'*(5-len(block)),  block,  '0'*(4 - len(lot)),  lot))"
   ]
  },
  {
   "cell_type": "code",
   "execution_count": 217,
   "metadata": {
    "collapsed": false
   },
   "outputs": [],
   "source": [
    "# Approximate the value of each unit within the sold building\n",
    "# If there are no residential units in the building, the sale_price_unit is just the sale_price\n",
    "data['SALE_PRICE_UNIT'] = np.where(data['RESIDENTIAL_UNITS']==0,data.SALE_PRICE, (data.SALE_PRICE/data.RESIDENTIAL_UNITS))\n",
    "data['SALE_YEAR'] = data.SALE_DATE.map(lambda x: x.year)\n",
    "\n",
    "# Round and convert to integer\n",
    "data['SALE_PRICE_UNIT'] = np.around(data['SALE_PRICE_UNIT'],decimals=0)\n",
    "data['SALE_PRICE_UNIT'] = data['SALE_PRICE_UNIT'].astype(int)\n",
    "\n",
    "# Create BBL\n",
    "data[['BOROUGH','BLOCK','LOT']] = data[['BOROUGH','BLOCK','LOT']].astype(str)\n",
    "data['BBL'] = data.apply(lambda x: nestCode(x.BOROUGH, x.BLOCK, x.LOT), 1)\n",
    "\n",
    "# Create bins\n",
    "bins = [0,200000,400000,600000,800000,1000000,1500000,3000000,6000000,10000000,max(data.SALE_PRICE_UNIT)]\n",
    "labels = np.arange(1,11,1)\n",
    "data['PRICE_BINS'] = pd.cut(data.SALE_PRICE,bins,labels=labels)\n",
    "\n",
    "# Ticks corresponding to bins\n",
    "x_ticks = ['$(0-200k]','$(200k-400k]','$(400k-600k]','$(600k-800k]','$(800k-1m]','$(1m-1.5m]','$(1.5m-3m]',\n",
    "          '$(3m-6m]','$(6m-10m]','$(10m-~170.5m]']"
   ]
  },
  {
   "cell_type": "code",
   "execution_count": 221,
   "metadata": {
    "collapsed": false
   },
   "outputs": [],
   "source": [
    "# Select only relevant columns\n",
    "data = data[['ZIP_CODE','SALE_DATE','SALE_YEAR','PRICE_BINS',\n",
    "             'TAX_CLASS_AT_PRESENT','APARTMENT_NUMBER',\n",
    "             'RESIDENTIAL_UNITS','TAX_CLASS_AT_TIME_OF_SALE',\n",
    "             'SALE_PRICE','SALE_PRICE_UNIT','BBL']]"
   ]
  },
  {
   "cell_type": "code",
   "execution_count": 222,
   "metadata": {
    "collapsed": false
   },
   "outputs": [],
   "source": [
    "headers = data.columns # Store headers"
   ]
  },
  {
   "cell_type": "code",
   "execution_count": 223,
   "metadata": {
    "collapsed": true
   },
   "outputs": [],
   "source": [
    "# split data into years for adding tax rates\n",
    "y2014 = data[data['SALE_YEAR']==2014]\n",
    "y2013 = data[data['SALE_YEAR']==2013]\n",
    "y2012 = data[data['SALE_YEAR']==2012]\n",
    "y2011 = data[data['SALE_YEAR']==2011]\n",
    "y2010 = data[data['SALE_YEAR']==2010]\n",
    "y2009 = data[data['SALE_YEAR']==2009]\n",
    "y2008 = data[data['SALE_YEAR']==2008]"
   ]
  },
  {
   "cell_type": "code",
   "execution_count": 224,
   "metadata": {
    "collapsed": false
   },
   "outputs": [
    {
     "data": {
      "text/html": [
       "<div>\n",
       "<table border=\"1\" class=\"dataframe\">\n",
       "  <thead>\n",
       "    <tr style=\"text-align: right;\">\n",
       "      <th></th>\n",
       "      <th>YEAR</th>\n",
       "      <th>CLASS 1</th>\n",
       "      <th>CLASS 2</th>\n",
       "      <th>CLASS 3</th>\n",
       "      <th>CLASS 4</th>\n",
       "    </tr>\n",
       "  </thead>\n",
       "  <tbody>\n",
       "    <tr>\n",
       "      <th>0</th>\n",
       "      <td>2015</td>\n",
       "      <td>0.20</td>\n",
       "      <td>0.13</td>\n",
       "      <td>0.11</td>\n",
       "      <td>0.11</td>\n",
       "    </tr>\n",
       "    <tr>\n",
       "      <th>1</th>\n",
       "      <td>2014</td>\n",
       "      <td>0.19</td>\n",
       "      <td>0.13</td>\n",
       "      <td>0.11</td>\n",
       "      <td>0.11</td>\n",
       "    </tr>\n",
       "    <tr>\n",
       "      <th>2</th>\n",
       "      <td>2013</td>\n",
       "      <td>0.19</td>\n",
       "      <td>0.13</td>\n",
       "      <td>0.12</td>\n",
       "      <td>0.10</td>\n",
       "    </tr>\n",
       "    <tr>\n",
       "      <th>3</th>\n",
       "      <td>2012</td>\n",
       "      <td>0.19</td>\n",
       "      <td>0.13</td>\n",
       "      <td>0.12</td>\n",
       "      <td>0.10</td>\n",
       "    </tr>\n",
       "    <tr>\n",
       "      <th>4</th>\n",
       "      <td>2011</td>\n",
       "      <td>0.18</td>\n",
       "      <td>0.13</td>\n",
       "      <td>0.12</td>\n",
       "      <td>0.10</td>\n",
       "    </tr>\n",
       "    <tr>\n",
       "      <th>5</th>\n",
       "      <td>2010</td>\n",
       "      <td>0.17</td>\n",
       "      <td>0.13</td>\n",
       "      <td>0.13</td>\n",
       "      <td>0.10</td>\n",
       "    </tr>\n",
       "    <tr>\n",
       "      <th>6</th>\n",
       "      <td>2009</td>\n",
       "      <td>0.17</td>\n",
       "      <td>0.13</td>\n",
       "      <td>0.13</td>\n",
       "      <td>0.10</td>\n",
       "    </tr>\n",
       "    <tr>\n",
       "      <th>7</th>\n",
       "      <td>2008</td>\n",
       "      <td>0.16</td>\n",
       "      <td>0.13</td>\n",
       "      <td>0.12</td>\n",
       "      <td>0.10</td>\n",
       "    </tr>\n",
       "    <tr>\n",
       "      <th>8</th>\n",
       "      <td>2007</td>\n",
       "      <td>0.15</td>\n",
       "      <td>0.12</td>\n",
       "      <td>0.12</td>\n",
       "      <td>0.10</td>\n",
       "    </tr>\n",
       "  </tbody>\n",
       "</table>\n",
       "</div>"
      ],
      "text/plain": [
       "   YEAR  CLASS 1  CLASS 2  CLASS 3  CLASS 4\n",
       "0  2015     0.20     0.13     0.11     0.11\n",
       "1  2014     0.19     0.13     0.11     0.11\n",
       "2  2013     0.19     0.13     0.12     0.10\n",
       "3  2012     0.19     0.13     0.12     0.10\n",
       "4  2011     0.18     0.13     0.12     0.10\n",
       "5  2010     0.17     0.13     0.13     0.10\n",
       "6  2009     0.17     0.13     0.13     0.10\n",
       "7  2008     0.16     0.13     0.12     0.10\n",
       "8  2007     0.15     0.12     0.12     0.10"
      ]
     },
     "execution_count": 224,
     "metadata": {},
     "output_type": "execute_result"
    }
   ],
   "source": [
    "tax # Output tax rates for visualization"
   ]
  },
  {
   "cell_type": "code",
   "execution_count": 225,
   "metadata": {
    "collapsed": true
   },
   "outputs": [],
   "source": [
    "# Adding tax rates to datasets\n",
    "def tax_rate(df,year):\n",
    "    pos = tax[tax['YEAR'] == year].index.tolist()[0]\n",
    "    df['TAX_RATE'] = np.where(df['TAX_CLASS_AT_TIME_OF_SALE']==1,tax.iloc[pos,1],tax.iloc[pos,2])\n",
    "    return df"
   ]
  },
  {
   "cell_type": "code",
   "execution_count": 226,
   "metadata": {
    "collapsed": false
   },
   "outputs": [],
   "source": [
    "# Apply function to get tax rates\n",
    "# Faster than an if statement within a loop\n",
    "y2008 = tax_rate(y2008,2008)\n",
    "y2009 = tax_rate(y2009,2009)\n",
    "y2010 = tax_rate(y2010,2010)\n",
    "y2011 = tax_rate(y2011,2011)\n",
    "y2012 = tax_rate(y2012,2012)\n",
    "y2013 = tax_rate(y2013,2013)\n",
    "y2014 = tax_rate(y2014,2014)"
   ]
  },
  {
   "cell_type": "code",
   "execution_count": 227,
   "metadata": {
    "collapsed": false
   },
   "outputs": [],
   "source": [
    "# Reunite data, use numpy because pandas is raising axis error\n",
    "final = pd.DataFrame(np.concatenate([y2008,y2009,y2010,y2011,y2012,y2013,y2014]))\n",
    "final.columns = headers.insert(len(headers), 'TAX_RATE')\n",
    "final = final.convert_objects(convert_dates=True,convert_numeric=True)"
   ]
  },
  {
   "cell_type": "code",
   "execution_count": 228,
   "metadata": {
    "collapsed": true
   },
   "outputs": [],
   "source": [
    "# Get counts of the different bins, faster than conventional histogram\n",
    "count = {}\n",
    "for i in final['PRICE_BINS']:\n",
    "    count[i] = count.get(i, 0) + 1   "
   ]
  },
  {
   "cell_type": "code",
   "execution_count": 229,
   "metadata": {
    "collapsed": false
   },
   "outputs": [
    {
     "data": {
      "text/plain": [
       "array([0, 1, 2, 3, 4, 5, 6, 7, 8, 9])"
      ]
     },
     "execution_count": 229,
     "metadata": {},
     "output_type": "execute_result"
    },
    {
     "data": {
      "image/png": "[encoded data removed]",
      "text/plain": [
       "<matplotlib.figure.Figure at 0x1495e83d0>"
      ]
     },
     "metadata": {},
     "output_type": "display_data"
    }
   ],
   "source": [
    "fig, ax = plt.subplots(figsize=(12,8))\n",
    "df = pd.DataFrame.from_dict(count, 'index')\n",
    "sns.barplot(x=df.index,y=df[0],color='c',alpha=0.6)\n",
    "plt.title('Histogram of Sales in all of New York City from 2008 to 2014')\n",
    "plt.ylabel('Frequency')\n",
    "ax.xaxis.get_majorticklocs()\n",
    "#ax.xaxis.set_ticks(x_ticks)\n",
    "#plt.xticks([i for i in labels],[str(w) for w in x_ticks]) "
   ]
  },
  {
   "cell_type": "markdown",
   "metadata": {},
   "source": [
    "### Summaries by Zip Codes"
   ]
  },
  {
   "cell_type": "code",
   "execution_count": 230,
   "metadata": {
    "collapsed": false
   },
   "outputs": [],
   "source": [
    "final = final.merge(zipcodes,on='ZIP_CODE',how='inner')\n",
    "final = gpd.GeoDataFrame(final) # For plotting"
   ]
  },
  {
   "cell_type": "code",
   "execution_count": 231,
   "metadata": {
    "collapsed": false
   },
   "outputs": [
    {
     "name": "stdout",
     "output_type": "stream",
     "text": [
      "TAX_CLASS_AT_TIME_OF_SALE\n",
      "1     585924\n",
      "2    1262491\n",
      "Name: SALE_PRICE, dtype: int64\n",
      "TAX_CLASS_AT_TIME_OF_SALE\n",
      "1     881948.168329\n",
      "2    9489107.894706\n",
      "Name: SALE_PRICE, dtype: float64\n"
     ]
    }
   ],
   "source": [
    "# Get statistics\n",
    "print final['SALE_PRICE'].groupby(final['TAX_CLASS_AT_TIME_OF_SALE']).mean()\n",
    "print final['SALE_PRICE'].groupby(final['TAX_CLASS_AT_TIME_OF_SALE']).std()"
   ]
  },
  {
   "cell_type": "code",
   "execution_count": 289,
   "metadata": {
    "collapsed": false
   },
   "outputs": [],
   "source": [
    "# Get summaries\n",
    "tax_breakdown = pd.DataFrame({'COUNT':final.groupby(['TAX_CLASS_AT_TIME_OF_SALE',\n",
    "                                                     'PRICE_BINS'],axis=0).size()}).reset_index()\n",
    "total_breakdown = pd.DataFrame({'COUNT':final.groupby(['TAX_CLASS_AT_TIME_OF_SALE',\n",
    "                                                       'PRICE_BINS','ZIP_CODE'],axis=0).size()}).reset_index()\n",
    "total1 = tax_breakdown[tax_breakdown['TAX_CLASS_AT_TIME_OF_SALE']==1]['COUNT'].sum()\n",
    "total2 = tax_breakdown[tax_breakdown['TAX_CLASS_AT_TIME_OF_SALE']==2]['COUNT'].sum()\n",
    "tax_breakdown['SHARE'] = np.where(tax_breakdown['TAX_CLASS_AT_TIME_OF_SALE']==2,\n",
    "                                  tax_breakdown['COUNT']/total2, tax_breakdown['COUNT']/total1)\n",
    "del total1\n",
    "del total2\n",
    "\n",
    "zip_tax_breakdown = pd.DataFrame({'COUNT':final.groupby(['ZIP_CODE','TAX_CLASS_AT_TIME_OF_SALE'],axis=0).size()}).reset_index()\n",
    "total_per_zip = pd.DataFrame({'TOTAL_COUNT':final.groupby(['ZIP_CODE'],axis=0).size()}).reset_index()\n",
    "\n",
    "# Normalize each count by total sales count and maybe by population\n",
    "zip_tax_breakdown = zip_tax_breakdown.merge(total_per_zip,on='ZIP_CODE',how='inner')\n",
    "del total_per_zip"
   ]
  },
  {
   "cell_type": "code",
   "execution_count": 291,
   "metadata": {
    "collapsed": false
   },
   "outputs": [
    {
     "data": {
      "text/html": [
       "<div>\n",
       "<table border=\"1\" class=\"dataframe\">\n",
       "  <thead>\n",
       "    <tr style=\"text-align: right;\">\n",
       "      <th></th>\n",
       "      <th>TAX_CLASS_AT_TIME_OF_SALE</th>\n",
       "      <th>PRICE_BINS</th>\n",
       "      <th>COUNT</th>\n",
       "      <th>SHARE</th>\n",
       "    </tr>\n",
       "  </thead>\n",
       "  <tbody>\n",
       "    <tr>\n",
       "      <th>0</th>\n",
       "      <td>1</td>\n",
       "      <td>1</td>\n",
       "      <td>9443</td>\n",
       "      <td>0.063415</td>\n",
       "    </tr>\n",
       "    <tr>\n",
       "      <th>1</th>\n",
       "      <td>1</td>\n",
       "      <td>2</td>\n",
       "      <td>47273</td>\n",
       "      <td>0.317467</td>\n",
       "    </tr>\n",
       "    <tr>\n",
       "      <th>2</th>\n",
       "      <td>1</td>\n",
       "      <td>3</td>\n",
       "      <td>49363</td>\n",
       "      <td>0.331502</td>\n",
       "    </tr>\n",
       "    <tr>\n",
       "      <th>3</th>\n",
       "      <td>1</td>\n",
       "      <td>4</td>\n",
       "      <td>23751</td>\n",
       "      <td>0.159502</td>\n",
       "    </tr>\n",
       "    <tr>\n",
       "      <th>4</th>\n",
       "      <td>1</td>\n",
       "      <td>5</td>\n",
       "      <td>10584</td>\n",
       "      <td>0.071078</td>\n",
       "    </tr>\n",
       "    <tr>\n",
       "      <th>5</th>\n",
       "      <td>1</td>\n",
       "      <td>6</td>\n",
       "      <td>4514</td>\n",
       "      <td>0.030314</td>\n",
       "    </tr>\n",
       "    <tr>\n",
       "      <th>6</th>\n",
       "      <td>1</td>\n",
       "      <td>7</td>\n",
       "      <td>2590</td>\n",
       "      <td>0.017393</td>\n",
       "    </tr>\n",
       "    <tr>\n",
       "      <th>7</th>\n",
       "      <td>1</td>\n",
       "      <td>8</td>\n",
       "      <td>877</td>\n",
       "      <td>0.005890</td>\n",
       "    </tr>\n",
       "    <tr>\n",
       "      <th>8</th>\n",
       "      <td>1</td>\n",
       "      <td>9</td>\n",
       "      <td>290</td>\n",
       "      <td>0.001948</td>\n",
       "    </tr>\n",
       "    <tr>\n",
       "      <th>9</th>\n",
       "      <td>1</td>\n",
       "      <td>10</td>\n",
       "      <td>222</td>\n",
       "      <td>0.001491</td>\n",
       "    </tr>\n",
       "    <tr>\n",
       "      <th>10</th>\n",
       "      <td>2</td>\n",
       "      <td>1</td>\n",
       "      <td>23478</td>\n",
       "      <td>0.123630</td>\n",
       "    </tr>\n",
       "    <tr>\n",
       "      <th>11</th>\n",
       "      <td>2</td>\n",
       "      <td>2</td>\n",
       "      <td>42682</td>\n",
       "      <td>0.224754</td>\n",
       "    </tr>\n",
       "    <tr>\n",
       "      <th>12</th>\n",
       "      <td>2</td>\n",
       "      <td>3</td>\n",
       "      <td>33347</td>\n",
       "      <td>0.175598</td>\n",
       "    </tr>\n",
       "    <tr>\n",
       "      <th>13</th>\n",
       "      <td>2</td>\n",
       "      <td>4</td>\n",
       "      <td>23331</td>\n",
       "      <td>0.122856</td>\n",
       "    </tr>\n",
       "    <tr>\n",
       "      <th>14</th>\n",
       "      <td>2</td>\n",
       "      <td>5</td>\n",
       "      <td>16401</td>\n",
       "      <td>0.086364</td>\n",
       "    </tr>\n",
       "    <tr>\n",
       "      <th>15</th>\n",
       "      <td>2</td>\n",
       "      <td>6</td>\n",
       "      <td>17968</td>\n",
       "      <td>0.094616</td>\n",
       "    </tr>\n",
       "    <tr>\n",
       "      <th>16</th>\n",
       "      <td>2</td>\n",
       "      <td>7</td>\n",
       "      <td>19542</td>\n",
       "      <td>0.102904</td>\n",
       "    </tr>\n",
       "    <tr>\n",
       "      <th>17</th>\n",
       "      <td>2</td>\n",
       "      <td>8</td>\n",
       "      <td>8348</td>\n",
       "      <td>0.043959</td>\n",
       "    </tr>\n",
       "    <tr>\n",
       "      <th>18</th>\n",
       "      <td>2</td>\n",
       "      <td>9</td>\n",
       "      <td>2720</td>\n",
       "      <td>0.014323</td>\n",
       "    </tr>\n",
       "    <tr>\n",
       "      <th>19</th>\n",
       "      <td>2</td>\n",
       "      <td>10</td>\n",
       "      <td>2088</td>\n",
       "      <td>0.010995</td>\n",
       "    </tr>\n",
       "  </tbody>\n",
       "</table>\n",
       "</div>"
      ],
      "text/plain": [
       "    TAX_CLASS_AT_TIME_OF_SALE  PRICE_BINS  COUNT     SHARE\n",
       "0                           1           1   9443  0.063415\n",
       "1                           1           2  47273  0.317467\n",
       "2                           1           3  49363  0.331502\n",
       "3                           1           4  23751  0.159502\n",
       "4                           1           5  10584  0.071078\n",
       "5                           1           6   4514  0.030314\n",
       "6                           1           7   2590  0.017393\n",
       "7                           1           8    877  0.005890\n",
       "8                           1           9    290  0.001948\n",
       "9                           1          10    222  0.001491\n",
       "10                          2           1  23478  0.123630\n",
       "11                          2           2  42682  0.224754\n",
       "12                          2           3  33347  0.175598\n",
       "13                          2           4  23331  0.122856\n",
       "14                          2           5  16401  0.086364\n",
       "15                          2           6  17968  0.094616\n",
       "16                          2           7  19542  0.102904\n",
       "17                          2           8   8348  0.043959\n",
       "18                          2           9   2720  0.014323\n",
       "19                          2          10   2088  0.010995"
      ]
     },
     "execution_count": 291,
     "metadata": {},
     "output_type": "execute_result"
    }
   ],
   "source": [
    "tax_breakdown # For each tax class and price category the number of sales"
   ]
  },
  {
   "cell_type": "code",
   "execution_count": 293,
   "metadata": {
    "collapsed": false
   },
   "outputs": [
    {
     "data": {
      "text/html": [
       "<div>\n",
       "<table border=\"1\" class=\"dataframe\">\n",
       "  <thead>\n",
       "    <tr style=\"text-align: right;\">\n",
       "      <th></th>\n",
       "      <th>TAX_CLASS_AT_TIME_OF_SALE</th>\n",
       "      <th>PRICE_BINS</th>\n",
       "      <th>ZIP_CODE</th>\n",
       "      <th>COUNT</th>\n",
       "    </tr>\n",
       "  </thead>\n",
       "  <tbody>\n",
       "    <tr>\n",
       "      <th>0</th>\n",
       "      <td>1</td>\n",
       "      <td>1</td>\n",
       "      <td>10001</td>\n",
       "      <td>1</td>\n",
       "    </tr>\n",
       "    <tr>\n",
       "      <th>1</th>\n",
       "      <td>1</td>\n",
       "      <td>1</td>\n",
       "      <td>10025</td>\n",
       "      <td>1</td>\n",
       "    </tr>\n",
       "    <tr>\n",
       "      <th>2</th>\n",
       "      <td>1</td>\n",
       "      <td>1</td>\n",
       "      <td>10026</td>\n",
       "      <td>1</td>\n",
       "    </tr>\n",
       "    <tr>\n",
       "      <th>3</th>\n",
       "      <td>1</td>\n",
       "      <td>1</td>\n",
       "      <td>10027</td>\n",
       "      <td>1</td>\n",
       "    </tr>\n",
       "    <tr>\n",
       "      <th>4</th>\n",
       "      <td>1</td>\n",
       "      <td>1</td>\n",
       "      <td>10030</td>\n",
       "      <td>1</td>\n",
       "    </tr>\n",
       "  </tbody>\n",
       "</table>\n",
       "</div>"
      ],
      "text/plain": [
       "   TAX_CLASS_AT_TIME_OF_SALE  PRICE_BINS  ZIP_CODE  COUNT\n",
       "0                          1           1     10001      1\n",
       "1                          1           1     10025      1\n",
       "2                          1           1     10026      1\n",
       "3                          1           1     10027      1\n",
       "4                          1           1     10030      1"
      ]
     },
     "execution_count": 293,
     "metadata": {},
     "output_type": "execute_result"
    }
   ],
   "source": [
    "total_breakdown.head() # For each zip code, for each tax class, for each price category..."
   ]
  },
  {
   "cell_type": "code",
   "execution_count": 295,
   "metadata": {
    "collapsed": false
   },
   "outputs": [
    {
     "data": {
      "text/html": [
       "<div>\n",
       "<table border=\"1\" class=\"dataframe\">\n",
       "  <thead>\n",
       "    <tr style=\"text-align: right;\">\n",
       "      <th></th>\n",
       "      <th>ZIP_CODE</th>\n",
       "      <th>TAX_CLASS_AT_TIME_OF_SALE</th>\n",
       "      <th>COUNT</th>\n",
       "      <th>TOTAL_COUNT</th>\n",
       "    </tr>\n",
       "  </thead>\n",
       "  <tbody>\n",
       "    <tr>\n",
       "      <th>0</th>\n",
       "      <td>10001</td>\n",
       "      <td>1</td>\n",
       "      <td>8</td>\n",
       "      <td>1030</td>\n",
       "    </tr>\n",
       "    <tr>\n",
       "      <th>1</th>\n",
       "      <td>10001</td>\n",
       "      <td>2</td>\n",
       "      <td>1022</td>\n",
       "      <td>1030</td>\n",
       "    </tr>\n",
       "    <tr>\n",
       "      <th>2</th>\n",
       "      <td>10002</td>\n",
       "      <td>1</td>\n",
       "      <td>17</td>\n",
       "      <td>1681</td>\n",
       "    </tr>\n",
       "    <tr>\n",
       "      <th>3</th>\n",
       "      <td>10002</td>\n",
       "      <td>2</td>\n",
       "      <td>1664</td>\n",
       "      <td>1681</td>\n",
       "    </tr>\n",
       "    <tr>\n",
       "      <th>4</th>\n",
       "      <td>10003</td>\n",
       "      <td>1</td>\n",
       "      <td>48</td>\n",
       "      <td>4371</td>\n",
       "    </tr>\n",
       "  </tbody>\n",
       "</table>\n",
       "</div>"
      ],
      "text/plain": [
       "   ZIP_CODE  TAX_CLASS_AT_TIME_OF_SALE  COUNT  TOTAL_COUNT\n",
       "0     10001                          1      8         1030\n",
       "1     10001                          2   1022         1030\n",
       "2     10002                          1     17         1681\n",
       "3     10002                          2   1664         1681\n",
       "4     10003                          1     48         4371"
      ]
     },
     "execution_count": 295,
     "metadata": {},
     "output_type": "execute_result"
    }
   ],
   "source": [
    "zip_tax_breakdown.head() # Per Zip Code and Tax Class"
   ]
  },
  {
   "cell_type": "markdown",
   "metadata": {},
   "source": [
    "### Get Assessment data from DOF in order to compute effective tax rate (ETR)"
   ]
  },
  {
   "cell_type": "code",
   "execution_count": 243,
   "metadata": {
    "collapsed": false,
    "scrolled": true
   },
   "outputs": [],
   "source": [
    "assessment = pd.read_csv(zip_.open(filename_assessment))\n",
    "del assessment['Unnamed: 0'] # Delete unnecessary columns"
   ]
  },
  {
   "cell_type": "markdown",
   "metadata": {},
   "source": [
    "#### Choose whether current or final and whether transitional or actual"
   ]
  },
  {
   "cell_type": "code",
   "execution_count": 244,
   "metadata": {
    "collapsed": false
   },
   "outputs": [],
   "source": [
    "assessment['TAXABLE'] = assessment['CURAVT_A'] - assessment['CUREXT_A']"
   ]
  },
  {
   "cell_type": "code",
   "execution_count": 245,
   "metadata": {
    "collapsed": true
   },
   "outputs": [],
   "source": [
    "assessment = assessment[['BBLE','CURAVT_A','CUREXT_A','CUR_FV_T','TXCL','TAXABLE']]\n",
    "assessment.rename(columns={'BBLE':'BBL'},inplace=True)"
   ]
  },
  {
   "cell_type": "code",
   "execution_count": 248,
   "metadata": {
    "collapsed": false
   },
   "outputs": [],
   "source": [
    "# Make sure BBL is same type for merging\n",
    "assessment.BBL = assessment.BBL.astype(str)\n",
    "final.BBL = final.BBL.astype(str)"
   ]
  },
  {
   "cell_type": "markdown",
   "metadata": {},
   "source": [
    "#### Because data is longitudinal, merge on BBL and YEAR?"
   ]
  },
  {
   "cell_type": "code",
   "execution_count": 249,
   "metadata": {
    "collapsed": true
   },
   "outputs": [],
   "source": [
    "finale = final.merge(assessment,on='BBL',how='inner')"
   ]
  },
  {
   "cell_type": "code",
   "execution_count": 250,
   "metadata": {
    "collapsed": false
   },
   "outputs": [
    {
     "name": "stdout",
     "output_type": "stream",
     "text": [
      "<class 'geopandas.geodataframe.GeoDataFrame'>\n",
      "Int64Index: 286856 entries, 0 to 286855\n",
      "Data columns (total 18 columns):\n",
      "ZIP_CODE                     286856 non-null int64\n",
      "SALE_DATE                    286856 non-null datetime64[ns]\n",
      "SALE_YEAR                    286856 non-null int64\n",
      "PRICE_BINS                   286853 non-null float64\n",
      "TAX_CLASS_AT_PRESENT         259966 non-null float64\n",
      "APARTMENT_NUMBER             20841 non-null float64\n",
      "RESIDENTIAL_UNITS            286856 non-null int64\n",
      "TAX_CLASS_AT_TIME_OF_SALE    286856 non-null int64\n",
      "SALE_PRICE                   286856 non-null int64\n",
      "SALE_PRICE_UNIT              286856 non-null int64\n",
      "BBL                          286856 non-null object\n",
      "TAX_RATE                     286856 non-null float64\n",
      "geometry                     286856 non-null object\n",
      "CURAVT_A                     286856 non-null float64\n",
      "CUREXT_A                     286856 non-null float64\n",
      "CUR_FV_T                     286856 non-null float64\n",
      "TXCL                         286856 non-null object\n",
      "TAXABLE                      286856 non-null float64\n",
      "dtypes: datetime64[ns](1), float64(8), int64(6), object(3)\n",
      "memory usage: 41.6+ MB\n"
     ]
    }
   ],
   "source": [
    "finale.info() # Approximately 300k observations remain"
   ]
  },
  {
   "cell_type": "markdown",
   "metadata": {},
   "source": [
    "#### Should we use info related to tax class at present or at time of sale? Market value from sale amount or from assessed value?"
   ]
  },
  {
   "cell_type": "code",
   "execution_count": 251,
   "metadata": {
    "collapsed": true
   },
   "outputs": [],
   "source": [
    "finale['TAX_PAID'] = finale.TAXABLE * finale.TAX_RATE\n",
    "finale['EST_TAX_RATE'] = finale['TAX_PAID']/finale['CUR_FV_T']"
   ]
  },
  {
   "cell_type": "markdown",
   "metadata": {},
   "source": [
    "#### Need total units and residential units"
   ]
  },
  {
   "cell_type": "code",
   "execution_count": null,
   "metadata": {
    "collapsed": true
   },
   "outputs": [],
   "source": [
    "# Calculating the number of units\n",
    "finale['TAX_UNIT'] = np.where(finale['TOTAL_UNITS']==0,1,finale['TOTAL_UNITS'])\n",
    "finale['SALE_UNIT'] = np.where(finale['RES_UNITS']==0,1,finale['RES_UNITS'])\n",
    "\n",
    "# Estimate tax rate per unit\n",
    "finale['TAX_RATE_PER_UNIT'] = np.round((finale.TAX_PAID/finale['TAX_UNIT'])/\n",
    "                                       (finale.SALE_PRICE/finale['SALE_UNIT']),2)*100\n",
    "\n"
   ]
  }
 ],
 "metadata": {
  "kernelspec": {
   "display_name": "Python 2",
   "language": "python",
   "name": "python2"
  },
  "language_info": {
   "codemirror_mode": {
    "name": "ipython",
    "version": 2
   },
   "file_extension": ".py",
   "mimetype": "text/x-python",
   "name": "python",
   "nbconvert_exporter": "python",
   "pygments_lexer": "ipython2",
   "version": "2.7.11"
  }
 },
 "nbformat": 4,
 "nbformat_minor": 0
}
