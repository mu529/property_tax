{
 "cells": [
  {
   "cell_type": "code",
   "execution_count": 1,
   "metadata": {
    "collapsed": false
   },
   "outputs": [],
   "source": [
    "from sodapy import Socrata\n",
    "import requests, zipfile, StringIO\n",
    "import urllib2\n",
    "import pandas as pd\n",
    "import pypyodbc\n",
    "import csv\n",
    "import os\n",
    "import tempfile"
   ]
  },
  {
   "cell_type": "markdown",
   "metadata": {},
   "source": [
    "# Download PLUTO data\n",
    "## (For now, skip this since the Assessment Data contains better detail)\n",
    "B-B-L is primary key"
   ]
  },
  {
   "cell_type": "code",
   "execution_count": 2,
   "metadata": {
    "collapsed": false
   },
   "outputs": [
    {
     "data": {
      "text/plain": [
       "\"\\nr = requests.get('http://www1.nyc.gov/assets/planning/download/zip/data-maps/open-data/nyc_pluto_15v1.zip')\\npluto_zip = zipfile.ZipFile(StringIO.StringIO(r.content))\\n\""
      ]
     },
     "execution_count": 2,
     "metadata": {},
     "output_type": "execute_result"
    }
   ],
   "source": [
    "\"\"\"\n",
    "r = requests.get('http://www1.nyc.gov/assets/planning/download/zip/data-maps/open-data/nyc_pluto_15v1.zip')\n",
    "pluto_zip = zipfile.ZipFile(StringIO.StringIO(r.content))\n",
    "\"\"\""
   ]
  },
  {
   "cell_type": "code",
   "execution_count": 3,
   "metadata": {
    "collapsed": false
   },
   "outputs": [
    {
     "data": {
      "text/plain": [
       "\"\\nlist_pluto_files = [('Mn.csv',1),('BX.csv',2),('BK.csv',3),('QN.csv',4),('SI.csv',5)]\\npluto = pd.DataFrame()\\nfor filename, boroid in list_pluto_files:\\n    borodata = pd.read_csv(pluto_zip.open(filename))\\n    # Need to add a boroid as an integer, for joining to other sources\\n    borodata['boroid'] = boroid\\n    pluto = pluto.append(borodata)\\n\""
      ]
     },
     "execution_count": 3,
     "metadata": {},
     "output_type": "execute_result"
    }
   ],
   "source": [
    "\"\"\"\n",
    "list_pluto_files = [('Mn.csv',1),('BX.csv',2),('BK.csv',3),('QN.csv',4),('SI.csv',5)]\n",
    "pluto = pd.DataFrame()\n",
    "for filename, boroid in list_pluto_files:\n",
    "    borodata = pd.read_csv(pluto_zip.open(filename))\n",
    "    # Need to add a boroid as an integer, for joining to other sources\n",
    "    borodata['boroid'] = boroid\n",
    "    pluto = pluto.append(borodata)\n",
    "\"\"\""
   ]
  },
  {
   "cell_type": "code",
   "execution_count": 4,
   "metadata": {
    "collapsed": false
   },
   "outputs": [],
   "source": [
    "# pluto.shape"
   ]
  },
  {
   "cell_type": "markdown",
   "metadata": {
    "collapsed": true
   },
   "source": [
    "# Read the Assessment rolls from DOF website zips\n",
    "B-B-L-E is primary key\n",
    "\n",
    "#### First for Tax Class 1 data"
   ]
  },
  {
   "cell_type": "code",
   "execution_count": 2,
   "metadata": {
    "collapsed": false
   },
   "outputs": [
    {
     "name": "stdout",
     "output_type": "stream",
     "text": [
      "825106432\n"
     ]
    }
   ],
   "source": [
    "tc1_source = 'http://www1.nyc.gov/assets/finance/downloads/tar/tc1_16.zip'\n",
    "r1 = requests.get(tc1_source)\n",
    "tc1_zip = zipfile.ZipFile(StringIO.StringIO(r1.content))\n",
    "tc1 = tc1_zip.read('tc1.mdb')\n",
    "tc1_zip.close()\n",
    "print(len(tc1))"
   ]
  },
  {
   "cell_type": "markdown",
   "metadata": {},
   "source": [
    "#### dump the extracted Access Database into a tempfile"
   ]
  },
  {
   "cell_type": "code",
   "execution_count": 3,
   "metadata": {
    "collapsed": false
   },
   "outputs": [],
   "source": [
    "temp1 = tempfile.NamedTemporaryFile(delete=False)\n",
    "temp1.write(tc1)\n",
    "temp1.seek(0)\n",
    "temp1.close()"
   ]
  },
  {
   "cell_type": "markdown",
   "metadata": {},
   "source": [
    "#### Connect to it to query some data and dump to a dataframe"
   ]
  },
  {
   "cell_type": "code",
   "execution_count": 4,
   "metadata": {
    "collapsed": false
   },
   "outputs": [],
   "source": [
    "# connect to db\n",
    "conn_str = 'Driver={Microsoft Access Driver (*.mdb, *.accdb)};DBQ=' + temp1.name\n",
    "con = pypyodbc.connect(conn_str)\n",
    "cur = con.cursor()"
   ]
  },
  {
   "cell_type": "code",
   "execution_count": 5,
   "metadata": {
    "collapsed": false
   },
   "outputs": [],
   "source": [
    "# run a query and get the results \n",
    "SQL = 'SELECT BBLE, BORO, BLOCK, LOT, EASE, APTNO, GR_SQFT, CUR_FV_T, CURAVT, CUREXT, CURAVT_A, CUREXT_A, FN_AVT, FN_EXT, TXCL FROM tc1;' # your query goes here\n",
    "rows = cur.execute(SQL).fetchall()\n",
    "cur.close()\n",
    "con.close()"
   ]
  },
  {
   "cell_type": "code",
   "execution_count": 6,
   "metadata": {
    "collapsed": false
   },
   "outputs": [
    {
     "data": {
      "text/plain": [
       "(708676, 15)"
      ]
     },
     "execution_count": 6,
     "metadata": {},
     "output_type": "execute_result"
    }
   ],
   "source": [
    "assessments_tc1 = pd.DataFrame.from_records(rows,columns=('BBLE','BORO','BLOCK','LOT','EASE','APTNO','GR_SQFT','CUR_FV_T','CURAVT','CUREXT','CURAVT_A','CUREXT_A','FN_AVT','FN_EXT','TXCL'))\n",
    "assessments_tc1.shape"
   ]
  },
  {
   "cell_type": "markdown",
   "metadata": {},
   "source": [
    "#### And then for Tax Class 2,3,4 data"
   ]
  },
  {
   "cell_type": "code",
   "execution_count": 7,
   "metadata": {
    "collapsed": false
   },
   "outputs": [
    {
     "name": "stdout",
     "output_type": "stream",
     "text": [
      "505520128\n"
     ]
    }
   ],
   "source": [
    "tc234_source = 'http://www1.nyc.gov/assets/finance/downloads/tar/tc234_16.zip'\n",
    "r234 = requests.get(tc234_source)\n",
    "tc234_zip = zipfile.ZipFile(StringIO.StringIO(r234.content))\n",
    "tc234 = tc234_zip.read('tc234.mdb')\n",
    "tc234_zip.close()\n",
    "print(len(tc234))"
   ]
  },
  {
   "cell_type": "code",
   "execution_count": 8,
   "metadata": {
    "collapsed": true
   },
   "outputs": [],
   "source": [
    "temp234 = tempfile.NamedTemporaryFile(delete=False)\n",
    "temp234.write(tc234)\n",
    "temp234.seek(0)\n",
    "temp234.close()"
   ]
  },
  {
   "cell_type": "code",
   "execution_count": 9,
   "metadata": {
    "collapsed": false
   },
   "outputs": [
    {
     "data": {
      "text/plain": [
       "(387571, 15)"
      ]
     },
     "execution_count": 9,
     "metadata": {},
     "output_type": "execute_result"
    }
   ],
   "source": [
    "# connect to db\n",
    "conn_str = 'Driver={Microsoft Access Driver (*.mdb, *.accdb)};DBQ=' + temp234.name\n",
    "con = pypyodbc.connect(conn_str)\n",
    "cur = con.cursor()\n",
    "# run a query and get the results \n",
    "SQL = 'SELECT BBLE, BORO, BLOCK, LOT, EASE, APTNO, GR_SQFT, CUR_FV_T, CURAVT, CUREXT, CURAVT_A, CUREXT_A, FN_AVT, FN_EXT, TXCL FROM tc234;' # your query goes here\n",
    "rows = cur.execute(SQL).fetchall()\n",
    "cur.close()\n",
    "con.close()\n",
    "assessments_tc234 = pd.DataFrame.from_records(rows,columns=('BBLE','BORO','BLOCK','LOT','EASE','APTNO','GR_SQFT','CUR_FV_T','CURAVT','CUREXT','CURAVT_A','CUREXT_A','FN_AVT','FN_EXT','TXCL'))\n",
    "assessments_tc234.shape"
   ]
  },
  {
   "cell_type": "code",
   "execution_count": 10,
   "metadata": {
    "collapsed": false
   },
   "outputs": [
    {
     "data": {
      "text/html": [
       "<div>\n",
       "<table border=\"1\" class=\"dataframe\">\n",
       "  <thead>\n",
       "    <tr style=\"text-align: right;\">\n",
       "      <th></th>\n",
       "      <th>BBLE</th>\n",
       "      <th>BORO</th>\n",
       "      <th>BLOCK</th>\n",
       "      <th>LOT</th>\n",
       "      <th>EASE</th>\n",
       "      <th>APTNO</th>\n",
       "      <th>GR_SQFT</th>\n",
       "      <th>CUR_FV_T</th>\n",
       "      <th>CURAVT</th>\n",
       "      <th>CUREXT</th>\n",
       "      <th>CURAVT_A</th>\n",
       "      <th>CUREXT_A</th>\n",
       "      <th>FN_AVT</th>\n",
       "      <th>FN_EXT</th>\n",
       "      <th>TXCL</th>\n",
       "    </tr>\n",
       "  </thead>\n",
       "  <tbody>\n",
       "    <tr>\n",
       "      <th>70223</th>\n",
       "      <td>1011141452</td>\n",
       "      <td>1</td>\n",
       "      <td>1114</td>\n",
       "      <td>1452</td>\n",
       "      <td>None</td>\n",
       "      <td>37A</td>\n",
       "      <td>3105</td>\n",
       "      <td>1142765</td>\n",
       "      <td>492773</td>\n",
       "      <td>221726</td>\n",
       "      <td>514244</td>\n",
       "      <td>234609</td>\n",
       "      <td>503867</td>\n",
       "      <td>152255</td>\n",
       "      <td>2</td>\n",
       "    </tr>\n",
       "  </tbody>\n",
       "</table>\n",
       "</div>"
      ],
      "text/plain": [
       "             BBLE  BORO  BLOCK   LOT  EASE  APTNO  GR_SQFT  CUR_FV_T  CURAVT  \\\n",
       "70223  1011141452     1   1114  1452  None    37A     3105   1142765  492773   \n",
       "\n",
       "       CUREXT  CURAVT_A  CUREXT_A  FN_AVT  FN_EXT TXCL  \n",
       "70223  221726    514244    234609  503867  152255    2  "
      ]
     },
     "execution_count": 10,
     "metadata": {},
     "output_type": "execute_result"
    }
   ],
   "source": [
    "assessments = pd.concat([assessments_tc1,assessments_tc234])\n",
    "del assessments_tc1\n",
    "del assessments_tc234\n",
    "assessments.query('BORO == 1 & BLOCK == 1114 & LOT == 1452')"
   ]
  },
  {
   "cell_type": "markdown",
   "metadata": {},
   "source": [
    "#### don't forget to delete the temp files!"
   ]
  },
  {
   "cell_type": "code",
   "execution_count": 11,
   "metadata": {
    "collapsed": false
   },
   "outputs": [],
   "source": [
    "os.remove(temp1.name)\n",
    "os.remove(temp234.name)"
   ]
  },
  {
   "cell_type": "code",
   "execution_count": 12,
   "metadata": {
    "collapsed": true
   },
   "outputs": [],
   "source": [
    "assessments.to_csv('dof_assessments_merged.csv')"
   ]
  },
  {
   "cell_type": "markdown",
   "metadata": {
    "collapsed": true
   },
   "source": [
    "# Get the sales data from DOF site (xls)\n",
    "No primary key! (Cannot uniquely identify records using any combination of fields).  Will be difficult to join this with property data."
   ]
  },
  {
   "cell_type": "code",
   "execution_count": 16,
   "metadata": {
    "collapsed": true
   },
   "outputs": [],
   "source": [
    "sales_detail = pd.DataFrame()\n",
    "list_sales_detail = ['http://www1.nyc.gov/assets/finance/downloads/pdf/rolling_sales/annualized-sales/2014/2014_manhattan.xls',\n",
    "                    'http://www1.nyc.gov/assets/finance/downloads/pdf/rolling_sales/annualized-sales/2014/2014_bronx.xls',\n",
    "                    'http://www1.nyc.gov/assets/finance/downloads/pdf/rolling_sales/annualized-sales/2014/2014_brooklyn.xls',\n",
    "                    'http://www1.nyc.gov/assets/finance/downloads/pdf/rolling_sales/annualized-sales/2014/2014_queens.xls',\n",
    "                    'http://www1.nyc.gov/assets/finance/downloads/pdf/rolling_sales/annualized-sales/2014/2014_statenisland.xls']\n",
    "older_list =       ['http://www1.nyc.gov/assets/finance/downloads/pdf/rolling_sales/annualized-sales/2013/2013_manhattan.xls',\n",
    "                    'http://www1.nyc.gov/assets/finance/downloads/pdf/rolling_sales/annualized-sales/2013/2013_bronx.xls',\n",
    "                    'http://www1.nyc.gov/assets/finance/downloads/pdf/rolling_sales/annualized-sales/2013/2013_brooklyn.xls',\n",
    "                    'http://www1.nyc.gov/assets/finance/downloads/pdf/rolling_sales/annualized-sales/2013/2013_queens.xls',\n",
    "                    'http://www1.nyc.gov/assets/finance/downloads/pdf/rolling_sales/annualized-sales/2013/2013_statenisland.xls',\n",
    "                    'http://www1.nyc.gov/assets/finance/downloads/pdf/rolling_sales/annualized-sales/2012/2012_manhattan.xls',\n",
    "                    'http://www1.nyc.gov/assets/finance/downloads/pdf/rolling_sales/annualized-sales/2012/2012_bronx.xls',\n",
    "                    'http://www1.nyc.gov/assets/finance/downloads/pdf/rolling_sales/annualized-sales/2012/2012_brooklyn.xls',\n",
    "                    'http://www1.nyc.gov/assets/finance/downloads/pdf/rolling_sales/annualized-sales/2012/2012_queens.xls',\n",
    "                    'http://www1.nyc.gov/assets/finance/downloads/pdf/rolling_sales/annualized-sales/2012/2012_statenisland.xls',\n",
    "                    'http://www1.nyc.gov/assets/finance/downloads/pdf/rolling_sales/annualized-sales/2011/2011_manhattan.xls',\n",
    "                    'http://www1.nyc.gov/assets/finance/downloads/pdf/rolling_sales/annualized-sales/2011/2011_bronx.xls',\n",
    "                    'http://www1.nyc.gov/assets/finance/downloads/pdf/rolling_sales/annualized-sales/2011/2011_brooklyn.xls',\n",
    "                    'http://www1.nyc.gov/assets/finance/downloads/pdf/rolling_sales/annualized-sales/2011/2011_queens.xls',\n",
    "                    'http://www1.nyc.gov/assets/finance/downloads/pdf/rolling_sales/annualized-sales/2011/2011_statenisland.xls']\n",
    "even_older_list = ['http://www1.nyc.gov/assets/finance/downloads/pdf/rolling_sales/annualized-sales/2010/2010_manhattan.xls',\n",
    "             'http://www1.nyc.gov/assets/finance/downloads/pdf/rolling_sales/annualized-sales/2010/2010_bronx.xls',\n",
    "             'http://www1.nyc.gov/assets/finance/downloads/pdf/rolling_sales/annualized-sales/2010/2010_brooklyn.xls',\n",
    "             'http://www1.nyc.gov/assets/finance/downloads/pdf/rolling_sales/annualized-sales/2010/2010_queens.xls',\n",
    "             'http://www1.nyc.gov/assets/finance/downloads/pdf/rolling_sales/annualized-sales/2010/2010_statenisland.xls',\n",
    "             'http://www1.nyc.gov/assets/finance/downloads/pdf/rolling_sales/annualized-sales/2009_manhattan.xls',\n",
    "             'http://www1.nyc.gov/assets/finance/downloads/pdf/rolling_sales/annualized-sales/2009_bronx.xls',\n",
    "             'http://www1.nyc.gov/assets/finance/downloads/pdf/rolling_sales/annualized-sales/2009_brooklyn.xls',\n",
    "             'http://www1.nyc.gov/assets/finance/downloads/pdf/rolling_sales/annualized-sales/2009_queens.xls',\n",
    "             'http://www1.nyc.gov/assets/finance/downloads/pdf/rolling_sales/annualized-sales/2009_statenisland.xls',\n",
    "             'http://www1.nyc.gov/assets/finance/downloads/pdf/09pdf/rolling_sales/sales_2008_manhattan.xls',\n",
    "             'http://www1.nyc.gov/assets/finance/downloads/pdf/09pdf/rolling_sales/sales_2008_bronx.xls',\n",
    "             'http://www1.nyc.gov/assets/finance/downloads/pdf/09pdf/rolling_sales/sales_2008_brooklyn.xls',\n",
    "             'http://www1.nyc.gov/assets/finance/downloads/pdf/09pdf/rolling_sales/sales_2008_queens.xls',\n",
    "             'http://www1.nyc.gov/assets/finance/downloads/pdf/09pdf/rolling_sales/sales_2008_statenisland.xls']"
   ]
  },
  {
   "cell_type": "code",
   "execution_count": 17,
   "metadata": {
    "collapsed": false
   },
   "outputs": [],
   "source": [
    "for url in list_sales_detail:\n",
    "    xl_data = pd.read_excel(url, header=4)\n",
    "    for c in xl_data.columns:\n",
    "        c.rstrip('\\n')\n",
    "        xl_data.rename(columns={c: c.rstrip('\\n')}, inplace=True)\n",
    "    sales_detail = sales_detail.append(xl_data)"
   ]
  },
  {
   "cell_type": "code",
   "execution_count": 18,
   "metadata": {
    "collapsed": false
   },
   "outputs": [
    {
     "name": "stdout",
     "output_type": "stream",
     "text": [
      "(88687, 21)\n",
      "86330\n"
     ]
    }
   ],
   "source": [
    "print(sales_detail.shape)\n",
    "print(len(sales_detail.groupby(['BOROUGH','BLOCK','LOT','ADDRESS','APARTMENT NUMBER','SALE PRICE','SALE DATE']).size()))"
   ]
  },
  {
   "cell_type": "code",
   "execution_count": 19,
   "metadata": {
    "collapsed": false
   },
   "outputs": [
    {
     "data": {
      "text/plain": [
       "(89354, 32)"
      ]
     },
     "execution_count": 19,
     "metadata": {},
     "output_type": "execute_result"
    }
   ],
   "source": [
    "# check how many rows result from an inner join\n",
    "sales_detail.merge(assessments,how='inner',left_on=['BOROUGH','BLOCK','LOT'],right_on=['BORO','BLOCK','LOT'],left_index=True).shape"
   ]
  },
  {
   "cell_type": "code",
   "execution_count": 20,
   "metadata": {
    "collapsed": true
   },
   "outputs": [],
   "source": [
    "sales_detail.to_csv('dof_sales_merged.csv')"
   ]
  },
  {
   "cell_type": "markdown",
   "metadata": {},
   "source": [
    "# Get the Multiple Dwelling Registrations\n",
    "B-B-L and Building ID is primary key"
   ]
  },
  {
   "cell_type": "code",
   "execution_count": 22,
   "metadata": {
    "collapsed": false
   },
   "outputs": [],
   "source": [
    "client = Socrata(\"data.cityofnewyork.us\", \"JbH87Ju4WIAzc35ZUpMxLxFyM\")\n",
    "mdr = client.get(\"39m2-a2pz\", content_type=\"csv\", limit=50000)"
   ]
  },
  {
   "cell_type": "code",
   "execution_count": 23,
   "metadata": {
    "collapsed": false
   },
   "outputs": [
    {
     "name": "stderr",
     "output_type": "stream",
     "text": [
      "C:\\Anaconda3\\envs\\py27\\lib\\site-packages\\ipykernel\\__main__.py:4: FutureWarning: convert_objects is deprecated.  Use the data-type specific converters pd.to_datetime, pd.to_timedelta and pd.to_numeric.\n"
     ]
    },
    {
     "data": {
      "text/html": [
       "<div>\n",
       "<table border=\"1\" class=\"dataframe\">\n",
       "  <thead>\n",
       "    <tr style=\"text-align: right;\">\n",
       "      <th></th>\n",
       "      <th>bin</th>\n",
       "      <th>block</th>\n",
       "      <th>boro</th>\n",
       "      <th>boroid</th>\n",
       "      <th>buildingid</th>\n",
       "      <th>communityboard</th>\n",
       "      <th>highhousenumber</th>\n",
       "      <th>housenumber</th>\n",
       "      <th>lastregistrationdate</th>\n",
       "      <th>lot</th>\n",
       "      <th>lowhousenumber</th>\n",
       "      <th>registrationenddate</th>\n",
       "      <th>registrationid</th>\n",
       "      <th>streetcode</th>\n",
       "      <th>streetname</th>\n",
       "      <th>zip</th>\n",
       "    </tr>\n",
       "  </thead>\n",
       "  <tbody>\n",
       "    <tr>\n",
       "      <th>1</th>\n",
       "      <td>2065040</td>\n",
       "      <td>4873</td>\n",
       "      <td>BRONX</td>\n",
       "      <td>2</td>\n",
       "      <td>70619</td>\n",
       "      <td>12</td>\n",
       "      <td>1067</td>\n",
       "      <td>1067</td>\n",
       "      <td>2011-10-15T00:00:00.000</td>\n",
       "      <td>106</td>\n",
       "      <td>1067</td>\n",
       "      <td>2012-10-01T00:00:00.000</td>\n",
       "      <td>222287</td>\n",
       "      <td>28410</td>\n",
       "      <td>EAST 226 STREET</td>\n",
       "      <td>10466</td>\n",
       "    </tr>\n",
       "    <tr>\n",
       "      <th>2</th>\n",
       "      <td>4080937</td>\n",
       "      <td>3392</td>\n",
       "      <td>QUEENS</td>\n",
       "      <td>4</td>\n",
       "      <td>661272</td>\n",
       "      <td>5</td>\n",
       "      <td>1924</td>\n",
       "      <td>1924</td>\n",
       "      <td>2015-11-04T00:00:00.000</td>\n",
       "      <td>29</td>\n",
       "      <td>1924</td>\n",
       "      <td>2016-09-01T00:00:00.000</td>\n",
       "      <td>413124</td>\n",
       "      <td>48290</td>\n",
       "      <td>GROVE STREET</td>\n",
       "      <td>11385</td>\n",
       "    </tr>\n",
       "    <tr>\n",
       "      <th>3</th>\n",
       "      <td>4042948</td>\n",
       "      <td>1731</td>\n",
       "      <td>QUEENS</td>\n",
       "      <td>4</td>\n",
       "      <td>508388</td>\n",
       "      <td>3</td>\n",
       "      <td>NaN</td>\n",
       "      <td>NaN</td>\n",
       "      <td>2015-11-04T00:00:00.000</td>\n",
       "      <td>42</td>\n",
       "      <td>NaN</td>\n",
       "      <td>2016-09-01T00:00:00.000</td>\n",
       "      <td>410490</td>\n",
       "      <td>19040</td>\n",
       "      <td>97 STREET</td>\n",
       "      <td>11368</td>\n",
       "    </tr>\n",
       "    <tr>\n",
       "      <th>4</th>\n",
       "      <td>4544783</td>\n",
       "      <td>1321</td>\n",
       "      <td>QUEENS</td>\n",
       "      <td>4</td>\n",
       "      <td>692605</td>\n",
       "      <td>2</td>\n",
       "      <td>NaN</td>\n",
       "      <td>NaN</td>\n",
       "      <td>2015-11-25T00:00:00.000</td>\n",
       "      <td>61</td>\n",
       "      <td>NaN</td>\n",
       "      <td>2016-09-01T00:00:00.000</td>\n",
       "      <td>916538</td>\n",
       "      <td>61090</td>\n",
       "      <td>ROOSEVELT AVENUE</td>\n",
       "      <td>11377</td>\n",
       "    </tr>\n",
       "    <tr>\n",
       "      <th>5</th>\n",
       "      <td>4280961</td>\n",
       "      <td>13069</td>\n",
       "      <td>QUEENS</td>\n",
       "      <td>4</td>\n",
       "      <td>552480</td>\n",
       "      <td>13</td>\n",
       "      <td>NaN</td>\n",
       "      <td>NaN</td>\n",
       "      <td>2015-11-27T00:00:00.000</td>\n",
       "      <td>21</td>\n",
       "      <td>NaN</td>\n",
       "      <td>2016-09-01T00:00:00.000</td>\n",
       "      <td>916385</td>\n",
       "      <td>22820</td>\n",
       "      <td>143 AVENUE</td>\n",
       "      <td>11413</td>\n",
       "    </tr>\n",
       "  </tbody>\n",
       "</table>\n",
       "</div>"
      ],
      "text/plain": [
       "0      bin  block    boro  boroid  buildingid  communityboard  \\\n",
       "1  2065040   4873   BRONX       2       70619              12   \n",
       "2  4080937   3392  QUEENS       4      661272               5   \n",
       "3  4042948   1731  QUEENS       4      508388               3   \n",
       "4  4544783   1321  QUEENS       4      692605               2   \n",
       "5  4280961  13069  QUEENS       4      552480              13   \n",
       "\n",
       "0  highhousenumber  housenumber     lastregistrationdate  lot  lowhousenumber  \\\n",
       "1             1067         1067  2011-10-15T00:00:00.000  106            1067   \n",
       "2             1924         1924  2015-11-04T00:00:00.000   29            1924   \n",
       "3              NaN          NaN  2015-11-04T00:00:00.000   42             NaN   \n",
       "4              NaN          NaN  2015-11-25T00:00:00.000   61             NaN   \n",
       "5              NaN          NaN  2015-11-27T00:00:00.000   21             NaN   \n",
       "\n",
       "0      registrationenddate  registrationid  streetcode        streetname  \\\n",
       "1  2012-10-01T00:00:00.000          222287       28410   EAST 226 STREET   \n",
       "2  2016-09-01T00:00:00.000          413124       48290      GROVE STREET   \n",
       "3  2016-09-01T00:00:00.000          410490       19040         97 STREET   \n",
       "4  2016-09-01T00:00:00.000          916538       61090  ROOSEVELT AVENUE   \n",
       "5  2016-09-01T00:00:00.000          916385       22820        143 AVENUE   \n",
       "\n",
       "0    zip  \n",
       "1  10466  \n",
       "2  11385  \n",
       "3  11368  \n",
       "4  11377  \n",
       "5  11413  "
      ]
     },
     "execution_count": 23,
     "metadata": {},
     "output_type": "execute_result"
    }
   ],
   "source": [
    "mdrdf =pd.DataFrame(mdr)\n",
    "mdrdf.columns = mdrdf.iloc[0]\n",
    "mdrdf = mdrdf.reindex(mdrdf.index.drop(0))\n",
    "mdrdf = mdrdf.convert_objects(convert_numeric=True)\n",
    "mdrdf.head()"
   ]
  },
  {
   "cell_type": "markdown",
   "metadata": {},
   "source": [
    "# Get the list of properties receiving 421-a exemption from DOF site (xls)\n",
    "B-B-L is primary key"
   ]
  },
  {
   "cell_type": "code",
   "execution_count": 6,
   "metadata": {
    "collapsed": true
   },
   "outputs": [],
   "source": [
    "exempt_421a = pd.DataFrame()\n",
    "list_url_421a = ['http://www1.nyc.gov/assets/finance/downloads/pdf/421a/1516/421a_1516_manhattan.xls',\n",
    "                 'http://www1.nyc.gov/assets/finance/downloads/pdf/421a/1516/421a_1516_bronx.xls',\n",
    "                 'http://www1.nyc.gov/assets/finance/downloads/pdf/421a/1516/421a_1516_brooklyn.xls',\n",
    "                 'http://www1.nyc.gov/assets/finance/downloads/pdf/421a/1516/421a_1516_queens.xls',\n",
    "                 'http://www1.nyc.gov/assets/finance/downloads/pdf/421a/1516/421a_1516_statenisland.xls']"
   ]
  },
  {
   "cell_type": "code",
   "execution_count": 7,
   "metadata": {
    "collapsed": false
   },
   "outputs": [
    {
     "data": {
      "text/html": [
       "<div>\n",
       "<table border=\"1\" class=\"dataframe\">\n",
       "  <thead>\n",
       "    <tr style=\"text-align: right;\">\n",
       "      <th></th>\n",
       "      <th>BOROUGH</th>\n",
       "      <th>NEIGHBORHOOD</th>\n",
       "      <th>BUILDING CLASS CATEGORY</th>\n",
       "      <th>TAX CLASS AT PRESENT</th>\n",
       "      <th>BLOCK</th>\n",
       "      <th>LOT</th>\n",
       "      <th>BUILDING CLASS AT PRESENT</th>\n",
       "      <th>ADDRESS</th>\n",
       "      <th>ZIP CODE</th>\n",
       "      <th>RESIDENTIAL UNITS</th>\n",
       "      <th>COMMERCIAL UNITS</th>\n",
       "      <th>TOTAL UNITS</th>\n",
       "      <th>LAND SQUARE FEET</th>\n",
       "      <th>GROSS SQUARE FEET</th>\n",
       "      <th>YEAR BUILT</th>\n",
       "    </tr>\n",
       "  </thead>\n",
       "  <tbody>\n",
       "    <tr>\n",
       "      <th>0</th>\n",
       "      <td>3</td>\n",
       "      <td>BATH BEACH</td>\n",
       "      <td>02  2-FAMILY</td>\n",
       "      <td>1</td>\n",
       "      <td>6400</td>\n",
       "      <td>42</td>\n",
       "      <td>B3</td>\n",
       "      <td>8742 BAY 16 STREET</td>\n",
       "      <td>11214</td>\n",
       "      <td>2</td>\n",
       "      <td>0</td>\n",
       "      <td>2</td>\n",
       "      <td>3867</td>\n",
       "      <td>1452</td>\n",
       "      <td>1899</td>\n",
       "    </tr>\n",
       "    <tr>\n",
       "      <th>1</th>\n",
       "      <td>3</td>\n",
       "      <td>BATH BEACH</td>\n",
       "      <td>03  3-FAMILY</td>\n",
       "      <td>1</td>\n",
       "      <td>6364</td>\n",
       "      <td>62</td>\n",
       "      <td>C0</td>\n",
       "      <td>46 BAY 14 STREET</td>\n",
       "      <td>11214</td>\n",
       "      <td>3</td>\n",
       "      <td>0</td>\n",
       "      <td>3</td>\n",
       "      <td>2167</td>\n",
       "      <td>4568</td>\n",
       "      <td>2000</td>\n",
       "    </tr>\n",
       "    <tr>\n",
       "      <th>2</th>\n",
       "      <td>3</td>\n",
       "      <td>BATH BEACH</td>\n",
       "      <td>03  3-FAMILY</td>\n",
       "      <td>1</td>\n",
       "      <td>6364</td>\n",
       "      <td>63</td>\n",
       "      <td>C0</td>\n",
       "      <td>46A BAY 14 STREET</td>\n",
       "      <td>11214</td>\n",
       "      <td>3</td>\n",
       "      <td>0</td>\n",
       "      <td>3</td>\n",
       "      <td>2167</td>\n",
       "      <td>4568</td>\n",
       "      <td>2000</td>\n",
       "    </tr>\n",
       "    <tr>\n",
       "      <th>3</th>\n",
       "      <td>3</td>\n",
       "      <td>BATH BEACH</td>\n",
       "      <td>03  3-FAMILY</td>\n",
       "      <td>1</td>\n",
       "      <td>6366</td>\n",
       "      <td>20</td>\n",
       "      <td>C0</td>\n",
       "      <td>8651 17 AVENUE</td>\n",
       "      <td>11214</td>\n",
       "      <td>3</td>\n",
       "      <td>0</td>\n",
       "      <td>3</td>\n",
       "      <td>2803</td>\n",
       "      <td>4000</td>\n",
       "      <td>2003</td>\n",
       "    </tr>\n",
       "    <tr>\n",
       "      <th>4</th>\n",
       "      <td>3</td>\n",
       "      <td>BATH BEACH</td>\n",
       "      <td>03  3-FAMILY</td>\n",
       "      <td>1</td>\n",
       "      <td>6366</td>\n",
       "      <td>22</td>\n",
       "      <td>C0</td>\n",
       "      <td>8649 17 AVENUE</td>\n",
       "      <td>11214</td>\n",
       "      <td>3</td>\n",
       "      <td>0</td>\n",
       "      <td>3</td>\n",
       "      <td>2030</td>\n",
       "      <td>4200</td>\n",
       "      <td>2004</td>\n",
       "    </tr>\n",
       "  </tbody>\n",
       "</table>\n",
       "</div>"
      ],
      "text/plain": [
       "   BOROUGH               NEIGHBORHOOD  \\\n",
       "0        3  BATH BEACH                  \n",
       "1        3  BATH BEACH                  \n",
       "2        3  BATH BEACH                  \n",
       "3        3  BATH BEACH                  \n",
       "4        3  BATH BEACH                  \n",
       "\n",
       "                        BUILDING CLASS CATEGORY TAX CLASS AT PRESENT  BLOCK  \\\n",
       "0  02  2-FAMILY                                                    1   6400   \n",
       "1  03  3-FAMILY                                                    1   6364   \n",
       "2  03  3-FAMILY                                                    1   6364   \n",
       "3  03  3-FAMILY                                                    1   6366   \n",
       "4  03  3-FAMILY                                                    1   6366   \n",
       "\n",
       "   LOT BUILDING CLASS AT PRESENT                                    ADDRESS  \\\n",
       "0   42                        B3  8742 BAY 16 STREET                          \n",
       "1   62                        C0  46 BAY 14 STREET                            \n",
       "2   63                        C0  46A BAY 14 STREET                           \n",
       "3   20                        C0  8651 17 AVENUE                              \n",
       "4   22                        C0  8649 17 AVENUE                              \n",
       "\n",
       "   ZIP CODE  RESIDENTIAL UNITS  COMMERCIAL UNITS  TOTAL UNITS  \\\n",
       "0     11214                  2                 0            2   \n",
       "1     11214                  3                 0            3   \n",
       "2     11214                  3                 0            3   \n",
       "3     11214                  3                 0            3   \n",
       "4     11214                  3                 0            3   \n",
       "\n",
       "   LAND SQUARE FEET  GROSS SQUARE FEET  YEAR BUILT  \n",
       "0              3867               1452        1899  \n",
       "1              2167               4568        2000  \n",
       "2              2167               4568        2000  \n",
       "3              2803               4000        2003  \n",
       "4              2030               4200        2004  "
      ]
     },
     "execution_count": 7,
     "metadata": {},
     "output_type": "execute_result"
    }
   ],
   "source": [
    "for url in list_url_421a:\n",
    "    exempt_421a = exempt_421a.append(pd.read_excel(url, header=3))\n",
    "exempt_421a.shape"
   ]
  },
  {
   "cell_type": "markdown",
   "metadata": {},
   "source": [
    "# Get the RPIE Non-Compliance List"
   ]
  },
  {
   "cell_type": "code",
   "execution_count": 24,
   "metadata": {
    "collapsed": true
   },
   "outputs": [],
   "source": [
    "list_rpienc_files = [('http://www1.nyc.gov/assets/finance/downloads/pdf/rpie/non-filers/non-filers_manhattan.xlsx',1),\n",
    "                    ('http://www1.nyc.gov/assets/finance/downloads/pdf/rpie/non-filers/non-filers_bronx.xlsx',2),\n",
    "                    ('http://www1.nyc.gov/assets/finance/downloads/pdf/rpie/non-filers/non-filers_brooklyn.xlsx',3),\n",
    "                    ('http://www1.nyc.gov/assets/finance/downloads/pdf/rpie/non-filers/non-filers_queens.xlsx',4),\n",
    "                    ('http://www1.nyc.gov/assets/finance/downloads/pdf/rpie/non-filers/non-filers_statenisland.xlsx',5)]"
   ]
  },
  {
   "cell_type": "code",
   "execution_count": 25,
   "metadata": {
    "collapsed": false
   },
   "outputs": [],
   "source": [
    "rpienc = pd.DataFrame()\n",
    "for filename, boroid in list_rpienc_files:\n",
    "    borodata = pd.read_excel(filename, header=1)\n",
    "    # Need to add a boroid as an integer, for joining to other sources\n",
    "    borodata['boroid'] = boroid\n",
    "    rpienc = rpienc.append(borodata)"
   ]
  },
  {
   "cell_type": "code",
   "execution_count": 26,
   "metadata": {
    "collapsed": false
   },
   "outputs": [
    {
     "data": {
      "text/plain": [
       "(15937, 11)"
      ]
     },
     "execution_count": 26,
     "metadata": {},
     "output_type": "execute_result"
    }
   ],
   "source": [
    "rpienc.shape"
   ]
  },
  {
   "cell_type": "code",
   "execution_count": null,
   "metadata": {
    "collapsed": true
   },
   "outputs": [],
   "source": []
  }
 ],
 "metadata": {
  "kernelspec": {
   "display_name": "Python 2",
   "language": "python",
   "name": "python2"
  },
  "language_info": {
   "codemirror_mode": {
    "name": "ipython",
    "version": 2
   },
   "file_extension": ".py",
   "mimetype": "text/x-python",
   "name": "python",
   "nbconvert_exporter": "python",
   "pygments_lexer": "ipython2",
   "version": "2.7.11"
  }
 },
 "nbformat": 4,
 "nbformat_minor": 0
}
