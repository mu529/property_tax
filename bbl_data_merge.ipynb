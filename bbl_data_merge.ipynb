{
 "cells": [
  {
   "cell_type": "code",
   "execution_count": 13,
   "metadata": {
    "collapsed": true
   },
   "outputs": [],
   "source": [
    "from sodapy import Socrata\n",
    "import requests, zipfile, StringIO\n",
    "import urllib2\n",
    "import pandas as pd"
   ]
  },
  {
   "cell_type": "code",
   "execution_count": 7,
   "metadata": {
    "collapsed": true
   },
   "outputs": [],
   "source": [
    "client = Socrata(\"data.cityofnewyork.us\", \"JbH87Ju4WIAzc35ZUpMxLxFyM\")"
   ]
  },
  {
   "cell_type": "code",
   "execution_count": 17,
   "metadata": {
    "collapsed": true
   },
   "outputs": [],
   "source": [
    "r = requests.get('http://www1.nyc.gov/assets/planning/download/zip/data-maps/open-data/nyc_pluto_15v1.zip')\n",
    "pluto_zip = zipfile.ZipFile(StringIO.StringIO(r.content))"
   ]
  },
  {
   "cell_type": "code",
   "execution_count": 20,
   "metadata": {
    "collapsed": false
   },
   "outputs": [
    {
     "name": "stderr",
     "output_type": "stream",
     "text": [
      "C:\\Anaconda3\\envs\\py27\\lib\\site-packages\\IPython\\core\\interactiveshell.py:2902: DtypeWarning: Columns (4,6,7,8,10,11,50,52,53,77,79) have mixed types. Specify dtype option on import or set low_memory=False.\n",
      "  interactivity=interactivity, compiler=compiler, result=result)\n"
     ]
    }
   ],
   "source": [
    "SI = pd.read_csv(pluto_zip.open('SI.csv'))"
   ]
  },
  {
   "cell_type": "code",
   "execution_count": 22,
   "metadata": {
    "collapsed": false
   },
   "outputs": [
    {
     "data": {
      "text/html": [
       "<div>\n",
       "<table border=\"1\" class=\"dataframe\">\n",
       "  <thead>\n",
       "    <tr style=\"text-align: right;\">\n",
       "      <th></th>\n",
       "      <th>Borough</th>\n",
       "      <th>Block</th>\n",
       "      <th>Lot</th>\n",
       "      <th>CD</th>\n",
       "      <th>CT2010</th>\n",
       "      <th>CB2010</th>\n",
       "      <th>SchoolDist</th>\n",
       "      <th>Council</th>\n",
       "      <th>ZipCode</th>\n",
       "      <th>FireComp</th>\n",
       "      <th>...</th>\n",
       "      <th>YCoord</th>\n",
       "      <th>ZoneMap</th>\n",
       "      <th>ZMCode</th>\n",
       "      <th>Sanborn</th>\n",
       "      <th>TaxMap</th>\n",
       "      <th>EDesigNum</th>\n",
       "      <th>APPBBL</th>\n",
       "      <th>APPDate</th>\n",
       "      <th>PLUTOMapID</th>\n",
       "      <th>Version</th>\n",
       "    </tr>\n",
       "  </thead>\n",
       "  <tbody>\n",
       "    <tr>\n",
       "      <th>0</th>\n",
       "      <td>SI</td>\n",
       "      <td>1</td>\n",
       "      <td>10</td>\n",
       "      <td>501</td>\n",
       "      <td>3</td>\n",
       "      <td>2000</td>\n",
       "      <td>31</td>\n",
       "      <td>49</td>\n",
       "      <td>10301</td>\n",
       "      <td>L078</td>\n",
       "      <td>...</td>\n",
       "      <td>171951</td>\n",
       "      <td>21c</td>\n",
       "      <td></td>\n",
       "      <td>501 017</td>\n",
       "      <td>50101</td>\n",
       "      <td></td>\n",
       "      <td>0</td>\n",
       "      <td></td>\n",
       "      <td>1</td>\n",
       "      <td>15v1</td>\n",
       "    </tr>\n",
       "    <tr>\n",
       "      <th>1</th>\n",
       "      <td>SI</td>\n",
       "      <td>1</td>\n",
       "      <td>17</td>\n",
       "      <td>501</td>\n",
       "      <td>3</td>\n",
       "      <td></td>\n",
       "      <td>31</td>\n",
       "      <td>49</td>\n",
       "      <td>10301</td>\n",
       "      <td>L078</td>\n",
       "      <td>...</td>\n",
       "      <td></td>\n",
       "      <td>21c</td>\n",
       "      <td></td>\n",
       "      <td>501 017</td>\n",
       "      <td>50101</td>\n",
       "      <td></td>\n",
       "      <td>0</td>\n",
       "      <td></td>\n",
       "      <td>1</td>\n",
       "      <td>15v1</td>\n",
       "    </tr>\n",
       "    <tr>\n",
       "      <th>2</th>\n",
       "      <td>SI</td>\n",
       "      <td>1</td>\n",
       "      <td>18</td>\n",
       "      <td>501</td>\n",
       "      <td>3</td>\n",
       "      <td></td>\n",
       "      <td>31</td>\n",
       "      <td>49</td>\n",
       "      <td>10301</td>\n",
       "      <td>L078</td>\n",
       "      <td>...</td>\n",
       "      <td></td>\n",
       "      <td>21c</td>\n",
       "      <td></td>\n",
       "      <td>501 017</td>\n",
       "      <td>50101</td>\n",
       "      <td></td>\n",
       "      <td>0</td>\n",
       "      <td></td>\n",
       "      <td>1</td>\n",
       "      <td>15v1</td>\n",
       "    </tr>\n",
       "    <tr>\n",
       "      <th>3</th>\n",
       "      <td>SI</td>\n",
       "      <td>1</td>\n",
       "      <td>19</td>\n",
       "      <td>501</td>\n",
       "      <td>3</td>\n",
       "      <td></td>\n",
       "      <td>31</td>\n",
       "      <td>49</td>\n",
       "      <td>10301</td>\n",
       "      <td>L078</td>\n",
       "      <td>...</td>\n",
       "      <td></td>\n",
       "      <td>21c</td>\n",
       "      <td></td>\n",
       "      <td>501 017</td>\n",
       "      <td>50101</td>\n",
       "      <td></td>\n",
       "      <td>0</td>\n",
       "      <td></td>\n",
       "      <td>1</td>\n",
       "      <td>15v1</td>\n",
       "    </tr>\n",
       "    <tr>\n",
       "      <th>4</th>\n",
       "      <td>SI</td>\n",
       "      <td>1</td>\n",
       "      <td>21</td>\n",
       "      <td>501</td>\n",
       "      <td>3</td>\n",
       "      <td></td>\n",
       "      <td>31</td>\n",
       "      <td>49</td>\n",
       "      <td>10301</td>\n",
       "      <td>L078</td>\n",
       "      <td>...</td>\n",
       "      <td></td>\n",
       "      <td>21c</td>\n",
       "      <td></td>\n",
       "      <td>501 017</td>\n",
       "      <td>50101</td>\n",
       "      <td></td>\n",
       "      <td>0</td>\n",
       "      <td></td>\n",
       "      <td>1</td>\n",
       "      <td>15v1</td>\n",
       "    </tr>\n",
       "  </tbody>\n",
       "</table>\n",
       "<p>5 rows × 83 columns</p>\n",
       "</div>"
      ],
      "text/plain": [
       "  Borough  Block  Lot   CD CT2010 CB2010 SchoolDist Council ZipCode FireComp  \\\n",
       "0      SI      1   10  501      3   2000         31      49   10301     L078   \n",
       "1      SI      1   17  501      3                31      49   10301     L078   \n",
       "2      SI      1   18  501      3                31      49   10301     L078   \n",
       "3      SI      1   19  501      3                31      49   10301     L078   \n",
       "4      SI      1   21  501      3                31      49   10301     L078   \n",
       "\n",
       "    ...     YCoord ZoneMap ZMCode   Sanborn TaxMap EDesigNum APPBBL  \\\n",
       "0   ...     171951     21c         501 017   50101                0   \n",
       "1   ...                21c         501 017   50101                0   \n",
       "2   ...                21c         501 017   50101                0   \n",
       "3   ...                21c         501 017   50101                0   \n",
       "4   ...                21c         501 017   50101                0   \n",
       "\n",
       "      APPDate PLUTOMapID Version  \n",
       "0                      1  15v1    \n",
       "1                      1  15v1    \n",
       "2                      1  15v1    \n",
       "3                      1  15v1    \n",
       "4                      1  15v1    \n",
       "\n",
       "[5 rows x 83 columns]"
      ]
     },
     "execution_count": 22,
     "metadata": {},
     "output_type": "execute_result"
    }
   ],
   "source": [
    "SI.head()"
   ]
  },
  {
   "cell_type": "code",
   "execution_count": 34,
   "metadata": {
    "collapsed": false
   },
   "outputs": [],
   "source": [
    "mdr = client.get(\"39m2-a2pz\", content_type=\"csv\", limit=20)"
   ]
  },
  {
   "cell_type": "code",
   "execution_count": 51,
   "metadata": {
    "collapsed": false
   },
   "outputs": [
    {
     "name": "stderr",
     "output_type": "stream",
     "text": [
      "C:\\Anaconda3\\envs\\py27\\lib\\site-packages\\ipykernel\\__main__.py:4: FutureWarning: convert_objects is deprecated.  Use the data-type specific converters pd.to_datetime, pd.to_timedelta and pd.to_numeric.\n"
     ]
    }
   ],
   "source": [
    "mdrdf =pd.DataFrame(mdr)\n",
    "mdrdf.columns = mdrdf.iloc[0]\n",
    "mdrdf = mdrdf.reindex(mdrdf.index.drop(0))\n",
    "mdrdf = mdrdf.convert_objects(convert_numeric=True)"
   ]
  },
  {
   "cell_type": "code",
   "execution_count": 52,
   "metadata": {
    "collapsed": false
   },
   "outputs": [
    {
     "data": {
      "text/plain": [
       "10"
      ]
     },
     "execution_count": 52,
     "metadata": {},
     "output_type": "execute_result"
    }
   ],
   "source": [
    "SI.loc[0]['Lot']"
   ]
  },
  {
   "cell_type": "code",
   "execution_count": 53,
   "metadata": {
    "collapsed": false
   },
   "outputs": [
    {
     "data": {
      "text/html": [
       "<div>\n",
       "<table border=\"1\" class=\"dataframe\">\n",
       "  <thead>\n",
       "    <tr style=\"text-align: right;\">\n",
       "      <th></th>\n",
       "      <th>bin</th>\n",
       "      <th>block</th>\n",
       "      <th>boro</th>\n",
       "      <th>boroid</th>\n",
       "      <th>buildingid</th>\n",
       "      <th>communityboard</th>\n",
       "      <th>highhousenumber</th>\n",
       "      <th>housenumber</th>\n",
       "      <th>lastregistrationdate</th>\n",
       "      <th>lot</th>\n",
       "      <th>lowhousenumber</th>\n",
       "      <th>registrationenddate</th>\n",
       "      <th>registrationid</th>\n",
       "      <th>streetcode</th>\n",
       "      <th>streetname</th>\n",
       "      <th>zip</th>\n",
       "    </tr>\n",
       "  </thead>\n",
       "  <tbody>\n",
       "    <tr>\n",
       "      <th>1</th>\n",
       "      <td>2065040</td>\n",
       "      <td>4873</td>\n",
       "      <td>BRONX</td>\n",
       "      <td>2</td>\n",
       "      <td>70619</td>\n",
       "      <td>12</td>\n",
       "      <td>1067</td>\n",
       "      <td>1067</td>\n",
       "      <td>2011-10-15T00:00:00.000</td>\n",
       "      <td>106</td>\n",
       "      <td>1067</td>\n",
       "      <td>2012-10-01T00:00:00.000</td>\n",
       "      <td>222287</td>\n",
       "      <td>28410</td>\n",
       "      <td>EAST 226 STREET</td>\n",
       "      <td>10466</td>\n",
       "    </tr>\n",
       "    <tr>\n",
       "      <th>2</th>\n",
       "      <td>4080937</td>\n",
       "      <td>3392</td>\n",
       "      <td>QUEENS</td>\n",
       "      <td>4</td>\n",
       "      <td>661272</td>\n",
       "      <td>5</td>\n",
       "      <td>1924</td>\n",
       "      <td>1924</td>\n",
       "      <td>2015-11-04T00:00:00.000</td>\n",
       "      <td>29</td>\n",
       "      <td>1924</td>\n",
       "      <td>2016-09-01T00:00:00.000</td>\n",
       "      <td>413124</td>\n",
       "      <td>48290</td>\n",
       "      <td>GROVE STREET</td>\n",
       "      <td>11385</td>\n",
       "    </tr>\n",
       "    <tr>\n",
       "      <th>3</th>\n",
       "      <td>4042948</td>\n",
       "      <td>1731</td>\n",
       "      <td>QUEENS</td>\n",
       "      <td>4</td>\n",
       "      <td>508388</td>\n",
       "      <td>3</td>\n",
       "      <td>NaN</td>\n",
       "      <td>NaN</td>\n",
       "      <td>2015-11-04T00:00:00.000</td>\n",
       "      <td>42</td>\n",
       "      <td>NaN</td>\n",
       "      <td>2016-09-01T00:00:00.000</td>\n",
       "      <td>410490</td>\n",
       "      <td>19040</td>\n",
       "      <td>97 STREET</td>\n",
       "      <td>11368</td>\n",
       "    </tr>\n",
       "    <tr>\n",
       "      <th>4</th>\n",
       "      <td>4544783</td>\n",
       "      <td>1321</td>\n",
       "      <td>QUEENS</td>\n",
       "      <td>4</td>\n",
       "      <td>692605</td>\n",
       "      <td>2</td>\n",
       "      <td>NaN</td>\n",
       "      <td>NaN</td>\n",
       "      <td>2015-11-25T00:00:00.000</td>\n",
       "      <td>61</td>\n",
       "      <td>NaN</td>\n",
       "      <td>2016-09-01T00:00:00.000</td>\n",
       "      <td>916538</td>\n",
       "      <td>61090</td>\n",
       "      <td>ROOSEVELT AVENUE</td>\n",
       "      <td>11377</td>\n",
       "    </tr>\n",
       "    <tr>\n",
       "      <th>5</th>\n",
       "      <td>4280961</td>\n",
       "      <td>13069</td>\n",
       "      <td>QUEENS</td>\n",
       "      <td>4</td>\n",
       "      <td>552480</td>\n",
       "      <td>13</td>\n",
       "      <td>NaN</td>\n",
       "      <td>NaN</td>\n",
       "      <td>2015-11-27T00:00:00.000</td>\n",
       "      <td>21</td>\n",
       "      <td>NaN</td>\n",
       "      <td>2016-09-01T00:00:00.000</td>\n",
       "      <td>916385</td>\n",
       "      <td>22820</td>\n",
       "      <td>143 AVENUE</td>\n",
       "      <td>11413</td>\n",
       "    </tr>\n",
       "  </tbody>\n",
       "</table>\n",
       "</div>"
      ],
      "text/plain": [
       "0      bin  block    boro  boroid  buildingid  communityboard  \\\n",
       "1  2065040   4873   BRONX       2       70619              12   \n",
       "2  4080937   3392  QUEENS       4      661272               5   \n",
       "3  4042948   1731  QUEENS       4      508388               3   \n",
       "4  4544783   1321  QUEENS       4      692605               2   \n",
       "5  4280961  13069  QUEENS       4      552480              13   \n",
       "\n",
       "0  highhousenumber  housenumber     lastregistrationdate  lot  lowhousenumber  \\\n",
       "1             1067         1067  2011-10-15T00:00:00.000  106            1067   \n",
       "2             1924         1924  2015-11-04T00:00:00.000   29            1924   \n",
       "3              NaN          NaN  2015-11-04T00:00:00.000   42             NaN   \n",
       "4              NaN          NaN  2015-11-25T00:00:00.000   61             NaN   \n",
       "5              NaN          NaN  2015-11-27T00:00:00.000   21             NaN   \n",
       "\n",
       "0      registrationenddate  registrationid  streetcode        streetname  \\\n",
       "1  2012-10-01T00:00:00.000          222287       28410   EAST 226 STREET   \n",
       "2  2016-09-01T00:00:00.000          413124       48290      GROVE STREET   \n",
       "3  2016-09-01T00:00:00.000          410490       19040         97 STREET   \n",
       "4  2016-09-01T00:00:00.000          916538       61090  ROOSEVELT AVENUE   \n",
       "5  2016-09-01T00:00:00.000          916385       22820        143 AVENUE   \n",
       "\n",
       "0    zip  \n",
       "1  10466  \n",
       "2  11385  \n",
       "3  11368  \n",
       "4  11377  \n",
       "5  11413  "
      ]
     },
     "execution_count": 53,
     "metadata": {},
     "output_type": "execute_result"
    }
   ],
   "source": [
    "mdrdf.head()"
   ]
  },
  {
   "cell_type": "code",
   "execution_count": null,
   "metadata": {
    "collapsed": true
   },
   "outputs": [],
   "source": []
  }
 ],
 "metadata": {
  "kernelspec": {
   "display_name": "Python 2",
   "language": "python",
   "name": "python2"
  },
  "language_info": {
   "codemirror_mode": {
    "name": "ipython",
    "version": 2
   },
   "file_extension": ".py",
   "mimetype": "text/x-python",
   "name": "python",
   "nbconvert_exporter": "python",
   "pygments_lexer": "ipython2",
   "version": "2.7.11"
  }
 },
 "nbformat": 4,
 "nbformat_minor": 0
}
