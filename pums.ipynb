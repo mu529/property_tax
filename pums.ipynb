{
 "cells": [
  {
   "cell_type": "code",
   "execution_count": 1,
   "metadata": {
    "collapsed": false
   },
   "outputs": [
    {
     "name": "stdout",
     "output_type": "stream",
     "text": [
      "Populating the interactive namespace from numpy and matplotlib\n"
     ]
    },
    {
     "name": "stderr",
     "output_type": "stream",
     "text": [
      "WARNING: pylab import has clobbered these variables: ['plt']\n",
      "`%matplotlib` prevents importing * from pylab and numpy\n"
     ]
    }
   ],
   "source": [
    "from sodapy import Socrata\n",
    "import requests, zipfile, StringIO\n",
    "import urllib2\n",
    "import pandas as pd\n",
    "import numpy as np\n",
    "import pypyodbc\n",
    "import csv\n",
    "import os\n",
    "import tempfile\n",
    "import statsmodels.formula.api as smf\n",
    "import pylab as plt\n",
    "%pylab inline"
   ]
  },
  {
   "cell_type": "code",
   "execution_count": 2,
   "metadata": {
    "collapsed": false
   },
   "outputs": [],
   "source": [
    "puma_ref = pd.read_excel('http://www.nyc.gov/html/dcp/download/census/nyc2010census_tabulation_equiv.xlsx',header=3)\n",
    "# alternatively, use shapefile from https://data.cityofnewyork.us/Housing-Development/Public-Use-Microdata-Areas-PUMA-/cwiz-gcty\n",
    "puma_list = puma_ref['PUMA'].unique()[~np.isnan(puma_ref['PUMA'].unique())]"
   ]
  },
  {
   "cell_type": "code",
   "execution_count": 3,
   "metadata": {
    "collapsed": false
   },
   "outputs": [],
   "source": [
    "pums_data = pd.read_csv('ss14hny.csv')\n",
    "pums_data['PUMA'] = pums_data[['PUMA00','PUMA10']].max(axis=1)"
   ]
  },
  {
   "cell_type": "code",
   "execution_count": 4,
   "metadata": {
    "collapsed": false
   },
   "outputs": [
    {
     "name": "stdout",
     "output_type": "stream",
     "text": [
      "2532 rows after addition of PUMA 3704.0\n",
      "4290 rows after addition of PUMA 3706.0\n",
      "6056 rows after addition of PUMA 3705.0\n",
      "7926 rows after addition of PUMA 3703.0\n",
      "9866 rows after addition of PUMA 3708.0\n",
      "12388 rows after addition of PUMA 3702.0\n",
      "14586 rows after addition of PUMA 3707.0\n",
      "17711 rows after addition of PUMA 3710.0\n",
      "20042 rows after addition of PUMA 3701.0\n",
      "22819 rows after addition of PUMA 3709.0\n",
      "26492 rows after addition of PUMA 4017.0\n",
      "30173 rows after addition of PUMA 4013.0\n",
      "32776 rows after addition of PUMA 4003.0\n",
      "35635 rows after addition of PUMA 4014.0\n",
      "37778 rows after addition of PUMA 4018.0\n",
      "41340 rows after addition of PUMA 4004.0\n",
      "43637 rows after addition of PUMA 4007.0\n",
      "45814 rows after addition of PUMA 4002.0\n",
      "50028 rows after addition of PUMA 4009.0\n",
      "52591 rows after addition of PUMA 4005.0\n",
      "55175 rows after addition of PUMA 4006.0\n",
      "57103 rows after addition of PUMA 4011.0\n",
      "59846 rows after addition of PUMA 4008.0\n",
      "62467 rows after addition of PUMA 4010.0\n",
      "65477 rows after addition of PUMA 4001.0\n",
      "68422 rows after addition of PUMA 4015.0\n",
      "71793 rows after addition of PUMA 4016.0\n",
      "74257 rows after addition of PUMA 4012.0\n",
      "77617 rows after addition of PUMA 3810.0\n",
      "80027 rows after addition of PUMA 3803.0\n",
      "83208 rows after addition of PUMA 3809.0\n",
      "86743 rows after addition of PUMA 3807.0\n",
      "88931 rows after addition of PUMA 3804.0\n",
      "91697 rows after addition of PUMA 3808.0\n",
      "94185 rows after addition of PUMA 3802.0\n",
      "97995 rows after addition of PUMA 3805.0\n",
      "101058 rows after addition of PUMA 3806.0\n",
      "103956 rows after addition of PUMA 3801.0\n",
      "106308 rows after addition of PUMA 4102.0\n",
      "110025 rows after addition of PUMA 4105.0\n",
      "114019 rows after addition of PUMA 4101.0\n",
      "116615 rows after addition of PUMA 4104.0\n",
      "120796 rows after addition of PUMA 4112.0\n",
      "122925 rows after addition of PUMA 4114.0\n",
      "125691 rows after addition of PUMA 4106.0\n",
      "130078 rows after addition of PUMA 4103.0\n",
      "131885 rows after addition of PUMA 4107.0\n",
      "134287 rows after addition of PUMA 4109.0\n",
      "136671 rows after addition of PUMA 4108.0\n",
      "140455 rows after addition of PUMA 4110.0\n",
      "143381 rows after addition of PUMA 4111.0\n",
      "145453 rows after addition of PUMA 4113.0\n",
      "147993 rows after addition of PUMA 3901.0\n",
      "150486 rows after addition of PUMA 3902.0\n",
      "153903 rows after addition of PUMA 3903.0\n"
     ]
    }
   ],
   "source": [
    "nyc_pums = pd.DataFrame()\n",
    "for puma in puma_list:\n",
    "    nyc_pums = nyc_pums.append(pums_data.query('PUMA == @puma'))\n",
    "    print nyc_pums.shape[0],'rows after addition of PUMA',str(puma)"
   ]
  },
  {
   "cell_type": "code",
   "execution_count": 5,
   "metadata": {
    "collapsed": true
   },
   "outputs": [],
   "source": [
    "AMI_60_max = {1:36300,2:41460,3:46620,4:51780,5:56940,6:62100,7:67260,8:72420}\n",
    "# 80 pct figures for 2015 from http://www1.nyc.gov/assets/hpd/downloads/pdf/NSP-tenant-lease-guidelines.pdf\n",
    "AMI_80_max = {1:48400,2:55280,3:62160,4:69040,5:74640,6:80160,7:85680,8:91200}\n",
    "nyc_pums['AMI_60'] = 0\n",
    "for n in AMI_60_max.items():\n",
    "    nyc_pums.loc[(nyc_pums['NP']==n[0]) & (nyc_pums['HINCP']<=n[1]),'AMI_60'] = 1\n",
    "nyc_pums.loc[(nyc_pums['NP']>n[0]) & (nyc_pums['HINCP']<=n[1]),'AMI_60'] = 1\n",
    "nyc_pums['AMI_80'] = 0\n",
    "for n in AMI_80_max.items():\n",
    "    nyc_pums.loc[(nyc_pums['NP']==n[0]) & (nyc_pums['HINCP']<=n[1]),'AMI_80'] = 1\n",
    "nyc_pums.loc[(nyc_pums['NP']>n[0]) & (nyc_pums['HINCP']<=n[1]),'AMI_80'] = 1"
   ]
  },
  {
   "cell_type": "code",
   "execution_count": 28,
   "metadata": {
    "collapsed": false
   },
   "outputs": [],
   "source": [
    "age_grouping = {1:'PreWar',2:'PostWar',3:'PostWar',4:'PostWar',5:'PostWar',6:'PostWar',7:'PostWar',8:'Modern'}\n",
    "nyc_pums['AgeGroup'] = ''\n",
    "for n in age_grouping.items():\n",
    "    nyc_pums.loc[nyc_pums['YBL']==n[0],'AgeGroup'] = n[1]\n",
    "nyc_pums.loc[nyc_pums['YBL']>n[0],'AgeGroup'] = n[1]"
   ]
  },
  {
   "cell_type": "code",
   "execution_count": 21,
   "metadata": {
    "collapsed": false
   },
   "outputs": [],
   "source": [
    "size_grouping = {1:'Small',2:'Small',3:'Small',4:'Small',5:'Medium',6:'Medium',7:'Medium',8:'Large',9:'Large'}\n",
    "nyc_pums['SizeGroup'] = ''\n",
    "for n in size_grouping.items():\n",
    "    nyc_pums.loc[nyc_pums['BLD']==n[0],'SizeGroup'] = n[1]\n",
    "nyc_pums.loc[nyc_pums['BLD']>n[0],'SizeGroup'] = n[1]"
   ]
  },
  {
   "cell_type": "code",
   "execution_count": 8,
   "metadata": {
    "collapsed": true
   },
   "outputs": [],
   "source": [
    "nyc_pums['ResidencyGroup'] = ''\n",
    "nyc_pums.loc[nyc_pums['MV']<=4,'ResidencyGroup'] = 'Under10'\n",
    "nyc_pums.loc[nyc_pums['MV']==5,'ResidencyGroup'] = '10Years'\n",
    "nyc_pums.loc[nyc_pums['MV']==6,'ResidencyGroup'] = '20Years'\n",
    "nyc_pums.loc[nyc_pums['MV']==7,'ResidencyGroup'] = '30Years'"
   ]
  },
  {
   "cell_type": "code",
   "execution_count": 9,
   "metadata": {
    "collapsed": false
   },
   "outputs": [
    {
     "name": "stdout",
     "output_type": "stream",
     "text": [
      "Median HH income in all NYC PUMAs\n"
     ]
    },
    {
     "data": {
      "text/plain": [
       "52000.0"
      ]
     },
     "execution_count": 9,
     "metadata": {},
     "output_type": "execute_result"
    }
   ],
   "source": [
    "print ('Median HH income in all NYC PUMAs')\n",
    "nyc_pums['HINCP'].median()"
   ]
  },
  {
   "cell_type": "code",
   "execution_count": 10,
   "metadata": {
    "collapsed": false
   },
   "outputs": [
    {
     "name": "stdout",
     "output_type": "stream",
     "text": [
      "Example median HH income in Williamsburg/Greenpoint\n"
     ]
    },
    {
     "data": {
      "text/plain": [
       "60000.0"
      ]
     },
     "execution_count": 10,
     "metadata": {},
     "output_type": "execute_result"
    }
   ],
   "source": [
    "print('Example median HH income in Williamsburg/Greenpoint')\n",
    "nyc_pums[nyc_pums['PUMA10']==4001]['HINCP'].median()"
   ]
  },
  {
   "cell_type": "code",
   "execution_count": 15,
   "metadata": {
    "collapsed": false
   },
   "outputs": [],
   "source": [
    "# excluding group quarters and vacant household records\n",
    "nyc_pums = nyc_pums.query('TYPE == 1 & BLD > 1 & BLD < 10')\n",
    "nyc_pums = nyc_pums[nyc_pums['VACS'].isnull()]"
   ]
  },
  {
   "cell_type": "code",
   "execution_count": 29,
   "metadata": {
    "collapsed": false
   },
   "outputs": [
    {
     "name": "stdout",
     "output_type": "stream",
     "text": [
      "Percentage of households who own that are considered Low Income: 0.366788757067\n"
     ]
    },
    {
     "data": {
      "text/html": [
       "<div>\n",
       "<table border=\"1\" class=\"dataframe\">\n",
       "  <thead>\n",
       "    <tr style=\"text-align: right;\">\n",
       "      <th>AgeGroup</th>\n",
       "      <th>Modern</th>\n",
       "      <th>PostWar</th>\n",
       "      <th>PreWar</th>\n",
       "    </tr>\n",
       "    <tr>\n",
       "      <th>SizeGroup</th>\n",
       "      <th></th>\n",
       "      <th></th>\n",
       "      <th></th>\n",
       "    </tr>\n",
       "  </thead>\n",
       "  <tbody>\n",
       "    <tr>\n",
       "      <th>Large</th>\n",
       "      <td>0.486380</td>\n",
       "      <td>0.675143</td>\n",
       "      <td>0.675643</td>\n",
       "    </tr>\n",
       "    <tr>\n",
       "      <th>Medium</th>\n",
       "      <td>0.617682</td>\n",
       "      <td>0.658810</td>\n",
       "      <td>0.610899</td>\n",
       "    </tr>\n",
       "    <tr>\n",
       "      <th>Small</th>\n",
       "      <td>0.669666</td>\n",
       "      <td>0.639246</td>\n",
       "      <td>0.643574</td>\n",
       "    </tr>\n",
       "  </tbody>\n",
       "</table>\n",
       "</div>"
      ],
      "text/plain": [
       "AgeGroup     Modern   PostWar    PreWar\n",
       "SizeGroup                              \n",
       "Large      0.486380  0.675143  0.675643\n",
       "Medium     0.617682  0.658810  0.610899\n",
       "Small      0.669666  0.639246  0.643574"
      ]
     },
     "execution_count": 29,
     "metadata": {},
     "output_type": "execute_result"
    }
   ],
   "source": [
    "print 'Percentage of households who own that are considered Low Income:', nyc_pums.query('TEN < 3')['AMI_80'].mean()\n",
    "nyc_pums.query('TEN < 3').pivot_table(index='SizeGroup',columns='AgeGroup',values='AMI_80',aggfunc='mean')"
   ]
  },
  {
   "cell_type": "code",
   "execution_count": 30,
   "metadata": {
    "collapsed": false
   },
   "outputs": [
    {
     "name": "stdout",
     "output_type": "stream",
     "text": [
      "Percentage of households who rent that are considered Low Income: 0.649729247627\n"
     ]
    },
    {
     "data": {
      "text/html": [
       "<div>\n",
       "<table border=\"1\" class=\"dataframe\">\n",
       "  <thead>\n",
       "    <tr style=\"text-align: right;\">\n",
       "      <th>AgeGroup</th>\n",
       "      <th>Modern</th>\n",
       "      <th>PostWar</th>\n",
       "      <th>PreWar</th>\n",
       "    </tr>\n",
       "    <tr>\n",
       "      <th>SizeGroup</th>\n",
       "      <th></th>\n",
       "      <th></th>\n",
       "      <th></th>\n",
       "    </tr>\n",
       "  </thead>\n",
       "  <tbody>\n",
       "    <tr>\n",
       "      <th>Large</th>\n",
       "      <td>0.486380</td>\n",
       "      <td>0.675143</td>\n",
       "      <td>0.675643</td>\n",
       "    </tr>\n",
       "    <tr>\n",
       "      <th>Medium</th>\n",
       "      <td>0.617682</td>\n",
       "      <td>0.658810</td>\n",
       "      <td>0.610899</td>\n",
       "    </tr>\n",
       "    <tr>\n",
       "      <th>Small</th>\n",
       "      <td>0.669666</td>\n",
       "      <td>0.639246</td>\n",
       "      <td>0.643574</td>\n",
       "    </tr>\n",
       "  </tbody>\n",
       "</table>\n",
       "</div>"
      ],
      "text/plain": [
       "AgeGroup     Modern   PostWar    PreWar\n",
       "SizeGroup                              \n",
       "Large      0.486380  0.675143  0.675643\n",
       "Medium     0.617682  0.658810  0.610899\n",
       "Small      0.669666  0.639246  0.643574"
      ]
     },
     "execution_count": 30,
     "metadata": {},
     "output_type": "execute_result"
    }
   ],
   "source": [
    "print 'Percentage of households who rent that are considered Low Income:', nyc_pums.query('TEN == 3')['AMI_80'].mean()\n",
    "nyc_pums.query('TEN == 3').pivot_table(index='SizeGroup',columns='AgeGroup',values='AMI_80',aggfunc='mean')"
   ]
  },
  {
   "cell_type": "code",
   "execution_count": 14,
   "metadata": {
    "collapsed": false
   },
   "outputs": [
    {
     "data": {
      "text/html": [
       "<div>\n",
       "<table border=\"1\" class=\"dataframe\">\n",
       "  <thead>\n",
       "    <tr style=\"text-align: right;\">\n",
       "      <th></th>\n",
       "      <th>insp</th>\n",
       "      <th>RT</th>\n",
       "      <th>SERIALNO</th>\n",
       "      <th>DIVISION</th>\n",
       "      <th>PUMA00</th>\n",
       "      <th>PUMA10</th>\n",
       "      <th>REGION</th>\n",
       "      <th>ST</th>\n",
       "      <th>ADJHSG</th>\n",
       "      <th>ADJINC</th>\n",
       "      <th>...</th>\n",
       "      <th>WGTP77</th>\n",
       "      <th>WGTP78</th>\n",
       "      <th>WGTP79</th>\n",
       "      <th>WGTP80</th>\n",
       "      <th>PUMA</th>\n",
       "      <th>AMI_60</th>\n",
       "      <th>AMI_80</th>\n",
       "      <th>AgeGroup</th>\n",
       "      <th>SizeGroup</th>\n",
       "      <th>ResidencyGroup</th>\n",
       "    </tr>\n",
       "  </thead>\n",
       "  <tbody>\n",
       "  </tbody>\n",
       "</table>\n",
       "<p>0 rows × 211 columns</p>\n",
       "</div>"
      ],
      "text/plain": [
       "Empty DataFrame\n",
       "Columns: [insp, RT, SERIALNO, DIVISION, PUMA00, PUMA10, REGION, ST, ADJHSG, ADJINC, WGTP, NP, TYPE, ACR, AGS, BATH, BDSP, BLD, BUS, CONP, ELEP, FS, FULP, GASP, HFL, MHP, MRGI, MRGP, MRGT, MRGX, REFR, RMSP, RNTM, RNTP, RWAT, RWATPR, SINK, SMP, STOV, TEL, TEN, TOIL, VACS, VALP, VEH, WATP, YBL, FES, FINCP, FPARC, GRNTP, GRPIP, HHL, HHT, HINCP, HUGCL, HUPAC, HUPAOC, HUPARC, KIT, LNGI, MULTG, MV, NOC, NPF, NPP, NR, NRC, OCPIP, PARTNER, PLM, PSF, R18, R60, R65, RESMODE, SMOCP, SMX, SRNT, SVAL, TAXP, WIF, WKEXREL, WORKSTAT, FACRP, FAGSP, FBATHP, FBDSP, FBLDP, FBUSP, FCONP, FELEP, FFSP, FFULP, FGASP, FHFLP, FINSP, FKITP, FMHP, FMRGIP, ...]\n",
       "Index: []\n",
       "\n",
       "[0 rows x 211 columns]"
      ]
     },
     "execution_count": 14,
     "metadata": {},
     "output_type": "execute_result"
    }
   ],
   "source": [
    "# can we identify renters who live in condo buildings?\n",
    "nyc_pums.query('TEN == 3 and FCONP == 1')\n",
    "# it appears not"
   ]
  },
  {
   "cell_type": "code",
   "execution_count": 11,
   "metadata": {
    "collapsed": true
   },
   "outputs": [],
   "source": [
    "# dependents to test: HINCP, RNTP, GRNTP, NPF, TAXP\n",
    "# independents to test: YBL (ord), TEN (c), BDSP, BLD, VACS - perhaps as a filter?\n",
    "# also of interest: MV"
   ]
  },
  {
   "cell_type": "code",
   "execution_count": 12,
   "metadata": {
    "collapsed": false
   },
   "outputs": [
    {
     "name": "stdout",
     "output_type": "stream",
     "text": [
      "                            OLS Regression Results                            \n",
      "==============================================================================\n",
      "Dep. Variable:                   RNTP   R-squared:                       0.282\n",
      "Model:                            OLS   Adj. R-squared:                  0.281\n",
      "Method:                 Least Squares   F-statistic:                     430.1\n",
      "Date:                Sat, 27 Feb 2016   Prob (F-statistic):               0.00\n",
      "Time:                        01:29:21   Log-Likelihood:            -6.1558e+05\n",
      "No. Observations:               79022   AIC:                         1.231e+06\n",
      "Df Residuals:                   78949   BIC:                         1.232e+06\n",
      "Df Model:                          72                                         \n",
      "Covariance Type:            nonrobust                                         \n",
      "===================================================================================\n",
      "                      coef    std err          t      P>|t|      [95.0% Conf. Int.]\n",
      "-----------------------------------------------------------------------------------\n",
      "Intercept         481.2329    413.640      1.163      0.245      -329.499  1291.965\n",
      "C(PUMA)[T.2602]    -0.0317    584.933  -5.41e-05      1.000     -1146.497  1146.434\n",
      "C(PUMA)[T.3701]   719.2332    414.042      1.737      0.082       -92.287  1530.753\n",
      "C(PUMA)[T.3702]   529.5339    413.975      1.279      0.201      -281.855  1340.923\n",
      "C(PUMA)[T.3703]   550.5227    414.244      1.329      0.184      -261.392  1362.438\n",
      "C(PUMA)[T.3704]   566.2811    413.964      1.368      0.171      -245.086  1377.648\n",
      "C(PUMA)[T.3705]   277.1040    413.866      0.670      0.503      -534.071  1088.279\n",
      "C(PUMA)[T.3706]   541.4085    413.981      1.308      0.191      -269.992  1352.809\n",
      "C(PUMA)[T.3707]   423.8126    413.790      1.024      0.306      -387.213  1234.838\n",
      "C(PUMA)[T.3708]   419.5001    413.943      1.013      0.311      -391.826  1230.827\n",
      "C(PUMA)[T.3709]   451.8692    413.885      1.092      0.275      -359.343  1263.081\n",
      "C(PUMA)[T.3801]   633.3135    413.858      1.530      0.126      -177.847  1444.474\n",
      "C(PUMA)[T.3802]   801.2523    413.982      1.935      0.053       -10.150  1612.654\n",
      "C(PUMA)[T.3803]   502.0328    413.919      1.213      0.225      -309.246  1313.312\n",
      "C(PUMA)[T.3804]   551.0744    413.952      1.331      0.183      -260.268  1362.417\n",
      "C(PUMA)[T.3805]  1540.4624    413.892      3.722      0.000       729.237  2351.688\n",
      "C(PUMA)[T.3806]  1385.7150    413.923      3.348      0.001       574.428  2197.002\n",
      "C(PUMA)[T.3807]  1461.1933    413.878      3.530      0.000       649.995  2272.392\n",
      "C(PUMA)[T.3808]  1691.7098    413.964      4.087      0.000       880.343  2503.077\n",
      "C(PUMA)[T.3809]   729.5093    413.871      1.763      0.078       -81.676  1540.695\n",
      "C(PUMA)[T.3810]  1755.5781    413.897      4.242      0.000       944.342  2566.814\n",
      "C(PUMA)[T.3901]   538.8579    414.822      1.299      0.194      -274.190  1351.906\n",
      "C(PUMA)[T.3902]   431.8892    414.472      1.042      0.297      -380.473  1244.252\n",
      "C(PUMA)[T.3903]   448.7582    414.040      1.084      0.278      -362.758  1260.274\n",
      "C(PUMA)[T.4001]   849.6265    413.833      2.053      0.040        38.517  1660.736\n",
      "C(PUMA)[T.4002]   577.6984    413.904      1.396      0.163      -233.551  1388.948\n",
      "C(PUMA)[T.4003]   442.8565    413.900      1.070      0.285      -368.386  1254.099\n",
      "C(PUMA)[T.4004]  1052.4369    413.885      2.543      0.011       241.226  1863.648\n",
      "C(PUMA)[T.4005]  1234.4805    413.927      2.982      0.003       423.187  2045.774\n",
      "C(PUMA)[T.4006]   609.3080    413.894      1.472      0.141      -201.922  1420.538\n",
      "C(PUMA)[T.4007]   293.6397    413.947      0.709      0.478      -517.694  1104.973\n",
      "C(PUMA)[T.4008]   422.8541    413.904      1.022      0.307      -388.396  1234.104\n",
      "C(PUMA)[T.4009]   572.6902    413.945      1.383      0.167      -238.639  1384.020\n",
      "C(PUMA)[T.4010]   560.8878    413.960      1.355      0.175      -250.471  1372.247\n",
      "C(PUMA)[T.4011]   598.3367    413.976      1.445      0.148      -213.053  1409.727\n",
      "C(PUMA)[T.4012]   635.6131    413.914      1.536      0.125      -175.656  1446.883\n",
      "C(PUMA)[T.4013]   725.0802    413.912      1.752      0.080       -86.184  1536.345\n",
      "C(PUMA)[T.4014]   633.3564    413.772      1.531      0.126      -177.635  1444.348\n",
      "C(PUMA)[T.4015]   669.0263    413.890      1.616      0.106      -142.195  1480.247\n",
      "C(PUMA)[T.4016]   628.0982    413.947      1.517      0.129      -183.235  1439.431\n",
      "C(PUMA)[T.4017]   547.9947    413.858      1.324      0.185      -263.164  1359.153\n",
      "C(PUMA)[T.4101]   800.7646    413.788      1.935      0.053       -10.258  1611.787\n",
      "C(PUMA)[T.4102]   730.2209    413.976      1.764      0.078       -81.170  1541.611\n",
      "C(PUMA)[T.4103]   737.3785    413.905      1.782      0.075       -73.873  1548.630\n",
      "C(PUMA)[T.4104]   891.9407    414.376      2.152      0.031        79.766  1704.115\n",
      "C(PUMA)[T.4105]   719.4639    414.245      1.737      0.082       -92.453  1531.381\n",
      "C(PUMA)[T.4106]   749.5009    414.073      1.810      0.070       -62.079  1561.081\n",
      "C(PUMA)[T.4107]   751.2180    414.032      1.814      0.070       -60.283  1562.719\n",
      "C(PUMA)[T.4108]   954.8869    414.061      2.306      0.021       143.330  1766.444\n",
      "C(PUMA)[T.4109]   895.4730    413.936      2.163      0.031        84.161  1706.785\n",
      "C(PUMA)[T.4110]   623.6915    413.872      1.507      0.132      -187.496  1434.879\n",
      "C(PUMA)[T.4111]   672.1506    413.964      1.624      0.104      -139.216  1483.518\n",
      "C(PUMA)[T.4112]   509.3279    413.912      1.231      0.219      -301.937  1320.593\n",
      "C(PUMA)[T.4113]   619.4201    414.352      1.495      0.135      -192.708  1431.548\n",
      "C(PUMA)[T.4114]   481.1685    414.179      1.162      0.245      -330.620  1292.957\n",
      "C(YBL)[T.2.0]     -47.6248      7.091     -6.716      0.000       -61.523   -33.727\n",
      "C(YBL)[T.3.0]     -77.8804      6.791    -11.468      0.000       -91.192   -64.569\n",
      "C(YBL)[T.4.0]     -23.7022      7.060     -3.357      0.001       -37.539    -9.865\n",
      "C(YBL)[T.5.0]     -23.4758      8.312     -2.824      0.005       -39.768    -7.184\n",
      "C(YBL)[T.6.0]      55.3938     10.705      5.175      0.000        34.412    76.375\n",
      "C(YBL)[T.7.0]      96.2511     11.512      8.361      0.000        73.687   118.815\n",
      "C(YBL)[T.8.0]     264.4860     13.396     19.744      0.000       238.230   290.742\n",
      "C(YBL)[T.9.0]     371.3793     24.104     15.407      0.000       324.135   418.624\n",
      "C(YBL)[T.10.0]    320.6277     24.086     13.312      0.000       273.420   367.835\n",
      "C(YBL)[T.11.0]    404.5737     24.571     16.465      0.000       356.414   452.733\n",
      "C(YBL)[T.12.0]    409.2857     24.124     16.966      0.000       362.003   456.568\n",
      "C(YBL)[T.13.0]    545.5218     26.191     20.829      0.000       494.188   596.856\n",
      "C(YBL)[T.14.0]    647.5337     29.792     21.735      0.000       589.142   705.926\n",
      "C(YBL)[T.15.0]    633.5829     46.444     13.642      0.000       542.552   724.614\n",
      "C(YBL)[T.16.0]    690.8472     68.168     10.135      0.000       557.239   824.455\n",
      "C(YBL)[T.17.0]    907.5569    124.801      7.272      0.000       662.949  1152.165\n",
      "BLD               -27.6462      1.239    -22.311      0.000       -30.075   -25.218\n",
      "BDSP               87.0298      2.206     39.458      0.000        82.707    91.353\n",
      "==============================================================================\n",
      "Omnibus:                     4389.803   Durbin-Watson:                   1.976\n",
      "Prob(Omnibus):                  0.000   Jarque-Bera (JB):             9715.980\n",
      "Skew:                           0.368   Prob(JB):                         0.00\n",
      "Kurtosis:                       4.552   Cond. No.                     1.10e+04\n",
      "==============================================================================\n",
      "\n",
      "Warnings:\n",
      "[1] Standard Errors assume that the covariance matrix of the errors is correctly specified.\n",
      "[2] The condition number is large, 1.1e+04. This might indicate that there are\n",
      "strong multicollinearity or other numerical problems.\n"
     ]
    }
   ],
   "source": [
    "# predict rent paid for renters\n",
    "mod = smf.ols(formula='RNTP ~ BLD + BDSP + C(PUMA) + C(YBL)', data = nyc_pums[nyc_pums['TEN']==3]).fit()\n",
    "print(mod.summary())"
   ]
  },
  {
   "cell_type": "code",
   "execution_count": 13,
   "metadata": {
    "collapsed": false
   },
   "outputs": [
    {
     "name": "stdout",
     "output_type": "stream",
     "text": [
      "                            OLS Regression Results                            \n",
      "==============================================================================\n",
      "Dep. Variable:                  HINCP   R-squared:                       0.163\n",
      "Model:                            OLS   Adj. R-squared:                  0.163\n",
      "Method:                 Least Squares   F-statistic:                     214.1\n",
      "Date:                Sat, 27 Feb 2016   Prob (F-statistic):               0.00\n",
      "Time:                        01:29:28   Log-Likelihood:            -9.9640e+05\n",
      "No. Observations:               79022   AIC:                         1.993e+06\n",
      "Df Residuals:                   78949   BIC:                         1.994e+06\n",
      "Df Model:                          72                                         \n",
      "Covariance Type:            nonrobust                                         \n",
      "===================================================================================\n",
      "                      coef    std err          t      P>|t|      [95.0% Conf. Int.]\n",
      "-----------------------------------------------------------------------------------\n",
      "Intercept        3.996e+04   5.12e+04      0.780      0.435     -6.05e+04   1.4e+05\n",
      "C(PUMA)[T.2602] -4.279e+04   7.25e+04     -0.591      0.555     -1.85e+05  9.92e+04\n",
      "C(PUMA)[T.3701]   236.1307   5.13e+04      0.005      0.996        -1e+05  1.01e+05\n",
      "C(PUMA)[T.3702] -2.004e+04   5.13e+04     -0.391      0.696     -1.21e+05  8.05e+04\n",
      "C(PUMA)[T.3703] -6771.7578   5.13e+04     -0.132      0.895     -1.07e+05  9.38e+04\n",
      "C(PUMA)[T.3704]  -1.37e+04   5.13e+04     -0.267      0.789     -1.14e+05  8.68e+04\n",
      "C(PUMA)[T.3705] -3.488e+04   5.13e+04     -0.680      0.496     -1.35e+05  6.56e+04\n",
      "C(PUMA)[T.3706] -1.899e+04   5.13e+04     -0.370      0.711     -1.19e+05  8.15e+04\n",
      "C(PUMA)[T.3707] -2.791e+04   5.13e+04     -0.545      0.586     -1.28e+05  7.25e+04\n",
      "C(PUMA)[T.3708] -2.627e+04   5.13e+04     -0.512      0.608     -1.27e+05  7.42e+04\n",
      "C(PUMA)[T.3709] -2.051e+04   5.13e+04     -0.400      0.689     -1.21e+05     8e+04\n",
      "C(PUMA)[T.3801] -6415.2183   5.13e+04     -0.125      0.900     -1.07e+05  9.41e+04\n",
      "C(PUMA)[T.3802]   957.0173   5.13e+04      0.019      0.985     -9.95e+04  1.01e+05\n",
      "C(PUMA)[T.3803] -1.397e+04   5.13e+04     -0.273      0.785     -1.14e+05  8.65e+04\n",
      "C(PUMA)[T.3804] -1.087e+04   5.13e+04     -0.212      0.832     -1.11e+05  8.96e+04\n",
      "C(PUMA)[T.3805]  7.941e+04   5.13e+04      1.549      0.121     -2.11e+04   1.8e+05\n",
      "C(PUMA)[T.3806]  7.007e+04   5.13e+04      1.367      0.172     -3.04e+04  1.71e+05\n",
      "C(PUMA)[T.3807]  6.692e+04   5.13e+04      1.305      0.192     -3.36e+04  1.67e+05\n",
      "C(PUMA)[T.3808]  7.185e+04   5.13e+04      1.401      0.161     -2.86e+04  1.72e+05\n",
      "C(PUMA)[T.3809]  6701.2640   5.13e+04      0.131      0.896     -9.38e+04  1.07e+05\n",
      "C(PUMA)[T.3810]  9.628e+04   5.13e+04      1.878      0.060     -4198.100  1.97e+05\n",
      "C(PUMA)[T.3901] -3640.7529   5.14e+04     -0.071      0.944     -1.04e+05  9.71e+04\n",
      "C(PUMA)[T.3902] -1.196e+04   5.13e+04     -0.233      0.816     -1.13e+05  8.87e+04\n",
      "C(PUMA)[T.3903] -1.697e+04   5.13e+04     -0.331      0.741     -1.17e+05  8.35e+04\n",
      "C(PUMA)[T.4001]  6464.6161   5.13e+04      0.126      0.900      -9.4e+04  1.07e+05\n",
      "C(PUMA)[T.4002] -1.559e+04   5.13e+04     -0.304      0.761     -1.16e+05  8.49e+04\n",
      "C(PUMA)[T.4003] -2.419e+04   5.13e+04     -0.472      0.637     -1.25e+05  7.63e+04\n",
      "C(PUMA)[T.4004]  2.917e+04   5.13e+04      0.569      0.569     -7.13e+04   1.3e+05\n",
      "C(PUMA)[T.4005]  4.187e+04   5.13e+04      0.817      0.414     -5.86e+04  1.42e+05\n",
      "C(PUMA)[T.4006] -9846.3149   5.13e+04     -0.192      0.848      -1.1e+05  9.06e+04\n",
      "C(PUMA)[T.4007]  -3.11e+04   5.13e+04     -0.607      0.544     -1.32e+05  6.94e+04\n",
      "C(PUMA)[T.4008] -2.678e+04   5.13e+04     -0.522      0.601     -1.27e+05  7.37e+04\n",
      "C(PUMA)[T.4009] -8972.5745   5.13e+04     -0.175      0.861     -1.09e+05  9.15e+04\n",
      "C(PUMA)[T.4010] -1.412e+04   5.13e+04     -0.275      0.783     -1.15e+05  8.64e+04\n",
      "C(PUMA)[T.4011] -1.269e+04   5.13e+04     -0.247      0.805     -1.13e+05  8.78e+04\n",
      "C(PUMA)[T.4012] -1.006e+04   5.13e+04     -0.196      0.844     -1.11e+05  9.04e+04\n",
      "C(PUMA)[T.4013]  3775.8610   5.13e+04      0.074      0.941     -9.67e+04  1.04e+05\n",
      "C(PUMA)[T.4014] -1.805e+04   5.13e+04     -0.352      0.725     -1.19e+05  8.24e+04\n",
      "C(PUMA)[T.4015] -8468.4072   5.13e+04     -0.165      0.869     -1.09e+05   9.2e+04\n",
      "C(PUMA)[T.4016] -9596.3721   5.13e+04     -0.187      0.852      -1.1e+05  9.09e+04\n",
      "C(PUMA)[T.4017] -1.044e+04   5.13e+04     -0.204      0.839     -1.11e+05     9e+04\n",
      "C(PUMA)[T.4101]  3869.1715   5.13e+04      0.075      0.940     -9.66e+04  1.04e+05\n",
      "C(PUMA)[T.4102] -9128.0282   5.13e+04     -0.178      0.859      -1.1e+05  9.14e+04\n",
      "C(PUMA)[T.4103] -7969.8282   5.13e+04     -0.155      0.876     -1.08e+05  9.25e+04\n",
      "C(PUMA)[T.4104]  1.077e+04   5.13e+04      0.210      0.834     -8.98e+04  1.11e+05\n",
      "C(PUMA)[T.4105] -4091.2821   5.13e+04     -0.080      0.936     -1.05e+05  9.65e+04\n",
      "C(PUMA)[T.4106] -5102.6397   5.13e+04     -0.099      0.921     -1.06e+05  9.54e+04\n",
      "C(PUMA)[T.4107] -6409.5571   5.13e+04     -0.125      0.901     -1.07e+05  9.41e+04\n",
      "C(PUMA)[T.4108]  1.344e+04   5.13e+04      0.262      0.793     -8.71e+04  1.14e+05\n",
      "C(PUMA)[T.4109]  6599.7433   5.13e+04      0.129      0.898     -9.39e+04  1.07e+05\n",
      "C(PUMA)[T.4110] -4777.7254   5.13e+04     -0.093      0.926     -1.05e+05  9.57e+04\n",
      "C(PUMA)[T.4111] -5558.4692   5.13e+04     -0.108      0.914     -1.06e+05  9.49e+04\n",
      "C(PUMA)[T.4112] -1.953e+04   5.13e+04     -0.381      0.703      -1.2e+05   8.1e+04\n",
      "C(PUMA)[T.4113] -1.179e+04   5.13e+04     -0.230      0.818     -1.12e+05  8.88e+04\n",
      "C(PUMA)[T.4114] -1.923e+04   5.13e+04     -0.375      0.708      -1.2e+05  8.13e+04\n",
      "C(YBL)[T.2.0]   -2196.1510    878.275     -2.501      0.012     -3917.564  -474.738\n",
      "C(YBL)[T.3.0]   -3129.2526    841.184     -3.720      0.000     -4777.969 -1480.536\n",
      "C(YBL)[T.4.0]     205.1947    874.424      0.235      0.814     -1508.671  1919.060\n",
      "C(YBL)[T.5.0]   -2078.8317   1029.545     -2.019      0.043     -4096.734   -60.929\n",
      "C(YBL)[T.6.0]    4366.0214   1325.901      3.293      0.001      1767.264  6964.779\n",
      "C(YBL)[T.7.0]    1.046e+04   1425.891      7.333      0.000      7661.167  1.33e+04\n",
      "C(YBL)[T.8.0]    1.881e+04   1659.206     11.337      0.000      1.56e+04  2.21e+04\n",
      "C(YBL)[T.9.0]    2.686e+04   2985.591      8.996      0.000       2.1e+04  3.27e+04\n",
      "C(YBL)[T.10.0]   2.539e+04   2983.262      8.511      0.000      1.95e+04  3.12e+04\n",
      "C(YBL)[T.11.0]    2.71e+04   3043.403      8.905      0.000      2.11e+04  3.31e+04\n",
      "C(YBL)[T.12.0]   2.678e+04   2988.002      8.961      0.000      2.09e+04  3.26e+04\n",
      "C(YBL)[T.13.0]   3.771e+04   3244.014     11.624      0.000      3.13e+04  4.41e+04\n",
      "C(YBL)[T.14.0]   4.007e+04   3690.056     10.858      0.000      3.28e+04  4.73e+04\n",
      "C(YBL)[T.15.0]   3.495e+04   5752.630      6.075      0.000      2.37e+04  4.62e+04\n",
      "C(YBL)[T.16.0]   5.303e+04   8443.291      6.281      0.000      3.65e+04  6.96e+04\n",
      "C(YBL)[T.17.0]  -3120.4011   1.55e+04     -0.202      0.840     -3.34e+04  2.72e+04\n",
      "BLD               178.6224    153.479      1.164      0.244      -122.196   479.441\n",
      "BDSP             1.024e+04    273.188     37.495      0.000      9707.838  1.08e+04\n",
      "==============================================================================\n",
      "Omnibus:                    69744.698   Durbin-Watson:                   2.002\n",
      "Prob(Omnibus):                  0.000   Jarque-Bera (JB):          3449092.465\n",
      "Skew:                           4.094   Prob(JB):                         0.00\n",
      "Kurtosis:                      34.313   Cond. No.                     1.10e+04\n",
      "==============================================================================\n",
      "\n",
      "Warnings:\n",
      "[1] Standard Errors assume that the covariance matrix of the errors is correctly specified.\n",
      "[2] The condition number is large, 1.1e+04. This might indicate that there are\n",
      "strong multicollinearity or other numerical problems.\n"
     ]
    }
   ],
   "source": [
    "# predict income for renters\n",
    "mod = smf.ols(formula='HINCP ~ BLD + BDSP + C(PUMA) + C(YBL)', data = nyc_pums[nyc_pums['TEN']==3]).fit()\n",
    "print(mod.summary())"
   ]
  },
  {
   "cell_type": "code",
   "execution_count": 14,
   "metadata": {
    "collapsed": false
   },
   "outputs": [
    {
     "name": "stdout",
     "output_type": "stream",
     "text": [
      "                            OLS Regression Results                            \n",
      "==============================================================================\n",
      "Dep. Variable:                  HINCP   R-squared:                       0.184\n",
      "Model:                            OLS   Adj. R-squared:                  0.183\n",
      "Method:                 Least Squares   F-statistic:                     160.2\n",
      "Date:                Sat, 27 Feb 2016   Prob (F-statistic):               0.00\n",
      "Time:                        01:29:46   Log-Likelihood:            -6.5772e+05\n",
      "No. Observations:               50376   AIC:                         1.316e+06\n",
      "Df Residuals:                   50304   BIC:                         1.316e+06\n",
      "Df Model:                          71                                         \n",
      "Covariance Type:            nonrobust                                         \n",
      "===================================================================================\n",
      "                      coef    std err          t      P>|t|      [95.0% Conf. Int.]\n",
      "-----------------------------------------------------------------------------------\n",
      "Intercept        2.567e+04   8.02e+04      0.320      0.749     -1.32e+05  1.83e+05\n",
      "C(PUMA)[T.3701]   5.92e+04   8.03e+04      0.737      0.461     -9.83e+04  2.17e+05\n",
      "C(PUMA)[T.3702]  -672.4767   8.03e+04     -0.008      0.993     -1.58e+05  1.57e+05\n",
      "C(PUMA)[T.3703]  1.276e+04   8.03e+04      0.159      0.874     -1.45e+05   1.7e+05\n",
      "C(PUMA)[T.3704]  8427.9821   8.03e+04      0.105      0.916     -1.49e+05  1.66e+05\n",
      "C(PUMA)[T.3705] -1.188e+04   8.06e+04     -0.147      0.883      -1.7e+05  1.46e+05\n",
      "C(PUMA)[T.3706]  2973.8353   8.08e+04      0.037      0.971     -1.55e+05  1.61e+05\n",
      "C(PUMA)[T.3707] -1.873e+04   8.08e+04     -0.232      0.817     -1.77e+05   1.4e+05\n",
      "C(PUMA)[T.3708] -1.156e+04   8.08e+04     -0.143      0.886      -1.7e+05  1.47e+05\n",
      "C(PUMA)[T.3709] -6107.9065   8.03e+04     -0.076      0.939     -1.64e+05  1.51e+05\n",
      "C(PUMA)[T.3801]  5.235e+04   8.05e+04      0.650      0.515     -1.05e+05   2.1e+05\n",
      "C(PUMA)[T.3802]  8.149e+04   8.06e+04      1.011      0.312     -7.64e+04  2.39e+05\n",
      "C(PUMA)[T.3803]   4.59e+04   8.05e+04      0.571      0.568     -1.12e+05  2.04e+05\n",
      "C(PUMA)[T.3804]  7.677e+04   8.08e+04      0.951      0.342     -8.15e+04  2.35e+05\n",
      "C(PUMA)[T.3805]  2.083e+05   8.03e+04      2.594      0.009      5.09e+04  3.66e+05\n",
      "C(PUMA)[T.3806]  1.614e+05   8.03e+04      2.010      0.044      3977.430  3.19e+05\n",
      "C(PUMA)[T.3807]  1.763e+05   8.03e+04      2.194      0.028      1.88e+04  3.34e+05\n",
      "C(PUMA)[T.3808]  1.543e+05   8.03e+04      1.920      0.055     -3210.188  3.12e+05\n",
      "C(PUMA)[T.3809]  7.169e+04   8.04e+04      0.892      0.373     -8.59e+04  2.29e+05\n",
      "C(PUMA)[T.3810]  1.801e+05   8.03e+04      2.242      0.025      2.26e+04  3.37e+05\n",
      "C(PUMA)[T.3901]  2.482e+04   8.02e+04      0.309      0.757     -1.32e+05  1.82e+05\n",
      "C(PUMA)[T.3902]   2.41e+04   8.02e+04      0.300      0.764     -1.33e+05  1.81e+05\n",
      "C(PUMA)[T.3903]  1.777e+04   8.02e+04      0.221      0.825      -1.4e+05  1.75e+05\n",
      "C(PUMA)[T.4001]  2.442e+04   8.04e+04      0.304      0.761     -1.33e+05  1.82e+05\n",
      "C(PUMA)[T.4002] -1.479e+04   8.05e+04     -0.184      0.854     -1.73e+05  1.43e+05\n",
      "C(PUMA)[T.4003]  8466.8790   8.04e+04      0.105      0.916     -1.49e+05  1.66e+05\n",
      "C(PUMA)[T.4004]  9.442e+04   8.03e+04      1.176      0.240      -6.3e+04  2.52e+05\n",
      "C(PUMA)[T.4005]  1.125e+05   8.03e+04      1.402      0.161     -4.48e+04   2.7e+05\n",
      "C(PUMA)[T.4006]  2.903e+04   8.04e+04      0.361      0.718     -1.29e+05  1.87e+05\n",
      "C(PUMA)[T.4007] -1.715e+04   8.04e+04     -0.213      0.831     -1.75e+05   1.4e+05\n",
      "C(PUMA)[T.4008] -1.644e+04   8.03e+04     -0.205      0.838     -1.74e+05  1.41e+05\n",
      "C(PUMA)[T.4009]  1.779e+04   8.02e+04      0.222      0.825     -1.39e+05  1.75e+05\n",
      "C(PUMA)[T.4010] -2183.2898   8.03e+04     -0.027      0.978      -1.6e+05  1.55e+05\n",
      "C(PUMA)[T.4011] -1505.4550   8.05e+04     -0.019      0.985     -1.59e+05  1.56e+05\n",
      "C(PUMA)[T.4012]  8137.9530   8.03e+04      0.101      0.919     -1.49e+05  1.66e+05\n",
      "C(PUMA)[T.4013]  2.754e+04   8.03e+04      0.343      0.732      -1.3e+05  1.85e+05\n",
      "C(PUMA)[T.4014] -4751.1727   8.02e+04     -0.059      0.953     -1.62e+05  1.53e+05\n",
      "C(PUMA)[T.4015]  2.321e+04   8.03e+04      0.289      0.773     -1.34e+05  1.81e+05\n",
      "C(PUMA)[T.4016]  1.494e+04   8.03e+04      0.186      0.852     -1.42e+05  1.72e+05\n",
      "C(PUMA)[T.4017]  4284.1109   8.03e+04      0.053      0.957     -1.53e+05  1.62e+05\n",
      "C(PUMA)[T.4101]  1.787e+04   8.03e+04      0.223      0.824      -1.4e+05  1.75e+05\n",
      "C(PUMA)[T.4102]  6868.4638   8.03e+04      0.086      0.932     -1.51e+05  1.64e+05\n",
      "C(PUMA)[T.4103]  1.283e+04   8.02e+04      0.160      0.873     -1.44e+05   1.7e+05\n",
      "C(PUMA)[T.4104]  2.369e+04   8.03e+04      0.295      0.768     -1.34e+05  1.81e+05\n",
      "C(PUMA)[T.4105]  1.381e+04   8.02e+04      0.172      0.863     -1.43e+05  1.71e+05\n",
      "C(PUMA)[T.4106]  2.086e+04   8.03e+04      0.260      0.795     -1.36e+05  1.78e+05\n",
      "C(PUMA)[T.4107]  1902.2414   8.04e+04      0.024      0.981     -1.56e+05  1.59e+05\n",
      "C(PUMA)[T.4108]  3.837e+04   8.03e+04      0.478      0.633     -1.19e+05  1.96e+05\n",
      "C(PUMA)[T.4109]  1.804e+04   8.03e+04      0.225      0.822     -1.39e+05  1.75e+05\n",
      "C(PUMA)[T.4110]  1.203e+04   8.03e+04      0.150      0.881     -1.45e+05  1.69e+05\n",
      "C(PUMA)[T.4111]  5421.4967   8.03e+04      0.068      0.946     -1.52e+05  1.63e+05\n",
      "C(PUMA)[T.4112]   -26.4248   8.02e+04     -0.000      1.000     -1.57e+05  1.57e+05\n",
      "C(PUMA)[T.4113]  4373.3249   8.03e+04      0.054      0.957     -1.53e+05  1.62e+05\n",
      "C(PUMA)[T.4114]  1.917e+04   8.03e+04      0.239      0.811     -1.38e+05  1.77e+05\n",
      "C(YBL)[T.2.0]   -4719.4507   1706.497     -2.766      0.006     -8064.204 -1374.697\n",
      "C(YBL)[T.3.0]   -1.175e+04   1559.583     -7.533      0.000     -1.48e+04 -8692.163\n",
      "C(YBL)[T.4.0]   -1.716e+04   1745.690     -9.829      0.000     -2.06e+04 -1.37e+04\n",
      "C(YBL)[T.5.0]   -1.123e+04   2446.190     -4.591      0.000      -1.6e+04 -6436.014\n",
      "C(YBL)[T.6.0]   -4037.5842   2679.100     -1.507      0.132     -9288.651  1213.482\n",
      "C(YBL)[T.7.0]    1218.4487   2996.721      0.407      0.684     -4655.158  7092.055\n",
      "C(YBL)[T.8.0]    1.023e+04   3501.633      2.921      0.003      3365.181  1.71e+04\n",
      "C(YBL)[T.9.0]    2.206e+04   6736.701      3.274      0.001      8853.325  3.53e+04\n",
      "C(YBL)[T.10.0]   1.563e+04   6454.746      2.422      0.015      2980.655  2.83e+04\n",
      "C(YBL)[T.11.0]   5.126e+04   5784.815      8.860      0.000      3.99e+04  6.26e+04\n",
      "C(YBL)[T.12.0]   4.095e+04   6505.052      6.295      0.000      2.82e+04  5.37e+04\n",
      "C(YBL)[T.13.0]   3.317e+04   8294.637      3.999      0.000      1.69e+04  4.94e+04\n",
      "C(YBL)[T.14.0]   3.492e+04   9751.808      3.581      0.000      1.58e+04   5.4e+04\n",
      "C(YBL)[T.15.0]   3.054e+04   1.71e+04      1.782      0.075     -3049.917  6.41e+04\n",
      "C(YBL)[T.16.0]   4.688e+04   2.32e+04      2.024      0.043      1478.904  9.23e+04\n",
      "C(YBL)[T.17.0]  -6586.9067   4.01e+04     -0.164      0.870     -8.52e+04   7.2e+04\n",
      "BLD              1702.6645    295.765      5.757      0.000      1122.963  2282.366\n",
      "BDSP             1.816e+04    405.694     44.763      0.000      1.74e+04   1.9e+04\n",
      "==============================================================================\n",
      "Omnibus:                    35594.520   Durbin-Watson:                   2.014\n",
      "Prob(Omnibus):                  0.000   Jarque-Bera (JB):           885732.856\n",
      "Skew:                           3.109   Prob(JB):                         0.00\n",
      "Kurtosis:                      22.578   Cond. No.                     6.63e+03\n",
      "==============================================================================\n",
      "\n",
      "Warnings:\n",
      "[1] Standard Errors assume that the covariance matrix of the errors is correctly specified.\n",
      "[2] The condition number is large, 6.63e+03. This might indicate that there are\n",
      "strong multicollinearity or other numerical problems.\n"
     ]
    }
   ],
   "source": [
    "# predict income for owners\n",
    "mod = smf.ols(formula='HINCP ~ BLD + BDSP + C(PUMA) + C(YBL)', data = nyc_pums[nyc_pums['TEN']<3]).fit()\n",
    "print(mod.summary())"
   ]
  },
  {
   "cell_type": "code",
   "execution_count": 31,
   "metadata": {
    "collapsed": false
   },
   "outputs": [
    {
     "name": "stdout",
     "output_type": "stream",
     "text": [
      "                            OLS Regression Results                            \n",
      "==============================================================================\n",
      "Dep. Variable:                  HINCP   R-squared:                       0.167\n",
      "Model:                            OLS   Adj. R-squared:                  0.166\n",
      "Method:                 Least Squares   F-statistic:                     143.7\n",
      "Date:                Sun, 28 Feb 2016   Prob (F-statistic):               0.00\n",
      "Time:                        11:02:03   Log-Likelihood:            -6.5629e+05\n",
      "No. Observations:               50236   AIC:                         1.313e+06\n",
      "Df Residuals:                   50165   BIC:                         1.313e+06\n",
      "Df Model:                          70                                         \n",
      "Covariance Type:            nonrobust                                         \n",
      "===================================================================================\n",
      "                      coef    std err          t      P>|t|      [95.0% Conf. Int.]\n",
      "-----------------------------------------------------------------------------------\n",
      "Intercept        8.861e+04   8.08e+04      1.096      0.273     -6.99e+04  2.47e+05\n",
      "C(PUMA)[T.3701]  2.488e+04    8.1e+04      0.307      0.759     -1.34e+05  1.84e+05\n",
      "C(PUMA)[T.3702] -3.351e+04   8.09e+04     -0.414      0.679     -1.92e+05  1.25e+05\n",
      "C(PUMA)[T.3703]  -2.16e+04   8.09e+04     -0.267      0.790      -1.8e+05  1.37e+05\n",
      "C(PUMA)[T.3704] -2.736e+04   8.09e+04     -0.338      0.735     -1.86e+05  1.31e+05\n",
      "C(PUMA)[T.3706]  -2.79e+04   8.11e+04     -0.344      0.731     -1.87e+05  1.31e+05\n",
      "C(PUMA)[T.3707] -3.968e+04    8.2e+04     -0.484      0.628        -2e+05  1.21e+05\n",
      "C(PUMA)[T.3708] -4.107e+04   8.15e+04     -0.504      0.614     -2.01e+05  1.19e+05\n",
      "C(PUMA)[T.3709] -3.474e+04    8.1e+04     -0.429      0.668     -1.93e+05  1.24e+05\n",
      "C(PUMA)[T.3710] -4.192e+04   8.13e+04     -0.516      0.606     -2.01e+05  1.17e+05\n",
      "C(PUMA)[T.3801]   1.91e+04   8.11e+04      0.235      0.814      -1.4e+05  1.78e+05\n",
      "C(PUMA)[T.3802]  4.525e+04   8.12e+04      0.557      0.577     -1.14e+05  2.04e+05\n",
      "C(PUMA)[T.3803]  2.085e+04   8.11e+04      0.257      0.797     -1.38e+05   1.8e+05\n",
      "C(PUMA)[T.3804]  4.457e+04   8.14e+04      0.548      0.584     -1.15e+05  2.04e+05\n",
      "C(PUMA)[T.3805]  1.619e+05   8.09e+04      2.001      0.045      3314.571   3.2e+05\n",
      "C(PUMA)[T.3806]  1.134e+05   8.09e+04      1.401      0.161     -4.52e+04  2.72e+05\n",
      "C(PUMA)[T.3807]  1.182e+05    8.1e+04      1.460      0.144     -4.04e+04  2.77e+05\n",
      "C(PUMA)[T.3808]  9.713e+04    8.1e+04      1.200      0.230     -6.15e+04  2.56e+05\n",
      "C(PUMA)[T.3809]  2.663e+04    8.1e+04      0.329      0.742     -1.32e+05  1.85e+05\n",
      "C(PUMA)[T.3810]  1.266e+05   8.09e+04      1.565      0.118      -3.2e+04  2.85e+05\n",
      "C(PUMA)[T.3901] -1.361e+04   8.09e+04     -0.168      0.866     -1.72e+05  1.45e+05\n",
      "C(PUMA)[T.3902] -1.241e+04   8.09e+04     -0.153      0.878     -1.71e+05  1.46e+05\n",
      "C(PUMA)[T.3903] -1.671e+04   8.09e+04     -0.207      0.836     -1.75e+05  1.42e+05\n",
      "C(PUMA)[T.4001] -1.011e+04    8.1e+04     -0.125      0.901     -1.69e+05  1.49e+05\n",
      "C(PUMA)[T.4002] -4.021e+04   8.11e+04     -0.496      0.620     -1.99e+05  1.19e+05\n",
      "C(PUMA)[T.4003] -1.552e+04    8.1e+04     -0.192      0.848     -1.74e+05  1.43e+05\n",
      "C(PUMA)[T.4004]  5.683e+04   8.09e+04      0.702      0.482     -1.02e+05  2.15e+05\n",
      "C(PUMA)[T.4005]  7.393e+04   8.09e+04      0.914      0.361     -8.47e+04  2.33e+05\n",
      "C(PUMA)[T.4006]   467.4509    8.1e+04      0.006      0.995     -1.58e+05  1.59e+05\n",
      "C(PUMA)[T.4007] -4.076e+04    8.1e+04     -0.503      0.615        -2e+05  1.18e+05\n",
      "C(PUMA)[T.4008] -4.269e+04    8.1e+04     -0.527      0.598     -2.01e+05  1.16e+05\n",
      "C(PUMA)[T.4009] -1.884e+04   8.09e+04     -0.233      0.816     -1.77e+05   1.4e+05\n",
      "C(PUMA)[T.4010] -3.364e+04   8.09e+04     -0.416      0.678     -1.92e+05  1.25e+05\n",
      "C(PUMA)[T.4011] -2.456e+04   8.11e+04     -0.303      0.762     -1.84e+05  1.34e+05\n",
      "C(PUMA)[T.4012] -2.416e+04    8.1e+04     -0.298      0.765     -1.83e+05  1.35e+05\n",
      "C(PUMA)[T.4014] -3.403e+04   8.09e+04     -0.421      0.674     -1.93e+05  1.25e+05\n",
      "C(PUMA)[T.4015] -1292.5304   8.09e+04     -0.016      0.987      -1.6e+05  1.57e+05\n",
      "C(PUMA)[T.4016] -2.245e+04   8.09e+04     -0.278      0.781     -1.81e+05  1.36e+05\n",
      "C(PUMA)[T.4017] -3.629e+04   8.09e+04     -0.449      0.654     -1.95e+05  1.22e+05\n",
      "C(PUMA)[T.4018] -2.641e+04    8.1e+04     -0.326      0.744     -1.85e+05  1.32e+05\n",
      "C(PUMA)[T.4101] -2.684e+04   8.09e+04     -0.332      0.740     -1.85e+05  1.32e+05\n",
      "C(PUMA)[T.4102] -2.994e+04   8.09e+04     -0.370      0.711     -1.89e+05  1.29e+05\n",
      "C(PUMA)[T.4103] -2.746e+04   8.09e+04     -0.340      0.734     -1.86e+05  1.31e+05\n",
      "C(PUMA)[T.4104] -1.959e+04   8.09e+04     -0.242      0.809     -1.78e+05  1.39e+05\n",
      "C(PUMA)[T.4105] -1.954e+04   8.09e+04     -0.242      0.809     -1.78e+05  1.39e+05\n",
      "C(PUMA)[T.4106] -1.736e+04   8.09e+04     -0.215      0.830     -1.76e+05  1.41e+05\n",
      "C(PUMA)[T.4107] -3.716e+04    8.1e+04     -0.459      0.646     -1.96e+05  1.22e+05\n",
      "C(PUMA)[T.4108] -4297.1050   8.09e+04     -0.053      0.958     -1.63e+05  1.54e+05\n",
      "C(PUMA)[T.4109]   -2.1e+04    8.1e+04     -0.259      0.795      -1.8e+05  1.38e+05\n",
      "C(PUMA)[T.4110] -3.041e+04   8.09e+04     -0.376      0.707     -1.89e+05  1.28e+05\n",
      "C(PUMA)[T.4111] -2.835e+04   8.09e+04     -0.350      0.726     -1.87e+05   1.3e+05\n",
      "C(PUMA)[T.4112] -2.965e+04   8.09e+04     -0.367      0.714     -1.88e+05  1.29e+05\n",
      "C(PUMA)[T.4113] -3.085e+04   8.09e+04     -0.381      0.703     -1.89e+05  1.28e+05\n",
      "C(PUMA)[T.4114] -9443.2290   8.09e+04     -0.117      0.907     -1.68e+05  1.49e+05\n",
      "C(YBL)[T.2.0]   -5809.9637   1712.490     -3.393      0.001     -9166.464 -2453.464\n",
      "C(YBL)[T.3.0]    -1.28e+04   1546.982     -8.277      0.000     -1.58e+04 -9772.339\n",
      "C(YBL)[T.4.0]   -1.747e+04   1707.573    -10.233      0.000     -2.08e+04 -1.41e+04\n",
      "C(YBL)[T.5.0]   -1.137e+04   2441.711     -4.655      0.000     -1.62e+04 -6580.740\n",
      "C(YBL)[T.6.0]   -7658.8902   2714.888     -2.821      0.005      -1.3e+04 -2337.678\n",
      "C(YBL)[T.7.0]    1314.1232   3024.375      0.435      0.664     -4613.687  7241.933\n",
      "C(YBL)[T.8.0]    1.259e+04   3526.099      3.570      0.000      5677.951  1.95e+04\n",
      "C(YBL)[T.9.0]    2.407e+04   6726.525      3.579      0.000      1.09e+04  3.73e+04\n",
      "C(YBL)[T.10.0]   1.819e+04   6371.469      2.856      0.004      5706.130  3.07e+04\n",
      "C(YBL)[T.11.0]   5.613e+04   5699.079      9.848      0.000       4.5e+04  6.73e+04\n",
      "C(YBL)[T.12.0]   4.195e+04   6480.318      6.473      0.000      2.92e+04  5.47e+04\n",
      "C(YBL)[T.13.0]   3.582e+04   8042.817      4.454      0.000      2.01e+04  5.16e+04\n",
      "C(YBL)[T.14.0]   3.367e+04   9741.803      3.456      0.001      1.46e+04  5.28e+04\n",
      "C(YBL)[T.15.0]   3.725e+04   1.64e+04      2.276      0.023      5168.344  6.93e+04\n",
      "C(YBL)[T.16.0]   3.625e+04    2.2e+04      1.646      0.100     -6906.535  7.94e+04\n",
      "C(YBL)[T.17.0]   3769.6430   4.32e+04      0.087      0.930     -8.09e+04  8.84e+04\n",
      "TAXP              802.8639     26.219     30.622      0.000       751.475   854.253\n",
      "==============================================================================\n",
      "Omnibus:                    36133.703   Durbin-Watson:                   2.021\n",
      "Prob(Omnibus):                  0.000   Jarque-Bera (JB):           942730.351\n",
      "Skew:                           3.175   Prob(JB):                         0.00\n",
      "Kurtosis:                      23.250   Cond. No.                     5.32e+04\n",
      "==============================================================================\n",
      "\n",
      "Warnings:\n",
      "[1] Standard Errors assume that the covariance matrix of the errors is correctly specified.\n",
      "[2] The condition number is large, 5.32e+04. This might indicate that there are\n",
      "strong multicollinearity or other numerical problems.\n"
     ]
    }
   ],
   "source": [
    "# predict income for owners with property tax as independent, but without bedrooms or size of building (covairance)\n",
    "mod = smf.ols(formula='HINCP ~ TAXP + C(PUMA) + C(YBL)', data = nyc_pums[nyc_pums['TEN']<3]).fit()\n",
    "print(mod.summary())"
   ]
  },
  {
   "cell_type": "code",
   "execution_count": 32,
   "metadata": {
    "collapsed": false
   },
   "outputs": [
    {
     "name": "stdout",
     "output_type": "stream",
     "text": [
      "                            OLS Regression Results                            \n",
      "==============================================================================\n",
      "Dep. Variable:                   RNTP   R-squared:                       0.283\n",
      "Model:                            OLS   Adj. R-squared:                  0.283\n",
      "Method:                 Least Squares   F-statistic:                     534.6\n",
      "Date:                Sun, 28 Feb 2016   Prob (F-statistic):               0.00\n",
      "Time:                        11:02:19   Log-Likelihood:            -6.1148e+05\n",
      "No. Observations:               78485   AIC:                         1.223e+06\n",
      "Df Residuals:                   78426   BIC:                         1.224e+06\n",
      "Df Model:                          58                                         \n",
      "Covariance Type:            nonrobust                                         \n",
      "==========================================================================================\n",
      "                             coef    std err          t      P>|t|      [95.0% Conf. Int.]\n",
      "------------------------------------------------------------------------------------------\n",
      "Intercept                876.6079    414.126      2.117      0.034        64.924  1688.291\n",
      "C(PUMA)[T.2602]            3.6685    585.483      0.006      0.995     -1143.875  1151.212\n",
      "C(PUMA)[T.3701]          719.5805    414.432      1.736      0.083       -92.703  1531.864\n",
      "C(PUMA)[T.3702]          528.5050    414.364      1.275      0.202      -283.647  1340.657\n",
      "C(PUMA)[T.3703]          549.9357    414.632      1.326      0.185      -262.741  1362.613\n",
      "C(PUMA)[T.3704]          563.7853    414.353      1.361      0.174      -248.344  1375.915\n",
      "C(PUMA)[T.3706]          543.4231    414.211      1.312      0.190      -268.428  1355.274\n",
      "C(PUMA)[T.3707]          428.9012    414.300      1.035      0.301      -383.125  1240.927\n",
      "C(PUMA)[T.3708]          426.8817    414.332      1.030      0.303      -385.207  1238.970\n",
      "C(PUMA)[T.3709]          449.1934    414.274      1.084      0.278      -362.781  1261.168\n",
      "C(PUMA)[T.3710]          229.1917    414.275      0.553      0.580      -582.785  1041.169\n",
      "C(PUMA)[T.3801]          634.3626    414.247      1.531      0.126      -177.560  1446.285\n",
      "C(PUMA)[T.3802]          803.6575    414.371      1.939      0.052        -8.507  1615.822\n",
      "C(PUMA)[T.3803]          510.1117    414.308      1.231      0.218      -301.929  1322.153\n",
      "C(PUMA)[T.3804]          552.6443    414.340      1.334      0.182      -259.460  1364.749\n",
      "C(PUMA)[T.3805]         1551.3278    414.280      3.745      0.000       739.342  2363.314\n",
      "C(PUMA)[T.3806]         1401.2886    414.312      3.382      0.001       589.240  2213.337\n",
      "C(PUMA)[T.3807]         1477.0878    414.266      3.566      0.000       665.129  2289.047\n",
      "C(PUMA)[T.3808]         1696.3247    414.353      4.094      0.000       884.196  2508.453\n",
      "C(PUMA)[T.3809]          732.4708    414.260      1.768      0.077       -79.477  1544.418\n",
      "C(PUMA)[T.3810]         1767.2450    414.285      4.266      0.000       955.248  2579.242\n",
      "C(PUMA)[T.3901]          565.5274    415.205      1.362      0.173      -248.272  1379.327\n",
      "C(PUMA)[T.3902]          440.0104    414.860      1.061      0.289      -373.113  1253.134\n",
      "C(PUMA)[T.3903]          453.6109    414.428      1.095      0.274      -358.666  1265.888\n",
      "C(PUMA)[T.4001]          860.8731    414.221      2.078      0.038        49.001  1672.745\n",
      "C(PUMA)[T.4002]          582.7829    414.292      1.407      0.160      -229.228  1394.794\n",
      "C(PUMA)[T.4003]          443.6406    414.289      1.071      0.284      -368.363  1255.645\n",
      "C(PUMA)[T.4004]         1065.8797    414.273      2.573      0.010       253.907  1877.853\n",
      "C(PUMA)[T.4005]         1238.0591    414.316      2.988      0.003       426.003  2050.115\n",
      "C(PUMA)[T.4006]          612.4662    414.283      1.478      0.139      -199.526  1424.458\n",
      "C(PUMA)[T.4007]          302.8632    414.336      0.731      0.465      -509.232  1114.958\n",
      "C(PUMA)[T.4008]          422.6752    414.293      1.020      0.308      -389.337  1234.687\n",
      "C(PUMA)[T.4009]          564.6213    414.332      1.363      0.173      -247.468  1376.711\n",
      "C(PUMA)[T.4010]          559.9307    414.349      1.351      0.177      -252.191  1372.052\n",
      "C(PUMA)[T.4011]          599.0385    414.365      1.446      0.148      -213.114  1411.191\n",
      "C(PUMA)[T.4012]          640.6079    414.303      1.546      0.122      -171.424  1452.640\n",
      "C(PUMA)[T.4014]          636.1742    414.296      1.536      0.125      -175.844  1448.193\n",
      "C(PUMA)[T.4015]          667.4206    414.278      1.611      0.107      -144.563  1479.404\n",
      "C(PUMA)[T.4016]          624.0571    414.336      1.506      0.132      -188.039  1436.153\n",
      "C(PUMA)[T.4017]          546.9010    414.135      1.321      0.187      -264.800  1358.602\n",
      "C(PUMA)[T.4018]          415.0348    414.396      1.002      0.317      -397.180  1227.249\n",
      "C(PUMA)[T.4101]          801.6395    414.177      1.936      0.053       -10.145  1613.424\n",
      "C(PUMA)[T.4102]          721.5614    414.364      1.741      0.082       -90.590  1533.713\n",
      "C(PUMA)[T.4103]          740.0399    414.294      1.786      0.074       -71.973  1552.053\n",
      "C(PUMA)[T.4104]          885.6264    414.765      2.135      0.033        72.689  1698.564\n",
      "C(PUMA)[T.4105]          707.9574    414.634      1.707      0.088      -104.722  1520.637\n",
      "C(PUMA)[T.4106]          738.3305    414.461      1.781      0.075       -74.010  1550.671\n",
      "C(PUMA)[T.4107]          752.6841    414.421      1.816      0.069       -59.579  1564.947\n",
      "C(PUMA)[T.4108]          946.4052    414.449      2.284      0.022       134.087  1758.723\n",
      "C(PUMA)[T.4109]          895.6917    414.324      2.162      0.031        83.618  1707.765\n",
      "C(PUMA)[T.4110]          623.5710    414.261      1.505      0.132      -188.378  1435.520\n",
      "C(PUMA)[T.4111]          666.8211    414.353      1.609      0.108      -145.308  1478.950\n",
      "C(PUMA)[T.4112]          507.5056    414.301      1.225      0.221      -304.521  1319.533\n",
      "C(PUMA)[T.4113]          613.6522    414.742      1.480      0.139      -199.239  1426.544\n",
      "C(PUMA)[T.4114]          479.8835    414.568      1.158      0.247      -332.667  1292.434\n",
      "C(AgeGroup)[T.PostWar]  -420.4041      8.572    -49.046      0.000      -437.204  -403.604\n",
      "C(AgeGroup)[T.PreWar]   -395.1460      8.746    -45.182      0.000      -412.287  -378.005\n",
      "BLD                      -28.5999      1.239    -23.082      0.000       -31.028   -26.171\n",
      "BDSP                      87.8689      2.227     39.448      0.000        83.503    92.235\n",
      "==============================================================================\n",
      "Omnibus:                     4701.552   Durbin-Watson:                   1.975\n",
      "Prob(Omnibus):                  0.000   Jarque-Bera (JB):            10578.527\n",
      "Skew:                           0.391   Prob(JB):                         0.00\n",
      "Kurtosis:                       4.620   Cond. No.                     1.10e+04\n",
      "==============================================================================\n",
      "\n",
      "Warnings:\n",
      "[1] Standard Errors assume that the covariance matrix of the errors is correctly specified.\n",
      "[2] The condition number is large, 1.1e+04. This might indicate that there are\n",
      "strong multicollinearity or other numerical problems.\n"
     ]
    }
   ],
   "source": [
    "# predict rent paid for renters with grouped building ages\n",
    "mod = smf.ols(formula='RNTP ~ BLD + BDSP + C(PUMA) + C(AgeGroup)', data = nyc_pums[nyc_pums['TEN']==3]).fit()\n",
    "print(mod.summary())"
   ]
  },
  {
   "cell_type": "code",
   "execution_count": 34,
   "metadata": {
    "collapsed": false
   },
   "outputs": [
    {
     "name": "stdout",
     "output_type": "stream",
     "text": [
      "                            OLS Regression Results                            \n",
      "==============================================================================\n",
      "Dep. Variable:                   RNTP   R-squared:                       0.377\n",
      "Model:                            OLS   Adj. R-squared:                  0.376\n",
      "Method:                 Least Squares   F-statistic:                     729.0\n",
      "Date:                Sun, 28 Feb 2016   Prob (F-statistic):               0.00\n",
      "Time:                        11:03:16   Log-Likelihood:            -6.0600e+05\n",
      "No. Observations:               78485   AIC:                         1.212e+06\n",
      "Df Residuals:                   78419   BIC:                         1.213e+06\n",
      "Df Model:                          65                                         \n",
      "Covariance Type:            nonrobust                                         \n",
      "==========================================================================================\n",
      "                             coef    std err          t      P>|t|      [95.0% Conf. Int.]\n",
      "------------------------------------------------------------------------------------------\n",
      "Intercept                682.6546    386.313      1.767      0.077       -74.517  1439.826\n",
      "C(SizeGroup)[T.Medium]    12.1534      4.922      2.469      0.014         2.506    21.800\n",
      "C(SizeGroup)[T.Small]     43.9237      6.523      6.734      0.000        31.139    56.708\n",
      "C(AgeGroup)[T.PostWar]  -255.0030      8.153    -31.279      0.000      -270.982  -239.024\n",
      "C(AgeGroup)[T.PreWar]   -227.0535      8.309    -27.327      0.000      -243.339  -210.768\n",
      "C(PUMA)[T.2602]          119.1616    546.123      0.218      0.827      -951.236  1189.559\n",
      "C(PUMA)[T.3701]          779.1018    386.527      2.016      0.044        21.511  1536.692\n",
      "C(PUMA)[T.3702]          590.5680    386.479      1.528      0.126      -166.929  1348.065\n",
      "C(PUMA)[T.3703]          642.2926    386.725      1.661      0.097      -115.686  1400.271\n",
      "C(PUMA)[T.3704]          611.7180    386.462      1.583      0.113      -145.746  1369.182\n",
      "C(PUMA)[T.3706]          597.1365    386.325      1.546      0.122      -160.058  1354.331\n",
      "C(PUMA)[T.3707]          488.2018    386.407      1.263      0.206      -269.153  1245.557\n",
      "C(PUMA)[T.3708]          505.8082    386.436      1.309      0.191      -251.604  1263.221\n",
      "C(PUMA)[T.3709]          527.5900    386.388      1.365      0.172      -229.728  1284.908\n",
      "C(PUMA)[T.3710]          305.8169    386.385      0.791      0.429      -451.495  1063.129\n",
      "C(PUMA)[T.3801]          731.0378    386.357      1.892      0.058       -26.220  1488.296\n",
      "C(PUMA)[T.3802]          850.4716    386.473      2.201      0.028        92.986  1607.957\n",
      "C(PUMA)[T.3803]          573.4448    386.419      1.484      0.138      -183.935  1330.824\n",
      "C(PUMA)[T.3804]          631.6537    386.445      1.635      0.102      -125.777  1389.085\n",
      "C(PUMA)[T.3805]         1542.8234    386.388      3.993      0.000       785.504  2300.142\n",
      "C(PUMA)[T.3806]         1449.4576    386.417      3.751      0.000       692.082  2206.833\n",
      "C(PUMA)[T.3807]         1488.9083    386.374      3.854      0.000       731.618  2246.199\n",
      "C(PUMA)[T.3808]         1691.8575    386.453      4.378      0.000       934.412  2449.303\n",
      "C(PUMA)[T.3809]          829.3921    386.374      2.147      0.032        72.101  1586.683\n",
      "C(PUMA)[T.3810]         1761.8236    386.394      4.560      0.000      1004.493  2519.154\n",
      "C(PUMA)[T.3901]          628.5873    387.258      1.623      0.105      -130.436  1387.611\n",
      "C(PUMA)[T.3902]          512.2847    386.938      1.324      0.186      -246.112  1270.682\n",
      "C(PUMA)[T.3903]          484.7609    386.533      1.254      0.210      -272.841  1242.363\n",
      "C(PUMA)[T.4001]          923.3034    386.354      2.390      0.017       166.052  1680.555\n",
      "C(PUMA)[T.4002]          628.5800    386.424      1.627      0.104      -128.809  1385.969\n",
      "C(PUMA)[T.4003]          511.3827    386.417      1.323      0.186      -245.993  1268.758\n",
      "C(PUMA)[T.4004]         1087.1397    386.392      2.814      0.005       329.813  1844.466\n",
      "C(PUMA)[T.4005]         1252.3886    386.447      3.241      0.001       494.954  2009.823\n",
      "C(PUMA)[T.4006]          667.7579    386.405      1.728      0.084       -89.593  1425.109\n",
      "C(PUMA)[T.4007]          375.0260    386.453      0.970      0.332      -382.419  1132.471\n",
      "C(PUMA)[T.4008]          508.1588    386.409      1.315      0.188      -249.201  1265.519\n",
      "C(PUMA)[T.4009]          638.7485    386.445      1.653      0.098      -118.682  1396.179\n",
      "C(PUMA)[T.4010]          637.1126    386.463      1.649      0.099      -120.352  1394.578\n",
      "C(PUMA)[T.4011]          687.7431    386.470      1.780      0.075       -69.737  1445.223\n",
      "C(PUMA)[T.4012]          685.5947    386.428      1.774      0.076       -71.803  1442.992\n",
      "C(PUMA)[T.4014]          719.9841    386.414      1.863      0.062       -37.385  1477.353\n",
      "C(PUMA)[T.4015]          739.1644    386.387      1.913      0.056       -18.152  1496.481\n",
      "C(PUMA)[T.4016]          705.6009    386.444      1.826      0.068       -51.826  1463.028\n",
      "C(PUMA)[T.4017]          620.2659    386.264      1.606      0.108      -136.809  1377.341\n",
      "C(PUMA)[T.4018]          524.7396    386.499      1.358      0.175      -232.796  1282.275\n",
      "C(PUMA)[T.4101]          844.1420    386.309      2.185      0.029        86.979  1601.305\n",
      "C(PUMA)[T.4102]          782.4473    386.477      2.025      0.043        24.954  1539.940\n",
      "C(PUMA)[T.4103]          786.8887    386.406      2.036      0.042        29.536  1544.242\n",
      "C(PUMA)[T.4104]          935.9284    386.851      2.419      0.016       177.704  1694.153\n",
      "C(PUMA)[T.4105]          766.4814    386.726      1.982      0.047         8.500  1524.463\n",
      "C(PUMA)[T.4106]          810.0374    386.565      2.095      0.036        52.372  1567.703\n",
      "C(PUMA)[T.4107]          806.2094    386.530      2.086      0.037        48.612  1563.806\n",
      "C(PUMA)[T.4108]         1002.2991    386.543      2.593      0.010       244.676  1759.922\n",
      "C(PUMA)[T.4109]          941.0389    386.438      2.435      0.015       183.623  1698.455\n",
      "C(PUMA)[T.4110]          688.9639    386.387      1.783      0.075       -68.353  1446.281\n",
      "C(PUMA)[T.4111]          702.6879    386.463      1.818      0.069       -54.777  1460.153\n",
      "C(PUMA)[T.4112]          582.1237    386.412      1.506      0.132      -175.241  1339.488\n",
      "C(PUMA)[T.4113]          677.2034    386.828      1.751      0.080       -80.978  1435.385\n",
      "C(PUMA)[T.4114]          539.0627    386.660      1.394      0.163      -218.788  1296.913\n",
      "C(MV)[T.2.0]               2.9325      8.758      0.335      0.738       -14.232    20.098\n",
      "C(MV)[T.3.0]            -130.7198      6.596    -19.817      0.000      -143.649  -117.791\n",
      "C(MV)[T.4.0]            -272.5136      6.994    -38.961      0.000      -286.223  -258.804\n",
      "C(MV)[T.5.0]            -418.3555      6.973    -59.997      0.000      -432.022  -404.689\n",
      "C(MV)[T.6.0]            -535.8340      8.557    -62.620      0.000      -552.606  -519.062\n",
      "C(MV)[T.7.0]            -677.9801      7.913    -85.678      0.000      -693.490  -662.471\n",
      "BDSP                     115.5975      2.082     55.534      0.000       111.518   119.677\n",
      "==============================================================================\n",
      "Omnibus:                     4412.191   Durbin-Watson:                   1.973\n",
      "Prob(Omnibus):                  0.000   Jarque-Bera (JB):            12210.223\n",
      "Skew:                           0.298   Prob(JB):                         0.00\n",
      "Kurtosis:                       4.838   Cond. No.                     3.37e+03\n",
      "==============================================================================\n",
      "\n",
      "Warnings:\n",
      "[1] Standard Errors assume that the covariance matrix of the errors is correctly specified.\n",
      "[2] The condition number is large, 3.37e+03. This might indicate that there are\n",
      "strong multicollinearity or other numerical problems.\n"
     ]
    }
   ],
   "source": [
    "# predict rent paid for renters with grouped building ages and incumbency\n",
    "mod = smf.ols(formula='RNTP ~ BDSP + C(SizeGroup) + C(AgeGroup) + C(PUMA) + C(MV)', data = nyc_pums[nyc_pums['TEN']==3]).fit()\n",
    "print(mod.summary())"
   ]
  },
  {
   "cell_type": "code",
   "execution_count": 39,
   "metadata": {
    "collapsed": false
   },
   "outputs": [
    {
     "name": "stdout",
     "output_type": "stream",
     "text": [
      "Warning: Maximum number of iterations has been exceeded.\n",
      "         Current function value: 0.589822\n",
      "         Iterations: 35\n"
     ]
    },
    {
     "ename": "LinAlgError",
     "evalue": "Singular matrix",
     "output_type": "error",
     "traceback": [
      "\u001b[1;31m---------------------------------------------------------------------------\u001b[0m",
      "\u001b[1;31mLinAlgError\u001b[0m                               Traceback (most recent call last)",
      "\u001b[1;32m<ipython-input-39-e3fa2cbb5ea6>\u001b[0m in \u001b[0;36m<module>\u001b[1;34m()\u001b[0m\n\u001b[1;32m----> 1\u001b[1;33m \u001b[0mlogit_mod\u001b[0m \u001b[1;33m=\u001b[0m \u001b[0msmf\u001b[0m\u001b[1;33m.\u001b[0m\u001b[0mlogit\u001b[0m\u001b[1;33m(\u001b[0m\u001b[0mformula\u001b[0m\u001b[1;33m=\u001b[0m\u001b[1;34m'AMI_80 ~ C(SizeGroup) + C(AgeGroup) + C(PUMA)'\u001b[0m\u001b[1;33m,\u001b[0m \u001b[0mdata\u001b[0m \u001b[1;33m=\u001b[0m \u001b[0mnyc_pums\u001b[0m\u001b[1;33m[\u001b[0m\u001b[0mnyc_pums\u001b[0m\u001b[1;33m[\u001b[0m\u001b[1;34m'TEN'\u001b[0m\u001b[1;33m]\u001b[0m\u001b[1;33m==\u001b[0m\u001b[1;36m3\u001b[0m\u001b[1;33m]\u001b[0m\u001b[1;33m)\u001b[0m\u001b[1;33m.\u001b[0m\u001b[0mfit\u001b[0m\u001b[1;33m(\u001b[0m\u001b[1;33m)\u001b[0m\u001b[1;33m\u001b[0m\u001b[0m\n\u001b[0m\u001b[0;32m      2\u001b[0m \u001b[1;32mprint\u001b[0m\u001b[1;33m(\u001b[0m\u001b[0mlogit_mod\u001b[0m\u001b[1;33m.\u001b[0m\u001b[0msummary\u001b[0m\u001b[1;33m(\u001b[0m\u001b[1;33m)\u001b[0m\u001b[1;33m)\u001b[0m\u001b[1;33m\u001b[0m\u001b[0m\n",
      "\u001b[1;32mC:\\Anaconda3\\envs\\py27\\lib\\site-packages\\statsmodels\\discrete\\discrete_model.pyc\u001b[0m in \u001b[0;36mfit\u001b[1;34m(self, start_params, method, maxiter, full_output, disp, callback, **kwargs)\u001b[0m\n\u001b[0;32m   1374\u001b[0m         bnryfit = super(Logit, self).fit(start_params=start_params,\n\u001b[0;32m   1375\u001b[0m                 \u001b[0mmethod\u001b[0m\u001b[1;33m=\u001b[0m\u001b[0mmethod\u001b[0m\u001b[1;33m,\u001b[0m \u001b[0mmaxiter\u001b[0m\u001b[1;33m=\u001b[0m\u001b[0mmaxiter\u001b[0m\u001b[1;33m,\u001b[0m \u001b[0mfull_output\u001b[0m\u001b[1;33m=\u001b[0m\u001b[0mfull_output\u001b[0m\u001b[1;33m,\u001b[0m\u001b[1;33m\u001b[0m\u001b[0m\n\u001b[1;32m-> 1376\u001b[1;33m                 disp=disp, callback=callback, **kwargs)\n\u001b[0m\u001b[0;32m   1377\u001b[0m \u001b[1;33m\u001b[0m\u001b[0m\n\u001b[0;32m   1378\u001b[0m         \u001b[0mdiscretefit\u001b[0m \u001b[1;33m=\u001b[0m \u001b[0mLogitResults\u001b[0m\u001b[1;33m(\u001b[0m\u001b[0mself\u001b[0m\u001b[1;33m,\u001b[0m \u001b[0mbnryfit\u001b[0m\u001b[1;33m)\u001b[0m\u001b[1;33m\u001b[0m\u001b[0m\n",
      "\u001b[1;32mC:\\Anaconda3\\envs\\py27\\lib\\site-packages\\statsmodels\\discrete\\discrete_model.pyc\u001b[0m in \u001b[0;36mfit\u001b[1;34m(self, start_params, method, maxiter, full_output, disp, callback, **kwargs)\u001b[0m\n\u001b[0;32m    201\u001b[0m         mlefit = super(DiscreteModel, self).fit(start_params=start_params,\n\u001b[0;32m    202\u001b[0m                 \u001b[0mmethod\u001b[0m\u001b[1;33m=\u001b[0m\u001b[0mmethod\u001b[0m\u001b[1;33m,\u001b[0m \u001b[0mmaxiter\u001b[0m\u001b[1;33m=\u001b[0m\u001b[0mmaxiter\u001b[0m\u001b[1;33m,\u001b[0m \u001b[0mfull_output\u001b[0m\u001b[1;33m=\u001b[0m\u001b[0mfull_output\u001b[0m\u001b[1;33m,\u001b[0m\u001b[1;33m\u001b[0m\u001b[0m\n\u001b[1;32m--> 203\u001b[1;33m                 disp=disp, callback=callback, **kwargs)\n\u001b[0m\u001b[0;32m    204\u001b[0m \u001b[1;33m\u001b[0m\u001b[0m\n\u001b[0;32m    205\u001b[0m         \u001b[1;32mreturn\u001b[0m \u001b[0mmlefit\u001b[0m \u001b[1;31m# up to subclasses to wrap results\u001b[0m\u001b[1;33m\u001b[0m\u001b[0m\n",
      "\u001b[1;32mC:\\Anaconda3\\envs\\py27\\lib\\site-packages\\statsmodels\\base\\model.pyc\u001b[0m in \u001b[0;36mfit\u001b[1;34m(self, start_params, method, maxiter, full_output, disp, fargs, callback, retall, skip_hessian, **kwargs)\u001b[0m\n\u001b[0;32m    432\u001b[0m             \u001b[0mHinv\u001b[0m \u001b[1;33m=\u001b[0m \u001b[0mcov_params_func\u001b[0m\u001b[1;33m(\u001b[0m\u001b[0mself\u001b[0m\u001b[1;33m,\u001b[0m \u001b[0mxopt\u001b[0m\u001b[1;33m,\u001b[0m \u001b[0mretvals\u001b[0m\u001b[1;33m)\u001b[0m\u001b[1;33m\u001b[0m\u001b[0m\n\u001b[0;32m    433\u001b[0m         \u001b[1;32melif\u001b[0m \u001b[0mmethod\u001b[0m \u001b[1;33m==\u001b[0m \u001b[1;34m'newton'\u001b[0m \u001b[1;32mand\u001b[0m \u001b[0mfull_output\u001b[0m\u001b[1;33m:\u001b[0m\u001b[1;33m\u001b[0m\u001b[0m\n\u001b[1;32m--> 434\u001b[1;33m             \u001b[0mHinv\u001b[0m \u001b[1;33m=\u001b[0m \u001b[0mnp\u001b[0m\u001b[1;33m.\u001b[0m\u001b[0mlinalg\u001b[0m\u001b[1;33m.\u001b[0m\u001b[0minv\u001b[0m\u001b[1;33m(\u001b[0m\u001b[1;33m-\u001b[0m\u001b[0mretvals\u001b[0m\u001b[1;33m[\u001b[0m\u001b[1;34m'Hessian'\u001b[0m\u001b[1;33m]\u001b[0m\u001b[1;33m)\u001b[0m \u001b[1;33m/\u001b[0m \u001b[0mnobs\u001b[0m\u001b[1;33m\u001b[0m\u001b[0m\n\u001b[0m\u001b[0;32m    435\u001b[0m         \u001b[1;32melif\u001b[0m \u001b[1;32mnot\u001b[0m \u001b[0mskip_hessian\u001b[0m\u001b[1;33m:\u001b[0m\u001b[1;33m\u001b[0m\u001b[0m\n\u001b[0;32m    436\u001b[0m             \u001b[1;32mtry\u001b[0m\u001b[1;33m:\u001b[0m\u001b[1;33m\u001b[0m\u001b[0m\n",
      "\u001b[1;32mC:\\Anaconda3\\envs\\py27\\lib\\site-packages\\numpy\\linalg\\linalg.pyc\u001b[0m in \u001b[0;36minv\u001b[1;34m(a)\u001b[0m\n\u001b[0;32m    524\u001b[0m     \u001b[0msignature\u001b[0m \u001b[1;33m=\u001b[0m \u001b[1;34m'D->D'\u001b[0m \u001b[1;32mif\u001b[0m \u001b[0misComplexType\u001b[0m\u001b[1;33m(\u001b[0m\u001b[0mt\u001b[0m\u001b[1;33m)\u001b[0m \u001b[1;32melse\u001b[0m \u001b[1;34m'd->d'\u001b[0m\u001b[1;33m\u001b[0m\u001b[0m\n\u001b[0;32m    525\u001b[0m     \u001b[0mextobj\u001b[0m \u001b[1;33m=\u001b[0m \u001b[0mget_linalg_error_extobj\u001b[0m\u001b[1;33m(\u001b[0m\u001b[0m_raise_linalgerror_singular\u001b[0m\u001b[1;33m)\u001b[0m\u001b[1;33m\u001b[0m\u001b[0m\n\u001b[1;32m--> 526\u001b[1;33m     \u001b[0mainv\u001b[0m \u001b[1;33m=\u001b[0m \u001b[0m_umath_linalg\u001b[0m\u001b[1;33m.\u001b[0m\u001b[0minv\u001b[0m\u001b[1;33m(\u001b[0m\u001b[0ma\u001b[0m\u001b[1;33m,\u001b[0m \u001b[0msignature\u001b[0m\u001b[1;33m=\u001b[0m\u001b[0msignature\u001b[0m\u001b[1;33m,\u001b[0m \u001b[0mextobj\u001b[0m\u001b[1;33m=\u001b[0m\u001b[0mextobj\u001b[0m\u001b[1;33m)\u001b[0m\u001b[1;33m\u001b[0m\u001b[0m\n\u001b[0m\u001b[0;32m    527\u001b[0m     \u001b[1;32mreturn\u001b[0m \u001b[0mwrap\u001b[0m\u001b[1;33m(\u001b[0m\u001b[0mainv\u001b[0m\u001b[1;33m.\u001b[0m\u001b[0mastype\u001b[0m\u001b[1;33m(\u001b[0m\u001b[0mresult_t\u001b[0m\u001b[1;33m,\u001b[0m \u001b[0mcopy\u001b[0m\u001b[1;33m=\u001b[0m\u001b[0mFalse\u001b[0m\u001b[1;33m)\u001b[0m\u001b[1;33m)\u001b[0m\u001b[1;33m\u001b[0m\u001b[0m\n\u001b[0;32m    528\u001b[0m \u001b[1;33m\u001b[0m\u001b[0m\n",
      "\u001b[1;32mC:\\Anaconda3\\envs\\py27\\lib\\site-packages\\numpy\\linalg\\linalg.pyc\u001b[0m in \u001b[0;36m_raise_linalgerror_singular\u001b[1;34m(err, flag)\u001b[0m\n\u001b[0;32m     88\u001b[0m \u001b[1;33m\u001b[0m\u001b[0m\n\u001b[0;32m     89\u001b[0m \u001b[1;32mdef\u001b[0m \u001b[0m_raise_linalgerror_singular\u001b[0m\u001b[1;33m(\u001b[0m\u001b[0merr\u001b[0m\u001b[1;33m,\u001b[0m \u001b[0mflag\u001b[0m\u001b[1;33m)\u001b[0m\u001b[1;33m:\u001b[0m\u001b[1;33m\u001b[0m\u001b[0m\n\u001b[1;32m---> 90\u001b[1;33m     \u001b[1;32mraise\u001b[0m \u001b[0mLinAlgError\u001b[0m\u001b[1;33m(\u001b[0m\u001b[1;34m\"Singular matrix\"\u001b[0m\u001b[1;33m)\u001b[0m\u001b[1;33m\u001b[0m\u001b[0m\n\u001b[0m\u001b[0;32m     91\u001b[0m \u001b[1;33m\u001b[0m\u001b[0m\n\u001b[0;32m     92\u001b[0m \u001b[1;32mdef\u001b[0m \u001b[0m_raise_linalgerror_nonposdef\u001b[0m\u001b[1;33m(\u001b[0m\u001b[0merr\u001b[0m\u001b[1;33m,\u001b[0m \u001b[0mflag\u001b[0m\u001b[1;33m)\u001b[0m\u001b[1;33m:\u001b[0m\u001b[1;33m\u001b[0m\u001b[0m\n",
      "\u001b[1;31mLinAlgError\u001b[0m: Singular matrix"
     ]
    }
   ],
   "source": [
    "logit_mod = smf.logit(formula='AMI_80 ~ C(SizeGroup) + C(AgeGroup) + C(PUMA)', data = nyc_pums[nyc_pums['TEN']==3]).fit()\n",
    "print(logit_mod.summary())"
   ]
  },
  {
   "cell_type": "code",
   "execution_count": 93,
   "metadata": {
    "collapsed": false
   },
   "outputs": [
    {
     "name": "stdout",
     "output_type": "stream",
     "text": [
      "        Logit Marginal Effects       \n",
      "=====================================\n",
      "Dep. Variable:                 AMI_80\n",
      "Method:                          dydx\n",
      "At:                           overall\n",
      "==========================================================================================\n",
      "                            dy/dx    std err          z      P>|z|      [95.0% Conf. Int.]\n",
      "------------------------------------------------------------------------------------------\n",
      "C(SizeGroup)[T.Medium]    -0.0193      0.004     -4.912      0.000        -0.027    -0.012\n",
      "C(SizeGroup)[T.Small]     -0.0531      0.005    -10.629      0.000        -0.063    -0.043\n",
      "C(AgeGroup)[T.Modern]     -0.0481      0.007     -6.726      0.000        -0.062    -0.034\n",
      "C(AgeGroup)[T.PostWar]    -0.0139      0.005     -2.839      0.005        -0.024    -0.004\n",
      "C(AgeGroup)[T.PreWar]     -0.0172      0.005     -3.519      0.000        -0.027    -0.008\n",
      "C(PUMA)[T.2602]           -1.6972   7.88e+04  -2.15e-05      1.000     -1.54e+05  1.54e+05\n",
      "C(PUMA)[T.3701]           -5.7872   7.84e+04  -7.38e-05      1.000     -1.54e+05  1.54e+05\n",
      "C(PUMA)[T.3702]           -5.6313   7.84e+04  -7.18e-05      1.000     -1.54e+05  1.54e+05\n",
      "C(PUMA)[T.3703]           -5.7653   7.84e+04  -7.35e-05      1.000     -1.54e+05  1.54e+05\n",
      "C(PUMA)[T.3704]           -5.6793   7.84e+04  -7.24e-05      1.000     -1.54e+05  1.54e+05\n",
      "C(PUMA)[T.3705]           -5.4662   7.84e+04  -6.97e-05      1.000     -1.54e+05  1.54e+05\n",
      "C(PUMA)[T.3706]           -5.6047   7.84e+04  -7.15e-05      1.000     -1.54e+05  1.54e+05\n",
      "C(PUMA)[T.3707]           -5.4985   7.84e+04  -7.01e-05      1.000     -1.54e+05  1.54e+05\n",
      "C(PUMA)[T.3708]           -5.5455   7.84e+04  -7.07e-05      1.000     -1.54e+05  1.54e+05\n",
      "C(PUMA)[T.3709]           -5.6116   7.84e+04  -7.16e-05      1.000     -1.54e+05  1.54e+05\n",
      "C(PUMA)[T.3710]           -5.4086   7.84e+04   -6.9e-05      1.000     -1.54e+05  1.54e+05\n",
      "C(PUMA)[T.3801]           -5.7436   7.84e+04  -7.32e-05      1.000     -1.54e+05  1.54e+05\n",
      "C(PUMA)[T.3802]           -5.7563   7.84e+04  -7.34e-05      1.000     -1.54e+05  1.54e+05\n",
      "C(PUMA)[T.3803]           -5.6842   7.84e+04  -7.25e-05      1.000     -1.54e+05  1.54e+05\n",
      "C(PUMA)[T.3804]           -5.6915   7.84e+04  -7.26e-05      1.000     -1.54e+05  1.54e+05\n",
      "C(PUMA)[T.3805]           -6.0516   7.84e+04  -7.72e-05      1.000     -1.54e+05  1.54e+05\n",
      "C(PUMA)[T.3806]           -5.9882   7.84e+04  -7.64e-05      1.000     -1.54e+05  1.54e+05\n",
      "C(PUMA)[T.3807]           -5.9483   7.84e+04  -7.58e-05      1.000     -1.54e+05  1.54e+05\n",
      "C(PUMA)[T.3808]           -6.0541   7.84e+04  -7.72e-05      1.000     -1.54e+05  1.54e+05\n",
      "C(PUMA)[T.3809]           -5.7761   7.84e+04  -7.37e-05      1.000     -1.54e+05  1.54e+05\n",
      "C(PUMA)[T.3810]           -6.0458   7.84e+04  -7.71e-05      1.000     -1.54e+05  1.54e+05\n",
      "C(PUMA)[T.3902]           -5.7080   7.84e+04  -7.28e-05      1.000     -1.54e+05  1.54e+05\n",
      "C(PUMA)[T.3903]           -5.6528   7.84e+04  -7.21e-05      1.000     -1.54e+05  1.54e+05\n",
      "C(PUMA)[T.4001]           -5.8246   7.84e+04  -7.43e-05      1.000     -1.54e+05  1.54e+05\n",
      "C(PUMA)[T.4002]           -5.6636   7.84e+04  -7.22e-05      1.000     -1.54e+05  1.54e+05\n",
      "C(PUMA)[T.4003]           -5.6064   7.84e+04  -7.15e-05      1.000     -1.54e+05  1.54e+05\n",
      "C(PUMA)[T.4004]           -5.8842   7.84e+04   -7.5e-05      1.000     -1.54e+05  1.54e+05\n",
      "C(PUMA)[T.4005]           -5.9784   7.84e+04  -7.62e-05      1.000     -1.54e+05  1.54e+05\n",
      "C(PUMA)[T.4006]           -5.7112   7.84e+04  -7.28e-05      1.000     -1.54e+05  1.54e+05\n",
      "C(PUMA)[T.4007]           -5.5010   7.84e+04  -7.01e-05      1.000     -1.54e+05  1.54e+05\n",
      "C(PUMA)[T.4008]           -5.5482   7.84e+04  -7.07e-05      1.000     -1.54e+05  1.54e+05\n",
      "C(PUMA)[T.4009]           -5.7000   7.84e+04  -7.27e-05      1.000     -1.54e+05  1.54e+05\n",
      "C(PUMA)[T.4010]           -5.6585   7.84e+04  -7.22e-05      1.000     -1.54e+05  1.54e+05\n",
      "C(PUMA)[T.4011]           -5.6677   7.84e+04  -7.23e-05      1.000     -1.54e+05  1.54e+05\n",
      "C(PUMA)[T.4012]           -5.6849   7.84e+04  -7.25e-05      1.000     -1.54e+05  1.54e+05\n",
      "C(PUMA)[T.4013]           -5.7848   7.84e+04  -7.38e-05      1.000     -1.54e+05  1.54e+05\n",
      "C(PUMA)[T.4014]           -5.6278   7.84e+04  -7.18e-05      1.000     -1.54e+05  1.54e+05\n",
      "C(PUMA)[T.4015]           -5.7173   7.84e+04  -7.29e-05      1.000     -1.54e+05  1.54e+05\n",
      "C(PUMA)[T.4016]           -5.7027   7.84e+04  -7.27e-05      1.000     -1.54e+05  1.54e+05\n",
      "C(PUMA)[T.4017]           -5.6686   7.84e+04  -7.23e-05      1.000     -1.54e+05  1.54e+05\n",
      "C(PUMA)[T.4018]           -5.5897   7.84e+04  -7.13e-05      1.000     -1.54e+05  1.54e+05\n",
      "C(PUMA)[T.4101]           -5.8167   7.84e+04  -7.42e-05      1.000     -1.54e+05  1.54e+05\n",
      "C(PUMA)[T.4102]           -5.6590   7.84e+04  -7.22e-05      1.000     -1.54e+05  1.54e+05\n",
      "C(PUMA)[T.4103]           -5.7009   7.84e+04  -7.27e-05      1.000     -1.54e+05  1.54e+05\n",
      "C(PUMA)[T.4104]           -5.8382   7.84e+04  -7.44e-05      1.000     -1.54e+05  1.54e+05\n",
      "C(PUMA)[T.4105]           -5.7441   7.84e+04  -7.32e-05      1.000     -1.54e+05  1.54e+05\n",
      "C(PUMA)[T.4106]           -5.7505   7.84e+04  -7.33e-05      1.000     -1.54e+05  1.54e+05\n",
      "C(PUMA)[T.4107]           -5.6878   7.84e+04  -7.25e-05      1.000     -1.54e+05  1.54e+05\n",
      "C(PUMA)[T.4108]           -5.8499   7.84e+04  -7.46e-05      1.000     -1.54e+05  1.54e+05\n",
      "C(PUMA)[T.4109]           -5.8018   7.84e+04   -7.4e-05      1.000     -1.54e+05  1.54e+05\n",
      "C(PUMA)[T.4110]           -5.7677   7.84e+04  -7.35e-05      1.000     -1.54e+05  1.54e+05\n",
      "C(PUMA)[T.4111]           -5.7286   7.84e+04   -7.3e-05      1.000     -1.54e+05  1.54e+05\n",
      "C(PUMA)[T.4112]           -5.6147   7.84e+04  -7.16e-05      1.000     -1.54e+05  1.54e+05\n",
      "C(PUMA)[T.4113]           -5.6414   7.84e+04  -7.19e-05      1.000     -1.54e+05  1.54e+05\n",
      "C(PUMA)[T.4114]           -5.6254   7.84e+04  -7.17e-05      1.000     -1.54e+05  1.54e+05\n",
      "C(MV)[T.2.0]              -0.0323      0.007     -4.779      0.000        -0.045    -0.019\n",
      "C(MV)[T.3.0]               0.0177      0.005      3.459      0.001         0.008     0.028\n",
      "C(MV)[T.4.0]               0.0552      0.005     10.048      0.000         0.044     0.066\n",
      "C(MV)[T.5.0]               0.0894      0.006     16.121      0.000         0.079     0.100\n",
      "C(MV)[T.6.0]               0.1123      0.007     16.030      0.000         0.099     0.126\n",
      "C(MV)[T.7.0]               0.1605      0.006     24.722      0.000         0.148     0.173\n",
      "==========================================================================================\n"
     ]
    }
   ],
   "source": [
    "mfx = logit_mod.get_margeff()\n",
    "print mfx.summary()"
   ]
  },
  {
   "cell_type": "code",
   "execution_count": null,
   "metadata": {
    "collapsed": true
   },
   "outputs": [],
   "source": []
  }
 ],
 "metadata": {
  "kernelspec": {
   "display_name": "Python 2",
   "language": "python",
   "name": "python2"
  },
  "language_info": {
   "codemirror_mode": {
    "name": "ipython",
    "version": 2
   },
   "file_extension": ".py",
   "mimetype": "text/x-python",
   "name": "python",
   "nbconvert_exporter": "python",
   "pygments_lexer": "ipython2",
   "version": "2.7.11"
  }
 },
 "nbformat": 4,
 "nbformat_minor": 0
}
