{
 "cells": [
  {
   "cell_type": "code",
   "execution_count": 1,
   "metadata": {
    "collapsed": false
   },
   "outputs": [
    {
     "name": "stdout",
     "output_type": "stream",
     "text": [
      "Populating the interactive namespace from numpy and matplotlib\n"
     ]
    },
    {
     "name": "stderr",
     "output_type": "stream",
     "text": [
      "WARNING: pylab import has clobbered these variables: ['plt']\n",
      "`%matplotlib` prevents importing * from pylab and numpy\n"
     ]
    }
   ],
   "source": [
    "from sodapy import Socrata\n",
    "import requests, zipfile, StringIO\n",
    "import urllib2\n",
    "import pandas as pd\n",
    "import numpy as np\n",
    "import pypyodbc\n",
    "import csv\n",
    "import os\n",
    "import tempfile\n",
    "import statsmodels.formula.api as smf\n",
    "import pylab as plt\n",
    "%pylab inline"
   ]
  },
  {
   "cell_type": "code",
   "execution_count": 2,
   "metadata": {
    "collapsed": false
   },
   "outputs": [],
   "source": [
    "puma_ref = pd.read_excel('http://www.nyc.gov/html/dcp/download/census/nyc2010census_tabulation_equiv.xlsx',header=3)\n",
    "# alternatively, use shapefile from https://data.cityofnewyork.us/Housing-Development/Public-Use-Microdata-Areas-PUMA-/cwiz-gcty\n",
    "puma_list = puma_ref['PUMA'].unique()[~np.isnan(puma_ref['PUMA'].unique())]"
   ]
  },
  {
   "cell_type": "code",
   "execution_count": 3,
   "metadata": {
    "collapsed": false
   },
   "outputs": [],
   "source": [
    "pums_data = pd.read_csv('ss14hny.csv')\n",
    "pums_data['PUMA'] = pums_data[['PUMA00','PUMA10']].max(axis=1)"
   ]
  },
  {
   "cell_type": "code",
   "execution_count": 4,
   "metadata": {
    "collapsed": false
   },
   "outputs": [
    {
     "name": "stdout",
     "output_type": "stream",
     "text": [
      "2532 rows after addition of PUMA 3704.0\n",
      "4290 rows after addition of PUMA 3706.0\n",
      "7271 rows after addition of PUMA 3705.0\n",
      "9141 rows after addition of PUMA 3703.0\n",
      "11081 rows after addition of PUMA 3708.0\n",
      "13603 rows after addition of PUMA 3702.0\n",
      "15801 rows after addition of PUMA 3707.0\n",
      "18926 rows after addition of PUMA 3710.0\n",
      "21257 rows after addition of PUMA 3701.0\n",
      "24034 rows after addition of PUMA 3709.0\n",
      "27707 rows after addition of PUMA 4017.0\n",
      "30805 rows after addition of PUMA 4013.0\n",
      "33408 rows after addition of PUMA 4003.0\n",
      "36267 rows after addition of PUMA 4014.0\n",
      "38410 rows after addition of PUMA 4018.0\n",
      "41972 rows after addition of PUMA 4004.0\n",
      "44269 rows after addition of PUMA 4007.0\n",
      "46446 rows after addition of PUMA 4002.0\n",
      "50660 rows after addition of PUMA 4009.0\n",
      "53223 rows after addition of PUMA 4005.0\n",
      "55807 rows after addition of PUMA 4006.0\n",
      "57735 rows after addition of PUMA 4011.0\n",
      "60478 rows after addition of PUMA 4008.0\n",
      "63099 rows after addition of PUMA 4010.0\n",
      "66109 rows after addition of PUMA 4001.0\n",
      "69054 rows after addition of PUMA 4015.0\n",
      "72425 rows after addition of PUMA 4016.0\n",
      "74889 rows after addition of PUMA 4012.0\n",
      "78249 rows after addition of PUMA 3810.0\n",
      "80659 rows after addition of PUMA 3803.0\n",
      "83840 rows after addition of PUMA 3809.0\n",
      "87375 rows after addition of PUMA 3807.0\n",
      "89563 rows after addition of PUMA 3804.0\n",
      "92329 rows after addition of PUMA 3808.0\n",
      "94817 rows after addition of PUMA 3802.0\n",
      "98627 rows after addition of PUMA 3805.0\n",
      "101690 rows after addition of PUMA 3806.0\n",
      "104759 rows after addition of PUMA 3801.0\n",
      "107828 rows after addition of PUMA 4102.0\n",
      "111545 rows after addition of PUMA 4105.0\n",
      "115539 rows after addition of PUMA 4101.0\n",
      "118135 rows after addition of PUMA 4104.0\n",
      "122316 rows after addition of PUMA 4112.0\n",
      "124445 rows after addition of PUMA 4114.0\n",
      "127211 rows after addition of PUMA 4106.0\n",
      "131598 rows after addition of PUMA 4103.0\n",
      "133405 rows after addition of PUMA 4107.0\n",
      "135807 rows after addition of PUMA 4109.0\n",
      "138191 rows after addition of PUMA 4108.0\n",
      "141975 rows after addition of PUMA 4110.0\n",
      "144901 rows after addition of PUMA 4111.0\n",
      "146973 rows after addition of PUMA 4113.0\n",
      "149513 rows after addition of PUMA 3901.0\n",
      "152006 rows after addition of PUMA 3902.0\n",
      "155423 rows after addition of PUMA 3903.0\n"
     ]
    }
   ],
   "source": [
    "nyc_pums = pd.DataFrame()\n",
    "for puma in puma_list:\n",
    "    nyc_pums = nyc_pums.append(pums_data.query('PUMA == @puma'))\n",
    "    print nyc_pums.shape[0],'rows after addition of PUMA',str(puma)"
   ]
  },
  {
   "cell_type": "code",
   "execution_count": 5,
   "metadata": {
    "collapsed": false
   },
   "outputs": [],
   "source": [
    "# excluding group quarters and vacant household records\n",
    "nyc_pums = nyc_pums.query('TYPE == 1 & BLD > 1 & BLD < 10')\n",
    "nyc_pums = nyc_pums[nyc_pums['VACS'].isnull()]"
   ]
  },
  {
   "cell_type": "code",
   "execution_count": 7,
   "metadata": {
    "collapsed": false
   },
   "outputs": [
    {
     "data": {
      "text/html": [
       "<div>\n",
       "<table border=\"1\" class=\"dataframe\">\n",
       "  <thead>\n",
       "    <tr style=\"text-align: right;\">\n",
       "      <th></th>\n",
       "      <th>insp</th>\n",
       "      <th>RT</th>\n",
       "      <th>SERIALNO</th>\n",
       "      <th>DIVISION</th>\n",
       "      <th>PUMA00</th>\n",
       "      <th>PUMA10</th>\n",
       "      <th>REGION</th>\n",
       "      <th>ST</th>\n",
       "      <th>ADJHSG</th>\n",
       "      <th>ADJINC</th>\n",
       "      <th>...</th>\n",
       "      <th>WGTP72</th>\n",
       "      <th>WGTP73</th>\n",
       "      <th>WGTP74</th>\n",
       "      <th>WGTP75</th>\n",
       "      <th>WGTP76</th>\n",
       "      <th>WGTP77</th>\n",
       "      <th>WGTP78</th>\n",
       "      <th>WGTP79</th>\n",
       "      <th>WGTP80</th>\n",
       "      <th>PUMA</th>\n",
       "    </tr>\n",
       "  </thead>\n",
       "  <tbody>\n",
       "  </tbody>\n",
       "</table>\n",
       "<p>0 rows × 206 columns</p>\n",
       "</div>"
      ],
      "text/plain": [
       "Empty DataFrame\n",
       "Columns: [insp, RT, SERIALNO, DIVISION, PUMA00, PUMA10, REGION, ST, ADJHSG, ADJINC, WGTP, NP, TYPE, ACR, AGS, BATH, BDSP, BLD, BUS, CONP, ELEP, FS, FULP, GASP, HFL, MHP, MRGI, MRGP, MRGT, MRGX, REFR, RMSP, RNTM, RNTP, RWAT, RWATPR, SINK, SMP, STOV, TEL, TEN, TOIL, VACS, VALP, VEH, WATP, YBL, FES, FINCP, FPARC, GRNTP, GRPIP, HHL, HHT, HINCP, HUGCL, HUPAC, HUPAOC, HUPARC, KIT, LNGI, MULTG, MV, NOC, NPF, NPP, NR, NRC, OCPIP, PARTNER, PLM, PSF, R18, R60, R65, RESMODE, SMOCP, SMX, SRNT, SVAL, TAXP, WIF, WKEXREL, WORKSTAT, FACRP, FAGSP, FBATHP, FBDSP, FBLDP, FBUSP, FCONP, FELEP, FFSP, FFULP, FGASP, FHFLP, FINSP, FKITP, FMHP, FMRGIP, ...]\n",
       "Index: []\n",
       "\n",
       "[0 rows x 206 columns]"
      ]
     },
     "execution_count": 7,
     "metadata": {},
     "output_type": "execute_result"
    }
   ],
   "source": [
    "# can we identify renters who live in condo buildings?\n",
    "nyc_pums.query('TEN == 3 and FCONP == 1')\n",
    "# it appears not"
   ]
  },
  {
   "cell_type": "code",
   "execution_count": 8,
   "metadata": {
    "collapsed": false
   },
   "outputs": [],
   "source": [
    "# nyc_pums[nyc_pums['PUMA']==4004].groupby(['YBL']).size()"
   ]
  },
  {
   "cell_type": "code",
   "execution_count": 9,
   "metadata": {
    "collapsed": false
   },
   "outputs": [
    {
     "name": "stdout",
     "output_type": "stream",
     "text": [
      "Example median HH income in Williamsburg/Greenpoint\n"
     ]
    },
    {
     "data": {
      "text/plain": [
       "60000.0"
      ]
     },
     "execution_count": 9,
     "metadata": {},
     "output_type": "execute_result"
    }
   ],
   "source": [
    "print('Example median HH income in Williamsburg/Greenpoint')\n",
    "nyc_pums[nyc_pums['PUMA10']==4001]['HINCP'].median()"
   ]
  },
  {
   "cell_type": "code",
   "execution_count": 10,
   "metadata": {
    "collapsed": false
   },
   "outputs": [
    {
     "name": "stdout",
     "output_type": "stream",
     "text": [
      "Median HH income in all NYC PUMAs\n"
     ]
    },
    {
     "data": {
      "text/plain": [
       "53600.0"
      ]
     },
     "execution_count": 10,
     "metadata": {},
     "output_type": "execute_result"
    }
   ],
   "source": [
    "print ('Median HH income in all NYC PUMAs')\n",
    "nyc_pums['HINCP'].median()"
   ]
  },
  {
   "cell_type": "code",
   "execution_count": 11,
   "metadata": {
    "collapsed": false
   },
   "outputs": [],
   "source": [
    "# nyc_pums.groupby(['YBL'])['HINCP'].median()"
   ]
  },
  {
   "cell_type": "code",
   "execution_count": 12,
   "metadata": {
    "collapsed": true
   },
   "outputs": [],
   "source": [
    "# dependents to test: HINCP, RNTP, GRNTP, NPF, TAXP\n",
    "# independents to test: YBL (ord), TEN (c), BDSP, BLD, VACS - perhaps as a filter?\n",
    "# also of interest: MV"
   ]
  },
  {
   "cell_type": "code",
   "execution_count": 13,
   "metadata": {
    "collapsed": false
   },
   "outputs": [
    {
     "name": "stdout",
     "output_type": "stream",
     "text": [
      "                            OLS Regression Results                            \n",
      "==============================================================================\n",
      "Dep. Variable:                   RNTP   R-squared:                       0.295\n",
      "Model:                            OLS   Adj. R-squared:                  0.295\n",
      "Method:                 Least Squares   F-statistic:                     457.9\n",
      "Date:                Thu, 25 Feb 2016   Prob (F-statistic):               0.00\n",
      "Time:                        13:36:58   Log-Likelihood:            -6.1681e+05\n",
      "No. Observations:               78742   AIC:                         1.234e+06\n",
      "Df Residuals:                   78669   BIC:                         1.234e+06\n",
      "Df Model:                          72                                         \n",
      "Covariance Type:            nonrobust                                         \n",
      "===================================================================================\n",
      "                      coef    std err          t      P>|t|      [95.0% Conf. Int.]\n",
      "-----------------------------------------------------------------------------------\n",
      "Intercept         489.9351    431.965      1.134      0.257      -356.713  1336.584\n",
      "C(PUMA)[T.2602]     1.0067    610.847      0.002      0.999     -1196.250  1198.263\n",
      "C(PUMA)[T.3701]   726.6060    432.385      1.680      0.093      -120.866  1574.078\n",
      "C(PUMA)[T.3702]   532.6008    432.315      1.232      0.218      -314.734  1379.936\n",
      "C(PUMA)[T.3703]   554.9619    432.595      1.283      0.200      -292.922  1402.845\n",
      "C(PUMA)[T.3704]   571.4327    432.303      1.322      0.186      -275.879  1418.745\n",
      "C(PUMA)[T.3705]   276.5683    432.201      0.640      0.522      -570.543  1123.679\n",
      "C(PUMA)[T.3706]   547.9112    432.322      1.267      0.205      -299.437  1395.259\n",
      "C(PUMA)[T.3707]   428.4407    432.249      0.991      0.322      -418.765  1275.647\n",
      "C(PUMA)[T.3708]   423.0032    432.282      0.979      0.328      -424.267  1270.273\n",
      "C(PUMA)[T.3709]   458.4414    432.221      1.061      0.289      -388.709  1305.591\n",
      "C(PUMA)[T.3710]   221.6143    432.222      0.513      0.608      -625.538  1068.767\n",
      "C(PUMA)[T.3802]   807.8255    432.322      1.869      0.062       -39.523  1655.174\n",
      "C(PUMA)[T.3803]   503.5959    432.256      1.165      0.244      -343.624  1350.816\n",
      "C(PUMA)[T.3804]   553.5391    432.290      1.280      0.200      -293.747  1400.825\n",
      "C(PUMA)[T.3805]  1542.4443    432.228      3.569      0.000       695.280  2389.609\n",
      "C(PUMA)[T.3806]  1386.4279    432.084      3.209      0.001       539.546  2233.310\n",
      "C(PUMA)[T.3807]  1456.4064    432.213      3.370      0.001       609.271  2303.542\n",
      "C(PUMA)[T.3808]  1695.8102    432.304      3.923      0.000       848.497  2543.123\n",
      "C(PUMA)[T.3809]   733.8884    432.207      1.698      0.090      -113.234  1581.011\n",
      "C(PUMA)[T.3810]  1754.1951    432.234      4.058      0.000       907.019  2601.371\n",
      "C(PUMA)[T.3901]   526.1373    433.198      1.215      0.225      -322.929  1375.203\n",
      "C(PUMA)[T.3902]   429.5138    432.833      0.992      0.321      -418.837  1277.864\n",
      "C(PUMA)[T.3903]   448.1851    432.382      1.037      0.300      -399.281  1295.652\n",
      "C(PUMA)[T.4001]   849.6167    432.166      1.966      0.049         2.574  1696.659\n",
      "C(PUMA)[T.4002]   578.2352    432.240      1.338      0.181      -268.953  1425.424\n",
      "C(PUMA)[T.4003]   443.4046    432.237      1.026      0.305      -403.777  1290.586\n",
      "C(PUMA)[T.4004]  1052.2621    432.220      2.435      0.015       205.113  1899.411\n",
      "C(PUMA)[T.4005]  1236.4807    432.264      2.860      0.004       389.245  2083.716\n",
      "C(PUMA)[T.4006]   612.3213    432.230      1.417      0.157      -234.847  1459.490\n",
      "C(PUMA)[T.4007]   294.9614    432.285      0.682      0.495      -552.315  1142.237\n",
      "C(PUMA)[T.4008]   424.6108    432.241      0.982      0.326      -422.578  1271.800\n",
      "C(PUMA)[T.4009]   578.6982    432.283      1.339      0.181      -268.574  1425.970\n",
      "C(PUMA)[T.4010]   565.8914    432.299      1.309      0.191      -281.412  1413.195\n",
      "C(PUMA)[T.4011]   604.5135    432.316      1.398      0.162      -242.823  1451.850\n",
      "C(PUMA)[T.4012]   638.2417    432.251      1.477      0.140      -208.968  1485.452\n",
      "C(PUMA)[T.4013]   729.7471    432.249      1.688      0.091      -117.458  1576.952\n",
      "C(PUMA)[T.4014]   637.7329    432.244      1.475      0.140      -209.463  1484.929\n",
      "C(PUMA)[T.4015]   676.4699    432.226      1.565      0.118      -170.690  1523.630\n",
      "C(PUMA)[T.4016]   634.5440    432.285      1.468      0.142      -212.733  1481.821\n",
      "C(PUMA)[T.4017]   552.8013    432.192      1.279      0.201      -294.293  1399.895\n",
      "C(PUMA)[T.4018]   422.9438    432.348      0.978      0.328      -424.457  1270.344\n",
      "C(PUMA)[T.4101]   803.9936    432.120      1.861      0.063       -42.959  1650.946\n",
      "C(PUMA)[T.4103]   738.0405    432.241      1.707      0.088      -109.150  1585.231\n",
      "C(PUMA)[T.4104]   895.2900    432.733      2.069      0.039        47.135  1743.445\n",
      "C(PUMA)[T.4105]   721.4144    432.596      1.668      0.095      -126.472  1569.301\n",
      "C(PUMA)[T.4106]   755.9180    432.417      1.748      0.080       -91.616  1603.452\n",
      "C(PUMA)[T.4107]   754.4805    432.374      1.745      0.081       -92.971  1601.932\n",
      "C(PUMA)[T.4108]   962.8980    432.405      2.227      0.026       115.387  1810.409\n",
      "C(PUMA)[T.4109]   898.4600    432.274      2.078      0.038        51.205  1745.715\n",
      "C(PUMA)[T.4110]   626.9955    432.207      1.451      0.147      -220.128  1474.119\n",
      "C(PUMA)[T.4111]   675.8584    432.303      1.563      0.118      -171.453  1523.170\n",
      "C(PUMA)[T.4112]   510.7042    432.249      1.182      0.237      -336.501  1357.909\n",
      "C(PUMA)[T.4113]   621.6276    432.709      1.437      0.151      -226.479  1469.734\n",
      "C(PUMA)[T.4114]   484.8166    432.528      1.121      0.262      -362.935  1332.568\n",
      "C(YBL)[T.2.0]     -55.2969      7.560     -7.314      0.000       -70.115   -40.479\n",
      "C(YBL)[T.3.0]     -83.8419      7.165    -11.702      0.000       -97.885   -69.798\n",
      "C(YBL)[T.4.0]     -31.5553      7.320     -4.311      0.000       -45.903   -17.208\n",
      "C(YBL)[T.5.0]     -21.4095      8.604     -2.488      0.013       -38.273    -4.546\n",
      "C(YBL)[T.6.0]      80.2788     11.000      7.298      0.000        58.719   101.839\n",
      "C(YBL)[T.7.0]     153.4757     11.717     13.099      0.000       130.511   176.440\n",
      "C(YBL)[T.8.0]     291.7046     13.840     21.077      0.000       264.579   318.830\n",
      "C(YBL)[T.9.0]     394.7835     24.448     16.148      0.000       346.866   442.701\n",
      "C(YBL)[T.10.0]    329.3336     25.031     13.157      0.000       280.272   378.395\n",
      "C(YBL)[T.11.0]    414.9368     25.407     16.332      0.000       365.139   464.735\n",
      "C(YBL)[T.12.0]    437.1542     24.206     18.060      0.000       389.710   484.598\n",
      "C(YBL)[T.13.0]    640.1335     26.601     24.064      0.000       587.996   692.271\n",
      "C(YBL)[T.14.0]    658.7648     29.761     22.135      0.000       600.433   717.097\n",
      "C(YBL)[T.15.0]    648.4304     46.008     14.094      0.000       558.255   738.606\n",
      "C(YBL)[T.16.0]    647.4381     69.793      9.277      0.000       510.644   784.232\n",
      "C(YBL)[T.17.0]    999.8932    140.243      7.130      0.000       725.018  1274.768\n",
      "BLD               -28.9936      1.301    -22.285      0.000       -31.544   -26.444\n",
      "BDSP               84.0260      2.305     36.449      0.000        79.508    88.544\n",
      "==============================================================================\n",
      "Omnibus:                     3833.090   Durbin-Watson:                   1.974\n",
      "Prob(Omnibus):                  0.000   Jarque-Bera (JB):             7590.017\n",
      "Skew:                           0.357   Prob(JB):                         0.00\n",
      "Kurtosis:                       4.343   Cond. No.                     1.11e+04\n",
      "==============================================================================\n",
      "\n",
      "Warnings:\n",
      "[1] Standard Errors assume that the covariance matrix of the errors is correctly specified.\n",
      "[2] The condition number is large, 1.11e+04. This might indicate that there are\n",
      "strong multicollinearity or other numerical problems.\n"
     ]
    }
   ],
   "source": [
    "# model rent paid for renters\n",
    "mod = smf.ols(formula='RNTP ~ BLD + BDSP + C(PUMA) + C(YBL)', data = nyc_pums[nyc_pums['TEN']==3]).fit()\n",
    "print(mod.summary())"
   ]
  },
  {
   "cell_type": "code",
   "execution_count": 14,
   "metadata": {
    "collapsed": false
   },
   "outputs": [
    {
     "name": "stdout",
     "output_type": "stream",
     "text": [
      "                            OLS Regression Results                            \n",
      "==============================================================================\n",
      "Dep. Variable:                  HINCP   R-squared:                       0.173\n",
      "Model:                            OLS   Adj. R-squared:                  0.172\n",
      "Method:                 Least Squares   F-statistic:                     228.1\n",
      "Date:                Thu, 25 Feb 2016   Prob (F-statistic):               0.00\n",
      "Time:                        13:37:50   Log-Likelihood:            -9.9827e+05\n",
      "No. Observations:               78742   AIC:                         1.997e+06\n",
      "Df Residuals:                   78669   BIC:                         1.997e+06\n",
      "Df Model:                          72                                         \n",
      "Covariance Type:            nonrobust                                         \n",
      "===================================================================================\n",
      "                      coef    std err          t      P>|t|      [95.0% Conf. Int.]\n",
      "-----------------------------------------------------------------------------------\n",
      "Intercept        3.745e+04   5.49e+04      0.682      0.495     -7.01e+04  1.45e+05\n",
      "C(PUMA)[T.2602]  -4.21e+04   7.76e+04     -0.543      0.587     -1.94e+05   1.1e+05\n",
      "C(PUMA)[T.3701]  -749.2030   5.49e+04     -0.014      0.989     -1.08e+05  1.07e+05\n",
      "C(PUMA)[T.3702] -2.119e+04   5.49e+04     -0.386      0.700     -1.29e+05  8.64e+04\n",
      "C(PUMA)[T.3703] -8128.9554   5.49e+04     -0.148      0.882     -1.16e+05  9.96e+04\n",
      "C(PUMA)[T.3704] -1.461e+04   5.49e+04     -0.266      0.790     -1.22e+05   9.3e+04\n",
      "C(PUMA)[T.3705] -3.686e+04   5.49e+04     -0.671      0.502     -1.44e+05  7.07e+04\n",
      "C(PUMA)[T.3706] -1.977e+04   5.49e+04     -0.360      0.719     -1.27e+05  8.79e+04\n",
      "C(PUMA)[T.3707] -2.909e+04   5.49e+04     -0.530      0.596     -1.37e+05  7.85e+04\n",
      "C(PUMA)[T.3708] -2.757e+04   5.49e+04     -0.502      0.616     -1.35e+05  8.01e+04\n",
      "C(PUMA)[T.3709] -2.158e+04   5.49e+04     -0.393      0.694     -1.29e+05   8.6e+04\n",
      "C(PUMA)[T.3710] -3.717e+04   5.49e+04     -0.677      0.498     -1.45e+05  7.04e+04\n",
      "C(PUMA)[T.3802]  -235.2768   5.49e+04     -0.004      0.997     -1.08e+05  1.07e+05\n",
      "C(PUMA)[T.3803] -1.552e+04   5.49e+04     -0.283      0.777     -1.23e+05  9.21e+04\n",
      "C(PUMA)[T.3804] -1.271e+04   5.49e+04     -0.231      0.817      -1.2e+05  9.49e+04\n",
      "C(PUMA)[T.3805]  7.819e+04   5.49e+04      1.424      0.154     -2.94e+04  1.86e+05\n",
      "C(PUMA)[T.3806]  6.881e+04   5.49e+04      1.254      0.210     -3.88e+04  1.76e+05\n",
      "C(PUMA)[T.3807]  6.518e+04   5.49e+04      1.187      0.235     -4.24e+04  1.73e+05\n",
      "C(PUMA)[T.3808]  7.076e+04   5.49e+04      1.289      0.198     -3.69e+04  1.78e+05\n",
      "C(PUMA)[T.3809]  5650.9731   5.49e+04      0.103      0.918     -1.02e+05  1.13e+05\n",
      "C(PUMA)[T.3810]  9.515e+04   5.49e+04      1.733      0.083     -1.25e+04  2.03e+05\n",
      "C(PUMA)[T.3901] -6470.5308    5.5e+04     -0.118      0.906     -1.14e+05  1.01e+05\n",
      "C(PUMA)[T.3902] -1.371e+04    5.5e+04     -0.249      0.803     -1.21e+05  9.41e+04\n",
      "C(PUMA)[T.3903] -1.856e+04   5.49e+04     -0.338      0.735     -1.26e+05  8.91e+04\n",
      "C(PUMA)[T.4001]  5038.5163   5.49e+04      0.092      0.927     -1.03e+05  1.13e+05\n",
      "C(PUMA)[T.4002] -1.709e+04   5.49e+04     -0.311      0.756     -1.25e+05  9.05e+04\n",
      "C(PUMA)[T.4003] -2.567e+04   5.49e+04     -0.468      0.640     -1.33e+05  8.19e+04\n",
      "C(PUMA)[T.4004]  2.782e+04   5.49e+04      0.507      0.612     -7.98e+04  1.35e+05\n",
      "C(PUMA)[T.4005]  4.126e+04   5.49e+04      0.751      0.452     -6.64e+04  1.49e+05\n",
      "C(PUMA)[T.4006] -1.088e+04   5.49e+04     -0.198      0.843     -1.18e+05  9.67e+04\n",
      "C(PUMA)[T.4007] -3.298e+04   5.49e+04     -0.601      0.548     -1.41e+05  7.46e+04\n",
      "C(PUMA)[T.4008]  -2.84e+04   5.49e+04     -0.517      0.605     -1.36e+05  7.92e+04\n",
      "C(PUMA)[T.4009] -9932.6459   5.49e+04     -0.181      0.856     -1.18e+05  9.77e+04\n",
      "C(PUMA)[T.4010] -1.468e+04   5.49e+04     -0.267      0.789     -1.22e+05  9.29e+04\n",
      "C(PUMA)[T.4011] -1.343e+04   5.49e+04     -0.245      0.807     -1.21e+05  9.42e+04\n",
      "C(PUMA)[T.4012] -1.117e+04   5.49e+04     -0.203      0.839     -1.19e+05  9.64e+04\n",
      "C(PUMA)[T.4013]  3142.1210   5.49e+04      0.057      0.954     -1.04e+05  1.11e+05\n",
      "C(PUMA)[T.4014] -1.938e+04   5.49e+04     -0.353      0.724     -1.27e+05  8.82e+04\n",
      "C(PUMA)[T.4015] -9111.0376   5.49e+04     -0.166      0.868     -1.17e+05  9.85e+04\n",
      "C(PUMA)[T.4016] -1.034e+04   5.49e+04     -0.188      0.851     -1.18e+05  9.73e+04\n",
      "C(PUMA)[T.4017] -1.113e+04   5.49e+04     -0.203      0.839     -1.19e+05  9.65e+04\n",
      "C(PUMA)[T.4018] -2.167e+04   5.49e+04     -0.395      0.693     -1.29e+05   8.6e+04\n",
      "C(PUMA)[T.4101]  2930.2064   5.49e+04      0.053      0.957     -1.05e+05  1.11e+05\n",
      "C(PUMA)[T.4103] -9599.1759   5.49e+04     -0.175      0.861     -1.17e+05   9.8e+04\n",
      "C(PUMA)[T.4104]  9661.7884    5.5e+04      0.176      0.860     -9.81e+04  1.17e+05\n",
      "C(PUMA)[T.4105] -5363.6973   5.49e+04     -0.098      0.922     -1.13e+05  1.02e+05\n",
      "C(PUMA)[T.4106] -5948.6333   5.49e+04     -0.108      0.914     -1.14e+05  1.02e+05\n",
      "C(PUMA)[T.4107] -7632.9579   5.49e+04     -0.139      0.889     -1.15e+05     1e+05\n",
      "C(PUMA)[T.4108]  1.281e+04   5.49e+04      0.233      0.816     -9.48e+04   1.2e+05\n",
      "C(PUMA)[T.4109]  5705.3068   5.49e+04      0.104      0.917     -1.02e+05  1.13e+05\n",
      "C(PUMA)[T.4110] -5728.0074   5.49e+04     -0.104      0.917     -1.13e+05  1.02e+05\n",
      "C(PUMA)[T.4111] -6484.0475   5.49e+04     -0.118      0.906     -1.14e+05  1.01e+05\n",
      "C(PUMA)[T.4112] -2.098e+04   5.49e+04     -0.382      0.702     -1.29e+05  8.66e+04\n",
      "C(PUMA)[T.4113] -1.289e+04    5.5e+04     -0.234      0.815     -1.21e+05  9.48e+04\n",
      "C(PUMA)[T.4114] -2.085e+04   5.49e+04     -0.379      0.704     -1.29e+05  8.68e+04\n",
      "C(YBL)[T.2.0]   -2289.4986    960.310     -2.384      0.017     -4171.701  -407.296\n",
      "C(YBL)[T.3.0]   -3349.8398    910.128     -3.681      0.000     -5133.685 -1565.995\n",
      "C(YBL)[T.4.0]     796.6694    929.853      0.857      0.392     -1025.836  2619.175\n",
      "C(YBL)[T.5.0]    -470.0664   1092.874     -0.430      0.667     -2612.094  1671.961\n",
      "C(YBL)[T.6.0]    9180.8383   1397.278      6.571      0.000      6442.181  1.19e+04\n",
      "C(YBL)[T.7.0]     1.61e+04   1488.284     10.815      0.000      1.32e+04   1.9e+04\n",
      "C(YBL)[T.8.0]    2.195e+04   1757.961     12.488      0.000      1.85e+04  2.54e+04\n",
      "C(YBL)[T.9.0]    2.799e+04   3105.457      9.013      0.000      2.19e+04  3.41e+04\n",
      "C(YBL)[T.10.0]   2.732e+04   3179.574      8.593      0.000      2.11e+04  3.36e+04\n",
      "C(YBL)[T.11.0]   3.124e+04   3227.298      9.681      0.000      2.49e+04  3.76e+04\n",
      "C(YBL)[T.12.0]   2.848e+04   3074.752      9.261      0.000      2.24e+04  3.45e+04\n",
      "C(YBL)[T.13.0]   4.965e+04   3378.952     14.694      0.000       4.3e+04  5.63e+04\n",
      "C(YBL)[T.14.0]   4.545e+04   3780.384     12.022      0.000       3.8e+04  5.29e+04\n",
      "C(YBL)[T.15.0]   3.999e+04   5844.081      6.843      0.000      2.85e+04  5.14e+04\n",
      "C(YBL)[T.16.0]   4.823e+04   8865.326      5.441      0.000      3.09e+04  6.56e+04\n",
      "C(YBL)[T.17.0]    117.0818   1.78e+04      0.007      0.995     -3.48e+04   3.5e+04\n",
      "BLD               319.3513    165.263      1.932      0.053        -4.564   643.266\n",
      "BDSP             1.136e+04    292.826     38.786      0.000      1.08e+04  1.19e+04\n",
      "==============================================================================\n",
      "Omnibus:                    66242.078   Durbin-Watson:                   2.001\n",
      "Prob(Omnibus):                  0.000   Jarque-Bera (JB):          2602058.635\n",
      "Skew:                           3.876   Prob(JB):                         0.00\n",
      "Kurtosis:                      30.074   Cond. No.                     1.11e+04\n",
      "==============================================================================\n",
      "\n",
      "Warnings:\n",
      "[1] Standard Errors assume that the covariance matrix of the errors is correctly specified.\n",
      "[2] The condition number is large, 1.11e+04. This might indicate that there are\n",
      "strong multicollinearity or other numerical problems.\n"
     ]
    }
   ],
   "source": [
    "# model income for renters\n",
    "mod = smf.ols(formula='HINCP ~ BLD + BDSP + C(PUMA) + C(YBL)', data = nyc_pums[nyc_pums['TEN']==3]).fit()\n",
    "print(mod.summary())"
   ]
  },
  {
   "cell_type": "code",
   "execution_count": 15,
   "metadata": {
    "collapsed": false
   },
   "outputs": [
    {
     "name": "stdout",
     "output_type": "stream",
     "text": [
      "                            OLS Regression Results                            \n",
      "==============================================================================\n",
      "Dep. Variable:                  HINCP   R-squared:                       0.197\n",
      "Model:                            OLS   Adj. R-squared:                  0.196\n",
      "Method:                 Least Squares   F-statistic:                     175.1\n",
      "Date:                Thu, 25 Feb 2016   Prob (F-statistic):               0.00\n",
      "Time:                        13:39:27   Log-Likelihood:            -6.6648e+05\n",
      "No. Observations:               50835   AIC:                         1.333e+06\n",
      "Df Residuals:                   50763   BIC:                         1.334e+06\n",
      "Df Model:                          71                                         \n",
      "Covariance Type:            nonrobust                                         \n",
      "===================================================================================\n",
      "                      coef    std err          t      P>|t|      [95.0% Conf. Int.]\n",
      "-----------------------------------------------------------------------------------\n",
      "Intercept        1.602e+04   8.47e+04      0.189      0.850      -1.5e+05  1.82e+05\n",
      "C(PUMA)[T.3701]  6.303e+04   8.48e+04      0.743      0.458     -1.03e+05  2.29e+05\n",
      "C(PUMA)[T.3702]  2959.2672   8.48e+04      0.035      0.972     -1.63e+05  1.69e+05\n",
      "C(PUMA)[T.3703]    1.7e+04   8.48e+04      0.200      0.841     -1.49e+05  1.83e+05\n",
      "C(PUMA)[T.3704]  1.233e+04   8.48e+04      0.145      0.884     -1.54e+05  1.79e+05\n",
      "C(PUMA)[T.3705] -9278.4170   8.51e+04     -0.109      0.913     -1.76e+05  1.58e+05\n",
      "C(PUMA)[T.3706]  6292.6999   8.53e+04      0.074      0.941     -1.61e+05  1.74e+05\n",
      "C(PUMA)[T.3707] -1.729e+04   8.59e+04     -0.201      0.840     -1.86e+05  1.51e+05\n",
      "C(PUMA)[T.3708] -7937.4769   8.54e+04     -0.093      0.926     -1.75e+05  1.59e+05\n",
      "C(PUMA)[T.3709] -2663.7038   8.48e+04     -0.031      0.975     -1.69e+05  1.64e+05\n",
      "C(PUMA)[T.3710] -1.487e+04   8.52e+04     -0.175      0.861     -1.82e+05  1.52e+05\n",
      "C(PUMA)[T.3802]  8.325e+04   8.51e+04      0.978      0.328     -8.35e+04   2.5e+05\n",
      "C(PUMA)[T.3803]  4.755e+04    8.5e+04      0.560      0.576     -1.19e+05  2.14e+05\n",
      "C(PUMA)[T.3804]  7.878e+04   8.53e+04      0.924      0.356     -8.84e+04  2.46e+05\n",
      "C(PUMA)[T.3805]  2.111e+05   8.48e+04      2.490      0.013      4.49e+04  3.77e+05\n",
      "C(PUMA)[T.3806]  1.639e+05   8.48e+04      1.934      0.053     -2215.365   3.3e+05\n",
      "C(PUMA)[T.3807]  1.798e+05   8.48e+04      2.120      0.034      1.35e+04  3.46e+05\n",
      "C(PUMA)[T.3808]  1.586e+05   8.48e+04      1.869      0.062     -7723.894  3.25e+05\n",
      "C(PUMA)[T.3809]  7.589e+04   8.49e+04      0.894      0.371     -9.05e+04  2.42e+05\n",
      "C(PUMA)[T.3810]  1.833e+05   8.48e+04      2.161      0.031       1.7e+04   3.5e+05\n",
      "C(PUMA)[T.3901]  2.874e+04   8.47e+04      0.339      0.735     -1.37e+05  1.95e+05\n",
      "C(PUMA)[T.3902]  2.826e+04   8.47e+04      0.333      0.739     -1.38e+05  1.94e+05\n",
      "C(PUMA)[T.3903]  2.146e+04   8.47e+04      0.253      0.800     -1.45e+05  1.88e+05\n",
      "C(PUMA)[T.4001]  2.628e+04   8.49e+04      0.310      0.757      -1.4e+05  1.93e+05\n",
      "C(PUMA)[T.4002] -1.262e+04    8.5e+04     -0.148      0.882     -1.79e+05  1.54e+05\n",
      "C(PUMA)[T.4003]  1.012e+04   8.49e+04      0.119      0.905     -1.56e+05  1.76e+05\n",
      "C(PUMA)[T.4004]  9.681e+04   8.48e+04      1.142      0.254     -6.94e+04  2.63e+05\n",
      "C(PUMA)[T.4005]  1.147e+05   8.48e+04      1.353      0.176     -5.15e+04  2.81e+05\n",
      "C(PUMA)[T.4006]  3.079e+04   8.49e+04      0.363      0.717     -1.36e+05  1.97e+05\n",
      "C(PUMA)[T.4007] -1.427e+04   8.49e+04     -0.168      0.866     -1.81e+05  1.52e+05\n",
      "C(PUMA)[T.4008] -1.351e+04   8.48e+04     -0.159      0.874      -1.8e+05  1.53e+05\n",
      "C(PUMA)[T.4009]    2.2e+04   8.47e+04      0.260      0.795     -1.44e+05  1.88e+05\n",
      "C(PUMA)[T.4010]   912.2509   8.48e+04      0.011      0.991     -1.65e+05  1.67e+05\n",
      "C(PUMA)[T.4011]    97.6161    8.5e+04      0.001      0.999     -1.66e+05  1.67e+05\n",
      "C(PUMA)[T.4012]   1.04e+04   8.48e+04      0.123      0.902     -1.56e+05  1.77e+05\n",
      "C(PUMA)[T.4013]  3.043e+04   8.48e+04      0.359      0.720     -1.36e+05  1.97e+05\n",
      "C(PUMA)[T.4014] -2928.4653   8.48e+04     -0.035      0.972     -1.69e+05  1.63e+05\n",
      "C(PUMA)[T.4015]  2.474e+04   8.48e+04      0.292      0.771     -1.41e+05  1.91e+05\n",
      "C(PUMA)[T.4016]   1.83e+04   8.48e+04      0.216      0.829     -1.48e+05  1.84e+05\n",
      "C(PUMA)[T.4017]  7337.2425   8.48e+04      0.087      0.931     -1.59e+05  1.73e+05\n",
      "C(PUMA)[T.4018]  1.024e+04   8.48e+04      0.121      0.904     -1.56e+05  1.77e+05\n",
      "C(PUMA)[T.4101]  2.142e+04   8.48e+04      0.253      0.801     -1.45e+05  1.88e+05\n",
      "C(PUMA)[T.4103]  1.685e+04   8.47e+04      0.199      0.842     -1.49e+05  1.83e+05\n",
      "C(PUMA)[T.4104]  2.804e+04   8.47e+04      0.331      0.741     -1.38e+05  1.94e+05\n",
      "C(PUMA)[T.4105]  1.784e+04   8.47e+04      0.211      0.833     -1.48e+05  1.84e+05\n",
      "C(PUMA)[T.4106]  2.478e+04   8.48e+04      0.292      0.770     -1.41e+05  1.91e+05\n",
      "C(PUMA)[T.4107]  5799.1215   8.49e+04      0.068      0.946     -1.61e+05  1.72e+05\n",
      "C(PUMA)[T.4108]  4.228e+04   8.48e+04      0.499      0.618     -1.24e+05  2.08e+05\n",
      "C(PUMA)[T.4109]  2.134e+04   8.48e+04      0.252      0.801     -1.45e+05  1.88e+05\n",
      "C(PUMA)[T.4110]  1.569e+04   8.47e+04      0.185      0.853      -1.5e+05  1.82e+05\n",
      "C(PUMA)[T.4111]  8404.4320   8.48e+04      0.099      0.921     -1.58e+05  1.75e+05\n",
      "C(PUMA)[T.4112]  3645.1728   8.47e+04      0.043      0.966     -1.62e+05   1.7e+05\n",
      "C(PUMA)[T.4113]  8272.0645   8.48e+04      0.098      0.922     -1.58e+05  1.74e+05\n",
      "C(PUMA)[T.4114]  2.223e+04   8.48e+04      0.262      0.793     -1.44e+05  1.88e+05\n",
      "C(YBL)[T.2.0]   -6388.3113   1821.124     -3.508      0.000     -9957.734 -2818.889\n",
      "C(YBL)[T.3.0]   -1.419e+04   1657.086     -8.561      0.000     -1.74e+04 -1.09e+04\n",
      "C(YBL)[T.4.0]   -2.165e+04   1820.217    -11.892      0.000     -2.52e+04 -1.81e+04\n",
      "C(YBL)[T.5.0]   -1.369e+04   2559.763     -5.349      0.000     -1.87e+04 -8675.520\n",
      "C(YBL)[T.6.0]   -5344.8307   2784.800     -1.919      0.055     -1.08e+04   113.406\n",
      "C(YBL)[T.7.0]    1432.9107   3110.795      0.461      0.645     -4664.281  7530.103\n",
      "C(YBL)[T.8.0]    9617.5615   3669.427      2.621      0.009      2425.445  1.68e+04\n",
      "C(YBL)[T.9.0]    1.498e+04   6972.568      2.148      0.032      1309.504  2.86e+04\n",
      "C(YBL)[T.10.0]   1.716e+04   6795.708      2.525      0.012      3837.258  3.05e+04\n",
      "C(YBL)[T.11.0]    5.16e+04   5906.476      8.736      0.000         4e+04  6.32e+04\n",
      "C(YBL)[T.12.0]   4.692e+04   6815.790      6.884      0.000      3.36e+04  6.03e+04\n",
      "C(YBL)[T.13.0]     3.6e+04   8626.143      4.174      0.000      1.91e+04  5.29e+04\n",
      "C(YBL)[T.14.0]   4.214e+04   1.03e+04      4.093      0.000       2.2e+04  6.23e+04\n",
      "C(YBL)[T.15.0]   2.976e+04   1.75e+04      1.699      0.089     -4578.716  6.41e+04\n",
      "C(YBL)[T.16.0]   4.261e+04   2.35e+04      1.812      0.070     -3480.757  8.87e+04\n",
      "C(YBL)[T.17.0]  -3166.4774   4.53e+04     -0.070      0.944     -9.19e+04  8.56e+04\n",
      "BLD              2252.0501    314.160      7.168      0.000      1636.294  2867.806\n",
      "BDSP             1.999e+04    432.236     46.251      0.000      1.91e+04  2.08e+04\n",
      "==============================================================================\n",
      "Omnibus:                    35068.633   Durbin-Watson:                   2.024\n",
      "Prob(Omnibus):                  0.000   Jarque-Bera (JB):           791884.833\n",
      "Skew:                           3.037   Prob(JB):                         0.00\n",
      "Kurtosis:                      21.357   Cond. No.                     6.79e+03\n",
      "==============================================================================\n",
      "\n",
      "Warnings:\n",
      "[1] Standard Errors assume that the covariance matrix of the errors is correctly specified.\n",
      "[2] The condition number is large, 6.79e+03. This might indicate that there are\n",
      "strong multicollinearity or other numerical problems.\n"
     ]
    }
   ],
   "source": [
    "# model income for owners\n",
    "mod = smf.ols(formula='HINCP ~ BLD + BDSP + C(PUMA) + C(YBL)', data = nyc_pums[nyc_pums['TEN']<3]).fit()\n",
    "print(mod.summary())"
   ]
  },
  {
   "cell_type": "code",
   "execution_count": 18,
   "metadata": {
    "collapsed": false
   },
   "outputs": [
    {
     "name": "stdout",
     "output_type": "stream",
     "text": [
      "                            OLS Regression Results                            \n",
      "==============================================================================\n",
      "Dep. Variable:                  HINCP   R-squared:                       0.177\n",
      "Model:                            OLS   Adj. R-squared:                  0.176\n",
      "Method:                 Least Squares   F-statistic:                     156.0\n",
      "Date:                Thu, 25 Feb 2016   Prob (F-statistic):               0.00\n",
      "Time:                        13:42:53   Log-Likelihood:            -6.6710e+05\n",
      "No. Observations:               50835   AIC:                         1.334e+06\n",
      "Df Residuals:                   50764   BIC:                         1.335e+06\n",
      "Df Model:                          70                                         \n",
      "Covariance Type:            nonrobust                                         \n",
      "===================================================================================\n",
      "                      coef    std err          t      P>|t|      [95.0% Conf. Int.]\n",
      "-----------------------------------------------------------------------------------\n",
      "Intercept         8.59e+04   8.57e+04      1.002      0.316     -8.21e+04  2.54e+05\n",
      "C(PUMA)[T.3701]  2.867e+04   8.59e+04      0.334      0.738      -1.4e+05  1.97e+05\n",
      "C(PUMA)[T.3702] -3.088e+04   8.58e+04     -0.360      0.719     -1.99e+05  1.37e+05\n",
      "C(PUMA)[T.3703] -1.845e+04   8.58e+04     -0.215      0.830     -1.87e+05   1.5e+05\n",
      "C(PUMA)[T.3704] -2.469e+04   8.58e+04     -0.288      0.774     -1.93e+05  1.44e+05\n",
      "C(PUMA)[T.3705] -3.776e+04   8.61e+04     -0.438      0.661     -2.07e+05  1.31e+05\n",
      "C(PUMA)[T.3706]  -2.45e+04   8.63e+04     -0.284      0.777     -1.94e+05  1.45e+05\n",
      "C(PUMA)[T.3707] -3.823e+04    8.7e+04     -0.440      0.660     -2.09e+05  1.32e+05\n",
      "C(PUMA)[T.3708] -3.752e+04   8.64e+04     -0.434      0.664     -2.07e+05  1.32e+05\n",
      "C(PUMA)[T.3709] -3.188e+04   8.59e+04     -0.371      0.710        -2e+05  1.36e+05\n",
      "C(PUMA)[T.3710] -3.997e+04   8.62e+04     -0.464      0.643     -2.09e+05  1.29e+05\n",
      "C(PUMA)[T.3802]  4.668e+04   8.61e+04      0.542      0.588     -1.22e+05  2.15e+05\n",
      "C(PUMA)[T.3803]  2.231e+04    8.6e+04      0.259      0.795     -1.46e+05  1.91e+05\n",
      "C(PUMA)[T.3804]  4.633e+04   8.63e+04      0.537      0.591     -1.23e+05  2.15e+05\n",
      "C(PUMA)[T.3805]  1.641e+05   8.58e+04      1.912      0.056     -4077.439  3.32e+05\n",
      "C(PUMA)[T.3806]  1.149e+05   8.58e+04      1.340      0.180     -5.32e+04  2.83e+05\n",
      "C(PUMA)[T.3807]  1.197e+05   8.58e+04      1.394      0.163     -4.86e+04  2.88e+05\n",
      "C(PUMA)[T.3808]  9.979e+04   8.58e+04      1.162      0.245     -6.85e+04  2.68e+05\n",
      "C(PUMA)[T.3809]  3.004e+04   8.59e+04      0.350      0.727     -1.38e+05  1.98e+05\n",
      "C(PUMA)[T.3810]  1.281e+05   8.58e+04      1.493      0.136     -4.01e+04  2.96e+05\n",
      "C(PUMA)[T.3901] -1.162e+04   8.58e+04     -0.135      0.892      -1.8e+05  1.56e+05\n",
      "C(PUMA)[T.3902] -1.003e+04   8.58e+04     -0.117      0.907     -1.78e+05  1.58e+05\n",
      "C(PUMA)[T.3903] -1.474e+04   8.58e+04     -0.172      0.864     -1.83e+05  1.53e+05\n",
      "C(PUMA)[T.4001] -9780.5115   8.59e+04     -0.114      0.909     -1.78e+05  1.59e+05\n",
      "C(PUMA)[T.4002] -3.867e+04    8.6e+04     -0.450      0.653     -2.07e+05   1.3e+05\n",
      "C(PUMA)[T.4003] -1.439e+04   8.59e+04     -0.168      0.867     -1.83e+05  1.54e+05\n",
      "C(PUMA)[T.4004]  5.838e+04   8.58e+04      0.680      0.496      -1.1e+05  2.27e+05\n",
      "C(PUMA)[T.4005]  7.456e+04   8.58e+04      0.869      0.385     -9.36e+04  2.43e+05\n",
      "C(PUMA)[T.4006]  1531.0277   8.59e+04      0.018      0.986     -1.67e+05   1.7e+05\n",
      "C(PUMA)[T.4007] -3.854e+04   8.59e+04     -0.449      0.654     -2.07e+05   1.3e+05\n",
      "C(PUMA)[T.4008] -4.053e+04   8.59e+04     -0.472      0.637     -2.09e+05  1.28e+05\n",
      "C(PUMA)[T.4009] -1.607e+04   8.58e+04     -0.187      0.851     -1.84e+05  1.52e+05\n",
      "C(PUMA)[T.4010] -3.168e+04   8.58e+04     -0.369      0.712        -2e+05  1.37e+05\n",
      "C(PUMA)[T.4011] -2.316e+04    8.6e+04     -0.269      0.788     -1.92e+05  1.45e+05\n",
      "C(PUMA)[T.4012] -2.285e+04   8.59e+04     -0.266      0.790     -1.91e+05  1.45e+05\n",
      "C(PUMA)[T.4013] -1.319e+04   8.58e+04     -0.154      0.878     -1.81e+05  1.55e+05\n",
      "C(PUMA)[T.4014] -3.268e+04   8.58e+04     -0.381      0.703     -2.01e+05  1.36e+05\n",
      "C(PUMA)[T.4015]   128.6880   8.58e+04      0.001      0.999     -1.68e+05  1.68e+05\n",
      "C(PUMA)[T.4016] -2.041e+04   8.58e+04     -0.238      0.812     -1.89e+05  1.48e+05\n",
      "C(PUMA)[T.4017] -3.503e+04   8.58e+04     -0.408      0.683     -2.03e+05  1.33e+05\n",
      "C(PUMA)[T.4018] -2.273e+04   8.59e+04     -0.265      0.791     -1.91e+05  1.46e+05\n",
      "C(PUMA)[T.4101] -2.516e+04   8.58e+04     -0.293      0.769     -1.93e+05  1.43e+05\n",
      "C(PUMA)[T.4103] -2.497e+04   8.58e+04     -0.291      0.771     -1.93e+05  1.43e+05\n",
      "C(PUMA)[T.4104] -1.717e+04   8.58e+04     -0.200      0.841     -1.85e+05  1.51e+05\n",
      "C(PUMA)[T.4105] -1.684e+04   8.58e+04     -0.196      0.844     -1.85e+05  1.51e+05\n",
      "C(PUMA)[T.4106] -1.474e+04   8.58e+04     -0.172      0.864     -1.83e+05  1.53e+05\n",
      "C(PUMA)[T.4107] -3.448e+04   8.59e+04     -0.401      0.688     -2.03e+05  1.34e+05\n",
      "C(PUMA)[T.4108] -1541.2884   8.58e+04     -0.018      0.986      -1.7e+05  1.67e+05\n",
      "C(PUMA)[T.4109]   -1.9e+04   8.58e+04     -0.221      0.825     -1.87e+05  1.49e+05\n",
      "C(PUMA)[T.4110] -2.878e+04   8.58e+04     -0.336      0.737     -1.97e+05  1.39e+05\n",
      "C(PUMA)[T.4111]  -2.66e+04   8.58e+04     -0.310      0.757     -1.95e+05  1.42e+05\n",
      "C(PUMA)[T.4112] -2.718e+04   8.58e+04     -0.317      0.751     -1.95e+05  1.41e+05\n",
      "C(PUMA)[T.4113] -2.848e+04   8.58e+04     -0.332      0.740     -1.97e+05   1.4e+05\n",
      "C(PUMA)[T.4114] -7390.6072   8.58e+04     -0.086      0.931     -1.76e+05  1.61e+05\n",
      "C(YBL)[T.2.0]   -8534.1729   1839.779     -4.639      0.000     -1.21e+04 -4928.186\n",
      "C(YBL)[T.3.0]   -1.633e+04   1654.165     -9.870      0.000     -1.96e+04 -1.31e+04\n",
      "C(YBL)[T.4.0]   -2.266e+04   1793.484    -12.633      0.000     -2.62e+04 -1.91e+04\n",
      "C(YBL)[T.5.0]   -1.412e+04   2562.649     -5.510      0.000     -1.91e+04 -9098.473\n",
      "C(YBL)[T.6.0]   -9369.2827   2800.062     -3.346      0.001     -1.49e+04 -3881.130\n",
      "C(YBL)[T.7.0]     443.5546   3141.137      0.141      0.888     -5713.108  6600.217\n",
      "C(YBL)[T.8.0]     1.33e+04   3703.400      3.591      0.000      6039.279  2.06e+04\n",
      "C(YBL)[T.9.0]    1.888e+04   7049.767      2.679      0.007      5065.896  3.27e+04\n",
      "C(YBL)[T.10.0]   2.091e+04   6868.928      3.044      0.002      7442.899  3.44e+04\n",
      "C(YBL)[T.11.0]    5.58e+04   5963.311      9.357      0.000      4.41e+04  6.75e+04\n",
      "C(YBL)[T.12.0]   5.295e+04   6880.058      7.696      0.000      3.95e+04  6.64e+04\n",
      "C(YBL)[T.13.0]   3.995e+04   8718.544      4.583      0.000      2.29e+04   5.7e+04\n",
      "C(YBL)[T.14.0]   4.203e+04   1.04e+04      4.040      0.000      2.16e+04  6.24e+04\n",
      "C(YBL)[T.15.0]   3.937e+04   1.77e+04      2.221      0.026      4634.163  7.41e+04\n",
      "C(YBL)[T.16.0]   5.452e+04   2.38e+04      2.291      0.022      7880.621  1.01e+05\n",
      "C(YBL)[T.17.0]   2214.2308   4.58e+04      0.048      0.961     -8.76e+04   9.2e+04\n",
      "TAXP              858.5008     27.139     31.633      0.000       805.308   911.694\n",
      "==============================================================================\n",
      "Omnibus:                    35359.984   Durbin-Watson:                   2.029\n",
      "Prob(Omnibus):                  0.000   Jarque-Bera (JB):           809582.725\n",
      "Skew:                           3.069   Prob(JB):                         0.00\n",
      "Kurtosis:                      21.562   Cond. No.                     5.39e+04\n",
      "==============================================================================\n",
      "\n",
      "Warnings:\n",
      "[1] Standard Errors assume that the covariance matrix of the errors is correctly specified.\n",
      "[2] The condition number is large, 5.39e+04. This might indicate that there are\n",
      "strong multicollinearity or other numerical problems.\n"
     ]
    }
   ],
   "source": [
    "# model income for owners with property tax as independent, but without bedrooms or size of building (covairance)\n",
    "mod = smf.ols(formula='HINCP ~ TAXP + C(PUMA) + C(YBL)', data = nyc_pums[nyc_pums['TEN']<3]).fit()\n",
    "print(mod.summary())"
   ]
  },
  {
   "cell_type": "code",
   "execution_count": null,
   "metadata": {
    "collapsed": false
   },
   "outputs": [],
   "source": [
    "fig, ax = plt.subplots(figsize=(12,8))\n",
    "plt.hist(nyc_pums['VALP'],bins=20,range=(1,6000000))\n",
    "plt.title('Histogram of Reported Property Values')\n",
    "plt.ylabel('Frequency')\n",
    "ax.xaxis.get_majorticklocs()"
   ]
  },
  {
   "cell_type": "code",
   "execution_count": null,
   "metadata": {
    "collapsed": true
   },
   "outputs": [],
   "source": []
  }
 ],
 "metadata": {
  "kernelspec": {
   "display_name": "Python 2",
   "language": "python",
   "name": "python2"
  },
  "language_info": {
   "codemirror_mode": {
    "name": "ipython",
    "version": 2
   },
   "file_extension": ".py",
   "mimetype": "text/x-python",
   "name": "python",
   "nbconvert_exporter": "python",
   "pygments_lexer": "ipython2",
   "version": "2.7.11"
  }
 },
 "nbformat": 4,
 "nbformat_minor": 0
}
