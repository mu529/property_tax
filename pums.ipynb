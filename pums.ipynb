{
 "cells": [
  {
   "cell_type": "code",
   "execution_count": 45,
   "metadata": {
    "collapsed": true
   },
   "outputs": [],
   "source": [
    "from sodapy import Socrata\n",
    "import requests, zipfile, StringIO\n",
    "import urllib2\n",
    "import pandas as pd\n",
    "import numpy as np\n",
    "import pypyodbc\n",
    "import csv\n",
    "import os\n",
    "import tempfile\n",
    "import statsmodels.formula.api as smf"
   ]
  },
  {
   "cell_type": "code",
   "execution_count": 26,
   "metadata": {
    "collapsed": false
   },
   "outputs": [],
   "source": [
    "puma_ref = pd.read_excel('http://www.nyc.gov/html/dcp/download/census/nyc2010census_tabulation_equiv.xlsx',header=3)\n",
    "# alternatively, use shapefile from https://data.cityofnewyork.us/Housing-Development/Public-Use-Microdata-Areas-PUMA-/cwiz-gcty\n",
    "puma_list = puma_ref['PUMA'].unique()[~np.isnan(puma_ref['PUMA'].unique())]"
   ]
  },
  {
   "cell_type": "code",
   "execution_count": 86,
   "metadata": {
    "collapsed": false
   },
   "outputs": [],
   "source": [
    "pums_data = pd.read_csv('ss14hny.csv')\n",
    "pums_data['PUMA'] = pums_data[['PUMA00','PUMA10']].max(axis=1)"
   ]
  },
  {
   "cell_type": "code",
   "execution_count": 95,
   "metadata": {
    "collapsed": false
   },
   "outputs": [
    {
     "name": "stdout",
     "output_type": "stream",
     "text": [
      "2532 rows after addition of PUMA 3704.0\n",
      "4290 rows after addition of PUMA 3706.0\n",
      "7271 rows after addition of PUMA 3705.0\n",
      "9141 rows after addition of PUMA 3703.0\n",
      "11081 rows after addition of PUMA 3708.0\n",
      "13603 rows after addition of PUMA 3702.0\n",
      "15801 rows after addition of PUMA 3707.0\n",
      "18926 rows after addition of PUMA 3710.0\n",
      "21257 rows after addition of PUMA 3701.0\n",
      "24034 rows after addition of PUMA 3709.0\n",
      "27707 rows after addition of PUMA 4017.0\n",
      "30805 rows after addition of PUMA 4013.0\n",
      "33408 rows after addition of PUMA 4003.0\n",
      "36267 rows after addition of PUMA 4014.0\n",
      "38410 rows after addition of PUMA 4018.0\n",
      "41972 rows after addition of PUMA 4004.0\n",
      "44269 rows after addition of PUMA 4007.0\n",
      "46446 rows after addition of PUMA 4002.0\n",
      "50660 rows after addition of PUMA 4009.0\n",
      "53223 rows after addition of PUMA 4005.0\n",
      "55807 rows after addition of PUMA 4006.0\n",
      "57735 rows after addition of PUMA 4011.0\n",
      "60478 rows after addition of PUMA 4008.0\n",
      "63099 rows after addition of PUMA 4010.0\n",
      "66109 rows after addition of PUMA 4001.0\n",
      "69054 rows after addition of PUMA 4015.0\n",
      "72425 rows after addition of PUMA 4016.0\n",
      "75802 rows after addition of PUMA 4012.0\n",
      "79162 rows after addition of PUMA 3810.0\n",
      "81572 rows after addition of PUMA 3803.0\n",
      "84753 rows after addition of PUMA 3809.0\n",
      "88288 rows after addition of PUMA 3807.0\n",
      "90476 rows after addition of PUMA 3804.0\n",
      "93242 rows after addition of PUMA 3808.0\n",
      "95730 rows after addition of PUMA 3802.0\n",
      "99540 rows after addition of PUMA 3805.0\n",
      "102603 rows after addition of PUMA 3806.0\n",
      "105501 rows after addition of PUMA 3801.0\n",
      "107853 rows after addition of PUMA 4102.0\n",
      "111570 rows after addition of PUMA 4105.0\n",
      "115564 rows after addition of PUMA 4101.0\n",
      "118160 rows after addition of PUMA 4104.0\n",
      "122341 rows after addition of PUMA 4112.0\n",
      "124470 rows after addition of PUMA 4114.0\n",
      "127236 rows after addition of PUMA 4106.0\n",
      "131623 rows after addition of PUMA 4103.0\n",
      "133430 rows after addition of PUMA 4107.0\n",
      "135832 rows after addition of PUMA 4109.0\n",
      "138216 rows after addition of PUMA 4108.0\n",
      "142000 rows after addition of PUMA 4110.0\n",
      "144926 rows after addition of PUMA 4111.0\n",
      "146998 rows after addition of PUMA 4113.0\n",
      "149538 rows after addition of PUMA 3901.0\n",
      "152031 rows after addition of PUMA 3902.0\n",
      "155448 rows after addition of PUMA 3903.0\n"
     ]
    }
   ],
   "source": [
    "nyc_pums = pd.DataFrame()\n",
    "for puma in puma_list:\n",
    "    nyc_pums = nyc_pums.append(pums_data.query('PUMA == @puma'))\n",
    "    print nyc_pums.shape[0],'rows after addition of PUMA',str(puma)"
   ]
  },
  {
   "cell_type": "code",
   "execution_count": 96,
   "metadata": {
    "collapsed": false
   },
   "outputs": [],
   "source": [
    "# nyc_pums[nyc_pums['PUMA']==4004].groupby(['YBL']).size()"
   ]
  },
  {
   "cell_type": "code",
   "execution_count": 98,
   "metadata": {
    "collapsed": false
   },
   "outputs": [
    {
     "name": "stdout",
     "output_type": "stream",
     "text": [
      "Example median HH income in Williamsburg/Greenpoint\n"
     ]
    },
    {
     "data": {
      "text/plain": [
       "60000.0"
      ]
     },
     "execution_count": 98,
     "metadata": {},
     "output_type": "execute_result"
    }
   ],
   "source": [
    "print('Example median HH income in Williamsburg/Greenpoint')\n",
    "nyc_pums[nyc_pums['PUMA10']==4001]['HINCP'].median()"
   ]
  },
  {
   "cell_type": "code",
   "execution_count": 99,
   "metadata": {
    "collapsed": false
   },
   "outputs": [
    {
     "name": "stdout",
     "output_type": "stream",
     "text": [
      "Median HH income in all NYC PUMAs\n"
     ]
    },
    {
     "data": {
      "text/plain": [
       "52000.0"
      ]
     },
     "execution_count": 99,
     "metadata": {},
     "output_type": "execute_result"
    }
   ],
   "source": [
    "print ('Median HH income in all NYC PUMAs')\n",
    "nyc_pums['HINCP'].median()"
   ]
  },
  {
   "cell_type": "code",
   "execution_count": 100,
   "metadata": {
    "collapsed": false
   },
   "outputs": [],
   "source": [
    "# nyc_pums.groupby(['YBL'])['HINCP'].median()"
   ]
  },
  {
   "cell_type": "code",
   "execution_count": null,
   "metadata": {
    "collapsed": true
   },
   "outputs": [],
   "source": [
    "# dependents to test: HINCP, RNTP, GRNTP, NPF, TAXP\n",
    "# independents to test: YBL (ord), TEN (c), BDSP, BLD, VACS - perhaps as a filter?\n",
    "# also of interest: MV"
   ]
  },
  {
   "cell_type": "code",
   "execution_count": 93,
   "metadata": {
    "collapsed": false
   },
   "outputs": [
    {
     "name": "stdout",
     "output_type": "stream",
     "text": [
      "                            OLS Regression Results                            \n",
      "==============================================================================\n",
      "Dep. Variable:                   RNTP   R-squared:                       0.284\n",
      "Model:                            OLS   Adj. R-squared:                  0.283\n",
      "Method:                 Least Squares   F-statistic:                     481.5\n",
      "Date:                Wed, 24 Feb 2016   Prob (F-statistic):               0.00\n",
      "Time:                        11:24:41   Log-Likelihood:            -6.1594e+05\n",
      "No. Observations:               79029   AIC:                         1.232e+06\n",
      "Df Residuals:                   78963   BIC:                         1.233e+06\n",
      "Df Model:                          65                                         \n",
      "Covariance Type:            nonrobust                                         \n",
      "===================================================================================\n",
      "                      coef    std err          t      P>|t|      [95.0% Conf. Int.]\n",
      "-----------------------------------------------------------------------------------\n",
      "Intercept       -6.307e+13   1.06e+14     -0.593      0.553     -2.72e+14  1.45e+14\n",
      "C(BLD)[T.2.0]     495.8673     68.412      7.248      0.000       361.780   629.954\n",
      "C(BLD)[T.3.0]     510.1702     68.235      7.477      0.000       376.430   643.911\n",
      "C(BLD)[T.4.0]     503.4519     67.274      7.484      0.000       371.594   635.309\n",
      "C(BLD)[T.5.0]     539.5936     67.244      8.024      0.000       407.795   671.392\n",
      "C(BLD)[T.6.0]     397.9780     67.662      5.882      0.000       265.361   530.595\n",
      "C(BLD)[T.7.0]     331.3858     67.425      4.915      0.000       199.232   463.539\n",
      "C(BLD)[T.8.0]     318.9034     67.176      4.747      0.000       187.239   450.568\n",
      "C(BLD)[T.9.0]     347.1145     67.125      5.171      0.000       215.550   478.679\n",
      "C(BLD)[T.10.0]    134.7524    105.481      1.278      0.201       -71.990   341.495\n",
      "C(PUMA)[T.3702]  -194.5234     24.396     -7.974      0.000      -242.340  -146.707\n",
      "C(PUMA)[T.3703]  -203.3068     29.441     -6.906      0.000      -261.011  -145.603\n",
      "C(PUMA)[T.3704]  -151.3089     23.990     -6.307      0.000      -198.329  -104.289\n",
      "C(PUMA)[T.3705]  -409.3121     21.912    -18.680      0.000      -452.259  -366.366\n",
      "C(PUMA)[T.3706]  -132.2471     23.986     -5.513      0.000      -179.260   -85.234\n",
      "C(PUMA)[T.3707]  -261.4503     22.676    -11.530      0.000      -305.894  -217.006\n",
      "C(PUMA)[T.3708]  -268.4075     23.215    -11.562      0.000      -313.909  -222.906\n",
      "C(PUMA)[T.3709]  -270.8669     22.398    -12.093      0.000      -314.767  -226.967\n",
      "C(PUMA)[T.3710]  -473.1065     22.228    -21.284      0.000      -516.673  -429.540\n",
      "C(PUMA)[T.3801]   -31.7221     21.666     -1.464      0.143       -74.187    10.743\n",
      "C(PUMA)[T.3802]   134.2767     23.924      5.613      0.000        87.385   181.168\n",
      "C(PUMA)[T.3803]  -188.4896     22.899     -8.231      0.000      -233.371  -143.608\n",
      "C(PUMA)[T.3804]  -166.0177     23.217     -7.151      0.000      -211.523  -120.512\n",
      "C(PUMA)[T.3805]   830.6154     22.248     37.334      0.000       787.009   874.222\n",
      "C(PUMA)[T.3806]   704.3968     22.845     30.834      0.000       659.621   749.173\n",
      "C(PUMA)[T.3807]   797.0024     21.902     36.389      0.000       754.074   839.931\n",
      "C(PUMA)[T.3808]   964.2415     23.403     41.202      0.000       918.372  1010.111\n",
      "C(PUMA)[T.3809]    44.7176     21.997      2.033      0.042         1.604    87.831\n",
      "C(PUMA)[T.3810]  1077.7233     22.432     48.045      0.000      1033.758  1121.689\n",
      "C(PUMA)[T.3901]  -210.6111     36.469     -5.775      0.000      -282.091  -139.131\n",
      "C(PUMA)[T.3902]  -309.3840     31.991     -9.671      0.000      -372.085  -246.683\n",
      "C(PUMA)[T.3903]  -278.3543     25.580    -10.882      0.000      -328.491  -228.217\n",
      "C(PUMA)[T.4001]   160.4042     21.858      7.338      0.000       117.562   203.246\n",
      "C(PUMA)[T.4002]  -109.4605     23.374     -4.683      0.000      -155.274   -63.647\n",
      "C(PUMA)[T.4003]  -254.0835     23.104    -10.997      0.000      -299.368  -208.799\n",
      "C(PUMA)[T.4004]   375.2024     22.521     16.660      0.000       331.062   419.343\n",
      "C(PUMA)[T.4005]   540.0288     23.916     22.580      0.000       493.153   586.905\n",
      "C(PUMA)[T.4006]   -70.5233     22.879     -3.082      0.002      -115.367   -25.680\n",
      "C(PUMA)[T.4007]  -425.0649     23.749    -17.898      0.000      -471.613  -378.517\n",
      "C(PUMA)[T.4008]  -309.0629     23.148    -13.352      0.000      -354.433  -263.693\n",
      "C(PUMA)[T.4009]  -187.7633     24.111     -7.788      0.000      -235.020  -140.507\n",
      "C(PUMA)[T.4010]  -146.2713     24.226     -6.038      0.000      -193.754   -98.788\n",
      "C(PUMA)[T.4011]   -89.2728     23.983     -3.722      0.000      -136.279   -42.267\n",
      "C(PUMA)[T.4012]   -57.6632     23.556     -2.448      0.014      -103.833   -11.494\n",
      "C(PUMA)[T.4013]    24.8345     23.235      1.069      0.285       -20.705    70.374\n",
      "C(PUMA)[T.4014]   -76.9098     23.269     -3.305      0.001      -122.516   -31.303\n",
      "C(PUMA)[T.4015]   -29.2256     22.351     -1.308      0.191       -73.033    14.581\n",
      "C(PUMA)[T.4016]   -97.5597     23.653     -4.125      0.000      -143.919   -51.200\n",
      "C(PUMA)[T.4017]  -164.0661     22.406     -7.322      0.000      -207.982  -120.150\n",
      "C(PUMA)[T.4018]  -329.2333     24.360    -13.515      0.000      -376.980  -281.487\n",
      "C(PUMA)[T.4101]    96.1085     20.956      4.586      0.000        55.036   137.182\n",
      "C(PUMA)[T.4102]    -6.2633     24.411     -0.257      0.798       -54.109    41.583\n",
      "C(PUMA)[T.4103]    -1.5768     22.991     -0.069      0.945       -46.639    43.486\n",
      "C(PUMA)[T.4104]   129.3972     30.751      4.208      0.000        69.125   189.669\n",
      "C(PUMA)[T.4105]   -14.7814     29.133     -0.507      0.612       -71.883    42.320\n",
      "C(PUMA)[T.4106]    11.8282     25.772      0.459      0.646       -38.686    62.342\n",
      "C(PUMA)[T.4107]    -1.2144     25.138     -0.048      0.961       -50.485    48.056\n",
      "C(PUMA)[T.4108]   218.5124     25.220      8.664      0.000       169.081   267.944\n",
      "C(PUMA)[T.4109]   196.3933     23.510      8.354      0.000       150.314   242.472\n",
      "C(PUMA)[T.4110]  -100.7313     23.060     -4.368      0.000      -145.929   -55.533\n",
      "C(PUMA)[T.4111]   -42.1035     24.505     -1.718      0.086       -90.133     5.926\n",
      "C(PUMA)[T.4112]  -218.4759     23.391     -9.340      0.000      -264.322  -172.629\n",
      "C(PUMA)[T.4113]  -109.0607     30.737     -3.548      0.000      -169.305   -48.816\n",
      "C(PUMA)[T.4114]  -257.8453     27.343     -9.430      0.000      -311.438  -204.252\n",
      "C(TEN)[T.2.0]   -4.916e-15   4.03e-15     -1.221      0.222     -1.28e-14  2.97e-15\n",
      "C(TEN)[T.3.0]    6.307e+13   1.06e+14      0.593      0.553     -1.45e+14  2.72e+14\n",
      "C(TEN)[T.4.0]    3.942e-15   3.66e-16     10.763      0.000      3.22e-15  4.66e-15\n",
      "YBL                32.0627      0.802     39.962      0.000        30.490    33.635\n",
      "BDSP               83.1297      2.230     37.273      0.000        78.758    87.501\n",
      "==============================================================================\n",
      "Omnibus:                     4636.510   Durbin-Watson:                   1.976\n",
      "Prob(Omnibus):                  0.000   Jarque-Bera (JB):             9932.533\n",
      "Skew:                           0.398   Prob(JB):                         0.00\n",
      "Kurtosis:                       4.544   Cond. No.                     1.21e+16\n",
      "==============================================================================\n",
      "\n",
      "Warnings:\n",
      "[1] Standard Errors assume that the covariance matrix of the errors is correctly specified.\n",
      "[2] The smallest eigenvalue is 1.12e-26. This might indicate that there are\n",
      "strong multicollinearity problems or that the design matrix is singular.\n"
     ]
    }
   ],
   "source": [
    "mod = smf.ols(formula='RNTP ~ YBL + C(BLD) + BDSP + C(PUMA) + C(TEN)', data = nyc_pums).fit()\n",
    "print(mod.summary())"
   ]
  },
  {
   "cell_type": "code",
   "execution_count": null,
   "metadata": {
    "collapsed": true
   },
   "outputs": [],
   "source": []
  }
 ],
 "metadata": {
  "kernelspec": {
   "display_name": "Python 2",
   "language": "python",
   "name": "python2"
  },
  "language_info": {
   "codemirror_mode": {
    "name": "ipython",
    "version": 2
   },
   "file_extension": ".py",
   "mimetype": "text/x-python",
   "name": "python",
   "nbconvert_exporter": "python",
   "pygments_lexer": "ipython2",
   "version": "2.7.11"
  }
 },
 "nbformat": 4,
 "nbformat_minor": 0
}
