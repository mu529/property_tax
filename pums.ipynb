{
 "cells": [
  {
   "cell_type": "code",
   "execution_count": 29,
   "metadata": {
    "collapsed": false
   },
   "outputs": [
    {
     "name": "stdout",
     "output_type": "stream",
     "text": [
      "Populating the interactive namespace from numpy and matplotlib\n"
     ]
    },
    {
     "name": "stderr",
     "output_type": "stream",
     "text": [
      "WARNING: pylab import has clobbered these variables: ['mod', 'plt']\n",
      "`%matplotlib` prevents importing * from pylab and numpy\n"
     ]
    }
   ],
   "source": [
    "from sodapy import Socrata\n",
    "import requests, zipfile, StringIO\n",
    "import urllib2\n",
    "import pandas as pd\n",
    "import numpy as np\n",
    "import pypyodbc\n",
    "import csv\n",
    "import os\n",
    "import tempfile\n",
    "import statsmodels.formula.api as smf\n",
    "import pylab as plt\n",
    "%pylab inline"
   ]
  },
  {
   "cell_type": "code",
   "execution_count": 30,
   "metadata": {
    "collapsed": false
   },
   "outputs": [],
   "source": [
    "puma_ref = pd.read_excel('http://www.nyc.gov/html/dcp/download/census/nyc2010census_tabulation_equiv.xlsx',header=3)\n",
    "# alternatively, use shapefile from https://data.cityofnewyork.us/Housing-Development/Public-Use-Microdata-Areas-PUMA-/cwiz-gcty\n",
    "puma_list = puma_ref['PUMA'].unique()[~np.isnan(puma_ref['PUMA'].unique())]"
   ]
  },
  {
   "cell_type": "code",
   "execution_count": 31,
   "metadata": {
    "collapsed": false
   },
   "outputs": [],
   "source": [
    "pums_data = pd.read_csv('ss14hny.csv')\n",
    "pums_data['PUMA'] = pums_data[['PUMA00','PUMA10']].max(axis=1)"
   ]
  },
  {
   "cell_type": "code",
   "execution_count": 32,
   "metadata": {
    "collapsed": false
   },
   "outputs": [
    {
     "name": "stdout",
     "output_type": "stream",
     "text": [
      "2532 rows after addition of PUMA 3704.0\n",
      "4290 rows after addition of PUMA 3706.0\n",
      "7271 rows after addition of PUMA 3705.0\n",
      "9141 rows after addition of PUMA 3703.0\n",
      "11081 rows after addition of PUMA 3708.0\n",
      "13603 rows after addition of PUMA 3702.0\n",
      "15801 rows after addition of PUMA 3707.0\n",
      "18926 rows after addition of PUMA 3710.0\n",
      "21257 rows after addition of PUMA 3701.0\n",
      "24034 rows after addition of PUMA 3709.0\n",
      "27707 rows after addition of PUMA 4017.0\n",
      "30805 rows after addition of PUMA 4013.0\n",
      "33408 rows after addition of PUMA 4003.0\n",
      "36267 rows after addition of PUMA 4014.0\n",
      "38410 rows after addition of PUMA 4018.0\n",
      "41972 rows after addition of PUMA 4004.0\n",
      "44269 rows after addition of PUMA 4007.0\n",
      "46446 rows after addition of PUMA 4002.0\n",
      "50660 rows after addition of PUMA 4009.0\n",
      "53223 rows after addition of PUMA 4005.0\n",
      "55807 rows after addition of PUMA 4006.0\n",
      "57735 rows after addition of PUMA 4011.0\n",
      "60478 rows after addition of PUMA 4008.0\n",
      "63099 rows after addition of PUMA 4010.0\n",
      "66109 rows after addition of PUMA 4001.0\n",
      "69054 rows after addition of PUMA 4015.0\n",
      "72425 rows after addition of PUMA 4016.0\n",
      "74889 rows after addition of PUMA 4012.0\n",
      "78249 rows after addition of PUMA 3810.0\n",
      "80659 rows after addition of PUMA 3803.0\n",
      "83840 rows after addition of PUMA 3809.0\n",
      "87375 rows after addition of PUMA 3807.0\n",
      "89563 rows after addition of PUMA 3804.0\n",
      "92329 rows after addition of PUMA 3808.0\n",
      "94817 rows after addition of PUMA 3802.0\n",
      "98627 rows after addition of PUMA 3805.0\n",
      "101690 rows after addition of PUMA 3806.0\n",
      "104588 rows after addition of PUMA 3801.0\n",
      "106940 rows after addition of PUMA 4102.0\n",
      "110657 rows after addition of PUMA 4105.0\n",
      "114651 rows after addition of PUMA 4101.0\n",
      "117247 rows after addition of PUMA 4104.0\n",
      "121428 rows after addition of PUMA 4112.0\n",
      "123557 rows after addition of PUMA 4114.0\n",
      "126323 rows after addition of PUMA 4106.0\n",
      "130710 rows after addition of PUMA 4103.0\n",
      "132517 rows after addition of PUMA 4107.0\n",
      "134919 rows after addition of PUMA 4109.0\n",
      "137303 rows after addition of PUMA 4108.0\n",
      "141087 rows after addition of PUMA 4110.0\n",
      "144013 rows after addition of PUMA 4111.0\n",
      "146085 rows after addition of PUMA 4113.0\n",
      "148625 rows after addition of PUMA 3901.0\n",
      "151118 rows after addition of PUMA 3902.0\n",
      "154535 rows after addition of PUMA 3903.0\n"
     ]
    }
   ],
   "source": [
    "nyc_pums = pd.DataFrame()\n",
    "for puma in puma_list:\n",
    "    nyc_pums = nyc_pums.append(pums_data.query('PUMA == @puma'))\n",
    "    print nyc_pums.shape[0],'rows after addition of PUMA',str(puma)"
   ]
  },
  {
   "cell_type": "code",
   "execution_count": 33,
   "metadata": {
    "collapsed": true
   },
   "outputs": [],
   "source": [
    "AMI_60_max = {1:36300,2:41460,3:46620,4:51780,5:56940,6:62100,7:67260,8:72420}\n",
    "# 80 pct figures for 2015 from http://www1.nyc.gov/assets/hpd/downloads/pdf/NSP-tenant-lease-guidelines.pdf\n",
    "AMI_80_max = {1:48400,2:55280,3:62160,4:69040,5:74640,6:80160,7:85680,8:91200}\n",
    "nyc_pums['AMI_60'] = 0\n",
    "for n in AMI_60_max.items():\n",
    "    nyc_pums.loc[(nyc_pums['NP']==n[0]) & (nyc_pums['HINCP']<=n[1]),'AMI_60'] = 1\n",
    "nyc_pums.loc[(nyc_pums['NP']>n[0]) & (nyc_pums['HINCP']<=n[1]),'AMI_60'] = 1\n",
    "nyc_pums['AMI_80'] = 0\n",
    "for n in AMI_80_max.items():\n",
    "    nyc_pums.loc[(nyc_pums['NP']==n[0]) & (nyc_pums['HINCP']<=n[1]),'AMI_80'] = 1\n",
    "nyc_pums.loc[(nyc_pums['NP']>n[0]) & (nyc_pums['HINCP']<=n[1]),'AMI_80'] = 1"
   ]
  },
  {
   "cell_type": "code",
   "execution_count": 34,
   "metadata": {
    "collapsed": false
   },
   "outputs": [],
   "source": [
    "age_grouping = {1:'PreWar',2:'PostWar',3:'PostWar',4:'PostWar',5:'PostWar',6:'PostWar',7:'PostWar',8:'Modern'}\n",
    "nyc_pums['AgeGroup'] = ''\n",
    "for n in age_grouping.items():\n",
    "    nyc_pums.loc[nyc_pums['YBL']==n[0],'AgeGroup'] = n[1]\n",
    "nyc_pums.loc[nyc_pums['YBL']>n[0],'AgeGroup'] = n[1]"
   ]
  },
  {
   "cell_type": "code",
   "execution_count": 35,
   "metadata": {
    "collapsed": false
   },
   "outputs": [],
   "source": [
    "size_grouping = {1:'Small',2:'Small',3:'Small',4:'Small',5:'Medium',6:'Medium',7:'Medium',8:'Large',9:'Large'}\n",
    "nyc_pums['SizeGroup'] = ''\n",
    "for n in size_grouping.items():\n",
    "    nyc_pums.loc[nyc_pums['BLD']==n[0],'SizeGroup'] = n[1]\n",
    "nyc_pums.loc[nyc_pums['BLD']>n[0],'SizeGroup'] = n[1]"
   ]
  },
  {
   "cell_type": "code",
   "execution_count": 36,
   "metadata": {
    "collapsed": true
   },
   "outputs": [],
   "source": [
    "nyc_pums['ResidencyGroup'] = ''\n",
    "nyc_pums.loc[nyc_pums['MV']<=4,'ResidencyGroup'] = 'Under10'\n",
    "nyc_pums.loc[nyc_pums['MV']==5,'ResidencyGroup'] = '10Years'\n",
    "nyc_pums.loc[nyc_pums['MV']==6,'ResidencyGroup'] = '20Years'\n",
    "nyc_pums.loc[nyc_pums['MV']==7,'ResidencyGroup'] = '30Years'"
   ]
  },
  {
   "cell_type": "code",
   "execution_count": 37,
   "metadata": {
    "collapsed": false
   },
   "outputs": [
    {
     "name": "stdout",
     "output_type": "stream",
     "text": [
      "Median HH income in all NYC PUMAs\n"
     ]
    },
    {
     "data": {
      "text/plain": [
       "52000.0"
      ]
     },
     "execution_count": 37,
     "metadata": {},
     "output_type": "execute_result"
    }
   ],
   "source": [
    "print ('Median HH income in all NYC PUMAs')\n",
    "nyc_pums['HINCP'].median()"
   ]
  },
  {
   "cell_type": "code",
   "execution_count": 38,
   "metadata": {
    "collapsed": false
   },
   "outputs": [
    {
     "name": "stdout",
     "output_type": "stream",
     "text": [
      "Example median HH income in Williamsburg/Greenpoint\n"
     ]
    },
    {
     "data": {
      "text/plain": [
       "60000.0"
      ]
     },
     "execution_count": 38,
     "metadata": {},
     "output_type": "execute_result"
    }
   ],
   "source": [
    "print('Example median HH income in Williamsburg/Greenpoint')\n",
    "nyc_pums[nyc_pums['PUMA10']==4001]['HINCP'].median()"
   ]
  },
  {
   "cell_type": "code",
   "execution_count": 39,
   "metadata": {
    "collapsed": false
   },
   "outputs": [],
   "source": [
    "# excluding group quarters and vacant household records\n",
    "nyc_pums = nyc_pums.query('TYPE == 1 & BLD > 1 & BLD < 10')\n",
    "nyc_pums = nyc_pums[nyc_pums['VACS'].isnull()]"
   ]
  },
  {
   "cell_type": "code",
   "execution_count": 40,
   "metadata": {
    "collapsed": false
   },
   "outputs": [
    {
     "name": "stdout",
     "output_type": "stream",
     "text": [
      "Percentage of households who own that are considered Low Income: 0.364142139268\n"
     ]
    },
    {
     "data": {
      "text/html": [
       "<div>\n",
       "<table border=\"1\" class=\"dataframe\">\n",
       "  <thead>\n",
       "    <tr style=\"text-align: right;\">\n",
       "      <th>AgeGroup</th>\n",
       "      <th>Modern</th>\n",
       "      <th>PostWar</th>\n",
       "      <th>PreWar</th>\n",
       "    </tr>\n",
       "    <tr>\n",
       "      <th>SizeGroup</th>\n",
       "      <th></th>\n",
       "      <th></th>\n",
       "      <th></th>\n",
       "    </tr>\n",
       "  </thead>\n",
       "  <tbody>\n",
       "    <tr>\n",
       "      <th>Large</th>\n",
       "      <td>0.199559</td>\n",
       "      <td>0.354994</td>\n",
       "      <td>0.229702</td>\n",
       "    </tr>\n",
       "    <tr>\n",
       "      <th>Medium</th>\n",
       "      <td>0.321600</td>\n",
       "      <td>0.432099</td>\n",
       "      <td>0.369237</td>\n",
       "    </tr>\n",
       "    <tr>\n",
       "      <th>Small</th>\n",
       "      <td>0.309593</td>\n",
       "      <td>0.378939</td>\n",
       "      <td>0.385124</td>\n",
       "    </tr>\n",
       "  </tbody>\n",
       "</table>\n",
       "</div>"
      ],
      "text/plain": [
       "AgeGroup     Modern   PostWar    PreWar\n",
       "SizeGroup                              \n",
       "Large      0.199559  0.354994  0.229702\n",
       "Medium     0.321600  0.432099  0.369237\n",
       "Small      0.309593  0.378939  0.385124"
      ]
     },
     "execution_count": 40,
     "metadata": {},
     "output_type": "execute_result"
    }
   ],
   "source": [
    "print 'Percentage of households who own that are considered Low Income:', nyc_pums.query('TEN < 3')['AMI_80'].mean()\n",
    "nyc_pums.query('TEN < 3').pivot_table(index='SizeGroup',columns='AgeGroup',values='AMI_80',aggfunc='mean')"
   ]
  },
  {
   "cell_type": "code",
   "execution_count": 41,
   "metadata": {
    "collapsed": false
   },
   "outputs": [
    {
     "name": "stdout",
     "output_type": "stream",
     "text": [
      "Percentage of households who rent that are considered Low Income: 0.650481622307\n"
     ]
    },
    {
     "data": {
      "text/html": [
       "<div>\n",
       "<table border=\"1\" class=\"dataframe\">\n",
       "  <thead>\n",
       "    <tr style=\"text-align: right;\">\n",
       "      <th>AgeGroup</th>\n",
       "      <th>Modern</th>\n",
       "      <th>PostWar</th>\n",
       "      <th>PreWar</th>\n",
       "    </tr>\n",
       "    <tr>\n",
       "      <th>SizeGroup</th>\n",
       "      <th></th>\n",
       "      <th></th>\n",
       "      <th></th>\n",
       "    </tr>\n",
       "  </thead>\n",
       "  <tbody>\n",
       "    <tr>\n",
       "      <th>Large</th>\n",
       "      <td>0.512022</td>\n",
       "      <td>0.678588</td>\n",
       "      <td>0.672247</td>\n",
       "    </tr>\n",
       "    <tr>\n",
       "      <th>Medium</th>\n",
       "      <td>0.625724</td>\n",
       "      <td>0.659014</td>\n",
       "      <td>0.612135</td>\n",
       "    </tr>\n",
       "    <tr>\n",
       "      <th>Small</th>\n",
       "      <td>0.671775</td>\n",
       "      <td>0.636128</td>\n",
       "      <td>0.635859</td>\n",
       "    </tr>\n",
       "  </tbody>\n",
       "</table>\n",
       "</div>"
      ],
      "text/plain": [
       "AgeGroup     Modern   PostWar    PreWar\n",
       "SizeGroup                              \n",
       "Large      0.512022  0.678588  0.672247\n",
       "Medium     0.625724  0.659014  0.612135\n",
       "Small      0.671775  0.636128  0.635859"
      ]
     },
     "execution_count": 41,
     "metadata": {},
     "output_type": "execute_result"
    }
   ],
   "source": [
    "print 'Percentage of households who rent that are considered Low Income:', nyc_pums.query('TEN == 3')['AMI_80'].mean()\n",
    "nyc_pums.query('TEN == 3').pivot_table(index='SizeGroup',columns='AgeGroup',values='AMI_80',aggfunc='mean')"
   ]
  },
  {
   "cell_type": "code",
   "execution_count": 42,
   "metadata": {
    "collapsed": false
   },
   "outputs": [
    {
     "name": "stdout",
     "output_type": "stream",
     "text": [
      "Also add length of residency category...\n",
      "Percentage of households who rent that are considered Low Income: 0.650481622307\n"
     ]
    },
    {
     "data": {
      "text/html": [
       "<div>\n",
       "<table border=\"1\" class=\"dataframe\">\n",
       "  <thead>\n",
       "    <tr>\n",
       "      <th>ResidencyGroup</th>\n",
       "      <th colspan=\"3\" halign=\"left\">10Years</th>\n",
       "      <th colspan=\"2\" halign=\"left\">20Years</th>\n",
       "      <th colspan=\"2\" halign=\"left\">30Years</th>\n",
       "      <th colspan=\"3\" halign=\"left\">Under10</th>\n",
       "    </tr>\n",
       "    <tr>\n",
       "      <th>AgeGroup</th>\n",
       "      <th>Modern</th>\n",
       "      <th>PostWar</th>\n",
       "      <th>PreWar</th>\n",
       "      <th>PostWar</th>\n",
       "      <th>PreWar</th>\n",
       "      <th>PostWar</th>\n",
       "      <th>PreWar</th>\n",
       "      <th>Modern</th>\n",
       "      <th>PostWar</th>\n",
       "      <th>PreWar</th>\n",
       "    </tr>\n",
       "    <tr>\n",
       "      <th>SizeGroup</th>\n",
       "      <th></th>\n",
       "      <th></th>\n",
       "      <th></th>\n",
       "      <th></th>\n",
       "      <th></th>\n",
       "      <th></th>\n",
       "      <th></th>\n",
       "      <th></th>\n",
       "      <th></th>\n",
       "      <th></th>\n",
       "    </tr>\n",
       "  </thead>\n",
       "  <tbody>\n",
       "    <tr>\n",
       "      <th>Large</th>\n",
       "      <td>0.785714</td>\n",
       "      <td>0.745490</td>\n",
       "      <td>0.751764</td>\n",
       "      <td>0.742718</td>\n",
       "      <td>0.749677</td>\n",
       "      <td>0.757719</td>\n",
       "      <td>0.732801</td>\n",
       "      <td>0.500962</td>\n",
       "      <td>0.610944</td>\n",
       "      <td>0.611317</td>\n",
       "    </tr>\n",
       "    <tr>\n",
       "      <th>Medium</th>\n",
       "      <td>0.823529</td>\n",
       "      <td>0.733671</td>\n",
       "      <td>0.666317</td>\n",
       "      <td>0.770408</td>\n",
       "      <td>0.709966</td>\n",
       "      <td>0.760870</td>\n",
       "      <td>0.731029</td>\n",
       "      <td>0.615478</td>\n",
       "      <td>0.616780</td>\n",
       "      <td>0.568275</td>\n",
       "    </tr>\n",
       "    <tr>\n",
       "      <th>Small</th>\n",
       "      <td>0.696970</td>\n",
       "      <td>0.627837</td>\n",
       "      <td>0.668421</td>\n",
       "      <td>0.625616</td>\n",
       "      <td>0.661064</td>\n",
       "      <td>0.690141</td>\n",
       "      <td>0.696379</td>\n",
       "      <td>0.670667</td>\n",
       "      <td>0.635314</td>\n",
       "      <td>0.617595</td>\n",
       "    </tr>\n",
       "  </tbody>\n",
       "</table>\n",
       "</div>"
      ],
      "text/plain": [
       "ResidencyGroup   10Years                       20Years             30Years  \\\n",
       "AgeGroup          Modern   PostWar    PreWar   PostWar    PreWar   PostWar   \n",
       "SizeGroup                                                                    \n",
       "Large           0.785714  0.745490  0.751764  0.742718  0.749677  0.757719   \n",
       "Medium          0.823529  0.733671  0.666317  0.770408  0.709966  0.760870   \n",
       "Small           0.696970  0.627837  0.668421  0.625616  0.661064  0.690141   \n",
       "\n",
       "ResidencyGroup             Under10                      \n",
       "AgeGroup          PreWar    Modern   PostWar    PreWar  \n",
       "SizeGroup                                               \n",
       "Large           0.732801  0.500962  0.610944  0.611317  \n",
       "Medium          0.731029  0.615478  0.616780  0.568275  \n",
       "Small           0.696379  0.670667  0.635314  0.617595  "
      ]
     },
     "execution_count": 42,
     "metadata": {},
     "output_type": "execute_result"
    }
   ],
   "source": [
    "print 'Also add length of residency category...'\n",
    "print 'Percentage of households who rent that are considered Low Income:', nyc_pums.query('TEN == 3')['AMI_80'].mean()\n",
    "nyc_pums.query('TEN == 3').pivot_table(index='SizeGroup',columns=['ResidencyGroup','AgeGroup'],values='AMI_80',aggfunc='mean')"
   ]
  },
  {
   "cell_type": "code",
   "execution_count": 14,
   "metadata": {
    "collapsed": false
   },
   "outputs": [
    {
     "data": {
      "text/html": [
       "<div>\n",
       "<table border=\"1\" class=\"dataframe\">\n",
       "  <thead>\n",
       "    <tr style=\"text-align: right;\">\n",
       "      <th></th>\n",
       "      <th>insp</th>\n",
       "      <th>RT</th>\n",
       "      <th>SERIALNO</th>\n",
       "      <th>DIVISION</th>\n",
       "      <th>PUMA00</th>\n",
       "      <th>PUMA10</th>\n",
       "      <th>REGION</th>\n",
       "      <th>ST</th>\n",
       "      <th>ADJHSG</th>\n",
       "      <th>ADJINC</th>\n",
       "      <th>...</th>\n",
       "      <th>WGTP77</th>\n",
       "      <th>WGTP78</th>\n",
       "      <th>WGTP79</th>\n",
       "      <th>WGTP80</th>\n",
       "      <th>PUMA</th>\n",
       "      <th>AMI_60</th>\n",
       "      <th>AMI_80</th>\n",
       "      <th>AgeGroup</th>\n",
       "      <th>SizeGroup</th>\n",
       "      <th>ResidencyGroup</th>\n",
       "    </tr>\n",
       "  </thead>\n",
       "  <tbody>\n",
       "  </tbody>\n",
       "</table>\n",
       "<p>0 rows × 211 columns</p>\n",
       "</div>"
      ],
      "text/plain": [
       "Empty DataFrame\n",
       "Columns: [insp, RT, SERIALNO, DIVISION, PUMA00, PUMA10, REGION, ST, ADJHSG, ADJINC, WGTP, NP, TYPE, ACR, AGS, BATH, BDSP, BLD, BUS, CONP, ELEP, FS, FULP, GASP, HFL, MHP, MRGI, MRGP, MRGT, MRGX, REFR, RMSP, RNTM, RNTP, RWAT, RWATPR, SINK, SMP, STOV, TEL, TEN, TOIL, VACS, VALP, VEH, WATP, YBL, FES, FINCP, FPARC, GRNTP, GRPIP, HHL, HHT, HINCP, HUGCL, HUPAC, HUPAOC, HUPARC, KIT, LNGI, MULTG, MV, NOC, NPF, NPP, NR, NRC, OCPIP, PARTNER, PLM, PSF, R18, R60, R65, RESMODE, SMOCP, SMX, SRNT, SVAL, TAXP, WIF, WKEXREL, WORKSTAT, FACRP, FAGSP, FBATHP, FBDSP, FBLDP, FBUSP, FCONP, FELEP, FFSP, FFULP, FGASP, FHFLP, FINSP, FKITP, FMHP, FMRGIP, ...]\n",
       "Index: []\n",
       "\n",
       "[0 rows x 211 columns]"
      ]
     },
     "execution_count": 14,
     "metadata": {},
     "output_type": "execute_result"
    }
   ],
   "source": [
    "# can we identify renters who live in condo buildings?\n",
    "nyc_pums.query('TEN == 3 and FCONP == 1')\n",
    "# it appears not"
   ]
  },
  {
   "cell_type": "code",
   "execution_count": 15,
   "metadata": {
    "collapsed": true
   },
   "outputs": [],
   "source": [
    "# dependents to test: HINCP, RNTP, GRNTP, NPF, TAXP\n",
    "# independents to test: YBL (ord), TEN (c), BDSP, BLD, VACS - perhaps as a filter?\n",
    "# also of interest: MV"
   ]
  },
  {
   "cell_type": "code",
   "execution_count": 16,
   "metadata": {
    "collapsed": false
   },
   "outputs": [],
   "source": [
    "# predict rent paid for renters\n",
    "# mod = smf.ols(formula='RNTP ~ BLD + BDSP + C(PUMA) + C(YBL)', data = nyc_pums[nyc_pums['TEN']==3]).fit()\n",
    "# print(mod.summary())"
   ]
  },
  {
   "cell_type": "code",
   "execution_count": 17,
   "metadata": {
    "collapsed": false
   },
   "outputs": [],
   "source": [
    "# predict income for renters\n",
    "# mod = smf.ols(formula='HINCP ~ BLD + BDSP + C(PUMA) + C(YBL)', data = nyc_pums[nyc_pums['TEN']==3]).fit()\n",
    "# print(mod.summary())"
   ]
  },
  {
   "cell_type": "code",
   "execution_count": 18,
   "metadata": {
    "collapsed": false
   },
   "outputs": [],
   "source": [
    "# predict income for owners\n",
    "# mod = smf.ols(formula='HINCP ~ BLD + BDSP + C(PUMA) + C(YBL)', data = nyc_pums[nyc_pums['TEN']<3]).fit()\n",
    "# print(mod.summary())"
   ]
  },
  {
   "cell_type": "code",
   "execution_count": 19,
   "metadata": {
    "collapsed": false
   },
   "outputs": [],
   "source": [
    "# predict income for owners with property tax as independent, but without bedrooms or size of building (covairance)\n",
    "# mod = smf.ols(formula='HINCP ~ TAXP + C(PUMA) + C(YBL)', data = nyc_pums[nyc_pums['TEN']<3]).fit()\n",
    "# print(mod.summary())"
   ]
  },
  {
   "cell_type": "code",
   "execution_count": 20,
   "metadata": {
    "collapsed": false
   },
   "outputs": [],
   "source": [
    "# predict rent paid for renters with grouped building ages\n",
    "# mod = smf.ols(formula='RNTP ~ BLD + BDSP + C(PUMA) + C(AgeGroup)', data = nyc_pums[nyc_pums['TEN']==3]).fit()\n",
    "# print(mod.summary())"
   ]
  },
  {
   "cell_type": "code",
   "execution_count": 24,
   "metadata": {
    "collapsed": false
   },
   "outputs": [
    {
     "name": "stdout",
     "output_type": "stream",
     "text": [
      "                            OLS Regression Results                            \n",
      "==============================================================================\n",
      "Dep. Variable:                  HINCP   R-squared:                       0.174\n",
      "Model:                            OLS   Adj. R-squared:                  0.174\n",
      "Method:                 Least Squares   F-statistic:                     268.8\n",
      "Date:                Sun, 28 Feb 2016   Prob (F-statistic):               0.00\n",
      "Time:                        12:52:56   Log-Likelihood:            -9.9448e+05\n",
      "No. Observations:               78900   AIC:                         1.989e+06\n",
      "Df Residuals:                   78837   BIC:                         1.990e+06\n",
      "Df Model:                          62                                         \n",
      "Covariance Type:            nonrobust                                         \n",
      "================================================================================================\n",
      "                                   coef    std err          t      P>|t|      [95.0% Conf. Int.]\n",
      "------------------------------------------------------------------------------------------------\n",
      "Intercept                     5.797e+04   2499.684     23.192      0.000      5.31e+04  6.29e+04\n",
      "C(SizeGroup)[T.Medium]       -3751.5128    641.961     -5.844      0.000     -5009.753 -2493.273\n",
      "C(SizeGroup)[T.Small]         3075.7417    837.630      3.672      0.000      1433.992  4717.492\n",
      "C(AgeGroup)[T.PostWar]        -1.92e+04   1054.180    -18.209      0.000     -2.13e+04 -1.71e+04\n",
      "C(AgeGroup)[T.PreWar]        -1.949e+04   1075.694    -18.116      0.000     -2.16e+04 -1.74e+04\n",
      "C(PUMA)[T.3702]              -2.076e+04   2993.965     -6.934      0.000     -2.66e+04 -1.49e+04\n",
      "C(PUMA)[T.3703]              -4567.1694   3499.025     -1.305      0.192     -1.14e+04  2290.898\n",
      "C(PUMA)[T.3704]              -1.617e+04   2947.427     -5.487      0.000      -2.2e+04 -1.04e+04\n",
      "C(PUMA)[T.3705]              -3.528e+04   2691.091    -13.109      0.000     -4.06e+04    -3e+04\n",
      "C(PUMA)[T.3706]              -2.191e+04   2946.959     -7.434      0.000     -2.77e+04 -1.61e+04\n",
      "C(PUMA)[T.3707]              -3.073e+04   2786.909    -11.026      0.000     -3.62e+04 -2.53e+04\n",
      "C(PUMA)[T.3708]              -2.812e+04   2855.416     -9.848      0.000     -3.37e+04 -2.25e+04\n",
      "C(PUMA)[T.3709]              -2.108e+04   2753.841     -7.653      0.000     -2.65e+04 -1.57e+04\n",
      "C(PUMA)[T.3710]              -3.386e+04   2729.694    -12.405      0.000     -3.92e+04 -2.85e+04\n",
      "C(PUMA)[T.3801]              -5123.4929   2661.320     -1.925      0.054     -1.03e+04    92.679\n",
      "C(PUMA)[T.3802]               5322.9962   2938.840      1.811      0.070      -437.113  1.11e+04\n",
      "C(PUMA)[T.3803]              -1.086e+04   2812.913     -3.861      0.000     -1.64e+04 -5348.509\n",
      "C(PUMA)[T.3804]              -7545.6782   2853.423     -2.644      0.008     -1.31e+04 -1952.987\n",
      "C(PUMA)[T.3805]               7.911e+04   2732.730     28.948      0.000      7.38e+04  8.45e+04\n",
      "C(PUMA)[T.3806]               7.354e+04   2811.389     26.156      0.000       6.8e+04   7.9e+04\n",
      "C(PUMA)[T.3807]               6.737e+04   2694.568     25.004      0.000      6.21e+04  7.27e+04\n",
      "C(PUMA)[T.3808]               7.152e+04   2875.728     24.870      0.000      6.59e+04  7.72e+04\n",
      "C(PUMA)[T.3809]               1.002e+04   2699.809      3.710      0.000      4724.299  1.53e+04\n",
      "C(PUMA)[T.3810]               9.609e+04   2758.475     34.833      0.000      9.07e+04  1.01e+05\n",
      "C(PUMA)[T.3901]              -3877.0541   4474.471     -0.866      0.386     -1.26e+04  4892.883\n",
      "C(PUMA)[T.3902]              -1.251e+04   3925.652     -3.187      0.001     -2.02e+04 -4814.847\n",
      "C(PUMA)[T.3903]              -1.892e+04   3146.198     -6.014      0.000     -2.51e+04 -1.28e+04\n",
      "C(PUMA)[T.4001]               8702.5835   2682.486      3.244      0.001      3444.927   1.4e+04\n",
      "C(PUMA)[T.4002]              -1.431e+04   2865.097     -4.996      0.000     -1.99e+04 -8697.507\n",
      "C(PUMA)[T.4003]              -2.214e+04   2838.072     -7.801      0.000     -2.77e+04 -1.66e+04\n",
      "C(PUMA)[T.4004]               3.118e+04   2769.919     11.256      0.000      2.57e+04  3.66e+04\n",
      "C(PUMA)[T.4005]               4.269e+04   2936.952     14.537      0.000      3.69e+04  4.84e+04\n",
      "C(PUMA)[T.4006]              -7539.8397   2810.878     -2.682      0.007      -1.3e+04 -2030.536\n",
      "C(PUMA)[T.4007]              -2.858e+04   2915.560     -9.803      0.000     -3.43e+04 -2.29e+04\n",
      "C(PUMA)[T.4008]               -2.66e+04   2842.547     -9.359      0.000     -3.22e+04  -2.1e+04\n",
      "C(PUMA)[T.4009]              -1.149e+04   2962.778     -3.877      0.000     -1.73e+04 -5680.878\n",
      "C(PUMA)[T.4010]              -1.589e+04   2973.434     -5.343      0.000     -2.17e+04 -1.01e+04\n",
      "C(PUMA)[T.4011]              -1.278e+04   2948.539     -4.335      0.000     -1.86e+04 -7003.056\n",
      "C(PUMA)[T.4012]              -1.244e+04   2894.885     -4.299      0.000     -1.81e+04 -6770.957\n",
      "C(PUMA)[T.4013]               2188.8861   2854.290      0.767      0.443     -3405.506  7783.278\n",
      "C(PUMA)[T.4014]              -2.102e+04   2859.169     -7.353      0.000     -2.66e+04 -1.54e+04\n",
      "C(PUMA)[T.4015]              -1.112e+04   2746.696     -4.048      0.000     -1.65e+04 -5734.368\n",
      "C(PUMA)[T.4016]              -1.044e+04   2905.958     -3.594      0.000     -1.61e+04 -4747.862\n",
      "C(PUMA)[T.4017]               -1.23e+04   2750.784     -4.472      0.000     -1.77e+04 -6909.949\n",
      "C(PUMA)[T.4018]              -1.942e+04   2995.127     -6.483      0.000     -2.53e+04 -1.35e+04\n",
      "C(PUMA)[T.4101]               4342.2697   2570.164      1.689      0.091      -695.236  9379.776\n",
      "C(PUMA)[T.4102]              -1.533e+04   3000.925     -5.109      0.000     -2.12e+04 -9448.693\n",
      "C(PUMA)[T.4103]              -1.079e+04   2826.261     -3.819      0.000     -1.63e+04 -5254.884\n",
      "C(PUMA)[T.4104]               9156.3407   3777.335      2.424      0.015      1752.786  1.66e+04\n",
      "C(PUMA)[T.4105]              -7415.9671   3579.561     -2.072      0.038     -1.44e+04  -400.049\n",
      "C(PUMA)[T.4106]              -7155.9457   3167.990     -2.259      0.024     -1.34e+04  -946.705\n",
      "C(PUMA)[T.4107]               -1.16e+04   3089.539     -3.755      0.000     -1.77e+04 -5546.493\n",
      "C(PUMA)[T.4108]               1.196e+04   3099.626      3.859      0.000      5884.986   1.8e+04\n",
      "C(PUMA)[T.4109]               3496.0412   2887.487      1.211      0.226     -2163.416  9155.498\n",
      "C(PUMA)[T.4110]              -4268.2981   2827.897     -1.509      0.131     -9810.960  1274.364\n",
      "C(PUMA)[T.4111]              -9851.7332   3009.551     -3.273      0.001     -1.58e+04 -3953.030\n",
      "C(PUMA)[T.4112]              -2.279e+04   2875.103     -7.928      0.000     -2.84e+04 -1.72e+04\n",
      "C(PUMA)[T.4113]              -1.728e+04   3773.821     -4.579      0.000     -2.47e+04 -9884.119\n",
      "C(PUMA)[T.4114]              -2.015e+04   3358.821     -6.000      0.000     -2.67e+04 -1.36e+04\n",
      "C(ResidencyGroup)[T.20Years] -2667.2295   1069.800     -2.493      0.013     -4764.030  -570.428\n",
      "C(ResidencyGroup)[T.30Years] -1.016e+04    985.737    -10.309      0.000     -1.21e+04 -8229.745\n",
      "C(ResidencyGroup)[T.Under10]  9722.6468    694.842     13.993      0.000      8360.761  1.11e+04\n",
      "NP                            6890.6644    175.170     39.337      0.000      6547.332  7233.997\n",
      "==============================================================================\n",
      "Omnibus:                    70622.100   Durbin-Watson:                   2.005\n",
      "Prob(Omnibus):                  0.000   Jarque-Bera (JB):          3614050.249\n",
      "Skew:                           4.176   Prob(JB):                         0.00\n",
      "Kurtosis:                      35.087   Cond. No.                         196.\n",
      "==============================================================================\n",
      "\n",
      "Warnings:\n",
      "[1] Standard Errors assume that the covariance matrix of the errors is correctly specified.\n"
     ]
    }
   ],
   "source": [
    "# predict income for renters with grouped building ages/sizes and length of residence\n",
    "mod = smf.ols(formula='HINCP ~ NP + C(SizeGroup) + C(AgeGroup) + C(PUMA) + C(ResidencyGroup)', data = nyc_pums[nyc_pums['TEN']==3]).fit()\n",
    "print(mod.summary())"
   ]
  },
  {
   "cell_type": "code",
   "execution_count": 27,
   "metadata": {
    "collapsed": false
   },
   "outputs": [
    {
     "name": "stdout",
     "output_type": "stream",
     "text": [
      "Optimization terminated successfully.\n",
      "         Current function value: 0.581092\n",
      "         Iterations 6\n",
      "                           Logit Regression Results                           \n",
      "==============================================================================\n",
      "Dep. Variable:                 AMI_80   No. Observations:                78900\n",
      "Model:                          Logit   Df Residuals:                    78838\n",
      "Method:                           MLE   Df Model:                           61\n",
      "Date:                Sun, 28 Feb 2016   Pseudo R-squ.:                  0.1021\n",
      "Time:                        12:58:49   Log-Likelihood:                -45848.\n",
      "converged:                       True   LL-Null:                       -51060.\n",
      "                                        LLR p-value:                     0.000\n",
      "================================================================================================\n",
      "                                   coef    std err          z      P>|z|      [95.0% Conf. Int.]\n",
      "------------------------------------------------------------------------------------------------\n",
      "Intercept                        0.4430      0.072      6.148      0.000         0.302     0.584\n",
      "C(SizeGroup)[T.Medium]          -0.1005      0.020     -5.040      0.000        -0.140    -0.061\n",
      "C(SizeGroup)[T.Small]           -0.2754      0.025    -10.851      0.000        -0.325    -0.226\n",
      "C(AgeGroup)[T.PostWar]           0.2184      0.032      6.823      0.000         0.156     0.281\n",
      "C(AgeGroup)[T.PreWar]            0.1787      0.033      5.470      0.000         0.115     0.243\n",
      "C(PUMA)[T.3702]                  0.8005      0.092      8.740      0.000         0.621     0.980\n",
      "C(PUMA)[T.3703]                  0.1305      0.101      1.289      0.197        -0.068     0.329\n",
      "C(PUMA)[T.3704]                  0.5522      0.088      6.296      0.000         0.380     0.724\n",
      "C(PUMA)[T.3705]                  1.6483      0.093     17.766      0.000         1.466     1.830\n",
      "C(PUMA)[T.3706]                  0.9321      0.093     10.023      0.000         0.750     1.114\n",
      "C(PUMA)[T.3707]                  1.4770      0.096     15.433      0.000         1.289     1.665\n",
      "C(PUMA)[T.3708]                  1.2422      0.095     13.116      0.000         1.057     1.428\n",
      "C(PUMA)[T.3709]                  0.8971      0.085     10.531      0.000         0.730     1.064\n",
      "C(PUMA)[T.3710]                  1.9360      0.103     18.873      0.000         1.735     2.137\n",
      "C(PUMA)[T.3801]                  0.2184      0.078      2.811      0.005         0.066     0.371\n",
      "C(PUMA)[T.3802]                  0.1394      0.085      1.634      0.102        -0.028     0.307\n",
      "C(PUMA)[T.3803]                  0.5231      0.084      6.251      0.000         0.359     0.687\n",
      "C(PUMA)[T.3804]                  0.4867      0.085      5.712      0.000         0.320     0.654\n",
      "C(PUMA)[T.3805]                 -1.3602      0.081    -16.790      0.000        -1.519    -1.201\n",
      "C(PUMA)[T.3806]                 -1.0351      0.081    -12.715      0.000        -1.195    -0.876\n",
      "C(PUMA)[T.3807]                 -0.8340      0.078    -10.756      0.000        -0.986    -0.682\n",
      "C(PUMA)[T.3808]                 -1.3803      0.086    -16.135      0.000        -1.548    -1.213\n",
      "C(PUMA)[T.3809]                  0.0589      0.078      0.755      0.450        -0.094     0.212\n",
      "C(PUMA)[T.3810]                 -1.3347      0.082    -16.306      0.000        -1.495    -1.174\n",
      "C(PUMA)[T.3901]                  0.1421      0.127      1.116      0.264        -0.107     0.392\n",
      "C(PUMA)[T.3902]                  0.4240      0.115      3.675      0.000         0.198     0.650\n",
      "C(PUMA)[T.3903]                  0.6867      0.094      7.279      0.000         0.502     0.872\n",
      "C(PUMA)[T.4001]                 -0.1918      0.077     -2.499      0.012        -0.342    -0.041\n",
      "C(PUMA)[T.4002]                  0.6308      0.085      7.402      0.000         0.464     0.798\n",
      "C(PUMA)[T.4003]                  0.9236      0.088     10.549      0.000         0.752     1.095\n",
      "C(PUMA)[T.4004]                 -0.5131      0.079     -6.487      0.000        -0.668    -0.358\n",
      "C(PUMA)[T.4005]                 -0.9866      0.086    -11.497      0.000        -1.155    -0.818\n",
      "C(PUMA)[T.4006]                  0.3821      0.082      4.644      0.000         0.221     0.543\n",
      "C(PUMA)[T.4007]                  1.4725      0.100     14.735      0.000         1.277     1.668\n",
      "C(PUMA)[T.4008]                  1.2334      0.092     13.421      0.000         1.053     1.414\n",
      "C(PUMA)[T.4009]                  0.4556      0.087      5.246      0.000         0.285     0.626\n",
      "C(PUMA)[T.4010]                  0.6675      0.090      7.453      0.000         0.492     0.843\n",
      "C(PUMA)[T.4011]                  0.6078      0.089      6.804      0.000         0.433     0.783\n",
      "C(PUMA)[T.4012]                  0.5261      0.085      6.166      0.000         0.359     0.693\n",
      "C(PUMA)[T.4013]                  0.0088      0.082      0.108      0.914        -0.152     0.169\n",
      "C(PUMA)[T.4014]                  0.8262      0.087      9.463      0.000         0.655     0.997\n",
      "C(PUMA)[T.4015]                  0.3641      0.081      4.513      0.000         0.206     0.522\n",
      "C(PUMA)[T.4016]                  0.4413      0.086      5.140      0.000         0.273     0.610\n",
      "C(PUMA)[T.4017]                  0.6172      0.082      7.553      0.000         0.457     0.777\n",
      "C(PUMA)[T.4018]                  1.0214      0.097     10.502      0.000         0.831     1.212\n",
      "C(PUMA)[T.4101]                 -0.1620      0.074     -2.202      0.028        -0.306    -0.018\n",
      "C(PUMA)[T.4102]                  0.6613      0.090      7.347      0.000         0.485     0.838\n",
      "C(PUMA)[T.4103]                  0.4509      0.083      5.438      0.000         0.288     0.613\n",
      "C(PUMA)[T.4104]                 -0.2600      0.107     -2.430      0.015        -0.470    -0.050\n",
      "C(PUMA)[T.4105]                  0.2218      0.103      2.159      0.031         0.020     0.423\n",
      "C(PUMA)[T.4106]                  0.1875      0.092      2.042      0.041         0.007     0.368\n",
      "C(PUMA)[T.4107]                  0.5177      0.092      5.633      0.000         0.338     0.698\n",
      "C(PUMA)[T.4108]                 -0.3245      0.088     -3.678      0.000        -0.497    -0.152\n",
      "C(PUMA)[T.4109]                 -0.0781      0.083     -0.947      0.344        -0.240     0.084\n",
      "C(PUMA)[T.4110]                  0.1146      0.081      1.411      0.158        -0.045     0.274\n",
      "C(PUMA)[T.4111]                  0.3036      0.087      3.486      0.000         0.133     0.474\n",
      "C(PUMA)[T.4112]                  0.8899      0.088     10.113      0.000         0.717     1.062\n",
      "C(PUMA)[T.4113]                  0.7611      0.114      6.668      0.000         0.537     0.985\n",
      "C(PUMA)[T.4114]                  0.8349      0.105      7.938      0.000         0.629     1.041\n",
      "C(ResidencyGroup)[T.20Years]     0.1162      0.035      3.312      0.001         0.047     0.185\n",
      "C(ResidencyGroup)[T.30Years]     0.3548      0.033     10.848      0.000         0.291     0.419\n",
      "C(ResidencyGroup)[T.Under10]    -0.3628      0.022    -16.434      0.000        -0.406    -0.320\n",
      "================================================================================================\n"
     ]
    }
   ],
   "source": [
    "logit_mod = smf.logit(formula='AMI_80 ~ C(SizeGroup) + C(AgeGroup) + C(PUMA) + C(ResidencyGroup)', data = nyc_pums[nyc_pums['TEN']==3]).fit()\n",
    "print(logit_mod.summary())"
   ]
  },
  {
   "cell_type": "code",
   "execution_count": 28,
   "metadata": {
    "collapsed": false
   },
   "outputs": [
    {
     "name": "stdout",
     "output_type": "stream",
     "text": [
      "        Logit Marginal Effects       \n",
      "=====================================\n",
      "Dep. Variable:                 AMI_80\n",
      "Method:                          dydx\n",
      "At:                           overall\n",
      "================================================================================================\n",
      "                                  dy/dx    std err          z      P>|z|      [95.0% Conf. Int.]\n",
      "------------------------------------------------------------------------------------------------\n",
      "C(SizeGroup)[T.Medium]          -0.0199      0.004     -5.042      0.000        -0.028    -0.012\n",
      "C(SizeGroup)[T.Small]           -0.0545      0.005    -10.879      0.000        -0.064    -0.045\n",
      "C(AgeGroup)[T.PostWar]           0.0433      0.006      6.830      0.000         0.031     0.056\n",
      "C(AgeGroup)[T.PreWar]            0.0354      0.006      5.474      0.000         0.023     0.048\n",
      "C(PUMA)[T.3702]                  0.1585      0.018      8.755      0.000         0.123     0.194\n",
      "C(PUMA)[T.3703]                  0.0259      0.020      1.289      0.197        -0.013     0.065\n",
      "C(PUMA)[T.3704]                  0.1094      0.017      6.302      0.000         0.075     0.143\n",
      "C(PUMA)[T.3705]                  0.3265      0.018     17.864      0.000         0.291     0.362\n",
      "C(PUMA)[T.3706]                  0.1846      0.018     10.044      0.000         0.149     0.221\n",
      "C(PUMA)[T.3707]                  0.2925      0.019     15.499      0.000         0.256     0.330\n",
      "C(PUMA)[T.3708]                  0.2460      0.019     13.159      0.000         0.209     0.283\n",
      "C(PUMA)[T.3709]                  0.1777      0.017     10.555      0.000         0.145     0.211\n",
      "C(PUMA)[T.3710]                  0.3835      0.020     18.979      0.000         0.344     0.423\n",
      "C(PUMA)[T.3801]                  0.0433      0.015      2.812      0.005         0.013     0.073\n",
      "C(PUMA)[T.3802]                  0.0276      0.017      1.634      0.102        -0.006     0.061\n",
      "C(PUMA)[T.3803]                  0.1036      0.017      6.256      0.000         0.071     0.136\n",
      "C(PUMA)[T.3804]                  0.0964      0.017      5.716      0.000         0.063     0.129\n",
      "C(PUMA)[T.3805]                 -0.2694      0.016    -16.908      0.000        -0.301    -0.238\n",
      "C(PUMA)[T.3806]                 -0.2050      0.016    -12.768      0.000        -0.236    -0.174\n",
      "C(PUMA)[T.3807]                 -0.1652      0.015    -10.789      0.000        -0.195    -0.135\n",
      "C(PUMA)[T.3808]                 -0.2734      0.017    -16.239      0.000        -0.306    -0.240\n",
      "C(PUMA)[T.3809]                  0.0117      0.015      0.755      0.450        -0.019     0.042\n",
      "C(PUMA)[T.3810]                 -0.2644      0.016    -16.415      0.000        -0.296    -0.233\n",
      "C(PUMA)[T.3901]                  0.0282      0.025      1.116      0.264        -0.021     0.078\n",
      "C(PUMA)[T.3902]                  0.0840      0.023      3.676      0.000         0.039     0.129\n",
      "C(PUMA)[T.3903]                  0.1360      0.019      7.287      0.000         0.099     0.173\n",
      "C(PUMA)[T.4001]                 -0.0380      0.015     -2.500      0.012        -0.068    -0.008\n",
      "C(PUMA)[T.4002]                  0.1249      0.017      7.411      0.000         0.092     0.158\n",
      "C(PUMA)[T.4003]                  0.1829      0.017     10.574      0.000         0.149     0.217\n",
      "C(PUMA)[T.4004]                 -0.1016      0.016     -6.495      0.000        -0.132    -0.071\n",
      "C(PUMA)[T.4005]                 -0.1954      0.017    -11.537      0.000        -0.229    -0.162\n",
      "C(PUMA)[T.4006]                  0.0757      0.016      4.646      0.000         0.044     0.108\n",
      "C(PUMA)[T.4007]                  0.2917      0.020     14.794      0.000         0.253     0.330\n",
      "C(PUMA)[T.4008]                  0.2443      0.018     13.469      0.000         0.209     0.280\n",
      "C(PUMA)[T.4009]                  0.0902      0.017      5.250      0.000         0.057     0.124\n",
      "C(PUMA)[T.4010]                  0.1322      0.018      7.462      0.000         0.097     0.167\n",
      "C(PUMA)[T.4011]                  0.1204      0.018      6.811      0.000         0.086     0.155\n",
      "C(PUMA)[T.4012]                  0.1042      0.017      6.172      0.000         0.071     0.137\n",
      "C(PUMA)[T.4013]                  0.0017      0.016      0.108      0.914        -0.030     0.034\n",
      "C(PUMA)[T.4014]                  0.1636      0.017      9.481      0.000         0.130     0.197\n",
      "C(PUMA)[T.4015]                  0.0721      0.016      4.515      0.000         0.041     0.103\n",
      "C(PUMA)[T.4016]                  0.0874      0.017      5.143      0.000         0.054     0.121\n",
      "C(PUMA)[T.4017]                  0.1223      0.016      7.562      0.000         0.091     0.154\n",
      "C(PUMA)[T.4018]                  0.2023      0.019     10.526      0.000         0.165     0.240\n",
      "C(PUMA)[T.4101]                 -0.0321      0.015     -2.202      0.028        -0.061    -0.004\n",
      "C(PUMA)[T.4102]                  0.1310      0.018      7.356      0.000         0.096     0.166\n",
      "C(PUMA)[T.4103]                  0.0893      0.016      5.441      0.000         0.057     0.121\n",
      "C(PUMA)[T.4104]                 -0.0515      0.021     -2.431      0.015        -0.093    -0.010\n",
      "C(PUMA)[T.4105]                  0.0439      0.020      2.159      0.031         0.004     0.084\n",
      "C(PUMA)[T.4106]                  0.0371      0.018      2.042      0.041         0.001     0.073\n",
      "C(PUMA)[T.4107]                  0.1025      0.018      5.637      0.000         0.067     0.138\n",
      "C(PUMA)[T.4108]                 -0.0643      0.017     -3.680      0.000        -0.098    -0.030\n",
      "C(PUMA)[T.4109]                 -0.0155      0.016     -0.947      0.344        -0.048     0.017\n",
      "C(PUMA)[T.4110]                  0.0227      0.016      1.411      0.158        -0.009     0.054\n",
      "C(PUMA)[T.4111]                  0.0601      0.017      3.487      0.000         0.026     0.094\n",
      "C(PUMA)[T.4112]                  0.1763      0.017     10.136      0.000         0.142     0.210\n",
      "C(PUMA)[T.4113]                  0.1508      0.023      6.674      0.000         0.106     0.195\n",
      "C(PUMA)[T.4114]                  0.1654      0.021      7.949      0.000         0.125     0.206\n",
      "C(ResidencyGroup)[T.20Years]     0.0230      0.007      3.313      0.001         0.009     0.037\n",
      "C(ResidencyGroup)[T.30Years]     0.0703      0.006     10.873      0.000         0.058     0.083\n",
      "C(ResidencyGroup)[T.Under10]    -0.0719      0.004    -16.530      0.000        -0.080    -0.063\n",
      "================================================================================================\n"
     ]
    }
   ],
   "source": [
    "mfx = logit_mod.get_margeff()\n",
    "print mfx.summary()"
   ]
  },
  {
   "cell_type": "code",
   "execution_count": null,
   "metadata": {
    "collapsed": true
   },
   "outputs": [],
   "source": []
  }
 ],
 "metadata": {
  "kernelspec": {
   "display_name": "Python 2",
   "language": "python",
   "name": "python2"
  },
  "language_info": {
   "codemirror_mode": {
    "name": "ipython",
    "version": 2
   },
   "file_extension": ".py",
   "mimetype": "text/x-python",
   "name": "python",
   "nbconvert_exporter": "python",
   "pygments_lexer": "ipython2",
   "version": "2.7.11"
  }
 },
 "nbformat": 4,
 "nbformat_minor": 0
}
