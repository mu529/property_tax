{
 "cells": [
  {
   "cell_type": "code",
   "execution_count": 2,
   "metadata": {
    "collapsed": false
   },
   "outputs": [
    {
     "name": "stdout",
     "output_type": "stream",
     "text": [
      "Populating the interactive namespace from numpy and matplotlib\n"
     ]
    },
    {
     "name": "stderr",
     "output_type": "stream",
     "text": [
      "WARNING: pylab import has clobbered these variables: ['plt']\n",
      "`%matplotlib` prevents importing * from pylab and numpy\n"
     ]
    }
   ],
   "source": [
    "from sodapy import Socrata\n",
    "import requests, zipfile, StringIO\n",
    "import urllib2\n",
    "import pandas as pd\n",
    "import numpy as np\n",
    "import pypyodbc\n",
    "import csv\n",
    "import os\n",
    "import tempfile\n",
    "import statsmodels.formula.api as smf\n",
    "import pylab as plt\n",
    "%pylab inline"
   ]
  },
  {
   "cell_type": "code",
   "execution_count": 3,
   "metadata": {
    "collapsed": false
   },
   "outputs": [],
   "source": [
    "puma_ref = pd.read_excel('http://www.nyc.gov/html/dcp/download/census/nyc2010census_tabulation_equiv.xlsx',header=3)\n",
    "# alternatively, use shapefile from https://data.cityofnewyork.us/Housing-Development/Public-Use-Microdata-Areas-PUMA-/cwiz-gcty\n",
    "puma_list = puma_ref['PUMA'].unique()[~np.isnan(puma_ref['PUMA'].unique())]"
   ]
  },
  {
   "cell_type": "code",
   "execution_count": 4,
   "metadata": {
    "collapsed": false
   },
   "outputs": [],
   "source": [
    "pums_data = pd.read_csv('ss14hny.csv')\n",
    "pums_data['PUMA'] = pums_data[['PUMA00','PUMA10']].max(axis=1)"
   ]
  },
  {
   "cell_type": "code",
   "execution_count": 5,
   "metadata": {
    "collapsed": false
   },
   "outputs": [
    {
     "name": "stdout",
     "output_type": "stream",
     "text": [
      "2532 rows after addition of PUMA 3704.0\n",
      "4290 rows after addition of PUMA 3706.0\n",
      "7271 rows after addition of PUMA 3705.0\n",
      "9141 rows after addition of PUMA 3703.0\n",
      "11081 rows after addition of PUMA 3708.0\n",
      "13603 rows after addition of PUMA 3702.0\n",
      "15801 rows after addition of PUMA 3707.0\n",
      "18926 rows after addition of PUMA 3710.0\n",
      "21257 rows after addition of PUMA 3701.0\n",
      "24034 rows after addition of PUMA 3709.0\n",
      "27707 rows after addition of PUMA 4017.0\n",
      "30805 rows after addition of PUMA 4013.0\n",
      "33408 rows after addition of PUMA 4003.0\n",
      "36267 rows after addition of PUMA 4014.0\n",
      "38410 rows after addition of PUMA 4018.0\n",
      "41972 rows after addition of PUMA 4004.0\n",
      "44269 rows after addition of PUMA 4007.0\n",
      "46446 rows after addition of PUMA 4002.0\n",
      "50660 rows after addition of PUMA 4009.0\n",
      "53223 rows after addition of PUMA 4005.0\n",
      "55807 rows after addition of PUMA 4006.0\n",
      "57735 rows after addition of PUMA 4011.0\n",
      "60478 rows after addition of PUMA 4008.0\n",
      "63099 rows after addition of PUMA 4010.0\n",
      "66109 rows after addition of PUMA 4001.0\n",
      "69054 rows after addition of PUMA 4015.0\n",
      "72425 rows after addition of PUMA 4016.0\n",
      "74889 rows after addition of PUMA 4012.0\n",
      "78249 rows after addition of PUMA 3810.0\n",
      "80659 rows after addition of PUMA 3803.0\n",
      "83840 rows after addition of PUMA 3809.0\n",
      "87375 rows after addition of PUMA 3807.0\n",
      "89563 rows after addition of PUMA 3804.0\n",
      "92329 rows after addition of PUMA 3808.0\n",
      "94817 rows after addition of PUMA 3802.0\n",
      "98627 rows after addition of PUMA 3805.0\n",
      "101690 rows after addition of PUMA 3806.0\n",
      "104588 rows after addition of PUMA 3801.0\n",
      "106940 rows after addition of PUMA 4102.0\n",
      "110657 rows after addition of PUMA 4105.0\n",
      "114651 rows after addition of PUMA 4101.0\n",
      "117247 rows after addition of PUMA 4104.0\n",
      "121428 rows after addition of PUMA 4112.0\n",
      "123557 rows after addition of PUMA 4114.0\n",
      "126323 rows after addition of PUMA 4106.0\n",
      "130710 rows after addition of PUMA 4103.0\n",
      "132517 rows after addition of PUMA 4107.0\n",
      "134919 rows after addition of PUMA 4109.0\n",
      "137303 rows after addition of PUMA 4108.0\n",
      "141087 rows after addition of PUMA 4110.0\n",
      "144013 rows after addition of PUMA 4111.0\n",
      "146085 rows after addition of PUMA 4113.0\n",
      "148625 rows after addition of PUMA 3901.0\n",
      "151118 rows after addition of PUMA 3902.0\n",
      "154535 rows after addition of PUMA 3903.0\n"
     ]
    }
   ],
   "source": [
    "nyc_pums = pd.DataFrame()\n",
    "for puma in puma_list:\n",
    "    nyc_pums = nyc_pums.append(pums_data.query('PUMA == @puma'))\n",
    "    print nyc_pums.shape[0],'rows after addition of PUMA',str(puma)"
   ]
  },
  {
   "cell_type": "code",
   "execution_count": 6,
   "metadata": {
    "collapsed": true
   },
   "outputs": [],
   "source": [
    "AMI_60_max = {1:36300,2:41460,3:46620,4:51780,5:56940,6:62100,7:67260,8:72420}\n",
    "# 80 pct figures for 2015 from http://www1.nyc.gov/assets/hpd/downloads/pdf/NSP-tenant-lease-guidelines.pdf\n",
    "AMI_80_max = {1:48400,2:55280,3:62160,4:69040,5:74640,6:80160,7:85680,8:91200}\n",
    "nyc_pums['AMI_60'] = 0\n",
    "for n in AMI_60_max.items():\n",
    "    nyc_pums.loc[(nyc_pums['NP']==n[0]) & (nyc_pums['HINCP']<=n[1]),'AMI_60'] = 1\n",
    "nyc_pums.loc[(nyc_pums['NP']>n[0]) & (nyc_pums['HINCP']<=n[1]),'AMI_60'] = 1\n",
    "nyc_pums['AMI_80'] = 0\n",
    "for n in AMI_80_max.items():\n",
    "    nyc_pums.loc[(nyc_pums['NP']==n[0]) & (nyc_pums['HINCP']<=n[1]),'AMI_80'] = 1\n",
    "nyc_pums.loc[(nyc_pums['NP']>n[0]) & (nyc_pums['HINCP']<=n[1]),'AMI_80'] = 1"
   ]
  },
  {
   "cell_type": "code",
   "execution_count": 7,
   "metadata": {
    "collapsed": false
   },
   "outputs": [],
   "source": [
    "age_grouping = {1:'PreWar',2:'PostWar',3:'PostWar',4:'PostWar',5:'PostWar',6:'PostWar',7:'PostWar',8:'Modern'}\n",
    "nyc_pums['AgeGroup'] = ''\n",
    "for n in age_grouping.items():\n",
    "    nyc_pums.loc[nyc_pums['YBL']==n[0],'AgeGroup'] = n[1]\n",
    "nyc_pums.loc[nyc_pums['YBL']>n[0],'AgeGroup'] = n[1]"
   ]
  },
  {
   "cell_type": "code",
   "execution_count": 8,
   "metadata": {
    "collapsed": false
   },
   "outputs": [],
   "source": [
    "# size_grouping = {1:'Small',2:'Small',3:'Small',4:'Small',5:'Medium',6:'Medium',7:'Medium',8:'Large',9:'Large'}\n",
    "size_grouping = {1:'Small',2:'Small',3:'Small',4:'Small',5:'Small',6:'Large',7:'Large',8:'Large',9:'Large'}\n",
    "nyc_pums['SizeGroup'] = ''\n",
    "for n in size_grouping.items():\n",
    "    nyc_pums.loc[nyc_pums['BLD']==n[0],'SizeGroup'] = n[1]\n",
    "nyc_pums.loc[nyc_pums['BLD']>n[0],'SizeGroup'] = n[1]"
   ]
  },
  {
   "cell_type": "code",
   "execution_count": 9,
   "metadata": {
    "collapsed": true
   },
   "outputs": [],
   "source": [
    "nyc_pums['ResidencyGroup'] = ''\n",
    "nyc_pums.loc[nyc_pums['MV']<=4,'ResidencyGroup'] = 'Under10'\n",
    "nyc_pums.loc[nyc_pums['MV']==5,'ResidencyGroup'] = '10Years'\n",
    "nyc_pums.loc[nyc_pums['MV']==6,'ResidencyGroup'] = '20Years'\n",
    "nyc_pums.loc[nyc_pums['MV']==7,'ResidencyGroup'] = '30Years'"
   ]
  },
  {
   "cell_type": "code",
   "execution_count": 10,
   "metadata": {
    "collapsed": false
   },
   "outputs": [
    {
     "name": "stdout",
     "output_type": "stream",
     "text": [
      "Median HH income in all NYC PUMAs: 52000.0\n",
      "Median HH income in all NYC PUMAs, 2-person HH: 59600.0\n"
     ]
    }
   ],
   "source": [
    "print 'Median HH income in all NYC PUMAs:', nyc_pums['HINCP'].median()\n",
    "print 'Median HH income in all NYC PUMAs, 2-person HH:', nyc_pums.query('NP == 2')['HINCP'].median()"
   ]
  },
  {
   "cell_type": "code",
   "execution_count": 11,
   "metadata": {
    "collapsed": false
   },
   "outputs": [
    {
     "name": "stdout",
     "output_type": "stream",
     "text": [
      "Example median HH income in PUMA of 945 Aldus St, Bronx: 22000.0\n",
      "Example median HH income in PUMA of 109-20 Queens Blvd, Queens: 72150.0\n",
      "Example median HH income in PUMA of 16 S Portland Ave, Brooklyn: 100000.0\n"
     ]
    }
   ],
   "source": [
    "print 'Example median HH income in PUMA of 945 Aldus St, Bronx:', nyc_pums.query('NP == 2 & PUMA == 3710')['HINCP'].median()\n",
    "print('Example median HH income in PUMA of 109-20 Queens Blvd, Queens:'), nyc_pums.query('NP == 2 & PUMA == 4108')['HINCP'].median()\n",
    "print('Example median HH income in PUMA of 16 S Portland Ave, Brooklyn:'), nyc_pums.query('NP == 2 & PUMA == 4004')['HINCP'].median()"
   ]
  },
  {
   "cell_type": "code",
   "execution_count": 12,
   "metadata": {
    "collapsed": false
   },
   "outputs": [],
   "source": [
    "# excluding group quarters and vacant household records\n",
    "nyc_pums = nyc_pums.query('TYPE == 1 & BLD > 1 & BLD < 10')\n",
    "nyc_pums = nyc_pums[nyc_pums['VACS'].isnull()]"
   ]
  },
  {
   "cell_type": "code",
   "execution_count": 13,
   "metadata": {
    "collapsed": false
   },
   "outputs": [
    {
     "name": "stdout",
     "output_type": "stream",
     "text": [
      "Percentage of households who own that are considered Low Income: 0.364142139268\n"
     ]
    },
    {
     "data": {
      "text/html": [
       "<div>\n",
       "<table border=\"1\" class=\"dataframe\">\n",
       "  <thead>\n",
       "    <tr style=\"text-align: right;\">\n",
       "      <th>AgeGroup</th>\n",
       "      <th>Modern</th>\n",
       "      <th>PostWar</th>\n",
       "      <th>PreWar</th>\n",
       "    </tr>\n",
       "    <tr>\n",
       "      <th>SizeGroup</th>\n",
       "      <th></th>\n",
       "      <th></th>\n",
       "      <th></th>\n",
       "    </tr>\n",
       "  </thead>\n",
       "  <tbody>\n",
       "    <tr>\n",
       "      <th>Large</th>\n",
       "      <td>0.217252</td>\n",
       "      <td>0.360374</td>\n",
       "      <td>0.240803</td>\n",
       "    </tr>\n",
       "    <tr>\n",
       "      <th>Small</th>\n",
       "      <td>0.323671</td>\n",
       "      <td>0.382688</td>\n",
       "      <td>0.389072</td>\n",
       "    </tr>\n",
       "  </tbody>\n",
       "</table>\n",
       "</div>"
      ],
      "text/plain": [
       "AgeGroup     Modern   PostWar    PreWar\n",
       "SizeGroup                              \n",
       "Large      0.217252  0.360374  0.240803\n",
       "Small      0.323671  0.382688  0.389072"
      ]
     },
     "execution_count": 13,
     "metadata": {},
     "output_type": "execute_result"
    }
   ],
   "source": [
    "print 'Percentage of households who own that are considered Low Income:', nyc_pums.query('TEN < 3')['AMI_80'].mean()\n",
    "nyc_pums.query('TEN < 3').pivot_table(index='SizeGroup',columns='AgeGroup',values='AMI_80',aggfunc='mean')"
   ]
  },
  {
   "cell_type": "code",
   "execution_count": 14,
   "metadata": {
    "collapsed": false
   },
   "outputs": [
    {
     "name": "stdout",
     "output_type": "stream",
     "text": [
      "Percentage of households who rent that are considered Low Income: 0.36415481864\n"
     ]
    },
    {
     "data": {
      "text/html": [
       "<div>\n",
       "<table border=\"1\" class=\"dataframe\">\n",
       "  <thead>\n",
       "    <tr style=\"text-align: right;\">\n",
       "      <th>AgeGroup</th>\n",
       "      <th>Modern</th>\n",
       "      <th>PostWar</th>\n",
       "      <th>PreWar</th>\n",
       "    </tr>\n",
       "    <tr>\n",
       "      <th>SizeGroup</th>\n",
       "      <th></th>\n",
       "      <th></th>\n",
       "      <th></th>\n",
       "    </tr>\n",
       "  </thead>\n",
       "  <tbody>\n",
       "    <tr>\n",
       "      <th>Large</th>\n",
       "      <td>0.530627</td>\n",
       "      <td>0.677205</td>\n",
       "      <td>0.651855</td>\n",
       "    </tr>\n",
       "    <tr>\n",
       "      <th>Small</th>\n",
       "      <td>0.661379</td>\n",
       "      <td>0.638255</td>\n",
       "      <td>0.626999</td>\n",
       "    </tr>\n",
       "  </tbody>\n",
       "</table>\n",
       "</div>"
      ],
      "text/plain": [
       "AgeGroup     Modern   PostWar    PreWar\n",
       "SizeGroup                              \n",
       "Large      0.530627  0.677205  0.651855\n",
       "Small      0.661379  0.638255  0.626999"
      ]
     },
     "execution_count": 14,
     "metadata": {},
     "output_type": "execute_result"
    }
   ],
   "source": [
    "print 'Percentage of households who rent that are considered Low Income:', nyc_pums.query('TEN == 3')['AMI_80'].mean()\n",
    "nyc_pums.query('TEN == 3').pivot_table(index='SizeGroup',columns='AgeGroup',values='AMI_80',aggfunc='mean')"
   ]
  },
  {
   "cell_type": "code",
   "execution_count": 15,
   "metadata": {
    "collapsed": false
   },
   "outputs": [
    {
     "name": "stdout",
     "output_type": "stream",
     "text": [
      "Also add length of residency category...\n",
      "Percentage of households who rent that are considered Low Income: 0.650481622307\n"
     ]
    },
    {
     "data": {
      "text/html": [
       "<div>\n",
       "<table border=\"1\" class=\"dataframe\">\n",
       "  <thead>\n",
       "    <tr>\n",
       "      <th>ResidencyGroup</th>\n",
       "      <th colspan=\"3\" halign=\"left\">10Years</th>\n",
       "      <th colspan=\"2\" halign=\"left\">20Years</th>\n",
       "      <th colspan=\"2\" halign=\"left\">30Years</th>\n",
       "      <th colspan=\"3\" halign=\"left\">Under10</th>\n",
       "    </tr>\n",
       "    <tr>\n",
       "      <th>AgeGroup</th>\n",
       "      <th>Modern</th>\n",
       "      <th>PostWar</th>\n",
       "      <th>PreWar</th>\n",
       "      <th>PostWar</th>\n",
       "      <th>PreWar</th>\n",
       "      <th>PostWar</th>\n",
       "      <th>PreWar</th>\n",
       "      <th>Modern</th>\n",
       "      <th>PostWar</th>\n",
       "      <th>PreWar</th>\n",
       "    </tr>\n",
       "    <tr>\n",
       "      <th>SizeGroup</th>\n",
       "      <th></th>\n",
       "      <th></th>\n",
       "      <th></th>\n",
       "      <th></th>\n",
       "      <th></th>\n",
       "      <th></th>\n",
       "      <th></th>\n",
       "      <th></th>\n",
       "      <th></th>\n",
       "      <th></th>\n",
       "    </tr>\n",
       "  </thead>\n",
       "  <tbody>\n",
       "    <tr>\n",
       "      <th>Large</th>\n",
       "      <td>0.802469</td>\n",
       "      <td>0.749725</td>\n",
       "      <td>0.725532</td>\n",
       "      <td>0.748691</td>\n",
       "      <td>0.742024</td>\n",
       "      <td>0.761013</td>\n",
       "      <td>0.732872</td>\n",
       "      <td>0.519484</td>\n",
       "      <td>0.610500</td>\n",
       "      <td>0.590330</td>\n",
       "    </tr>\n",
       "    <tr>\n",
       "      <th>Small</th>\n",
       "      <td>0.756098</td>\n",
       "      <td>0.644608</td>\n",
       "      <td>0.671696</td>\n",
       "      <td>0.669887</td>\n",
       "      <td>0.666667</td>\n",
       "      <td>0.687140</td>\n",
       "      <td>0.707792</td>\n",
       "      <td>0.656390</td>\n",
       "      <td>0.631222</td>\n",
       "      <td>0.604679</td>\n",
       "    </tr>\n",
       "  </tbody>\n",
       "</table>\n",
       "</div>"
      ],
      "text/plain": [
       "ResidencyGroup   10Years                       20Years             30Years  \\\n",
       "AgeGroup          Modern   PostWar    PreWar   PostWar    PreWar   PostWar   \n",
       "SizeGroup                                                                    \n",
       "Large           0.802469  0.749725  0.725532  0.748691  0.742024  0.761013   \n",
       "Small           0.756098  0.644608  0.671696  0.669887  0.666667  0.687140   \n",
       "\n",
       "ResidencyGroup             Under10                      \n",
       "AgeGroup          PreWar    Modern   PostWar    PreWar  \n",
       "SizeGroup                                               \n",
       "Large           0.732872  0.519484  0.610500  0.590330  \n",
       "Small           0.707792  0.656390  0.631222  0.604679  "
      ]
     },
     "execution_count": 15,
     "metadata": {},
     "output_type": "execute_result"
    }
   ],
   "source": [
    "print 'Also add length of residency category...'\n",
    "print 'Percentage of households who rent that are considered Low Income:', nyc_pums.query('TEN == 3')['AMI_80'].mean()\n",
    "nyc_pums.query('TEN == 3').pivot_table(index='SizeGroup',columns=['ResidencyGroup','AgeGroup'],values='AMI_80',aggfunc='mean')"
   ]
  },
  {
   "cell_type": "code",
   "execution_count": 16,
   "metadata": {
    "collapsed": false
   },
   "outputs": [
    {
     "data": {
      "text/html": [
       "<div>\n",
       "<table border=\"1\" class=\"dataframe\">\n",
       "  <thead>\n",
       "    <tr style=\"text-align: right;\">\n",
       "      <th></th>\n",
       "      <th>insp</th>\n",
       "      <th>RT</th>\n",
       "      <th>SERIALNO</th>\n",
       "      <th>DIVISION</th>\n",
       "      <th>PUMA00</th>\n",
       "      <th>PUMA10</th>\n",
       "      <th>REGION</th>\n",
       "      <th>ST</th>\n",
       "      <th>ADJHSG</th>\n",
       "      <th>ADJINC</th>\n",
       "      <th>...</th>\n",
       "      <th>WGTP77</th>\n",
       "      <th>WGTP78</th>\n",
       "      <th>WGTP79</th>\n",
       "      <th>WGTP80</th>\n",
       "      <th>PUMA</th>\n",
       "      <th>AMI_60</th>\n",
       "      <th>AMI_80</th>\n",
       "      <th>AgeGroup</th>\n",
       "      <th>SizeGroup</th>\n",
       "      <th>ResidencyGroup</th>\n",
       "    </tr>\n",
       "  </thead>\n",
       "  <tbody>\n",
       "  </tbody>\n",
       "</table>\n",
       "<p>0 rows × 211 columns</p>\n",
       "</div>"
      ],
      "text/plain": [
       "Empty DataFrame\n",
       "Columns: [insp, RT, SERIALNO, DIVISION, PUMA00, PUMA10, REGION, ST, ADJHSG, ADJINC, WGTP, NP, TYPE, ACR, AGS, BATH, BDSP, BLD, BUS, CONP, ELEP, FS, FULP, GASP, HFL, MHP, MRGI, MRGP, MRGT, MRGX, REFR, RMSP, RNTM, RNTP, RWAT, RWATPR, SINK, SMP, STOV, TEL, TEN, TOIL, VACS, VALP, VEH, WATP, YBL, FES, FINCP, FPARC, GRNTP, GRPIP, HHL, HHT, HINCP, HUGCL, HUPAC, HUPAOC, HUPARC, KIT, LNGI, MULTG, MV, NOC, NPF, NPP, NR, NRC, OCPIP, PARTNER, PLM, PSF, R18, R60, R65, RESMODE, SMOCP, SMX, SRNT, SVAL, TAXP, WIF, WKEXREL, WORKSTAT, FACRP, FAGSP, FBATHP, FBDSP, FBLDP, FBUSP, FCONP, FELEP, FFSP, FFULP, FGASP, FHFLP, FINSP, FKITP, FMHP, FMRGIP, ...]\n",
       "Index: []\n",
       "\n",
       "[0 rows x 211 columns]"
      ]
     },
     "execution_count": 16,
     "metadata": {},
     "output_type": "execute_result"
    }
   ],
   "source": [
    "# can we identify renters who live in condo buildings?\n",
    "nyc_pums.query('TEN == 3 and FCONP == 1')\n",
    "# it appears not"
   ]
  },
  {
   "cell_type": "code",
   "execution_count": 17,
   "metadata": {
    "collapsed": true
   },
   "outputs": [],
   "source": [
    "# dependents to test: HINCP, RNTP, GRNTP, NPF, TAXP\n",
    "# independents to test: YBL (ord), TEN (c), BDSP, BLD, VACS - perhaps as a filter?\n",
    "# also of interest: MV"
   ]
  },
  {
   "cell_type": "code",
   "execution_count": 18,
   "metadata": {
    "collapsed": false
   },
   "outputs": [],
   "source": [
    "# predict rent paid for renters\n",
    "# mod = smf.ols(formula='RNTP ~ BLD + BDSP + C(PUMA) + C(YBL)', data = nyc_pums[nyc_pums['TEN']==3]).fit()\n",
    "# print(mod.summary())"
   ]
  },
  {
   "cell_type": "code",
   "execution_count": 19,
   "metadata": {
    "collapsed": false
   },
   "outputs": [],
   "source": [
    "# predict income for renters\n",
    "# mod = smf.ols(formula='HINCP ~ BLD + BDSP + C(PUMA) + C(YBL)', data = nyc_pums[nyc_pums['TEN']==3]).fit()\n",
    "# print(mod.summary())"
   ]
  },
  {
   "cell_type": "code",
   "execution_count": 20,
   "metadata": {
    "collapsed": false
   },
   "outputs": [],
   "source": [
    "# predict income for owners\n",
    "# mod = smf.ols(formula='HINCP ~ BLD + BDSP + C(PUMA) + C(YBL)', data = nyc_pums[nyc_pums['TEN']<3]).fit()\n",
    "# print(mod.summary())"
   ]
  },
  {
   "cell_type": "code",
   "execution_count": 21,
   "metadata": {
    "collapsed": false
   },
   "outputs": [],
   "source": [
    "# predict income for owners with property tax as independent, but without bedrooms or size of building (covairance)\n",
    "# mod = smf.ols(formula='HINCP ~ TAXP + C(PUMA) + C(YBL)', data = nyc_pums[nyc_pums['TEN']<3]).fit()\n",
    "# print(mod.summary())"
   ]
  },
  {
   "cell_type": "code",
   "execution_count": 22,
   "metadata": {
    "collapsed": false
   },
   "outputs": [],
   "source": [
    "# predict rent paid for renters with grouped building ages\n",
    "# mod = smf.ols(formula='RNTP ~ BLD + BDSP + C(PUMA) + C(AgeGroup)', data = nyc_pums[nyc_pums['TEN']==3]).fit()\n",
    "# print(mod.summary())"
   ]
  },
  {
   "cell_type": "code",
   "execution_count": 23,
   "metadata": {
    "collapsed": false
   },
   "outputs": [
    {
     "name": "stdout",
     "output_type": "stream",
     "text": [
      "                            OLS Regression Results                            \n",
      "==============================================================================\n",
      "Dep. Variable:                  HINCP   R-squared:                       0.174\n",
      "Model:                            OLS   Adj. R-squared:                  0.174\n",
      "Method:                 Least Squares   F-statistic:                     272.7\n",
      "Date:                Thu, 10 Mar 2016   Prob (F-statistic):               0.00\n",
      "Time:                        12:38:01   Log-Likelihood:            -9.9449e+05\n",
      "No. Observations:               78900   AIC:                         1.989e+06\n",
      "Df Residuals:                   78838   BIC:                         1.990e+06\n",
      "Df Model:                          61                                         \n",
      "Covariance Type:            nonrobust                                         \n",
      "================================================================================================\n",
      "                                   coef    std err          t      P>|t|      [95.0% Conf. Int.]\n",
      "------------------------------------------------------------------------------------------------\n",
      "Intercept                     5.788e+04   2499.978     23.151      0.000       5.3e+04  6.28e+04\n",
      "C(SizeGroup)[T.Small]         4625.6906    656.475      7.046      0.000      3339.003  5912.378\n",
      "C(AgeGroup)[T.PostWar]       -1.914e+04   1054.293    -18.159      0.000     -2.12e+04 -1.71e+04\n",
      "C(AgeGroup)[T.PreWar]        -1.992e+04   1073.550    -18.554      0.000      -2.2e+04 -1.78e+04\n",
      "C(PUMA)[T.3702]              -2.285e+04   2992.004     -7.638      0.000     -2.87e+04  -1.7e+04\n",
      "C(PUMA)[T.3703]              -6128.6397   3498.926     -1.752      0.080      -1.3e+04   729.235\n",
      "C(PUMA)[T.3704]              -1.723e+04   2946.455     -5.849      0.000      -2.3e+04 -1.15e+04\n",
      "C(PUMA)[T.3705]              -3.587e+04   2690.153    -13.333      0.000     -4.11e+04 -3.06e+04\n",
      "C(PUMA)[T.3706]              -2.185e+04   2947.505     -7.413      0.000     -2.76e+04 -1.61e+04\n",
      "C(PUMA)[T.3707]               -3.06e+04   2787.421    -10.978      0.000     -3.61e+04 -2.51e+04\n",
      "C(PUMA)[T.3708]               -2.81e+04   2855.882     -9.841      0.000     -3.37e+04 -2.25e+04\n",
      "C(PUMA)[T.3709]              -2.213e+04   2753.348     -8.039      0.000     -2.75e+04 -1.67e+04\n",
      "C(PUMA)[T.3710]              -3.428e+04   2729.192    -12.560      0.000     -3.96e+04 -2.89e+04\n",
      "C(PUMA)[T.3801]              -4777.3331   2661.921     -1.795      0.073     -9994.682   440.016\n",
      "C(PUMA)[T.3802]               5342.6952   2939.435      1.818      0.069      -418.581  1.11e+04\n",
      "C(PUMA)[T.3803]              -1.169e+04   2809.806     -4.162      0.000     -1.72e+04 -6187.141\n",
      "C(PUMA)[T.3804]              -7889.6507   2853.140     -2.765      0.006     -1.35e+04 -2297.512\n",
      "C(PUMA)[T.3805]               7.881e+04   2732.323     28.843      0.000      7.35e+04  8.42e+04\n",
      "C(PUMA)[T.3806]               7.328e+04   2811.227     26.066      0.000      6.78e+04  7.88e+04\n",
      "C(PUMA)[T.3807]               6.733e+04   2695.010     24.982      0.000       6.2e+04  7.26e+04\n",
      "C(PUMA)[T.3808]               7.155e+04   2876.295     24.874      0.000      6.59e+04  7.72e+04\n",
      "C(PUMA)[T.3809]               9441.1113   2697.795      3.500      0.000      4153.449  1.47e+04\n",
      "C(PUMA)[T.3810]               9.576e+04   2758.141     34.720      0.000      9.04e+04  1.01e+05\n",
      "C(PUMA)[T.3901]              -5042.2362   4458.630     -1.131      0.258     -1.38e+04  3696.653\n",
      "C(PUMA)[T.3902]              -1.386e+04   3918.738     -3.536      0.000     -2.15e+04 -6176.615\n",
      "C(PUMA)[T.3903]              -2.028e+04   3140.335     -6.457      0.000     -2.64e+04 -1.41e+04\n",
      "C(PUMA)[T.4001]               6257.9976   2667.962      2.346      0.019      1028.809  1.15e+04\n",
      "C(PUMA)[T.4002]              -1.709e+04   2845.443     -6.007      0.000     -2.27e+04 -1.15e+04\n",
      "C(PUMA)[T.4003]              -2.492e+04   2826.057     -8.817      0.000     -3.05e+04 -1.94e+04\n",
      "C(PUMA)[T.4004]               2.957e+04   2765.152     10.692      0.000      2.41e+04   3.5e+04\n",
      "C(PUMA)[T.4005]               3.927e+04   2920.980     13.443      0.000      3.35e+04   4.5e+04\n",
      "C(PUMA)[T.4006]              -9377.9538   2802.084     -3.347      0.001     -1.49e+04 -3885.886\n",
      "C(PUMA)[T.4007]              -3.072e+04   2909.439    -10.558      0.000     -3.64e+04  -2.5e+04\n",
      "C(PUMA)[T.4008]              -2.855e+04   2840.430    -10.052      0.000     -3.41e+04  -2.3e+04\n",
      "C(PUMA)[T.4009]              -1.327e+04   2956.200     -4.491      0.000     -1.91e+04 -7480.828\n",
      "C(PUMA)[T.4010]              -1.766e+04   2971.218     -5.943      0.000     -2.35e+04 -1.18e+04\n",
      "C(PUMA)[T.4011]              -1.334e+04   2948.176     -4.524      0.000     -1.91e+04 -7559.355\n",
      "C(PUMA)[T.4012]              -1.511e+04   2883.467     -5.241      0.000     -2.08e+04 -9459.639\n",
      "C(PUMA)[T.4013]                707.2450   2850.482      0.248      0.804     -4879.683  6294.173\n",
      "C(PUMA)[T.4014]              -2.285e+04   2858.135     -7.993      0.000     -2.84e+04 -1.72e+04\n",
      "C(PUMA)[T.4015]              -1.127e+04   2746.945     -4.103      0.000     -1.67e+04 -5885.429\n",
      "C(PUMA)[T.4016]              -1.116e+04   2904.917     -3.840      0.000     -1.68e+04 -5461.696\n",
      "C(PUMA)[T.4017]              -1.436e+04   2747.955     -5.224      0.000     -1.97e+04 -8970.526\n",
      "C(PUMA)[T.4018]              -1.998e+04   2995.523     -6.669      0.000     -2.58e+04 -1.41e+04\n",
      "C(PUMA)[T.4101]               2209.9718   2558.640      0.864      0.388     -2804.948  7224.891\n",
      "C(PUMA)[T.4102]               -1.74e+04   2998.560     -5.802      0.000     -2.33e+04 -1.15e+04\n",
      "C(PUMA)[T.4103]                -1.2e+04   2824.518     -4.250      0.000     -1.75e+04 -6467.081\n",
      "C(PUMA)[T.4104]               6974.8428   3771.152      1.850      0.064      -416.593  1.44e+04\n",
      "C(PUMA)[T.4105]              -8952.7066   3566.573     -2.510      0.012     -1.59e+04 -1962.245\n",
      "C(PUMA)[T.4106]              -8467.6684   3163.912     -2.676      0.007     -1.47e+04 -2266.419\n",
      "C(PUMA)[T.4107]              -1.364e+04   3088.250     -4.417      0.000     -1.97e+04 -7587.254\n",
      "C(PUMA)[T.4108]                1.19e+04   3099.778      3.838      0.000      5821.527   1.8e+04\n",
      "C(PUMA)[T.4109]               2171.0207   2884.187      0.753      0.452     -3481.968  7824.009\n",
      "C(PUMA)[T.4110]              -7270.4482   2815.742     -2.582      0.010     -1.28e+04 -1751.610\n",
      "C(PUMA)[T.4111]              -1.139e+04   3005.300     -3.791      0.000     -1.73e+04 -5503.268\n",
      "C(PUMA)[T.4112]              -2.379e+04   2869.410     -8.290      0.000     -2.94e+04 -1.82e+04\n",
      "C(PUMA)[T.4113]              -1.896e+04   3762.870     -5.040      0.000     -2.63e+04 -1.16e+04\n",
      "C(PUMA)[T.4114]              -2.077e+04   3357.908     -6.187      0.000     -2.74e+04 -1.42e+04\n",
      "C(ResidencyGroup)[T.20Years] -2484.5182   1070.019     -2.322      0.020     -4581.750  -387.286\n",
      "C(ResidencyGroup)[T.30Years] -9836.3212    985.597     -9.980      0.000     -1.18e+04 -7904.557\n",
      "C(ResidencyGroup)[T.Under10]  9273.1574    695.165     13.340      0.000      7910.638  1.06e+04\n",
      "NP                            6760.8847    175.281     38.572      0.000      6417.336  7104.434\n",
      "==============================================================================\n",
      "Omnibus:                    70695.519   Durbin-Watson:                   2.005\n",
      "Prob(Omnibus):                  0.000   Jarque-Bera (JB):          3623915.710\n",
      "Skew:                           4.183   Prob(JB):                         0.00\n",
      "Kurtosis:                      35.130   Cond. No.                         196.\n",
      "==============================================================================\n",
      "\n",
      "Warnings:\n",
      "[1] Standard Errors assume that the covariance matrix of the errors is correctly specified.\n"
     ]
    }
   ],
   "source": [
    "# predict income for renters with grouped building ages/sizes and length of residence\n",
    "mod = smf.ols(formula='HINCP ~ NP + C(SizeGroup) + C(AgeGroup) + C(PUMA) + C(ResidencyGroup)', data = nyc_pums[nyc_pums['TEN']==3]).fit()\n",
    "print(mod.summary())"
   ]
  },
  {
   "cell_type": "code",
   "execution_count": 55,
   "metadata": {
    "collapsed": false
   },
   "outputs": [
    {
     "name": "stdout",
     "output_type": "stream",
     "text": [
      "Optimization terminated successfully.\n",
      "         Current function value: 0.586582\n",
      "         Iterations 6\n",
      "                           Logit Regression Results                           \n",
      "==============================================================================\n",
      "Dep. Variable:                 AMI_80   No. Observations:                78900\n",
      "Model:                          Logit   Df Residuals:                    78842\n",
      "Method:                           MLE   Df Model:                           57\n",
      "Date:                Thu, 10 Mar 2016   Pseudo R-squ.:                 0.09359\n",
      "Time:                        14:06:48   Log-Likelihood:                -46281.\n",
      "converged:                       True   LL-Null:                       -51060.\n",
      "                                        LLR p-value:                     0.000\n",
      "==========================================================================================\n",
      "                             coef    std err          z      P>|z|      [95.0% Conf. Int.]\n",
      "------------------------------------------------------------------------------------------\n",
      "Intercept                  0.1508      0.069      2.195      0.028         0.016     0.285\n",
      "C(SizeGroup)[T.Small]     -0.3202      0.020    -16.254      0.000        -0.359    -0.282\n",
      "C(AgeGroup)[T.PostWar]     0.3817      0.031     12.140      0.000         0.320     0.443\n",
      "C(AgeGroup)[T.PreWar]      0.3370      0.032     10.511      0.000         0.274     0.400\n",
      "C(PUMA)[T.3702]            0.7848      0.091      8.627      0.000         0.607     0.963\n",
      "C(PUMA)[T.3703]            0.1545      0.100      1.538      0.124        -0.042     0.351\n",
      "C(PUMA)[T.3704]            0.5101      0.087      5.858      0.000         0.339     0.681\n",
      "C(PUMA)[T.3705]            1.6022      0.092     17.363      0.000         1.421     1.783\n",
      "C(PUMA)[T.3706]            0.8883      0.092      9.613      0.000         0.707     1.069\n",
      "C(PUMA)[T.3707]            1.4394      0.095     15.121      0.000         1.253     1.626\n",
      "C(PUMA)[T.3708]            1.2273      0.094     13.034      0.000         1.043     1.412\n",
      "C(PUMA)[T.3709]            0.8997      0.085     10.635      0.000         0.734     1.065\n",
      "C(PUMA)[T.3710]            1.9138      0.102     18.746      0.000         1.714     2.114\n",
      "C(PUMA)[T.3801]            0.2522      0.077      3.273      0.001         0.101     0.403\n",
      "C(PUMA)[T.3802]            0.1307      0.085      1.544      0.123        -0.035     0.297\n",
      "C(PUMA)[T.3803]            0.4839      0.083      5.834      0.000         0.321     0.647\n",
      "C(PUMA)[T.3804]            0.4886      0.085      5.781      0.000         0.323     0.654\n",
      "C(PUMA)[T.3805]           -1.4240      0.080    -17.736      0.000        -1.581    -1.267\n",
      "C(PUMA)[T.3806]           -1.0311      0.081    -12.799      0.000        -1.189    -0.873\n",
      "C(PUMA)[T.3807]           -0.8854      0.077    -11.510      0.000        -1.036    -0.735\n",
      "C(PUMA)[T.3808]           -1.4185      0.085    -16.722      0.000        -1.585    -1.252\n",
      "C(PUMA)[T.3809]            0.0621      0.077      0.803      0.422        -0.089     0.214\n",
      "C(PUMA)[T.3810]           -1.3881      0.081    -17.107      0.000        -1.547    -1.229\n",
      "C(PUMA)[T.3901]            0.0796      0.126      0.631      0.528        -0.168     0.327\n",
      "C(PUMA)[T.3902]            0.3842      0.114      3.356      0.001         0.160     0.609\n",
      "C(PUMA)[T.3903]            0.6209      0.094      6.632      0.000         0.437     0.804\n",
      "C(PUMA)[T.4001]           -0.2156      0.076     -2.850      0.004        -0.364    -0.067\n",
      "C(PUMA)[T.4002]            0.5675      0.084      6.749      0.000         0.403     0.732\n",
      "C(PUMA)[T.4003]            0.9105      0.087     10.509      0.000         0.741     1.080\n",
      "C(PUMA)[T.4004]           -0.5503      0.078     -7.028      0.000        -0.704    -0.397\n",
      "C(PUMA)[T.4005]           -1.0337      0.085    -12.210      0.000        -1.200    -0.868\n",
      "C(PUMA)[T.4006]            0.3397      0.081      4.174      0.000         0.180     0.499\n",
      "C(PUMA)[T.4007]            1.4538      0.099     14.642      0.000         1.259     1.648\n",
      "C(PUMA)[T.4008]            1.2392      0.091     13.570      0.000         1.060     1.418\n",
      "C(PUMA)[T.4009]            0.4308      0.086      5.009      0.000         0.262     0.599\n",
      "C(PUMA)[T.4010]            0.6545      0.089      7.359      0.000         0.480     0.829\n",
      "C(PUMA)[T.4011]            0.6172      0.089      6.962      0.000         0.443     0.791\n",
      "C(PUMA)[T.4012]            0.4818      0.084      5.707      0.000         0.316     0.647\n",
      "C(PUMA)[T.4013]           -0.0345      0.081     -0.426      0.670        -0.193     0.124\n",
      "C(PUMA)[T.4014]            0.8392      0.087      9.675      0.000         0.669     1.009\n",
      "C(PUMA)[T.4015]            0.3486      0.080      4.354      0.000         0.192     0.505\n",
      "C(PUMA)[T.4016]            0.4325      0.085      5.077      0.000         0.266     0.599\n",
      "C(PUMA)[T.4017]            0.6021      0.081      7.426      0.000         0.443     0.761\n",
      "C(PUMA)[T.4018]            1.0506      0.097     10.871      0.000         0.861     1.240\n",
      "C(PUMA)[T.4101]           -0.2105      0.073     -2.898      0.004        -0.353    -0.068\n",
      "C(PUMA)[T.4102]            0.6339      0.089      7.095      0.000         0.459     0.809\n",
      "C(PUMA)[T.4103]            0.4128      0.082      5.017      0.000         0.252     0.574\n",
      "C(PUMA)[T.4104]           -0.2880      0.106     -2.718      0.007        -0.496    -0.080\n",
      "C(PUMA)[T.4105]            0.1828      0.102      1.798      0.072        -0.016     0.382\n",
      "C(PUMA)[T.4106]            0.1622      0.091      1.782      0.075        -0.016     0.341\n",
      "C(PUMA)[T.4107]            0.4985      0.091      5.460      0.000         0.320     0.677\n",
      "C(PUMA)[T.4108]           -0.3369      0.087     -3.854      0.000        -0.508    -0.166\n",
      "C(PUMA)[T.4109]           -0.1201      0.082     -1.469      0.142        -0.280     0.040\n",
      "C(PUMA)[T.4110]            0.0865      0.080      1.078      0.281        -0.071     0.244\n",
      "C(PUMA)[T.4111]            0.2565      0.086      2.970      0.003         0.087     0.426\n",
      "C(PUMA)[T.4112]            0.8658      0.087      9.928      0.000         0.695     1.037\n",
      "C(PUMA)[T.4113]            0.7127      0.113      6.296      0.000         0.491     0.935\n",
      "C(PUMA)[T.4114]            0.8005      0.105      7.660      0.000         0.596     1.005\n",
      "==========================================================================================\n"
     ]
    }
   ],
   "source": [
    "# logit_mod = smf.logit(formula='AMI_80 ~ C(SizeGroup) + C(AgeGroup) + C(PUMA) + C(ResidencyGroup)', data = nyc_pums[nyc_pums['TEN']==3]).fit()\n",
    "logit_mod = smf.logit(formula='AMI_80 ~ C(SizeGroup) + C(AgeGroup) + C(PUMA)', data = nyc_pums[nyc_pums['TEN']==3]).fit()\n",
    "print(logit_mod.summary())"
   ]
  },
  {
   "cell_type": "code",
   "execution_count": 56,
   "metadata": {
    "collapsed": false,
    "scrolled": true
   },
   "outputs": [
    {
     "name": "stdout",
     "output_type": "stream",
     "text": [
      "        Logit Marginal Effects       \n",
      "=====================================\n",
      "Dep. Variable:                 AMI_80\n",
      "Method:                          dydx\n",
      "At:                           overall\n",
      "==========================================================================================\n",
      "                            dy/dx    std err          z      P>|z|      [95.0% Conf. Int.]\n",
      "------------------------------------------------------------------------------------------\n",
      "C(SizeGroup)[T.Small]     -0.0641      0.004    -16.347      0.000        -0.072    -0.056\n",
      "C(AgeGroup)[T.PostWar]     0.0765      0.006     12.179      0.000         0.064     0.089\n",
      "C(AgeGroup)[T.PreWar]      0.0675      0.006     10.537      0.000         0.055     0.080\n",
      "C(PUMA)[T.3702]            0.1572      0.018      8.641      0.000         0.122     0.193\n",
      "C(PUMA)[T.3703]            0.0309      0.020      1.538      0.124        -0.008     0.070\n",
      "C(PUMA)[T.3704]            0.1022      0.017      5.862      0.000         0.068     0.136\n",
      "C(PUMA)[T.3705]            0.3210      0.018     17.452      0.000         0.285     0.357\n",
      "C(PUMA)[T.3706]            0.1780      0.018      9.631      0.000         0.142     0.214\n",
      "C(PUMA)[T.3707]            0.2883      0.019     15.182      0.000         0.251     0.326\n",
      "C(PUMA)[T.3708]            0.2459      0.019     13.075      0.000         0.209     0.283\n",
      "C(PUMA)[T.3709]            0.1802      0.017     10.660      0.000         0.147     0.213\n",
      "C(PUMA)[T.3710]            0.3834      0.020     18.846      0.000         0.344     0.423\n",
      "C(PUMA)[T.3801]            0.0505      0.015      3.274      0.001         0.020     0.081\n",
      "C(PUMA)[T.3802]            0.0262      0.017      1.544      0.123        -0.007     0.059\n",
      "C(PUMA)[T.3803]            0.0969      0.017      5.838      0.000         0.064     0.129\n",
      "C(PUMA)[T.3804]            0.0979      0.017      5.786      0.000         0.065     0.131\n",
      "C(PUMA)[T.3805]           -0.2853      0.016    -17.876      0.000        -0.317    -0.254\n",
      "C(PUMA)[T.3806]           -0.2065      0.016    -12.853      0.000        -0.238    -0.175\n",
      "C(PUMA)[T.3807]           -0.1774      0.015    -11.549      0.000        -0.207    -0.147\n",
      "C(PUMA)[T.3808]           -0.2842      0.017    -16.840      0.000        -0.317    -0.251\n",
      "C(PUMA)[T.3809]            0.0124      0.015      0.803      0.422        -0.018     0.043\n",
      "C(PUMA)[T.3810]           -0.2781      0.016    -17.232      0.000        -0.310    -0.246\n",
      "C(PUMA)[T.3901]            0.0160      0.025      0.631      0.528        -0.034     0.065\n",
      "C(PUMA)[T.3902]            0.0770      0.023      3.357      0.001         0.032     0.122\n",
      "C(PUMA)[T.3903]            0.1244      0.019      6.638      0.000         0.088     0.161\n",
      "C(PUMA)[T.4001]           -0.0432      0.015     -2.851      0.004        -0.073    -0.013\n",
      "C(PUMA)[T.4002]            0.1137      0.017      6.756      0.000         0.081     0.147\n",
      "C(PUMA)[T.4003]            0.1824      0.017     10.533      0.000         0.148     0.216\n",
      "C(PUMA)[T.4004]           -0.1102      0.016     -7.037      0.000        -0.141    -0.080\n",
      "C(PUMA)[T.4005]           -0.2071      0.017    -12.257      0.000        -0.240    -0.174\n",
      "C(PUMA)[T.4006]            0.0681      0.016      4.176      0.000         0.036     0.100\n",
      "C(PUMA)[T.4007]            0.2912      0.020     14.699      0.000         0.252     0.330\n",
      "C(PUMA)[T.4008]            0.2482      0.018     13.620      0.000         0.213     0.284\n",
      "C(PUMA)[T.4009]            0.0863      0.017      5.012      0.000         0.053     0.120\n",
      "C(PUMA)[T.4010]            0.1311      0.018      7.368      0.000         0.096     0.166\n",
      "C(PUMA)[T.4011]            0.1236      0.018      6.970      0.000         0.089     0.158\n",
      "C(PUMA)[T.4012]            0.0965      0.017      5.711      0.000         0.063     0.130\n",
      "C(PUMA)[T.4013]           -0.0069      0.016     -0.426      0.670        -0.039     0.025\n",
      "C(PUMA)[T.4014]            0.1681      0.017      9.694      0.000         0.134     0.202\n",
      "C(PUMA)[T.4015]            0.0698      0.016      4.356      0.000         0.038     0.101\n",
      "C(PUMA)[T.4016]            0.0866      0.017      5.080      0.000         0.053     0.120\n",
      "C(PUMA)[T.4017]            0.1206      0.016      7.435      0.000         0.089     0.152\n",
      "C(PUMA)[T.4018]            0.2105      0.019     10.896      0.000         0.173     0.248\n",
      "C(PUMA)[T.4101]           -0.0422      0.015     -2.899      0.004        -0.071    -0.014\n",
      "C(PUMA)[T.4102]            0.1270      0.018      7.103      0.000         0.092     0.162\n",
      "C(PUMA)[T.4103]            0.0827      0.016      5.020      0.000         0.050     0.115\n",
      "C(PUMA)[T.4104]           -0.0577      0.021     -2.718      0.007        -0.099    -0.016\n",
      "C(PUMA)[T.4105]            0.0366      0.020      1.798      0.072        -0.003     0.077\n",
      "C(PUMA)[T.4106]            0.0325      0.018      1.782      0.075        -0.003     0.068\n",
      "C(PUMA)[T.4107]            0.0999      0.018      5.464      0.000         0.064     0.136\n",
      "C(PUMA)[T.4108]           -0.0675      0.018     -3.855      0.000        -0.102    -0.033\n",
      "C(PUMA)[T.4109]           -0.0241      0.016     -1.469      0.142        -0.056     0.008\n",
      "C(PUMA)[T.4110]            0.0173      0.016      1.078      0.281        -0.014     0.049\n",
      "C(PUMA)[T.4111]            0.0514      0.017      2.971      0.003         0.017     0.085\n",
      "C(PUMA)[T.4112]            0.1734      0.017      9.949      0.000         0.139     0.208\n",
      "C(PUMA)[T.4113]            0.1428      0.023      6.301      0.000         0.098     0.187\n",
      "C(PUMA)[T.4114]            0.1604      0.021      7.670      0.000         0.119     0.201\n",
      "==========================================================================================\n"
     ]
    }
   ],
   "source": [
    "mfx = logit_mod.get_margeff()\n",
    "print mfx.summary()"
   ]
  },
  {
   "cell_type": "code",
   "execution_count": 57,
   "metadata": {
    "collapsed": true
   },
   "outputs": [],
   "source": [
    "def clean_params(params):\n",
    "    new_index = []\n",
    "    for i in params.index:\n",
    "        if i[:2]=='C(':\n",
    "            l = i.find('[T.') + 3\n",
    "            r = i.find(']')\n",
    "            new_index.append(i[l:r])\n",
    "        else:\n",
    "            new_index.append(i)\n",
    "    return new_index"
   ]
  },
  {
   "cell_type": "code",
   "execution_count": 58,
   "metadata": {
    "collapsed": false
   },
   "outputs": [],
   "source": [
    "logit_params = pd.Series(data=logit_mod.params.values,index=clean_params(logit_mod.params))"
   ]
  },
  {
   "cell_type": "code",
   "execution_count": 59,
   "metadata": {
    "collapsed": true
   },
   "outputs": [],
   "source": [
    "logit_params.to_pickle('LOGIT_PARAM')"
   ]
  },
  {
   "cell_type": "code",
   "execution_count": null,
   "metadata": {
    "collapsed": true
   },
   "outputs": [],
   "source": []
  }
 ],
 "metadata": {
  "kernelspec": {
   "display_name": "Python 2",
   "language": "python",
   "name": "python2"
  },
  "language_info": {
   "codemirror_mode": {
    "name": "ipython",
    "version": 2
   },
   "file_extension": ".py",
   "mimetype": "text/x-python",
   "name": "python",
   "nbconvert_exporter": "python",
   "pygments_lexer": "ipython2",
   "version": "2.7.11"
  }
 },
 "nbformat": 4,
 "nbformat_minor": 0
}
