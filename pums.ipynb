{
 "cells": [
  {
   "cell_type": "code",
   "execution_count": 1,
   "metadata": {
    "collapsed": false
   },
   "outputs": [
    {
     "name": "stdout",
     "output_type": "stream",
     "text": [
      "Populating the interactive namespace from numpy and matplotlib\n"
     ]
    },
    {
     "name": "stderr",
     "output_type": "stream",
     "text": [
      "WARNING: pylab import has clobbered these variables: ['plt']\n",
      "`%matplotlib` prevents importing * from pylab and numpy\n"
     ]
    }
   ],
   "source": [
    "from sodapy import Socrata\n",
    "import requests, zipfile, StringIO\n",
    "import urllib2\n",
    "import pandas as pd\n",
    "import numpy as np\n",
    "import pypyodbc\n",
    "import csv\n",
    "import os\n",
    "import tempfile\n",
    "import statsmodels.formula.api as smf\n",
    "import pylab as plt\n",
    "%pylab inline"
   ]
  },
  {
   "cell_type": "code",
   "execution_count": 2,
   "metadata": {
    "collapsed": false
   },
   "outputs": [],
   "source": [
    "puma_ref = pd.read_excel('http://www.nyc.gov/html/dcp/download/census/nyc2010census_tabulation_equiv.xlsx',header=3)\n",
    "# alternatively, use shapefile from https://data.cityofnewyork.us/Housing-Development/Public-Use-Microdata-Areas-PUMA-/cwiz-gcty\n",
    "puma_list = puma_ref['PUMA'].unique()[~np.isnan(puma_ref['PUMA'].unique())]"
   ]
  },
  {
   "cell_type": "code",
   "execution_count": 3,
   "metadata": {
    "collapsed": false
   },
   "outputs": [],
   "source": [
    "pums_data = pd.read_csv('ss14hny.csv')\n",
    "pums_data['PUMA'] = pums_data[['PUMA00','PUMA10']].max(axis=1)"
   ]
  },
  {
   "cell_type": "code",
   "execution_count": 4,
   "metadata": {
    "collapsed": false
   },
   "outputs": [
    {
     "name": "stdout",
     "output_type": "stream",
     "text": [
      "2532 rows after addition of PUMA 3704.0\n",
      "4290 rows after addition of PUMA 3706.0\n",
      "7271 rows after addition of PUMA 3705.0\n",
      "9141 rows after addition of PUMA 3703.0\n",
      "11081 rows after addition of PUMA 3708.0\n",
      "13603 rows after addition of PUMA 3702.0\n",
      "15801 rows after addition of PUMA 3707.0\n",
      "18926 rows after addition of PUMA 3710.0\n",
      "21257 rows after addition of PUMA 3701.0\n",
      "24034 rows after addition of PUMA 3709.0\n",
      "27707 rows after addition of PUMA 4017.0\n",
      "30805 rows after addition of PUMA 4013.0\n",
      "33911 rows after addition of PUMA 4003.0\n",
      "36770 rows after addition of PUMA 4014.0\n",
      "38913 rows after addition of PUMA 4018.0\n",
      "42475 rows after addition of PUMA 4004.0\n",
      "44772 rows after addition of PUMA 4007.0\n",
      "46949 rows after addition of PUMA 4002.0\n",
      "51163 rows after addition of PUMA 4009.0\n",
      "53726 rows after addition of PUMA 4005.0\n",
      "56310 rows after addition of PUMA 4006.0\n",
      "58238 rows after addition of PUMA 4011.0\n",
      "60981 rows after addition of PUMA 4008.0\n",
      "63602 rows after addition of PUMA 4010.0\n",
      "66612 rows after addition of PUMA 4001.0\n",
      "69557 rows after addition of PUMA 4015.0\n",
      "72928 rows after addition of PUMA 4016.0\n",
      "75392 rows after addition of PUMA 4012.0\n",
      "78752 rows after addition of PUMA 3810.0\n",
      "81162 rows after addition of PUMA 3803.0\n",
      "84343 rows after addition of PUMA 3809.0\n",
      "87878 rows after addition of PUMA 3807.0\n",
      "90066 rows after addition of PUMA 3804.0\n",
      "92832 rows after addition of PUMA 3808.0\n",
      "95320 rows after addition of PUMA 3802.0\n",
      "99130 rows after addition of PUMA 3805.0\n",
      "102193 rows after addition of PUMA 3806.0\n",
      "105091 rows after addition of PUMA 3801.0\n",
      "107443 rows after addition of PUMA 4102.0\n",
      "111160 rows after addition of PUMA 4105.0\n",
      "115154 rows after addition of PUMA 4101.0\n",
      "117750 rows after addition of PUMA 4104.0\n",
      "121931 rows after addition of PUMA 4112.0\n",
      "124060 rows after addition of PUMA 4114.0\n",
      "126826 rows after addition of PUMA 4106.0\n",
      "131213 rows after addition of PUMA 4103.0\n",
      "133020 rows after addition of PUMA 4107.0\n",
      "135422 rows after addition of PUMA 4109.0\n",
      "137806 rows after addition of PUMA 4108.0\n",
      "141590 rows after addition of PUMA 4110.0\n",
      "144516 rows after addition of PUMA 4111.0\n",
      "146588 rows after addition of PUMA 4113.0\n",
      "149128 rows after addition of PUMA 3901.0\n",
      "151621 rows after addition of PUMA 3902.0\n",
      "155038 rows after addition of PUMA 3903.0\n"
     ]
    }
   ],
   "source": [
    "nyc_pums = pd.DataFrame()\n",
    "for puma in puma_list:\n",
    "    nyc_pums = nyc_pums.append(pums_data.query('PUMA == @puma'))\n",
    "    print nyc_pums.shape[0],'rows after addition of PUMA',str(puma)"
   ]
  },
  {
   "cell_type": "code",
   "execution_count": 5,
   "metadata": {
    "collapsed": true
   },
   "outputs": [],
   "source": [
    "AMI_60_max = {1:36300,2:41460,3:46620,4:51780,5:56940,6:62100,7:67260,8:72420}\n",
    "# 80 pct figures for 2015 from http://www1.nyc.gov/assets/hpd/downloads/pdf/NSP-tenant-lease-guidelines.pdf\n",
    "AMI_80_max = {1:48400,2:55280,3:62160,4:69040,5:74640,6:80160,7:85680,8:91200}\n",
    "nyc_pums['AMI_60'] = 0\n",
    "for n in AMI_60_max.items():\n",
    "    nyc_pums.loc[(nyc_pums['NP']==n[0]) & (nyc_pums['HINCP']<=n[1]),'AMI_60'] = 1\n",
    "nyc_pums.loc[(nyc_pums['NP']>n[0]) & (nyc_pums['HINCP']<=n[1]),'AMI_60'] = 1\n",
    "nyc_pums['AMI_80'] = 0\n",
    "for n in AMI_80_max.items():\n",
    "    nyc_pums.loc[(nyc_pums['NP']==n[0]) & (nyc_pums['HINCP']<=n[1]),'AMI_80'] = 1\n",
    "nyc_pums.loc[(nyc_pums['NP']>n[0]) & (nyc_pums['HINCP']<=n[1]),'AMI_80'] = 1"
   ]
  },
  {
   "cell_type": "code",
   "execution_count": 6,
   "metadata": {
    "collapsed": false
   },
   "outputs": [],
   "source": [
    "age_grouping = {1:'PreWar',2:'PostWar',3:'PostWar',4:'PostWar',5:'PostWar',6:'PostWar',7:'PostWar',8:'Modern'}\n",
    "nyc_pums['AgeGroup'] = ''\n",
    "for n in age_grouping.items():\n",
    "    nyc_pums.loc[nyc_pums['YBL']==n[0],'AgeGroup'] = n[1]\n",
    "nyc_pums.loc[nyc_pums['YBL']>n[0],'AgeGroup'] = n[1]"
   ]
  },
  {
   "cell_type": "code",
   "execution_count": 7,
   "metadata": {
    "collapsed": false
   },
   "outputs": [],
   "source": [
    "# size_grouping = {1:'Small',2:'Small',3:'Small',4:'Small',5:'Medium',6:'Medium',7:'Medium',8:'Large',9:'Large'}\n",
    "size_grouping = {1:'Small',2:'Small',3:'Small',4:'Small',5:'Small',6:'Large',7:'Large',8:'Large',9:'Large'}\n",
    "nyc_pums['SizeGroup'] = ''\n",
    "for n in size_grouping.items():\n",
    "    nyc_pums.loc[nyc_pums['BLD']==n[0],'SizeGroup'] = n[1]\n",
    "nyc_pums.loc[nyc_pums['BLD']>n[0],'SizeGroup'] = n[1]"
   ]
  },
  {
   "cell_type": "code",
   "execution_count": 8,
   "metadata": {
    "collapsed": true
   },
   "outputs": [],
   "source": [
    "nyc_pums['ResidencyGroup'] = ''\n",
    "nyc_pums.loc[nyc_pums['MV']<=4,'ResidencyGroup'] = 'Under10'\n",
    "nyc_pums.loc[nyc_pums['MV']==5,'ResidencyGroup'] = '10Years'\n",
    "nyc_pums.loc[nyc_pums['MV']==6,'ResidencyGroup'] = '20Years'\n",
    "nyc_pums.loc[nyc_pums['MV']==7,'ResidencyGroup'] = '30Years'"
   ]
  },
  {
   "cell_type": "code",
   "execution_count": 28,
   "metadata": {
    "collapsed": false
   },
   "outputs": [
    {
     "name": "stdout",
     "output_type": "stream",
     "text": [
      "Median HH income in all NYC PUMAs: 52400.0\n",
      "Median HH income in all NYC PUMAs, 2-person HH: 60000.0\n"
     ]
    }
   ],
   "source": [
    "print 'Median HH income in all NYC PUMAs:', nyc_pums['HINCP'].median()\n",
    "print 'Median HH income in all NYC PUMAs, 2-person HH:', nyc_pums.query('NP == 2')['HINCP'].median()"
   ]
  },
  {
   "cell_type": "code",
   "execution_count": 32,
   "metadata": {
    "collapsed": false
   },
   "outputs": [
    {
     "name": "stdout",
     "output_type": "stream",
     "text": [
      "Example median HH income in PUMA of 945 Aldus St, Bronx: 22000.0\n",
      "Example median HH income in PUMA of 109-20 Queens Blvd, Queens: 72150.0\n",
      "Example median HH income in PUMA of 16 S Portland Ave, Brooklyn: 100000.0\n"
     ]
    }
   ],
   "source": [
    "print 'Example median HH income in PUMA of 945 Aldus St, Bronx:', nyc_pums.query('NP == 2 & PUMA == 3710')['HINCP'].median()\n",
    "print('Example median HH income in PUMA of 109-20 Queens Blvd, Queens:'), nyc_pums.query('NP == 2 & PUMA == 4108')['HINCP'].median()\n",
    "print('Example median HH income in PUMA of 16 S Portland Ave, Brooklyn:'), nyc_pums.query('NP == 2 & PUMA == 4004')['HINCP'].median()"
   ]
  },
  {
   "cell_type": "code",
   "execution_count": 11,
   "metadata": {
    "collapsed": false
   },
   "outputs": [],
   "source": [
    "# excluding group quarters and vacant household records\n",
    "nyc_pums = nyc_pums.query('TYPE == 1 & BLD > 1 & BLD < 10')\n",
    "nyc_pums = nyc_pums[nyc_pums['VACS'].isnull()]"
   ]
  },
  {
   "cell_type": "code",
   "execution_count": 12,
   "metadata": {
    "collapsed": false
   },
   "outputs": [
    {
     "name": "stdout",
     "output_type": "stream",
     "text": [
      "Percentage of households who own that are considered Low Income: 0.364251928323\n"
     ]
    },
    {
     "data": {
      "text/html": [
       "<div>\n",
       "<table border=\"1\" class=\"dataframe\">\n",
       "  <thead>\n",
       "    <tr style=\"text-align: right;\">\n",
       "      <th>AgeGroup</th>\n",
       "      <th>Modern</th>\n",
       "      <th>PostWar</th>\n",
       "      <th>PreWar</th>\n",
       "    </tr>\n",
       "    <tr>\n",
       "      <th>SizeGroup</th>\n",
       "      <th></th>\n",
       "      <th></th>\n",
       "      <th></th>\n",
       "    </tr>\n",
       "  </thead>\n",
       "  <tbody>\n",
       "    <tr>\n",
       "      <th>Large</th>\n",
       "      <td>0.209896</td>\n",
       "      <td>0.360575</td>\n",
       "      <td>0.239879</td>\n",
       "    </tr>\n",
       "    <tr>\n",
       "      <th>Small</th>\n",
       "      <td>0.325652</td>\n",
       "      <td>0.382683</td>\n",
       "      <td>0.389609</td>\n",
       "    </tr>\n",
       "  </tbody>\n",
       "</table>\n",
       "</div>"
      ],
      "text/plain": [
       "AgeGroup     Modern   PostWar    PreWar\n",
       "SizeGroup                              \n",
       "Large      0.209896  0.360575  0.239879\n",
       "Small      0.325652  0.382683  0.389609"
      ]
     },
     "execution_count": 12,
     "metadata": {},
     "output_type": "execute_result"
    }
   ],
   "source": [
    "print 'Percentage of households who own that are considered Low Income:', nyc_pums.query('TEN < 3')['AMI_80'].mean()\n",
    "nyc_pums.query('TEN < 3').pivot_table(index='SizeGroup',columns='AgeGroup',values='AMI_80',aggfunc='mean')"
   ]
  },
  {
   "cell_type": "code",
   "execution_count": 13,
   "metadata": {
    "collapsed": false
   },
   "outputs": [
    {
     "name": "stdout",
     "output_type": "stream",
     "text": [
      "Percentage of households who rent that are considered Low Income: 0.646726031915\n"
     ]
    },
    {
     "data": {
      "text/html": [
       "<div>\n",
       "<table border=\"1\" class=\"dataframe\">\n",
       "  <thead>\n",
       "    <tr style=\"text-align: right;\">\n",
       "      <th>AgeGroup</th>\n",
       "      <th>Modern</th>\n",
       "      <th>PostWar</th>\n",
       "      <th>PreWar</th>\n",
       "    </tr>\n",
       "    <tr>\n",
       "      <th>SizeGroup</th>\n",
       "      <th></th>\n",
       "      <th></th>\n",
       "      <th></th>\n",
       "    </tr>\n",
       "  </thead>\n",
       "  <tbody>\n",
       "    <tr>\n",
       "      <th>Large</th>\n",
       "      <td>0.521380</td>\n",
       "      <td>0.672111</td>\n",
       "      <td>0.648297</td>\n",
       "    </tr>\n",
       "    <tr>\n",
       "      <th>Small</th>\n",
       "      <td>0.662688</td>\n",
       "      <td>0.635525</td>\n",
       "      <td>0.625901</td>\n",
       "    </tr>\n",
       "  </tbody>\n",
       "</table>\n",
       "</div>"
      ],
      "text/plain": [
       "AgeGroup     Modern   PostWar    PreWar\n",
       "SizeGroup                              \n",
       "Large      0.521380  0.672111  0.648297\n",
       "Small      0.662688  0.635525  0.625901"
      ]
     },
     "execution_count": 13,
     "metadata": {},
     "output_type": "execute_result"
    }
   ],
   "source": [
    "print 'Percentage of households who rent that are considered Low Income:', nyc_pums.query('TEN == 3')['AMI_80'].mean()\n",
    "nyc_pums.query('TEN == 3').pivot_table(index='SizeGroup',columns='AgeGroup',values='AMI_80',aggfunc='mean')"
   ]
  },
  {
   "cell_type": "code",
   "execution_count": 14,
   "metadata": {
    "collapsed": false
   },
   "outputs": [
    {
     "name": "stdout",
     "output_type": "stream",
     "text": [
      "Also add length of residency category...\n",
      "Percentage of households who rent that are considered Low Income: 0.646726031915\n"
     ]
    },
    {
     "data": {
      "text/html": [
       "<div>\n",
       "<table border=\"1\" class=\"dataframe\">\n",
       "  <thead>\n",
       "    <tr>\n",
       "      <th>ResidencyGroup</th>\n",
       "      <th colspan=\"3\" halign=\"left\">10Years</th>\n",
       "      <th colspan=\"2\" halign=\"left\">20Years</th>\n",
       "      <th colspan=\"2\" halign=\"left\">30Years</th>\n",
       "      <th colspan=\"3\" halign=\"left\">Under10</th>\n",
       "    </tr>\n",
       "    <tr>\n",
       "      <th>AgeGroup</th>\n",
       "      <th>Modern</th>\n",
       "      <th>PostWar</th>\n",
       "      <th>PreWar</th>\n",
       "      <th>PostWar</th>\n",
       "      <th>PreWar</th>\n",
       "      <th>PostWar</th>\n",
       "      <th>PreWar</th>\n",
       "      <th>Modern</th>\n",
       "      <th>PostWar</th>\n",
       "      <th>PreWar</th>\n",
       "    </tr>\n",
       "    <tr>\n",
       "      <th>SizeGroup</th>\n",
       "      <th></th>\n",
       "      <th></th>\n",
       "      <th></th>\n",
       "      <th></th>\n",
       "      <th></th>\n",
       "      <th></th>\n",
       "      <th></th>\n",
       "      <th></th>\n",
       "      <th></th>\n",
       "      <th></th>\n",
       "    </tr>\n",
       "  </thead>\n",
       "  <tbody>\n",
       "    <tr>\n",
       "      <th>Large</th>\n",
       "      <td>0.791946</td>\n",
       "      <td>0.744360</td>\n",
       "      <td>0.720914</td>\n",
       "      <td>0.743861</td>\n",
       "      <td>0.740624</td>\n",
       "      <td>0.757032</td>\n",
       "      <td>0.732126</td>\n",
       "      <td>0.510909</td>\n",
       "      <td>0.605954</td>\n",
       "      <td>0.586149</td>\n",
       "    </tr>\n",
       "    <tr>\n",
       "      <th>Small</th>\n",
       "      <td>0.756410</td>\n",
       "      <td>0.639512</td>\n",
       "      <td>0.664454</td>\n",
       "      <td>0.667737</td>\n",
       "      <td>0.666113</td>\n",
       "      <td>0.685328</td>\n",
       "      <td>0.697411</td>\n",
       "      <td>0.657860</td>\n",
       "      <td>0.629009</td>\n",
       "      <td>0.605733</td>\n",
       "    </tr>\n",
       "  </tbody>\n",
       "</table>\n",
       "</div>"
      ],
      "text/plain": [
       "ResidencyGroup   10Years                       20Years             30Years  \\\n",
       "AgeGroup          Modern   PostWar    PreWar   PostWar    PreWar   PostWar   \n",
       "SizeGroup                                                                    \n",
       "Large           0.791946  0.744360  0.720914  0.743861  0.740624  0.757032   \n",
       "Small           0.756410  0.639512  0.664454  0.667737  0.666113  0.685328   \n",
       "\n",
       "ResidencyGroup             Under10                      \n",
       "AgeGroup          PreWar    Modern   PostWar    PreWar  \n",
       "SizeGroup                                               \n",
       "Large           0.732126  0.510909  0.605954  0.586149  \n",
       "Small           0.697411  0.657860  0.629009  0.605733  "
      ]
     },
     "execution_count": 14,
     "metadata": {},
     "output_type": "execute_result"
    }
   ],
   "source": [
    "print 'Also add length of residency category...'\n",
    "print 'Percentage of households who rent that are considered Low Income:', nyc_pums.query('TEN == 3')['AMI_80'].mean()\n",
    "nyc_pums.query('TEN == 3').pivot_table(index='SizeGroup',columns=['ResidencyGroup','AgeGroup'],values='AMI_80',aggfunc='mean')"
   ]
  },
  {
   "cell_type": "code",
   "execution_count": 15,
   "metadata": {
    "collapsed": false
   },
   "outputs": [
    {
     "data": {
      "text/html": [
       "<div>\n",
       "<table border=\"1\" class=\"dataframe\">\n",
       "  <thead>\n",
       "    <tr style=\"text-align: right;\">\n",
       "      <th></th>\n",
       "      <th>insp</th>\n",
       "      <th>RT</th>\n",
       "      <th>SERIALNO</th>\n",
       "      <th>DIVISION</th>\n",
       "      <th>PUMA00</th>\n",
       "      <th>PUMA10</th>\n",
       "      <th>REGION</th>\n",
       "      <th>ST</th>\n",
       "      <th>ADJHSG</th>\n",
       "      <th>ADJINC</th>\n",
       "      <th>...</th>\n",
       "      <th>WGTP77</th>\n",
       "      <th>WGTP78</th>\n",
       "      <th>WGTP79</th>\n",
       "      <th>WGTP80</th>\n",
       "      <th>PUMA</th>\n",
       "      <th>AMI_60</th>\n",
       "      <th>AMI_80</th>\n",
       "      <th>AgeGroup</th>\n",
       "      <th>SizeGroup</th>\n",
       "      <th>ResidencyGroup</th>\n",
       "    </tr>\n",
       "  </thead>\n",
       "  <tbody>\n",
       "  </tbody>\n",
       "</table>\n",
       "<p>0 rows × 211 columns</p>\n",
       "</div>"
      ],
      "text/plain": [
       "Empty DataFrame\n",
       "Columns: [insp, RT, SERIALNO, DIVISION, PUMA00, PUMA10, REGION, ST, ADJHSG, ADJINC, WGTP, NP, TYPE, ACR, AGS, BATH, BDSP, BLD, BUS, CONP, ELEP, FS, FULP, GASP, HFL, MHP, MRGI, MRGP, MRGT, MRGX, REFR, RMSP, RNTM, RNTP, RWAT, RWATPR, SINK, SMP, STOV, TEL, TEN, TOIL, VACS, VALP, VEH, WATP, YBL, FES, FINCP, FPARC, GRNTP, GRPIP, HHL, HHT, HINCP, HUGCL, HUPAC, HUPAOC, HUPARC, KIT, LNGI, MULTG, MV, NOC, NPF, NPP, NR, NRC, OCPIP, PARTNER, PLM, PSF, R18, R60, R65, RESMODE, SMOCP, SMX, SRNT, SVAL, TAXP, WIF, WKEXREL, WORKSTAT, FACRP, FAGSP, FBATHP, FBDSP, FBLDP, FBUSP, FCONP, FELEP, FFSP, FFULP, FGASP, FHFLP, FINSP, FKITP, FMHP, FMRGIP, ...]\n",
       "Index: []\n",
       "\n",
       "[0 rows x 211 columns]"
      ]
     },
     "execution_count": 15,
     "metadata": {},
     "output_type": "execute_result"
    }
   ],
   "source": [
    "# can we identify renters who live in condo buildings?\n",
    "nyc_pums.query('TEN == 3 and FCONP == 1')\n",
    "# it appears not"
   ]
  },
  {
   "cell_type": "code",
   "execution_count": 16,
   "metadata": {
    "collapsed": true
   },
   "outputs": [],
   "source": [
    "# dependents to test: HINCP, RNTP, GRNTP, NPF, TAXP\n",
    "# independents to test: YBL (ord), TEN (c), BDSP, BLD, VACS - perhaps as a filter?\n",
    "# also of interest: MV"
   ]
  },
  {
   "cell_type": "code",
   "execution_count": 17,
   "metadata": {
    "collapsed": false
   },
   "outputs": [],
   "source": [
    "# predict rent paid for renters\n",
    "# mod = smf.ols(formula='RNTP ~ BLD + BDSP + C(PUMA) + C(YBL)', data = nyc_pums[nyc_pums['TEN']==3]).fit()\n",
    "# print(mod.summary())"
   ]
  },
  {
   "cell_type": "code",
   "execution_count": 18,
   "metadata": {
    "collapsed": false
   },
   "outputs": [],
   "source": [
    "# predict income for renters\n",
    "# mod = smf.ols(formula='HINCP ~ BLD + BDSP + C(PUMA) + C(YBL)', data = nyc_pums[nyc_pums['TEN']==3]).fit()\n",
    "# print(mod.summary())"
   ]
  },
  {
   "cell_type": "code",
   "execution_count": 19,
   "metadata": {
    "collapsed": false
   },
   "outputs": [],
   "source": [
    "# predict income for owners\n",
    "# mod = smf.ols(formula='HINCP ~ BLD + BDSP + C(PUMA) + C(YBL)', data = nyc_pums[nyc_pums['TEN']<3]).fit()\n",
    "# print(mod.summary())"
   ]
  },
  {
   "cell_type": "code",
   "execution_count": 20,
   "metadata": {
    "collapsed": false
   },
   "outputs": [],
   "source": [
    "# predict income for owners with property tax as independent, but without bedrooms or size of building (covairance)\n",
    "# mod = smf.ols(formula='HINCP ~ TAXP + C(PUMA) + C(YBL)', data = nyc_pums[nyc_pums['TEN']<3]).fit()\n",
    "# print(mod.summary())"
   ]
  },
  {
   "cell_type": "code",
   "execution_count": 21,
   "metadata": {
    "collapsed": false
   },
   "outputs": [],
   "source": [
    "# predict rent paid for renters with grouped building ages\n",
    "# mod = smf.ols(formula='RNTP ~ BLD + BDSP + C(PUMA) + C(AgeGroup)', data = nyc_pums[nyc_pums['TEN']==3]).fit()\n",
    "# print(mod.summary())"
   ]
  },
  {
   "cell_type": "code",
   "execution_count": 22,
   "metadata": {
    "collapsed": false
   },
   "outputs": [
    {
     "name": "stdout",
     "output_type": "stream",
     "text": [
      "                            OLS Regression Results                            \n",
      "==============================================================================\n",
      "Dep. Variable:                  HINCP   R-squared:                       0.172\n",
      "Model:                            OLS   Adj. R-squared:                  0.172\n",
      "Method:                 Least Squares   F-statistic:                     264.2\n",
      "Date:                Sun, 28 Feb 2016   Prob (F-statistic):               0.00\n",
      "Time:                        19:51:49   Log-Likelihood:            -9.9401e+05\n",
      "No. Observations:               78834   AIC:                         1.988e+06\n",
      "Df Residuals:                   78771   BIC:                         1.989e+06\n",
      "Df Model:                          62                                         \n",
      "Covariance Type:            nonrobust                                         \n",
      "================================================================================================\n",
      "                                   coef    std err          t      P>|t|      [95.0% Conf. Int.]\n",
      "------------------------------------------------------------------------------------------------\n",
      "Intercept                     4.798e+04   7.24e+04      0.662      0.508      -9.4e+04   1.9e+05\n",
      "C(SizeGroup)[T.Small]         3999.4550    660.567      6.055      0.000      2704.748  5294.162\n",
      "C(AgeGroup)[T.PostWar]       -1.995e+04   1071.734    -18.612      0.000      -2.2e+04 -1.78e+04\n",
      "C(AgeGroup)[T.PreWar]        -2.096e+04   1091.818    -19.195      0.000     -2.31e+04 -1.88e+04\n",
      "C(PUMA)[T.2602]              -3.876e+04   1.02e+05     -0.378      0.705      -2.4e+05  1.62e+05\n",
      "C(PUMA)[T.3701]               1.069e+04   7.25e+04      0.147      0.883     -1.31e+05  1.53e+05\n",
      "C(PUMA)[T.3702]              -1.201e+04   7.25e+04     -0.166      0.868     -1.54e+05   1.3e+05\n",
      "C(PUMA)[T.3703]               4719.9375   7.25e+04      0.065      0.948     -1.37e+05  1.47e+05\n",
      "C(PUMA)[T.3704]              -6456.7916   7.25e+04     -0.089      0.929     -1.48e+05  1.36e+05\n",
      "C(PUMA)[T.3705]              -2.533e+04   7.25e+04     -0.350      0.727     -1.67e+05  1.17e+05\n",
      "C(PUMA)[T.3706]              -1.119e+04   7.25e+04     -0.154      0.877     -1.53e+05  1.31e+05\n",
      "C(PUMA)[T.3707]              -1.997e+04   7.25e+04     -0.276      0.783     -1.62e+05  1.22e+05\n",
      "C(PUMA)[T.3708]               -1.75e+04   7.25e+04     -0.242      0.809      -1.6e+05  1.25e+05\n",
      "C(PUMA)[T.3709]              -1.141e+04   7.25e+04     -0.157      0.875     -1.53e+05  1.31e+05\n",
      "C(PUMA)[T.3710]              -2.373e+04   7.25e+04     -0.327      0.743     -1.66e+05  1.18e+05\n",
      "C(PUMA)[T.3801]               5916.3949   7.25e+04      0.082      0.935     -1.36e+05  1.48e+05\n",
      "C(PUMA)[T.3802]               1.603e+04   7.25e+04      0.221      0.825     -1.26e+05  1.58e+05\n",
      "C(PUMA)[T.3803]              -1079.0120   7.25e+04     -0.015      0.988     -1.43e+05  1.41e+05\n",
      "C(PUMA)[T.3804]               2658.6524   7.25e+04      0.037      0.971     -1.39e+05  1.45e+05\n",
      "C(PUMA)[T.3805]               8.948e+04   7.25e+04      1.235      0.217     -5.25e+04  2.31e+05\n",
      "C(PUMA)[T.3806]               8.398e+04   7.25e+04      1.159      0.246      -5.8e+04  2.26e+05\n",
      "C(PUMA)[T.3807]               7.783e+04   7.25e+04      1.074      0.283     -6.42e+04   2.2e+05\n",
      "C(PUMA)[T.3808]                8.22e+04   7.25e+04      1.134      0.257     -5.98e+04  2.24e+05\n",
      "C(PUMA)[T.3809]                2.01e+04   7.25e+04      0.277      0.781     -1.22e+05  1.62e+05\n",
      "C(PUMA)[T.3810]               1.064e+05   7.25e+04      1.469      0.142     -3.56e+04  2.48e+05\n",
      "C(PUMA)[T.3901]               5951.6279   7.25e+04      0.082      0.935     -1.36e+05  1.48e+05\n",
      "C(PUMA)[T.3902]              -2947.5532   7.25e+04     -0.041      0.968     -1.45e+05  1.39e+05\n",
      "C(PUMA)[T.3903]              -9402.5354   7.25e+04     -0.130      0.897     -1.51e+05  1.33e+05\n",
      "C(PUMA)[T.4001]                 1.7e+04   7.25e+04      0.235      0.815     -1.25e+05  1.59e+05\n",
      "C(PUMA)[T.4002]              -6342.3860   7.25e+04     -0.088      0.930     -1.48e+05  1.36e+05\n",
      "C(PUMA)[T.4004]               4.028e+04   7.25e+04      0.556      0.578     -1.02e+05  1.82e+05\n",
      "C(PUMA)[T.4005]               5.025e+04   7.25e+04      0.693      0.488     -9.18e+04  1.92e+05\n",
      "C(PUMA)[T.4006]               1396.6919   7.25e+04      0.019      0.985     -1.41e+05  1.43e+05\n",
      "C(PUMA)[T.4007]              -1.999e+04   7.25e+04     -0.276      0.783     -1.62e+05  1.22e+05\n",
      "C(PUMA)[T.4008]              -1.773e+04   7.25e+04     -0.245      0.807      -1.6e+05  1.24e+05\n",
      "C(PUMA)[T.4009]              -2320.5584   7.25e+04     -0.032      0.974     -1.44e+05   1.4e+05\n",
      "C(PUMA)[T.4010]              -6734.7411   7.25e+04     -0.093      0.926     -1.49e+05  1.35e+05\n",
      "C(PUMA)[T.4011]              -2593.5828   7.25e+04     -0.036      0.971     -1.45e+05  1.39e+05\n",
      "C(PUMA)[T.4012]              -4260.9524   7.25e+04     -0.059      0.953     -1.46e+05  1.38e+05\n",
      "C(PUMA)[T.4013]               1.158e+04   7.24e+04      0.160      0.873      -1.3e+05  1.54e+05\n",
      "C(PUMA)[T.4014]              -1.203e+04   7.25e+04     -0.166      0.868     -1.54e+05   1.3e+05\n",
      "C(PUMA)[T.4015]               -562.5444   7.25e+04     -0.008      0.994     -1.43e+05  1.41e+05\n",
      "C(PUMA)[T.4016]               -338.1301   7.25e+04     -0.005      0.996     -1.42e+05  1.42e+05\n",
      "C(PUMA)[T.4017]              -3439.3539   7.25e+04     -0.047      0.962     -1.45e+05  1.39e+05\n",
      "C(PUMA)[T.4018]              -9264.8358   7.25e+04     -0.128      0.898     -1.51e+05  1.33e+05\n",
      "C(PUMA)[T.4101]                 1.3e+04   7.24e+04      0.179      0.858     -1.29e+05  1.55e+05\n",
      "C(PUMA)[T.4102]              -6622.4126   7.25e+04     -0.091      0.927     -1.49e+05  1.35e+05\n",
      "C(PUMA)[T.4103]              -1248.4382   7.25e+04     -0.017      0.986     -1.43e+05  1.41e+05\n",
      "C(PUMA)[T.4104]               1.797e+04   7.25e+04      0.248      0.804     -1.24e+05   1.6e+05\n",
      "C(PUMA)[T.4105]               2044.0043   7.25e+04      0.028      0.978      -1.4e+05  1.44e+05\n",
      "C(PUMA)[T.4106]               2263.0138   7.25e+04      0.031      0.975      -1.4e+05  1.44e+05\n",
      "C(PUMA)[T.4107]              -2907.1767   7.25e+04     -0.040      0.968     -1.45e+05  1.39e+05\n",
      "C(PUMA)[T.4108]                2.26e+04   7.25e+04      0.312      0.755     -1.19e+05  1.65e+05\n",
      "C(PUMA)[T.4109]               1.288e+04   7.25e+04      0.178      0.859     -1.29e+05  1.55e+05\n",
      "C(PUMA)[T.4110]               3748.5221   7.25e+04      0.052      0.959     -1.38e+05  1.46e+05\n",
      "C(PUMA)[T.4111]               -442.8622   7.25e+04     -0.006      0.995     -1.42e+05  1.42e+05\n",
      "C(PUMA)[T.4112]              -1.296e+04   7.25e+04     -0.179      0.858     -1.55e+05  1.29e+05\n",
      "C(PUMA)[T.4113]              -7919.4070   7.25e+04     -0.109      0.913      -1.5e+05  1.34e+05\n",
      "C(PUMA)[T.4114]              -1.011e+04   7.25e+04     -0.139      0.889     -1.52e+05  1.32e+05\n",
      "C(ResidencyGroup)[T.20Years] -2651.6373   1076.126     -2.464      0.014     -4760.837  -542.437\n",
      "C(ResidencyGroup)[T.30Years] -9980.9063    990.928    -10.072      0.000     -1.19e+04 -8038.693\n",
      "C(ResidencyGroup)[T.Under10]  9169.8913    698.915     13.120      0.000      7800.022  1.05e+04\n",
      "NP                            6869.4307    177.287     38.748      0.000      6521.950  7216.912\n",
      "==============================================================================\n",
      "Omnibus:                    70346.984   Durbin-Watson:                   2.004\n",
      "Prob(Omnibus):                  0.000   Jarque-Bera (JB):          3535128.861\n",
      "Skew:                           4.163   Prob(JB):                         0.00\n",
      "Kurtosis:                      34.732   Cond. No.                     6.49e+03\n",
      "==============================================================================\n",
      "\n",
      "Warnings:\n",
      "[1] Standard Errors assume that the covariance matrix of the errors is correctly specified.\n",
      "[2] The condition number is large, 6.49e+03. This might indicate that there are\n",
      "strong multicollinearity or other numerical problems.\n"
     ]
    }
   ],
   "source": [
    "# predict income for renters with grouped building ages/sizes and length of residence\n",
    "mod = smf.ols(formula='HINCP ~ NP + C(SizeGroup) + C(AgeGroup) + C(PUMA) + C(ResidencyGroup)', data = nyc_pums[nyc_pums['TEN']==3]).fit()\n",
    "print(mod.summary())"
   ]
  },
  {
   "cell_type": "code",
   "execution_count": 23,
   "metadata": {
    "collapsed": false
   },
   "outputs": [
    {
     "name": "stdout",
     "output_type": "stream",
     "text": [
      "Warning: Maximum number of iterations has been exceeded.\n",
      "         Current function value: 0.584122\n",
      "         Iterations: 35\n",
      "                           Logit Regression Results                           \n",
      "==============================================================================\n",
      "Dep. Variable:                 AMI_80   No. Observations:                78834\n",
      "Model:                          Logit   Df Residuals:                    78772\n",
      "Method:                           MLE   Df Model:                           61\n",
      "Date:                Sun, 28 Feb 2016   Pseudo R-squ.:                  0.1006\n",
      "Time:                        19:52:24   Log-Likelihood:                -46049.\n",
      "converged:                      False   LL-Null:                       -51199.\n",
      "                                        LLR p-value:                     0.000\n",
      "================================================================================================\n",
      "                                   coef    std err          z      P>|z|      [95.0% Conf. Int.]\n",
      "------------------------------------------------------------------------------------------------\n",
      "Intercept                       27.1804   3.57e+05   7.61e-05      1.000        -7e+05     7e+05\n",
      "C(SizeGroup)[T.Small]           -0.2181      0.020    -10.984      0.000        -0.257    -0.179\n",
      "C(AgeGroup)[T.PostWar]           0.2101      0.032      6.496      0.000         0.147     0.273\n",
      "C(AgeGroup)[T.PreWar]            0.1817      0.033      5.514      0.000         0.117     0.246\n",
      "C(PUMA)[T.2602]                -10.8926   3.57e+05  -3.05e-05      1.000        -7e+05     7e+05\n",
      "C(PUMA)[T.3701]                -26.7503   3.57e+05  -7.49e-05      1.000        -7e+05     7e+05\n",
      "C(PUMA)[T.3702]                -25.9457   3.57e+05  -7.27e-05      1.000        -7e+05     7e+05\n",
      "C(PUMA)[T.3703]                -26.6165   3.57e+05  -7.45e-05      1.000        -7e+05     7e+05\n",
      "C(PUMA)[T.3704]                -26.2032   3.57e+05  -7.34e-05      1.000        -7e+05     7e+05\n",
      "C(PUMA)[T.3705]                -25.1107   3.57e+05  -7.03e-05      1.000        -7e+05     7e+05\n",
      "C(PUMA)[T.3706]                -25.8278   3.57e+05  -7.23e-05      1.000        -7e+05     7e+05\n",
      "C(PUMA)[T.3707]                -25.2789   3.57e+05  -7.08e-05      1.000        -7e+05     7e+05\n",
      "C(PUMA)[T.3708]                -25.5144   3.57e+05  -7.15e-05      1.000        -7e+05     7e+05\n",
      "C(PUMA)[T.3709]                -25.8513   3.57e+05  -7.24e-05      1.000        -7e+05     7e+05\n",
      "C(PUMA)[T.3710]                -24.8255   3.57e+05  -6.95e-05      1.000        -7e+05     7e+05\n",
      "C(PUMA)[T.3801]                -26.5392   3.57e+05  -7.43e-05      1.000        -7e+05     7e+05\n",
      "C(PUMA)[T.3802]                -26.6245   3.57e+05  -7.46e-05      1.000        -7e+05     7e+05\n",
      "C(PUMA)[T.3803]                -26.2493   3.57e+05  -7.35e-05      1.000        -7e+05     7e+05\n",
      "C(PUMA)[T.3804]                -26.2731   3.57e+05  -7.36e-05      1.000        -7e+05     7e+05\n",
      "C(PUMA)[T.3805]                -28.1297   3.57e+05  -7.88e-05      1.000        -7e+05     7e+05\n",
      "C(PUMA)[T.3806]                -27.8054   3.57e+05  -7.79e-05      1.000        -7e+05     7e+05\n",
      "C(PUMA)[T.3807]                -27.5997   3.57e+05  -7.73e-05      1.000        -7e+05     7e+05\n",
      "C(PUMA)[T.3808]                -28.1383   3.57e+05  -7.88e-05      1.000        -7e+05     7e+05\n",
      "C(PUMA)[T.3809]                -26.7173   3.57e+05  -7.48e-05      1.000        -7e+05     7e+05\n",
      "C(PUMA)[T.3810]                -28.1028   3.57e+05  -7.87e-05      1.000        -7e+05     7e+05\n",
      "C(PUMA)[T.3901]                -26.6499   3.57e+05  -7.46e-05      1.000        -7e+05     7e+05\n",
      "C(PUMA)[T.3902]                -26.3507   3.57e+05  -7.38e-05      1.000        -7e+05     7e+05\n",
      "C(PUMA)[T.3903]                -26.0850   3.57e+05  -7.31e-05      1.000        -7e+05     7e+05\n",
      "C(PUMA)[T.4001]                -26.9594   3.57e+05  -7.55e-05      1.000        -7e+05     7e+05\n",
      "C(PUMA)[T.4002]                -26.1454   3.57e+05  -7.32e-05      1.000        -7e+05     7e+05\n",
      "C(PUMA)[T.4004]                -27.2714   3.57e+05  -7.64e-05      1.000        -7e+05     7e+05\n",
      "C(PUMA)[T.4005]                -27.7451   3.57e+05  -7.77e-05      1.000        -7e+05     7e+05\n",
      "C(PUMA)[T.4006]                -26.3878   3.57e+05  -7.39e-05      1.000        -7e+05     7e+05\n",
      "C(PUMA)[T.4007]                -25.2792   3.57e+05  -7.08e-05      1.000        -7e+05     7e+05\n",
      "C(PUMA)[T.4008]                -25.5175   3.57e+05  -7.15e-05      1.000        -7e+05     7e+05\n",
      "C(PUMA)[T.4009]                -26.3085   3.57e+05  -7.37e-05      1.000        -7e+05     7e+05\n",
      "C(PUMA)[T.4010]                -26.0879   3.57e+05  -7.31e-05      1.000        -7e+05     7e+05\n",
      "C(PUMA)[T.4011]                -26.1506   3.57e+05  -7.32e-05      1.000        -7e+05     7e+05\n",
      "C(PUMA)[T.4012]                -26.2365   3.57e+05  -7.35e-05      1.000        -7e+05     7e+05\n",
      "C(PUMA)[T.4013]                -26.7553   3.57e+05  -7.49e-05      1.000        -7e+05     7e+05\n",
      "C(PUMA)[T.4014]                -25.9231   3.57e+05  -7.26e-05      1.000        -7e+05     7e+05\n",
      "C(PUMA)[T.4015]                -26.3931   3.57e+05  -7.39e-05      1.000        -7e+05     7e+05\n",
      "C(PUMA)[T.4016]                -26.3176   3.57e+05  -7.37e-05      1.000        -7e+05     7e+05\n",
      "C(PUMA)[T.4017]                -26.1353   3.57e+05  -7.32e-05      1.000        -7e+05     7e+05\n",
      "C(PUMA)[T.4018]                -25.7244   3.57e+05   -7.2e-05      1.000        -7e+05     7e+05\n",
      "C(PUMA)[T.4101]                -26.9300   3.57e+05  -7.54e-05      1.000        -7e+05     7e+05\n",
      "C(PUMA)[T.4102]                -26.0874   3.57e+05  -7.31e-05      1.000        -7e+05     7e+05\n",
      "C(PUMA)[T.4103]                -26.3057   3.57e+05  -7.37e-05      1.000        -7e+05     7e+05\n",
      "C(PUMA)[T.4104]                -27.0253   3.57e+05  -7.57e-05      1.000        -7e+05     7e+05\n",
      "C(PUMA)[T.4105]                -26.5591   3.57e+05  -7.44e-05      1.000        -7e+05     7e+05\n",
      "C(PUMA)[T.4106]                -26.5773   3.57e+05  -7.44e-05      1.000        -7e+05     7e+05\n",
      "C(PUMA)[T.4107]                -26.2177   3.57e+05  -7.34e-05      1.000        -7e+05     7e+05\n",
      "C(PUMA)[T.4108]                -27.0783   3.57e+05  -7.58e-05      1.000        -7e+05     7e+05\n",
      "C(PUMA)[T.4109]                -26.8393   3.57e+05  -7.52e-05      1.000        -7e+05     7e+05\n",
      "C(PUMA)[T.4110]                -26.6500   3.57e+05  -7.46e-05      1.000        -7e+05     7e+05\n",
      "C(PUMA)[T.4111]                -26.4625   3.57e+05  -7.41e-05      1.000        -7e+05     7e+05\n",
      "C(PUMA)[T.4112]                -25.8792   3.57e+05  -7.25e-05      1.000        -7e+05     7e+05\n",
      "C(PUMA)[T.4113]                -26.0189   3.57e+05  -7.29e-05      1.000        -7e+05     7e+05\n",
      "C(PUMA)[T.4114]                -25.9247   3.57e+05  -7.26e-05      1.000        -7e+05     7e+05\n",
      "C(ResidencyGroup)[T.20Years]     0.1264      0.035      3.616      0.000         0.058     0.195\n",
      "C(ResidencyGroup)[T.30Years]     0.3627      0.033     11.146      0.000         0.299     0.426\n",
      "C(ResidencyGroup)[T.Under10]    -0.3434      0.022    -15.622      0.000        -0.387    -0.300\n",
      "================================================================================================\n"
     ]
    },
    {
     "name": "stderr",
     "output_type": "stream",
     "text": [
      "C:\\Anaconda3\\envs\\py27\\lib\\site-packages\\statsmodels\\base\\model.py:466: ConvergenceWarning: Maximum Likelihood optimization failed to converge. Check mle_retvals\n",
      "  \"Check mle_retvals\", ConvergenceWarning)\n"
     ]
    }
   ],
   "source": [
    "logit_mod = smf.logit(formula='AMI_80 ~ C(SizeGroup) + C(AgeGroup) + C(PUMA) + C(ResidencyGroup)', data = nyc_pums[nyc_pums['TEN']==3]).fit()\n",
    "print(logit_mod.summary())"
   ]
  },
  {
   "cell_type": "code",
   "execution_count": 24,
   "metadata": {
    "collapsed": false
   },
   "outputs": [
    {
     "name": "stdout",
     "output_type": "stream",
     "text": [
      "        Logit Marginal Effects       \n",
      "=====================================\n",
      "Dep. Variable:                 AMI_80\n",
      "Method:                          dydx\n",
      "At:                           overall\n",
      "================================================================================================\n",
      "                                  dy/dx    std err          z      P>|z|      [95.0% Conf. Int.]\n",
      "------------------------------------------------------------------------------------------------\n",
      "C(SizeGroup)[T.Small]           -0.0435      0.004    -11.010      0.000        -0.051    -0.036\n",
      "C(AgeGroup)[T.PostWar]           0.0419      0.006      6.502      0.000         0.029     0.055\n",
      "C(AgeGroup)[T.PreWar]            0.0362      0.007      5.518      0.000         0.023     0.049\n",
      "C(PUMA)[T.2602]                 -2.1726   7.12e+04  -3.05e-05      1.000      -1.4e+05   1.4e+05\n",
      "C(PUMA)[T.3701]                 -5.3356   7.12e+04  -7.49e-05      1.000      -1.4e+05   1.4e+05\n",
      "C(PUMA)[T.3702]                 -5.1751   7.12e+04  -7.27e-05      1.000      -1.4e+05   1.4e+05\n",
      "C(PUMA)[T.3703]                 -5.3089   7.12e+04  -7.45e-05      1.000      -1.4e+05   1.4e+05\n",
      "C(PUMA)[T.3704]                 -5.2264   7.12e+04  -7.34e-05      1.000      -1.4e+05   1.4e+05\n",
      "C(PUMA)[T.3705]                 -5.0085   7.12e+04  -7.03e-05      1.000      -1.4e+05   1.4e+05\n",
      "C(PUMA)[T.3706]                 -5.1516   7.12e+04  -7.23e-05      1.000      -1.4e+05   1.4e+05\n",
      "C(PUMA)[T.3707]                 -5.0421   7.12e+04  -7.08e-05      1.000      -1.4e+05   1.4e+05\n",
      "C(PUMA)[T.3708]                 -5.0891   7.12e+04  -7.15e-05      1.000      -1.4e+05   1.4e+05\n",
      "C(PUMA)[T.3709]                 -5.1563   7.12e+04  -7.24e-05      1.000      -1.4e+05   1.4e+05\n",
      "C(PUMA)[T.3710]                 -4.9517   7.12e+04  -6.95e-05      1.000      -1.4e+05   1.4e+05\n",
      "C(PUMA)[T.3801]                 -5.2935   7.12e+04  -7.43e-05      1.000      -1.4e+05   1.4e+05\n",
      "C(PUMA)[T.3802]                 -5.3105   7.12e+04  -7.46e-05      1.000      -1.4e+05   1.4e+05\n",
      "C(PUMA)[T.3803]                 -5.2356   7.12e+04  -7.35e-05      1.000      -1.4e+05   1.4e+05\n",
      "C(PUMA)[T.3804]                 -5.2404   7.12e+04  -7.36e-05      1.000      -1.4e+05   1.4e+05\n",
      "C(PUMA)[T.3805]                 -5.6107   7.12e+04  -7.88e-05      1.000      -1.4e+05   1.4e+05\n",
      "C(PUMA)[T.3806]                 -5.5460   7.12e+04  -7.79e-05      1.000      -1.4e+05   1.4e+05\n",
      "C(PUMA)[T.3807]                 -5.5050   7.12e+04  -7.73e-05      1.000      -1.4e+05   1.4e+05\n",
      "C(PUMA)[T.3808]                 -5.6124   7.12e+04  -7.88e-05      1.000      -1.4e+05   1.4e+05\n",
      "C(PUMA)[T.3809]                 -5.3290   7.12e+04  -7.48e-05      1.000      -1.4e+05   1.4e+05\n",
      "C(PUMA)[T.3810]                 -5.6054   7.12e+04  -7.87e-05      1.000      -1.4e+05   1.4e+05\n",
      "C(PUMA)[T.3901]                 -5.3156   7.12e+04  -7.46e-05      1.000      -1.4e+05   1.4e+05\n",
      "C(PUMA)[T.3902]                 -5.2559   7.12e+04  -7.38e-05      1.000      -1.4e+05   1.4e+05\n",
      "C(PUMA)[T.3903]                 -5.2029   7.12e+04  -7.31e-05      1.000      -1.4e+05   1.4e+05\n",
      "C(PUMA)[T.4001]                 -5.3773   7.12e+04  -7.55e-05      1.000      -1.4e+05   1.4e+05\n",
      "C(PUMA)[T.4002]                 -5.2149   7.12e+04  -7.32e-05      1.000      -1.4e+05   1.4e+05\n",
      "C(PUMA)[T.4004]                 -5.4395   7.12e+04  -7.64e-05      1.000      -1.4e+05   1.4e+05\n",
      "C(PUMA)[T.4005]                 -5.5340   7.12e+04  -7.77e-05      1.000      -1.4e+05   1.4e+05\n",
      "C(PUMA)[T.4006]                 -5.2633   7.12e+04  -7.39e-05      1.000      -1.4e+05   1.4e+05\n",
      "C(PUMA)[T.4007]                 -5.0422   7.12e+04  -7.08e-05      1.000      -1.4e+05   1.4e+05\n",
      "C(PUMA)[T.4008]                 -5.0897   7.12e+04  -7.15e-05      1.000      -1.4e+05   1.4e+05\n",
      "C(PUMA)[T.4009]                 -5.2475   7.12e+04  -7.37e-05      1.000      -1.4e+05   1.4e+05\n",
      "C(PUMA)[T.4010]                 -5.2034   7.12e+04  -7.31e-05      1.000      -1.4e+05   1.4e+05\n",
      "C(PUMA)[T.4011]                 -5.2160   7.12e+04  -7.32e-05      1.000      -1.4e+05   1.4e+05\n",
      "C(PUMA)[T.4012]                 -5.2331   7.12e+04  -7.35e-05      1.000      -1.4e+05   1.4e+05\n",
      "C(PUMA)[T.4013]                 -5.3366   7.12e+04  -7.49e-05      1.000      -1.4e+05   1.4e+05\n",
      "C(PUMA)[T.4014]                 -5.1706   7.12e+04  -7.26e-05      1.000      -1.4e+05   1.4e+05\n",
      "C(PUMA)[T.4015]                 -5.2643   7.12e+04  -7.39e-05      1.000      -1.4e+05   1.4e+05\n",
      "C(PUMA)[T.4016]                 -5.2493   7.12e+04  -7.37e-05      1.000      -1.4e+05   1.4e+05\n",
      "C(PUMA)[T.4017]                 -5.2129   7.12e+04  -7.32e-05      1.000      -1.4e+05   1.4e+05\n",
      "C(PUMA)[T.4018]                 -5.1309   7.12e+04   -7.2e-05      1.000      -1.4e+05   1.4e+05\n",
      "C(PUMA)[T.4101]                 -5.3714   7.12e+04  -7.54e-05      1.000      -1.4e+05   1.4e+05\n",
      "C(PUMA)[T.4102]                 -5.2034   7.12e+04  -7.31e-05      1.000      -1.4e+05   1.4e+05\n",
      "C(PUMA)[T.4103]                 -5.2469   7.12e+04  -7.37e-05      1.000      -1.4e+05   1.4e+05\n",
      "C(PUMA)[T.4104]                 -5.3904   7.12e+04  -7.57e-05      1.000      -1.4e+05   1.4e+05\n",
      "C(PUMA)[T.4105]                 -5.2974   7.12e+04  -7.44e-05      1.000      -1.4e+05   1.4e+05\n",
      "C(PUMA)[T.4106]                 -5.3011   7.12e+04  -7.44e-05      1.000      -1.4e+05   1.4e+05\n",
      "C(PUMA)[T.4107]                 -5.2293   7.12e+04  -7.34e-05      1.000      -1.4e+05   1.4e+05\n",
      "C(PUMA)[T.4108]                 -5.4010   7.12e+04  -7.58e-05      1.000      -1.4e+05   1.4e+05\n",
      "C(PUMA)[T.4109]                 -5.3533   7.12e+04  -7.52e-05      1.000      -1.4e+05   1.4e+05\n",
      "C(PUMA)[T.4110]                 -5.3156   7.12e+04  -7.46e-05      1.000      -1.4e+05   1.4e+05\n",
      "C(PUMA)[T.4111]                 -5.2782   7.12e+04  -7.41e-05      1.000      -1.4e+05   1.4e+05\n",
      "C(PUMA)[T.4112]                 -5.1618   7.12e+04  -7.25e-05      1.000      -1.4e+05   1.4e+05\n",
      "C(PUMA)[T.4113]                 -5.1897   7.12e+04  -7.29e-05      1.000      -1.4e+05   1.4e+05\n",
      "C(PUMA)[T.4114]                 -5.1709   7.12e+04  -7.26e-05      1.000      -1.4e+05   1.4e+05\n",
      "C(ResidencyGroup)[T.20Years]     0.0252      0.007      3.617      0.000         0.012     0.039\n",
      "C(ResidencyGroup)[T.30Years]     0.0723      0.006     11.176      0.000         0.060     0.085\n",
      "C(ResidencyGroup)[T.Under10]    -0.0685      0.004    -15.702      0.000        -0.077    -0.060\n",
      "================================================================================================\n"
     ]
    }
   ],
   "source": [
    "mfx = logit_mod.get_margeff()\n",
    "print mfx.summary()"
   ]
  },
  {
   "cell_type": "code",
   "execution_count": null,
   "metadata": {
    "collapsed": true
   },
   "outputs": [],
   "source": []
  }
 ],
 "metadata": {
  "kernelspec": {
   "display_name": "Python 2",
   "language": "python",
   "name": "python2"
  },
  "language_info": {
   "codemirror_mode": {
    "name": "ipython",
    "version": 2
   },
   "file_extension": ".py",
   "mimetype": "text/x-python",
   "name": "python",
   "nbconvert_exporter": "python",
   "pygments_lexer": "ipython2",
   "version": "2.7.11"
  }
 },
 "nbformat": 4,
 "nbformat_minor": 0
}
